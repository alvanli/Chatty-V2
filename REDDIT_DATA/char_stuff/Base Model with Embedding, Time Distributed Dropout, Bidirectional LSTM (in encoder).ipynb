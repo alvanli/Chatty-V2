{
  "nbformat": 4,
  "nbformat_minor": 0,
  "metadata": {
    "colab": {
      "name": "New_NewModel.ipynb",
      "provenance": [],
      "collapsed_sections": [],
      "toc_visible": true,
      "machine_shape": "hm"
    },
    "kernelspec": {
      "display_name": "Python 3",
      "language": "python",
      "name": "python3"
    },
    "language_info": {
      "codemirror_mode": {
        "name": "ipython",
        "version": 3
      },
      "file_extension": ".py",
      "mimetype": "text/x-python",
      "name": "python",
      "nbconvert_exporter": "python",
      "pygments_lexer": "ipython3",
      "version": "3.8.1"
    }
  },
  "cells": [
    {
      "cell_type": "code",
      "metadata": {
        "colab_type": "code",
        "id": "dhyArRYMDyF7",
        "colab": {}
      },
      "source": [
        "import numpy as np\n",
        "import pandas as pd\n",
        "import matplotlib.pyplot as plt\n",
        "\n",
        "from keras.models import Model\n",
        "from keras.layers import Input, LSTM, Dense, Embedding, TimeDistributed, Dropout, Flatten, Bidirectional, Concatenate"
      ],
      "execution_count": 0,
      "outputs": []
    },
    {
      "cell_type": "code",
      "metadata": {
        "colab_type": "code",
        "id": "nKB0D8dnDyGI",
        "colab": {}
      },
      "source": [
        "batch_size = 64  # Batch size for training.\n",
        "epochs = 50  # Number of epochs to train for.\n",
        "latent_dim = 256  # Latent dimensionality of the encoding space.\n",
        "num_samples = 1000  # Number of samples to train on."
      ],
      "execution_count": 0,
      "outputs": []
    },
    {
      "cell_type": "code",
      "metadata": {
        "colab_type": "code",
        "id": "1bWU5i0qDyGS",
        "outputId": "8ab13e15-0b89-4c06-c080-f529f5491e7f",
        "colab": {
          "base_uri": "https://localhost:8080/",
          "height": 204
        }
      },
      "source": [
        "#read from dataset and split into input and targets\n",
        "df = pd.read_csv(\"AL_clean_2.csv\")\n",
        "df.head()"
      ],
      "execution_count": 0,
      "outputs": [
        {
          "output_type": "execute_result",
          "data": {
            "text/html": [
              "<div>\n",
              "<style scoped>\n",
              "    .dataframe tbody tr th:only-of-type {\n",
              "        vertical-align: middle;\n",
              "    }\n",
              "\n",
              "    .dataframe tbody tr th {\n",
              "        vertical-align: top;\n",
              "    }\n",
              "\n",
              "    .dataframe thead th {\n",
              "        text-align: right;\n",
              "    }\n",
              "</style>\n",
              "<table border=\"1\" class=\"dataframe\">\n",
              "  <thead>\n",
              "    <tr style=\"text-align: right;\">\n",
              "      <th></th>\n",
              "      <th>Unnamed: 0</th>\n",
              "      <th>x1</th>\n",
              "      <th>y1</th>\n",
              "      <th>x_count</th>\n",
              "      <th>y_count</th>\n",
              "    </tr>\n",
              "  </thead>\n",
              "  <tbody>\n",
              "    <tr>\n",
              "      <th>0</th>\n",
              "      <td>0</td>\n",
              "      <td>what kind of phones do you guys have</td>\n",
              "      <td>i have a it is pretty great much better than w...</td>\n",
              "      <td>8</td>\n",
              "      <td>8</td>\n",
              "    </tr>\n",
              "    <tr>\n",
              "      <th>1</th>\n",
              "      <td>1</td>\n",
              "      <td>i have a it is pretty great much better than w...</td>\n",
              "      <td>does it really charge all the way in min</td>\n",
              "      <td>14</td>\n",
              "      <td>14</td>\n",
              "    </tr>\n",
              "    <tr>\n",
              "      <th>2</th>\n",
              "      <td>2</td>\n",
              "      <td>does it really charge all the way in min</td>\n",
              "      <td>pretty fast i have never it but it is under ha...</td>\n",
              "      <td>9</td>\n",
              "      <td>9</td>\n",
              "    </tr>\n",
              "    <tr>\n",
              "      <th>3</th>\n",
              "      <td>3</td>\n",
              "      <td>what kind of phones do you guys have</td>\n",
              "      <td>samsung galaxy j it is my first cell phone and...</td>\n",
              "      <td>8</td>\n",
              "      <td>8</td>\n",
              "    </tr>\n",
              "    <tr>\n",
              "      <th>4</th>\n",
              "      <td>4</td>\n",
              "      <td>samsung galaxy j it is my first cell phone and...</td>\n",
              "      <td>what do you think of it anything you do not like</td>\n",
              "      <td>16</td>\n",
              "      <td>16</td>\n",
              "    </tr>\n",
              "  </tbody>\n",
              "</table>\n",
              "</div>"
            ],
            "text/plain": [
              "   Unnamed: 0  ... y_count\n",
              "0           0  ...       8\n",
              "1           1  ...      14\n",
              "2           2  ...       9\n",
              "3           3  ...       8\n",
              "4           4  ...      16\n",
              "\n",
              "[5 rows x 5 columns]"
            ]
          },
          "metadata": {
            "tags": []
          },
          "execution_count": 6
        }
      ]
    },
    {
      "cell_type": "code",
      "metadata": {
        "colab_type": "code",
        "id": "ZTwU8sdImkaw",
        "colab": {}
      },
      "source": [
        "# print(len(df))\n",
        "# list0 = df[\"0\"].tolist()[:num_samples]\n",
        "# list1 = df[\"1\"].tolist()[:num_samples]\n",
        "# list2 = df[\"2\"].tolist()[:num_samples]\n",
        "# print(len(list0))\n",
        "# print(len(list1))\n",
        "# print(len(list2))"
      ],
      "execution_count": 0,
      "outputs": []
    },
    {
      "cell_type": "code",
      "metadata": {
        "colab_type": "code",
        "id": "E8s2Vd3mSGQT",
        "outputId": "929ed0c9-faa4-4d56-da31-278da17aac78",
        "colab": {
          "base_uri": "https://localhost:8080/",
          "height": 68
        }
      },
      "source": [
        "print(len(df))\n",
        "list0 = df[\"x1\"].tolist()[:num_samples]\n",
        "list1 = df[\"y1\"].tolist()[:num_samples]\n",
        "\n",
        "print(len(list0))\n",
        "print(len(list1))\n"
      ],
      "execution_count": 0,
      "outputs": [
        {
          "output_type": "stream",
          "text": [
            "56297\n",
            "1000\n",
            "1000\n"
          ],
          "name": "stdout"
        }
      ]
    },
    {
      "cell_type": "code",
      "metadata": {
        "colab_type": "code",
        "id": "4JUwdNKQLZrw",
        "colab": {}
      },
      "source": [
        "input_texts=[]\n",
        "target_texts=[]\n",
        "#match 0 and 1\n",
        "for i in range(0,num_samples):\n",
        "    input_texts.append(str(list0[i]).split())\n",
        "    target_texts.append(['\\t'] + str(list1[i]).split() + ['\\n'])\n",
        "\n",
        "# #match 1 and 2\n",
        "# for i in range(0,num_samples):\n",
        "#     input_texts.append(list1[i].split())\n",
        "#     target_texts.append(['\\t'] + list2[i].split() + ['\\n'])\n",
        "\n",
        "# #match 0 and 2\n",
        "# for i in range(0,num_samples):\n",
        "#     input_texts.append(list0[i].split())\n",
        "#     target_texts.append(['\\t'] + list2[i].split() + ['\\n'])\n",
        "    "
      ],
      "execution_count": 0,
      "outputs": []
    },
    {
      "cell_type": "code",
      "metadata": {
        "colab_type": "code",
        "id": "GJsnuGGRZSyy",
        "colab": {}
      },
      "source": [
        "#words in input\n",
        "input_words = set()\n",
        "for sentence in (input_texts):\n",
        "    for word in sentence:\n",
        "        if word not in input_words:\n",
        "            input_words.add(word)\n",
        "            \n",
        "#words in target           \n",
        "target_words= set()\n",
        "for sentence in (target_texts):\n",
        "    for word in sentence:\n",
        "        if word not in target_words:\n",
        "            target_words.add(word)\n",
        "\n",
        "target_words.add(\"\\t\")\n",
        "target_words.add(\"\\n\")"
      ],
      "execution_count": 0,
      "outputs": []
    },
    {
      "cell_type": "code",
      "metadata": {
        "colab_type": "code",
        "id": "BdJNCnlhDyHT",
        "outputId": "3011674b-fcfa-4eac-e9f1-96e2eca63ce1",
        "colab": {
          "base_uri": "https://localhost:8080/",
          "height": 102
        }
      },
      "source": [
        "input_words = sorted(list(input_words))\n",
        "target_words = sorted(list(target_words))\n",
        "\n",
        "num_encoder_tokens = len(input_words)\n",
        "num_decoder_tokens=len(target_words)\n",
        "max_encoder_seq_length = max([len(txt) for txt in input_texts])\n",
        "max_decoder_seq_length = max([len(txt) for txt in target_texts])\n",
        "\n",
        "print('Number of samples:', len(input_texts))\n",
        "print('Number of unique input tokens:', num_encoder_tokens)\n",
        "print('Number of unique output tokens:', num_decoder_tokens)\n",
        "print('Max sequence length for inputs:', max_encoder_seq_length)\n",
        "print('Max sequence length for outputs:', max_decoder_seq_length)"
      ],
      "execution_count": 0,
      "outputs": [
        {
          "output_type": "stream",
          "text": [
            "Number of samples: 1000\n",
            "Number of unique input tokens: 1382\n",
            "Number of unique output tokens: 1539\n",
            "Max sequence length for inputs: 25\n",
            "Max sequence length for outputs: 24\n"
          ],
          "name": "stdout"
        }
      ]
    },
    {
      "cell_type": "code",
      "metadata": {
        "id": "sKGxBbfkgnJA",
        "colab_type": "code",
        "colab": {}
      },
      "source": [
        "input_token_index = dict(\n",
        "    [(word, i) for i, word in enumerate(input_words)])\n",
        "target_token_index = dict(\n",
        "    [(word, i) for i, word in enumerate(target_words)])"
      ],
      "execution_count": 0,
      "outputs": []
    },
    {
      "cell_type": "code",
      "metadata": {
        "colab_type": "code",
        "id": "7B6iDWnxDyH8",
        "colab": {}
      },
      "source": [
        "# #one hot vectorization of input and target sentences - 3D array\n",
        "# encoder_input_data = np.zeros(\n",
        "#     (len(input_texts), max_encoder_seq_length, num_encoder_tokens), #number of input-ouput pairs, longest input, number of possible input words\n",
        "#     dtype='float32')\n",
        "# decoder_input_data = np.zeros(\n",
        "#     (len(input_texts), max_decoder_seq_length, num_decoder_tokens), #number of input-output pairs, longest output, number of possible output words\n",
        "#     dtype='float32')\n",
        "# decoder_target_data = np.zeros( #ahead by one time step i.e decorder_target_data @t = decoder_input_data @ t+1. #we want to predict this \n",
        "#     (len(input_texts), max_decoder_seq_length, num_decoder_tokens), \n",
        "#     dtype='float32')"
      ],
      "execution_count": 0,
      "outputs": []
    },
    {
      "cell_type": "code",
      "metadata": {
        "colab_type": "code",
        "id": "E_QdEmRCpwB7",
        "colab": {}
      },
      "source": [
        "#one hot vectorization of input and target sentences - 3D array\n",
        "encoder_input_data = np.zeros(\n",
        "    (len(input_texts), max_encoder_seq_length), #number of input-ouput pairs, longest input\n",
        "    dtype='float32')\n",
        "decoder_input_data = np.zeros(\n",
        "    (len(input_texts), max_decoder_seq_length), #number of input-output pairs, longest output\n",
        "    dtype='float32')\n",
        "decoder_target_data = np.zeros( #ahead by one time step i.e decorder_target_data @t = decoder_input_data @ t+1. #we want to predict this \n",
        "    (len(input_texts), max_decoder_seq_length, num_decoder_tokens), \n",
        "    dtype='float32')"
      ],
      "execution_count": 0,
      "outputs": []
    },
    {
      "cell_type": "code",
      "metadata": {
        "colab_type": "code",
        "id": "Bo95BBMvDyIJ",
        "colab": {}
      },
      "source": [
        "for i, (input_text, target_text) in enumerate(zip(input_texts, target_texts)): #assign each input/output pair a number \n",
        "    for t, word in enumerate(input_text):  #assign each input sentence to a number \n",
        "        encoder_input_data[i, t] = input_token_index[word] #@pair i, word t, and where the word is located in the input_token_index\n",
        "    for t, word in enumerate(target_text): #assign each output sentence to a number \n",
        "        decoder_input_data[i, t] = target_token_index[word] #@ pair i, word t, and where the word is located in target_token_index\n",
        "        if t > 0:  #subtract one time step from input data to get target data \n",
        "            decoder_target_data[i, t - 1, target_token_index[word]] = 1."
      ],
      "execution_count": 0,
      "outputs": []
    },
    {
      "cell_type": "code",
      "metadata": {
        "colab_type": "code",
        "id": "EKZKaaTpDyIR",
        "colab": {}
      },
      "source": [
        "# Define an input sequence and process it.\n",
        "dropout_rate  = 0.2\n",
        "\n",
        "#input \n",
        "encoder_inputs = Input(shape=(None, ))\n",
        "\n",
        "#hidden layers\n",
        "encoder_embedding = Embedding(num_encoder_tokens, latent_dim, mask_zero=True)(encoder_inputs)\n",
        "encoder_dropout   = (TimeDistributed(Dropout(rate = dropout_rate)))(encoder_embedding)\n",
        "\n",
        "#output layers\n",
        "encoder_LSTM = Bidirectional(LSTM(latent_dim, return_state=True, dropout=dropout_rate), merge_mode='concat')\n",
        "encoder_outputs, forward_h, forward_c, backward_h, backward_c = encoder_LSTM(encoder_dropout)\n",
        "\n",
        "state_h = Concatenate()([forward_h, backward_h])\n",
        "state_c = Concatenate()([forward_c, backward_c])\n",
        "\n",
        "# We discard `encoder_outputs` and only keep the states. \n",
        "# encoder_states = [forward_h, forward_c, backward_h, backward_c ]\n",
        "encoder_states = [state_h, state_c]"
      ],
      "execution_count": 0,
      "outputs": []
    },
    {
      "cell_type": "code",
      "metadata": {
        "colab_type": "code",
        "id": "TFXkK8ttDyIZ",
        "outputId": "137dda85-6b23-4e13-ee84-6fd4ea0aaff3",
        "colab": {
          "base_uri": "https://localhost:8080/",
          "height": 395
        }
      },
      "source": [
        "# Set up the decoder, using `encoder_states` as initial state.\n",
        "decoder_inputs = Input(shape=(None,  ))\n",
        "\n",
        "#hidden layers\n",
        "decoder_embedding = Embedding(num_decoder_tokens, latent_dim, mask_zero = True)(decoder_inputs)\n",
        "decoder_dropout = (TimeDistributed(Dropout(rate = dropout_rate)))(decoder_embedding)\n",
        "\n",
        "# We set up our decoder to return full output sequences,\n",
        "# and to return internal states as well. We don't use the\n",
        "# return states in the training model, but we will use them in inference.\n",
        "# decoder_LSTM_layer = Bidirectional(LSTM(latent_dim, return_sequences=True, return_state=True, dropout = dropout_rate))\n",
        "# decoder_LSTM,_ , _ , _, _= decoder_LSTM_layer(decoder_dropout, initial_state=encoder_states)\n",
        "\n",
        "decoder_LSTM_layer = LSTM(latent_dim, return_sequences=True, return_state=True, dropout = dropout_rate)\n",
        "decoder_LSTM,_ , _ = decoder_LSTM_layer(decoder_dropout, initial_state=encoder_states)\n",
        "\n",
        "#output\n",
        "decoder_dense = Dense(num_decoder_tokens, activation='softmax')\n",
        "decoder_outputs = decoder_dense(decoder_LSTM)"
      ],
      "execution_count": 0,
      "outputs": [
        {
          "output_type": "error",
          "ename": "ValueError",
          "evalue": "ignored",
          "traceback": [
            "\u001b[0;31m---------------------------------------------------------------------------\u001b[0m",
            "\u001b[0;31mValueError\u001b[0m                                Traceback (most recent call last)",
            "\u001b[0;32m<ipython-input-87-99d380be0225>\u001b[0m in \u001b[0;36m<module>\u001b[0;34m()\u001b[0m\n\u001b[1;32m     12\u001b[0m \u001b[0;34m\u001b[0m\u001b[0m\n\u001b[1;32m     13\u001b[0m \u001b[0mdecoder_LSTM_layer\u001b[0m \u001b[0;34m=\u001b[0m \u001b[0mLSTM\u001b[0m\u001b[0;34m(\u001b[0m\u001b[0mlatent_dim\u001b[0m\u001b[0;34m,\u001b[0m \u001b[0mreturn_sequences\u001b[0m\u001b[0;34m=\u001b[0m\u001b[0;32mTrue\u001b[0m\u001b[0;34m,\u001b[0m \u001b[0mreturn_state\u001b[0m\u001b[0;34m=\u001b[0m\u001b[0;32mTrue\u001b[0m\u001b[0;34m,\u001b[0m \u001b[0mdropout\u001b[0m \u001b[0;34m=\u001b[0m \u001b[0mdropout_rate\u001b[0m\u001b[0;34m)\u001b[0m\u001b[0;34m\u001b[0m\u001b[0;34m\u001b[0m\u001b[0m\n\u001b[0;32m---> 14\u001b[0;31m \u001b[0mdecoder_LSTM\u001b[0m\u001b[0;34m,\u001b[0m\u001b[0m_\u001b[0m \u001b[0;34m,\u001b[0m \u001b[0m_\u001b[0m \u001b[0;34m=\u001b[0m \u001b[0mdecoder_LSTM_layer\u001b[0m\u001b[0;34m(\u001b[0m\u001b[0mdecoder_dropout\u001b[0m\u001b[0;34m,\u001b[0m \u001b[0minitial_state\u001b[0m\u001b[0;34m=\u001b[0m\u001b[0mencoder_states\u001b[0m\u001b[0;34m)\u001b[0m\u001b[0;34m\u001b[0m\u001b[0;34m\u001b[0m\u001b[0m\n\u001b[0m\u001b[1;32m     15\u001b[0m \u001b[0;34m\u001b[0m\u001b[0m\n\u001b[1;32m     16\u001b[0m \u001b[0;31m#output\u001b[0m\u001b[0;34m\u001b[0m\u001b[0;34m\u001b[0m\u001b[0;34m\u001b[0m\u001b[0m\n",
            "\u001b[0;32m/usr/local/lib/python3.6/dist-packages/keras/layers/recurrent.py\u001b[0m in \u001b[0;36m__call__\u001b[0;34m(self, inputs, initial_state, constants, **kwargs)\u001b[0m\n\u001b[1;32m    582\u001b[0m             \u001b[0;32mif\u001b[0m \u001b[0;34m'constants'\u001b[0m \u001b[0;32min\u001b[0m \u001b[0mkwargs\u001b[0m\u001b[0;34m:\u001b[0m\u001b[0;34m\u001b[0m\u001b[0;34m\u001b[0m\u001b[0m\n\u001b[1;32m    583\u001b[0m                 \u001b[0mkwargs\u001b[0m\u001b[0;34m.\u001b[0m\u001b[0mpop\u001b[0m\u001b[0;34m(\u001b[0m\u001b[0;34m'constants'\u001b[0m\u001b[0;34m)\u001b[0m\u001b[0;34m\u001b[0m\u001b[0;34m\u001b[0m\u001b[0m\n\u001b[0;32m--> 584\u001b[0;31m             \u001b[0moutput\u001b[0m \u001b[0;34m=\u001b[0m \u001b[0msuper\u001b[0m\u001b[0;34m(\u001b[0m\u001b[0mRNN\u001b[0m\u001b[0;34m,\u001b[0m \u001b[0mself\u001b[0m\u001b[0;34m)\u001b[0m\u001b[0;34m.\u001b[0m\u001b[0m__call__\u001b[0m\u001b[0;34m(\u001b[0m\u001b[0mfull_input\u001b[0m\u001b[0;34m,\u001b[0m \u001b[0;34m**\u001b[0m\u001b[0mkwargs\u001b[0m\u001b[0;34m)\u001b[0m\u001b[0;34m\u001b[0m\u001b[0;34m\u001b[0m\u001b[0m\n\u001b[0m\u001b[1;32m    585\u001b[0m             \u001b[0mself\u001b[0m\u001b[0;34m.\u001b[0m\u001b[0minput_spec\u001b[0m \u001b[0;34m=\u001b[0m \u001b[0moriginal_input_spec\u001b[0m\u001b[0;34m\u001b[0m\u001b[0;34m\u001b[0m\u001b[0m\n\u001b[1;32m    586\u001b[0m             \u001b[0;32mreturn\u001b[0m \u001b[0moutput\u001b[0m\u001b[0;34m\u001b[0m\u001b[0;34m\u001b[0m\u001b[0m\n",
            "\u001b[0;32m/usr/local/lib/python3.6/dist-packages/keras/backend/tensorflow_backend.py\u001b[0m in \u001b[0;36msymbolic_fn_wrapper\u001b[0;34m(*args, **kwargs)\u001b[0m\n\u001b[1;32m     73\u001b[0m         \u001b[0;32mif\u001b[0m \u001b[0m_SYMBOLIC_SCOPE\u001b[0m\u001b[0;34m.\u001b[0m\u001b[0mvalue\u001b[0m\u001b[0;34m:\u001b[0m\u001b[0;34m\u001b[0m\u001b[0;34m\u001b[0m\u001b[0m\n\u001b[1;32m     74\u001b[0m             \u001b[0;32mwith\u001b[0m \u001b[0mget_graph\u001b[0m\u001b[0;34m(\u001b[0m\u001b[0;34m)\u001b[0m\u001b[0;34m.\u001b[0m\u001b[0mas_default\u001b[0m\u001b[0;34m(\u001b[0m\u001b[0;34m)\u001b[0m\u001b[0;34m:\u001b[0m\u001b[0;34m\u001b[0m\u001b[0;34m\u001b[0m\u001b[0m\n\u001b[0;32m---> 75\u001b[0;31m                 \u001b[0;32mreturn\u001b[0m \u001b[0mfunc\u001b[0m\u001b[0;34m(\u001b[0m\u001b[0;34m*\u001b[0m\u001b[0margs\u001b[0m\u001b[0;34m,\u001b[0m \u001b[0;34m**\u001b[0m\u001b[0mkwargs\u001b[0m\u001b[0;34m)\u001b[0m\u001b[0;34m\u001b[0m\u001b[0;34m\u001b[0m\u001b[0m\n\u001b[0m\u001b[1;32m     76\u001b[0m         \u001b[0;32melse\u001b[0m\u001b[0;34m:\u001b[0m\u001b[0;34m\u001b[0m\u001b[0;34m\u001b[0m\u001b[0m\n\u001b[1;32m     77\u001b[0m             \u001b[0;32mreturn\u001b[0m \u001b[0mfunc\u001b[0m\u001b[0;34m(\u001b[0m\u001b[0;34m*\u001b[0m\u001b[0margs\u001b[0m\u001b[0;34m,\u001b[0m \u001b[0;34m**\u001b[0m\u001b[0mkwargs\u001b[0m\u001b[0;34m)\u001b[0m\u001b[0;34m\u001b[0m\u001b[0;34m\u001b[0m\u001b[0m\n",
            "\u001b[0;32m/usr/local/lib/python3.6/dist-packages/keras/engine/base_layer.py\u001b[0m in \u001b[0;36m__call__\u001b[0;34m(self, inputs, **kwargs)\u001b[0m\n\u001b[1;32m    461\u001b[0m                                          \u001b[0;34m'You can build it manually via: '\u001b[0m\u001b[0;34m\u001b[0m\u001b[0;34m\u001b[0m\u001b[0m\n\u001b[1;32m    462\u001b[0m                                          '`layer.build(batch_input_shape)`')\n\u001b[0;32m--> 463\u001b[0;31m                 \u001b[0mself\u001b[0m\u001b[0;34m.\u001b[0m\u001b[0mbuild\u001b[0m\u001b[0;34m(\u001b[0m\u001b[0munpack_singleton\u001b[0m\u001b[0;34m(\u001b[0m\u001b[0minput_shapes\u001b[0m\u001b[0;34m)\u001b[0m\u001b[0;34m)\u001b[0m\u001b[0;34m\u001b[0m\u001b[0;34m\u001b[0m\u001b[0m\n\u001b[0m\u001b[1;32m    464\u001b[0m                 \u001b[0mself\u001b[0m\u001b[0;34m.\u001b[0m\u001b[0mbuilt\u001b[0m \u001b[0;34m=\u001b[0m \u001b[0;32mTrue\u001b[0m\u001b[0;34m\u001b[0m\u001b[0;34m\u001b[0m\u001b[0m\n\u001b[1;32m    465\u001b[0m \u001b[0;34m\u001b[0m\u001b[0m\n",
            "\u001b[0;32m/usr/local/lib/python3.6/dist-packages/keras/layers/recurrent.py\u001b[0m in \u001b[0;36mbuild\u001b[0;34m(self, input_shape)\u001b[0m\n\u001b[1;32m    515\u001b[0m                     \u001b[0;34m'`cell.state_size`. Received `state_spec`={}; '\u001b[0m\u001b[0;34m\u001b[0m\u001b[0;34m\u001b[0m\u001b[0m\n\u001b[1;32m    516\u001b[0m                     \u001b[0;34m'however `cell.state_size` is '\u001b[0m\u001b[0;34m\u001b[0m\u001b[0;34m\u001b[0m\u001b[0m\n\u001b[0;32m--> 517\u001b[0;31m                     '{}'.format(self.state_spec, self.cell.state_size))\n\u001b[0m\u001b[1;32m    518\u001b[0m         \u001b[0;32melse\u001b[0m\u001b[0;34m:\u001b[0m\u001b[0;34m\u001b[0m\u001b[0;34m\u001b[0m\u001b[0m\n\u001b[1;32m    519\u001b[0m             self.state_spec = [InputSpec(shape=(None, dim))\n",
            "\u001b[0;31mValueError\u001b[0m: An `initial_state` was passed that is not compatible with `cell.state_size`. Received `state_spec`=[InputSpec(shape=(None, 512), ndim=2), InputSpec(shape=(None, 512), ndim=2)]; however `cell.state_size` is (256, 256)"
          ]
        }
      ]
    },
    {
      "cell_type": "code",
      "metadata": {
        "id": "HpyZeyukCDSQ",
        "colab_type": "code",
        "outputId": "5038f5dc-9487-415b-d888-509b2211d391",
        "colab": {
          "base_uri": "https://localhost:8080/",
          "height": 34
        }
      },
      "source": [
        "from tensorflow.python import keras\n",
        "print(keras.__version__)"
      ],
      "execution_count": 0,
      "outputs": [
        {
          "output_type": "stream",
          "text": [
            "2.3.0-tf\n"
          ],
          "name": "stdout"
        }
      ]
    },
    {
      "cell_type": "code",
      "metadata": {
        "colab_type": "code",
        "id": "UQuFyR48DyIi",
        "outputId": "358d4d5a-d1c0-4218-df3d-b74afd77a575",
        "colab": {
          "base_uri": "https://localhost:8080/",
          "height": 527
        }
      },
      "source": [
        "# Define the model that will turn\n",
        "# `encoder_input_data` & `decoder_input_data` into `decoder_target_data`\n",
        "model = Model([encoder_inputs, decoder_inputs], decoder_outputs)\n",
        "\n",
        "# Run training\n",
        "model.compile(optimizer='rmsprop', loss='categorical_crossentropy',\n",
        "              metrics=['accuracy'])\n",
        "\n",
        "model.summary()"
      ],
      "execution_count": 0,
      "outputs": [
        {
          "output_type": "stream",
          "text": [
            "Model: \"model_1\"\n",
            "__________________________________________________________________________________________________\n",
            "Layer (type)                    Output Shape         Param #     Connected to                     \n",
            "==================================================================================================\n",
            "input_6 (InputLayer)            (None, None)         0                                            \n",
            "__________________________________________________________________________________________________\n",
            "input_7 (InputLayer)            (None, None)         0                                            \n",
            "__________________________________________________________________________________________________\n",
            "embedding_6 (Embedding)         (None, None, 256)    353792      input_6[0][0]                    \n",
            "__________________________________________________________________________________________________\n",
            "embedding_7 (Embedding)         (None, None, 256)    393984      input_7[0][0]                    \n",
            "__________________________________________________________________________________________________\n",
            "time_distributed_6 (TimeDistrib (None, None, 256)    0           embedding_6[0][0]                \n",
            "__________________________________________________________________________________________________\n",
            "time_distributed_7 (TimeDistrib (None, None, 256)    0           embedding_7[0][0]                \n",
            "__________________________________________________________________________________________________\n",
            "bidirectional_6 (Bidirectional) [(None, 512), (None, 1050624     time_distributed_6[0][0]         \n",
            "__________________________________________________________________________________________________\n",
            "bidirectional_7 (Bidirectional) [(None, None, 512),  1050624     time_distributed_7[0][0]         \n",
            "                                                                 bidirectional_6[0][1]            \n",
            "                                                                 bidirectional_6[0][2]            \n",
            "                                                                 bidirectional_6[0][3]            \n",
            "                                                                 bidirectional_6[0][4]            \n",
            "__________________________________________________________________________________________________\n",
            "dense_1 (Dense)                 (None, None, 1539)   789507      bidirectional_7[0][0]            \n",
            "==================================================================================================\n",
            "Total params: 3,638,531\n",
            "Trainable params: 3,638,531\n",
            "Non-trainable params: 0\n",
            "__________________________________________________________________________________________________\n"
          ],
          "name": "stdout"
        }
      ]
    },
    {
      "cell_type": "code",
      "metadata": {
        "colab_type": "code",
        "id": "P7-9bSciDyIq",
        "outputId": "03c13599-4f63-47f6-ed1e-668ecb63e12a",
        "colab": {
          "base_uri": "https://localhost:8080/",
          "height": 1000
        }
      },
      "source": [
        "history=model.fit(\n",
        "        [encoder_input_data, decoder_input_data], \n",
        "        decoder_target_data,\n",
        "        batch_size=batch_size,\n",
        "        epochs=epochs,\n",
        "        # verbose=0,\n",
        "        validation_split=0.2)"
      ],
      "execution_count": 0,
      "outputs": [
        {
          "output_type": "stream",
          "text": [
            "/usr/local/lib/python3.6/dist-packages/tensorflow/python/framework/indexed_slices.py:434: UserWarning: Converting sparse IndexedSlices to a dense Tensor of unknown shape. This may consume a large amount of memory.\n",
            "  \"Converting sparse IndexedSlices to a dense Tensor of unknown shape. \"\n"
          ],
          "name": "stderr"
        },
        {
          "output_type": "stream",
          "text": [
            "Train on 800 samples, validate on 200 samples\n",
            "Epoch 1/50\n",
            "800/800 [==============================] - 9s 11ms/step - loss: 2.3412 - accuracy: 0.1113 - val_loss: 1.7236 - val_accuracy: 0.1346\n",
            "Epoch 2/50\n",
            "800/800 [==============================] - 6s 8ms/step - loss: 2.0137 - accuracy: 0.1349 - val_loss: 1.6899 - val_accuracy: 0.1447\n",
            "Epoch 3/50\n",
            "800/800 [==============================] - 6s 8ms/step - loss: 1.9380 - accuracy: 0.1423 - val_loss: 1.6822 - val_accuracy: 0.1491\n",
            "Epoch 4/50\n",
            "800/800 [==============================] - 6s 8ms/step - loss: 1.8804 - accuracy: 0.1504 - val_loss: 1.6512 - val_accuracy: 0.1579\n",
            "Epoch 5/50\n",
            "800/800 [==============================] - 6s 8ms/step - loss: 1.8071 - accuracy: 0.1732 - val_loss: 1.6577 - val_accuracy: 0.1742\n",
            "Epoch 6/50\n",
            "800/800 [==============================] - 6s 8ms/step - loss: 1.7237 - accuracy: 0.1928 - val_loss: 1.6279 - val_accuracy: 0.1950\n",
            "Epoch 7/50\n",
            "800/800 [==============================] - 6s 8ms/step - loss: 1.6287 - accuracy: 0.2217 - val_loss: 1.6161 - val_accuracy: 0.1969\n",
            "Epoch 8/50\n",
            "800/800 [==============================] - 6s 8ms/step - loss: 1.5398 - accuracy: 0.2388 - val_loss: 1.5819 - val_accuracy: 0.2226\n",
            "Epoch 9/50\n",
            "800/800 [==============================] - 6s 8ms/step - loss: 1.4483 - accuracy: 0.2703 - val_loss: 1.5715 - val_accuracy: 0.2277\n",
            "Epoch 10/50\n",
            "800/800 [==============================] - 6s 8ms/step - loss: 1.3555 - accuracy: 0.2965 - val_loss: 1.5502 - val_accuracy: 0.2642\n",
            "Epoch 11/50\n",
            "800/800 [==============================] - 6s 8ms/step - loss: 1.2664 - accuracy: 0.3237 - val_loss: 1.5379 - val_accuracy: 0.2761\n",
            "Epoch 12/50\n",
            "800/800 [==============================] - 6s 8ms/step - loss: 1.1761 - accuracy: 0.3560 - val_loss: 1.5262 - val_accuracy: 0.2862\n",
            "Epoch 13/50\n",
            "800/800 [==============================] - 6s 8ms/step - loss: 1.0927 - accuracy: 0.3852 - val_loss: 1.5176 - val_accuracy: 0.2956\n",
            "Epoch 14/50\n",
            "800/800 [==============================] - 6s 8ms/step - loss: 1.0069 - accuracy: 0.4182 - val_loss: 1.4895 - val_accuracy: 0.3157\n",
            "Epoch 15/50\n",
            "800/800 [==============================] - 6s 8ms/step - loss: 0.9272 - accuracy: 0.4478 - val_loss: 1.4714 - val_accuracy: 0.3409\n",
            "Epoch 16/50\n",
            "800/800 [==============================] - 6s 8ms/step - loss: 0.8470 - accuracy: 0.4806 - val_loss: 1.4596 - val_accuracy: 0.3447\n",
            "Epoch 17/50\n",
            "800/800 [==============================] - 6s 8ms/step - loss: 0.7778 - accuracy: 0.5133 - val_loss: 1.4411 - val_accuracy: 0.3572\n",
            "Epoch 18/50\n",
            "800/800 [==============================] - 6s 8ms/step - loss: 0.7042 - accuracy: 0.5541 - val_loss: 1.4298 - val_accuracy: 0.3660\n",
            "Epoch 19/50\n",
            "800/800 [==============================] - 6s 8ms/step - loss: 0.6371 - accuracy: 0.5956 - val_loss: 1.3955 - val_accuracy: 0.3824\n",
            "Epoch 20/50\n",
            "800/800 [==============================] - 6s 8ms/step - loss: 0.5733 - accuracy: 0.6396 - val_loss: 1.3927 - val_accuracy: 0.3874\n",
            "Epoch 21/50\n",
            "800/800 [==============================] - 6s 8ms/step - loss: 0.5151 - accuracy: 0.6807 - val_loss: 1.3768 - val_accuracy: 0.3937\n",
            "Epoch 22/50\n",
            "800/800 [==============================] - 6s 8ms/step - loss: 0.4570 - accuracy: 0.7207 - val_loss: 1.3719 - val_accuracy: 0.4044\n",
            "Epoch 23/50\n",
            "800/800 [==============================] - 6s 8ms/step - loss: 0.4050 - accuracy: 0.7540 - val_loss: 1.3481 - val_accuracy: 0.4013\n",
            "Epoch 24/50\n",
            "800/800 [==============================] - 6s 8ms/step - loss: 0.3549 - accuracy: 0.7783 - val_loss: 1.3457 - val_accuracy: 0.4164\n",
            "Epoch 25/50\n",
            "800/800 [==============================] - 6s 8ms/step - loss: 0.3087 - accuracy: 0.8105 - val_loss: 1.3401 - val_accuracy: 0.4170\n",
            "Epoch 26/50\n",
            "800/800 [==============================] - 6s 8ms/step - loss: 0.2660 - accuracy: 0.8289 - val_loss: 1.3267 - val_accuracy: 0.4264\n",
            "Epoch 27/50\n",
            "800/800 [==============================] - 6s 8ms/step - loss: 0.2295 - accuracy: 0.8490 - val_loss: 1.3261 - val_accuracy: 0.4314\n",
            "Epoch 28/50\n",
            "800/800 [==============================] - 6s 8ms/step - loss: 0.1921 - accuracy: 0.8649 - val_loss: 1.3133 - val_accuracy: 0.4333\n",
            "Epoch 29/50\n",
            "800/800 [==============================] - 6s 8ms/step - loss: 0.1640 - accuracy: 0.8752 - val_loss: 1.3092 - val_accuracy: 0.4352\n",
            "Epoch 30/50\n",
            "800/800 [==============================] - 6s 8ms/step - loss: 0.1391 - accuracy: 0.8836 - val_loss: 1.2992 - val_accuracy: 0.4403\n",
            "Epoch 31/50\n",
            "800/800 [==============================] - 7s 9ms/step - loss: 0.1142 - accuracy: 0.8890 - val_loss: 1.2922 - val_accuracy: 0.4491\n",
            "Epoch 32/50\n",
            "800/800 [==============================] - 8s 10ms/step - loss: 0.0931 - accuracy: 0.8938 - val_loss: 1.2876 - val_accuracy: 0.4459\n",
            "Epoch 33/50\n",
            "800/800 [==============================] - 8s 10ms/step - loss: 0.0781 - accuracy: 0.8949 - val_loss: 1.2882 - val_accuracy: 0.4535\n",
            "Epoch 34/50\n",
            "800/800 [==============================] - 7s 8ms/step - loss: 0.0624 - accuracy: 0.8969 - val_loss: 1.2815 - val_accuracy: 0.4509\n",
            "Epoch 35/50\n",
            "800/800 [==============================] - 6s 8ms/step - loss: 0.0510 - accuracy: 0.8974 - val_loss: 1.2776 - val_accuracy: 0.4509\n",
            "Epoch 36/50\n",
            "800/800 [==============================] - 6s 8ms/step - loss: 0.0421 - accuracy: 0.8977 - val_loss: 1.2732 - val_accuracy: 0.4654\n",
            "Epoch 37/50\n",
            "800/800 [==============================] - 6s 8ms/step - loss: 0.0332 - accuracy: 0.8981 - val_loss: 1.2661 - val_accuracy: 0.4610\n",
            "Epoch 38/50\n",
            "800/800 [==============================] - 6s 8ms/step - loss: 0.0277 - accuracy: 0.8978 - val_loss: 1.2635 - val_accuracy: 0.4623\n",
            "Epoch 39/50\n",
            "800/800 [==============================] - 6s 8ms/step - loss: 0.0217 - accuracy: 0.8982 - val_loss: 1.2660 - val_accuracy: 0.4660\n",
            "Epoch 40/50\n",
            "800/800 [==============================] - 6s 8ms/step - loss: 0.0174 - accuracy: 0.8982 - val_loss: 1.2632 - val_accuracy: 0.4717\n",
            "Epoch 41/50\n",
            "800/800 [==============================] - 7s 8ms/step - loss: 0.0146 - accuracy: 0.8981 - val_loss: 1.2654 - val_accuracy: 0.4698\n",
            "Epoch 42/50\n",
            "800/800 [==============================] - 7s 8ms/step - loss: 0.0116 - accuracy: 0.8982 - val_loss: 1.2553 - val_accuracy: 0.4748\n",
            "Epoch 43/50\n",
            "800/800 [==============================] - 6s 8ms/step - loss: 0.0097 - accuracy: 0.8982 - val_loss: 1.2624 - val_accuracy: 0.4742\n",
            "Epoch 44/50\n",
            "800/800 [==============================] - 7s 8ms/step - loss: 0.0075 - accuracy: 0.8982 - val_loss: 1.2634 - val_accuracy: 0.4792\n",
            "Epoch 45/50\n",
            "800/800 [==============================] - 6s 8ms/step - loss: 0.0064 - accuracy: 0.8982 - val_loss: 1.2548 - val_accuracy: 0.4755\n",
            "Epoch 46/50\n",
            "800/800 [==============================] - 6s 8ms/step - loss: 0.0051 - accuracy: 0.8982 - val_loss: 1.2527 - val_accuracy: 0.4780\n",
            "Epoch 47/50\n",
            "800/800 [==============================] - 6s 8ms/step - loss: 0.0042 - accuracy: 0.8982 - val_loss: 1.2534 - val_accuracy: 0.4780\n",
            "Epoch 48/50\n",
            "800/800 [==============================] - 6s 8ms/step - loss: 0.0036 - accuracy: 0.8981 - val_loss: 1.2545 - val_accuracy: 0.4836\n",
            "Epoch 49/50\n",
            "800/800 [==============================] - 6s 8ms/step - loss: 0.0029 - accuracy: 0.8982 - val_loss: 1.2492 - val_accuracy: 0.4887\n",
            "Epoch 50/50\n",
            "800/800 [==============================] - 7s 8ms/step - loss: 0.0023 - accuracy: 0.8982 - val_loss: 1.2586 - val_accuracy: 0.4887\n"
          ],
          "name": "stdout"
        }
      ]
    },
    {
      "cell_type": "code",
      "metadata": {
        "colab_type": "code",
        "id": "LFfFBeiEOuRR",
        "outputId": "6dcc1b23-1c6e-4811-cc56-8b0f4b7fdcea",
        "colab": {
          "base_uri": "https://localhost:8080/",
          "height": 499
        }
      },
      "source": [
        "acc = history.history['accuracy']\n",
        "val_acc = history.history['val_accuracy']\n",
        "\n",
        "loss=history.history['loss']\n",
        "val_loss=history.history['val_loss']\n",
        "\n",
        "epochs_range = range(epochs)\n",
        "\n",
        "plt.figure(figsize=(8, 8))\n",
        "plt.subplot(1, 2, 1)\n",
        "plt.plot(epochs_range, acc, label='Training Accuracy')\n",
        "plt.plot(epochs_range, val_acc, label='Validation Accuracy')\n",
        "plt.legend(loc='lower right')\n",
        "plt.title('Training and Validation Accuracy')\n",
        "\n",
        "plt.subplot(1, 2, 2)\n",
        "plt.plot(epochs_range, loss, label='Training Loss')\n",
        "plt.plot(epochs_range, val_loss, label='Validation Loss')\n",
        "plt.legend(loc='upper right')\n",
        "plt.title('Training and Validation Loss')\n",
        "plt.show()"
      ],
      "execution_count": 91,
      "outputs": [
        {
          "output_type": "display_data",
          "data": {
            "image/png": "[encoded data removed]",
            "text/plain": [
              "<Figure size 576x576 with 2 Axes>"
            ]
          },
          "metadata": {
            "tags": [],
            "needs_background": "light"
          }
        }
      ]
    },
    {
      "cell_type": "code",
      "metadata": {
        "colab_type": "code",
        "id": "HqLNXzMVDyIx",
        "colab": {}
      },
      "source": [
        "# Save model\n",
        "model.save('s2s.h5')"
      ],
      "execution_count": 0,
      "outputs": []
    },
    {
      "cell_type": "code",
      "metadata": {
        "colab_type": "code",
        "id": "YQ2IvWkUHVos",
        "colab": {
          "base_uri": "https://localhost:8080/",
          "height": 395
        },
        "outputId": "454043bd-5a11-4bf0-d192-16d7806c9867"
      },
      "source": [
        "# Next: inference mode (sampling).\n",
        "# Here's the drill:\n",
        "# 1) encode input and retrieve initial decoder state\n",
        "# 2) run one step of decoder with this initial state\n",
        "# and a \"start of sequence\" token as target.\n",
        "# Output will be the next target token\n",
        "# 3) Repeat with the current target token and current states\n",
        "\n",
        "# Define sampling models\n",
        "encoder_model = Model(encoder_inputs, encoder_states)\n",
        "\n",
        "decoder_state_input_h = Input(shape=(latent_dim,))\n",
        "decoder_state_input_c = Input(shape=(latent_dim,))\n",
        "decoder_state_input_h2 = Input(shape=(latent_dim,))\n",
        "decoder_state_input_c2 = Input(shape=(latent_dim,))\n",
        "decoder_states_inputs = [decoder_state_input_h, decoder_state_input_c, decoder_state_input_h2, decoder_state_input_c2]\n",
        "\n",
        "decoder_outputs, forward_h, forward_c, backward_h, backward_c= decoder_LSTM_layer(decoder_dropout, initial_state=decoder_states_inputs)\n",
        "\n",
        "decoder_states = [forward_h, forward_c, backward_h, backward_c]\n",
        "decoder_outputs = decoder_dense(decoder_outputs)\n",
        "decoder_model = Model(\n",
        "    [decoder_inputs] + decoder_states_inputs,\n",
        "    [decoder_outputs] + decoder_states)\n",
        "\n"
      ],
      "execution_count": 92,
      "outputs": [
        {
          "output_type": "error",
          "ename": "ValueError",
          "evalue": "ignored",
          "traceback": [
            "\u001b[0;31m---------------------------------------------------------------------------\u001b[0m",
            "\u001b[0;31mValueError\u001b[0m                                Traceback (most recent call last)",
            "\u001b[0;32m<ipython-input-92-db583bbb247f>\u001b[0m in \u001b[0;36m<module>\u001b[0;34m()\u001b[0m\n\u001b[1;32m      7\u001b[0m \u001b[0mdecoder_states_inputs\u001b[0m \u001b[0;34m=\u001b[0m \u001b[0;34m[\u001b[0m\u001b[0mdecoder_state_input_h\u001b[0m\u001b[0;34m,\u001b[0m \u001b[0mdecoder_state_input_c\u001b[0m\u001b[0;34m,\u001b[0m \u001b[0mdecoder_state_input_h2\u001b[0m\u001b[0;34m,\u001b[0m \u001b[0mdecoder_state_input_c2\u001b[0m\u001b[0;34m]\u001b[0m\u001b[0;34m\u001b[0m\u001b[0;34m\u001b[0m\u001b[0m\n\u001b[1;32m      8\u001b[0m \u001b[0;34m\u001b[0m\u001b[0m\n\u001b[0;32m----> 9\u001b[0;31m \u001b[0mdecoder_outputs\u001b[0m\u001b[0;34m,\u001b[0m \u001b[0mforward_h\u001b[0m\u001b[0;34m,\u001b[0m \u001b[0mforward_c\u001b[0m\u001b[0;34m,\u001b[0m \u001b[0mbackward_h\u001b[0m\u001b[0;34m,\u001b[0m \u001b[0mbackward_c\u001b[0m\u001b[0;34m=\u001b[0m \u001b[0mdecoder_LSTM_layer\u001b[0m\u001b[0;34m(\u001b[0m\u001b[0mdecoder_dropout\u001b[0m\u001b[0;34m,\u001b[0m \u001b[0minitial_state\u001b[0m\u001b[0;34m=\u001b[0m\u001b[0mdecoder_states_inputs\u001b[0m\u001b[0;34m)\u001b[0m\u001b[0;34m\u001b[0m\u001b[0;34m\u001b[0m\u001b[0m\n\u001b[0m\u001b[1;32m     10\u001b[0m \u001b[0;34m\u001b[0m\u001b[0m\n\u001b[1;32m     11\u001b[0m \u001b[0mdecoder_states\u001b[0m \u001b[0;34m=\u001b[0m \u001b[0;34m[\u001b[0m\u001b[0mforward_h\u001b[0m\u001b[0;34m,\u001b[0m \u001b[0mforward_c\u001b[0m\u001b[0;34m,\u001b[0m \u001b[0mbackward_h\u001b[0m\u001b[0;34m,\u001b[0m \u001b[0mbackward_c\u001b[0m\u001b[0;34m]\u001b[0m\u001b[0;34m\u001b[0m\u001b[0;34m\u001b[0m\u001b[0m\n",
            "\u001b[0;32m/usr/local/lib/python3.6/dist-packages/keras/layers/recurrent.py\u001b[0m in \u001b[0;36m__call__\u001b[0;34m(self, inputs, initial_state, constants, **kwargs)\u001b[0m\n\u001b[1;32m    582\u001b[0m             \u001b[0;32mif\u001b[0m \u001b[0;34m'constants'\u001b[0m \u001b[0;32min\u001b[0m \u001b[0mkwargs\u001b[0m\u001b[0;34m:\u001b[0m\u001b[0;34m\u001b[0m\u001b[0;34m\u001b[0m\u001b[0m\n\u001b[1;32m    583\u001b[0m                 \u001b[0mkwargs\u001b[0m\u001b[0;34m.\u001b[0m\u001b[0mpop\u001b[0m\u001b[0;34m(\u001b[0m\u001b[0;34m'constants'\u001b[0m\u001b[0;34m)\u001b[0m\u001b[0;34m\u001b[0m\u001b[0;34m\u001b[0m\u001b[0m\n\u001b[0;32m--> 584\u001b[0;31m             \u001b[0moutput\u001b[0m \u001b[0;34m=\u001b[0m \u001b[0msuper\u001b[0m\u001b[0;34m(\u001b[0m\u001b[0mRNN\u001b[0m\u001b[0;34m,\u001b[0m \u001b[0mself\u001b[0m\u001b[0;34m)\u001b[0m\u001b[0;34m.\u001b[0m\u001b[0m__call__\u001b[0m\u001b[0;34m(\u001b[0m\u001b[0mfull_input\u001b[0m\u001b[0;34m,\u001b[0m \u001b[0;34m**\u001b[0m\u001b[0mkwargs\u001b[0m\u001b[0;34m)\u001b[0m\u001b[0;34m\u001b[0m\u001b[0;34m\u001b[0m\u001b[0m\n\u001b[0m\u001b[1;32m    585\u001b[0m             \u001b[0mself\u001b[0m\u001b[0;34m.\u001b[0m\u001b[0minput_spec\u001b[0m \u001b[0;34m=\u001b[0m \u001b[0moriginal_input_spec\u001b[0m\u001b[0;34m\u001b[0m\u001b[0;34m\u001b[0m\u001b[0m\n\u001b[1;32m    586\u001b[0m             \u001b[0;32mreturn\u001b[0m \u001b[0moutput\u001b[0m\u001b[0;34m\u001b[0m\u001b[0;34m\u001b[0m\u001b[0m\n",
            "\u001b[0;32m/usr/local/lib/python3.6/dist-packages/keras/backend/tensorflow_backend.py\u001b[0m in \u001b[0;36msymbolic_fn_wrapper\u001b[0;34m(*args, **kwargs)\u001b[0m\n\u001b[1;32m     73\u001b[0m         \u001b[0;32mif\u001b[0m \u001b[0m_SYMBOLIC_SCOPE\u001b[0m\u001b[0;34m.\u001b[0m\u001b[0mvalue\u001b[0m\u001b[0;34m:\u001b[0m\u001b[0;34m\u001b[0m\u001b[0;34m\u001b[0m\u001b[0m\n\u001b[1;32m     74\u001b[0m             \u001b[0;32mwith\u001b[0m \u001b[0mget_graph\u001b[0m\u001b[0;34m(\u001b[0m\u001b[0;34m)\u001b[0m\u001b[0;34m.\u001b[0m\u001b[0mas_default\u001b[0m\u001b[0;34m(\u001b[0m\u001b[0;34m)\u001b[0m\u001b[0;34m:\u001b[0m\u001b[0;34m\u001b[0m\u001b[0;34m\u001b[0m\u001b[0m\n\u001b[0;32m---> 75\u001b[0;31m                 \u001b[0;32mreturn\u001b[0m \u001b[0mfunc\u001b[0m\u001b[0;34m(\u001b[0m\u001b[0;34m*\u001b[0m\u001b[0margs\u001b[0m\u001b[0;34m,\u001b[0m \u001b[0;34m**\u001b[0m\u001b[0mkwargs\u001b[0m\u001b[0;34m)\u001b[0m\u001b[0;34m\u001b[0m\u001b[0;34m\u001b[0m\u001b[0m\n\u001b[0m\u001b[1;32m     76\u001b[0m         \u001b[0;32melse\u001b[0m\u001b[0;34m:\u001b[0m\u001b[0;34m\u001b[0m\u001b[0;34m\u001b[0m\u001b[0m\n\u001b[1;32m     77\u001b[0m             \u001b[0;32mreturn\u001b[0m \u001b[0mfunc\u001b[0m\u001b[0;34m(\u001b[0m\u001b[0;34m*\u001b[0m\u001b[0margs\u001b[0m\u001b[0;34m,\u001b[0m \u001b[0;34m**\u001b[0m\u001b[0mkwargs\u001b[0m\u001b[0;34m)\u001b[0m\u001b[0;34m\u001b[0m\u001b[0;34m\u001b[0m\u001b[0m\n",
            "\u001b[0;32m/usr/local/lib/python3.6/dist-packages/keras/engine/base_layer.py\u001b[0m in \u001b[0;36m__call__\u001b[0;34m(self, inputs, **kwargs)\u001b[0m\n\u001b[1;32m    444\u001b[0m                 \u001b[0;31m# Raise exceptions in case the input is not compatible\u001b[0m\u001b[0;34m\u001b[0m\u001b[0;34m\u001b[0m\u001b[0;34m\u001b[0m\u001b[0m\n\u001b[1;32m    445\u001b[0m                 \u001b[0;31m# with the input_spec specified in the layer constructor.\u001b[0m\u001b[0;34m\u001b[0m\u001b[0;34m\u001b[0m\u001b[0;34m\u001b[0m\u001b[0m\n\u001b[0;32m--> 446\u001b[0;31m                 \u001b[0mself\u001b[0m\u001b[0;34m.\u001b[0m\u001b[0massert_input_compatibility\u001b[0m\u001b[0;34m(\u001b[0m\u001b[0minputs\u001b[0m\u001b[0;34m)\u001b[0m\u001b[0;34m\u001b[0m\u001b[0;34m\u001b[0m\u001b[0m\n\u001b[0m\u001b[1;32m    447\u001b[0m \u001b[0;34m\u001b[0m\u001b[0m\n\u001b[1;32m    448\u001b[0m                 \u001b[0;31m# Collect input shapes to build layer.\u001b[0m\u001b[0;34m\u001b[0m\u001b[0;34m\u001b[0m\u001b[0;34m\u001b[0m\u001b[0m\n",
            "\u001b[0;32m/usr/local/lib/python3.6/dist-packages/keras/engine/base_layer.py\u001b[0m in \u001b[0;36massert_input_compatibility\u001b[0;34m(self, inputs)\u001b[0m\n\u001b[1;32m    328\u001b[0m                              \u001b[0;34m'but it received '\u001b[0m \u001b[0;34m+\u001b[0m \u001b[0mstr\u001b[0m\u001b[0;34m(\u001b[0m\u001b[0mlen\u001b[0m\u001b[0;34m(\u001b[0m\u001b[0minputs\u001b[0m\u001b[0;34m)\u001b[0m\u001b[0;34m)\u001b[0m \u001b[0;34m+\u001b[0m\u001b[0;34m\u001b[0m\u001b[0;34m\u001b[0m\u001b[0m\n\u001b[1;32m    329\u001b[0m                              \u001b[0;34m' input tensors. Input received: '\u001b[0m \u001b[0;34m+\u001b[0m\u001b[0;34m\u001b[0m\u001b[0;34m\u001b[0m\u001b[0m\n\u001b[0;32m--> 330\u001b[0;31m                              str(inputs))\n\u001b[0m\u001b[1;32m    331\u001b[0m         \u001b[0;32mfor\u001b[0m \u001b[0minput_index\u001b[0m\u001b[0;34m,\u001b[0m \u001b[0;34m(\u001b[0m\u001b[0mx\u001b[0m\u001b[0;34m,\u001b[0m \u001b[0mspec\u001b[0m\u001b[0;34m)\u001b[0m \u001b[0;32min\u001b[0m \u001b[0menumerate\u001b[0m\u001b[0;34m(\u001b[0m\u001b[0mzip\u001b[0m\u001b[0;34m(\u001b[0m\u001b[0minputs\u001b[0m\u001b[0;34m,\u001b[0m \u001b[0minput_spec\u001b[0m\u001b[0;34m)\u001b[0m\u001b[0;34m)\u001b[0m\u001b[0;34m:\u001b[0m\u001b[0;34m\u001b[0m\u001b[0;34m\u001b[0m\u001b[0m\n\u001b[1;32m    332\u001b[0m             \u001b[0;32mif\u001b[0m \u001b[0mspec\u001b[0m \u001b[0;32mis\u001b[0m \u001b[0;32mNone\u001b[0m\u001b[0;34m:\u001b[0m\u001b[0;34m\u001b[0m\u001b[0;34m\u001b[0m\u001b[0m\n",
            "\u001b[0;31mValueError\u001b[0m: Layer lstm_33 expects 7 inputs, but it received 5 input tensors. Input received: [<tf.Tensor 'time_distributed_43/Reshape_1:0' shape=(None, None, 256) dtype=float32>, <tf.Tensor 'input_74:0' shape=(None, 256) dtype=float32>, <tf.Tensor 'input_75:0' shape=(None, 256) dtype=float32>, <tf.Tensor 'input_76:0' shape=(None, 256) dtype=float32>, <tf.Tensor 'input_77:0' shape=(None, 256) dtype=float32>]"
          ]
        }
      ]
    },
    {
      "cell_type": "code",
      "metadata": {
        "colab_type": "code",
        "id": "FR2Ti22KHYcE",
        "colab": {}
      },
      "source": [
        "# Reverse-lookup token index to decode sequences back to something readable.\n",
        "reverse_input_char_index = dict(\n",
        "    (i, char) for char, i in input_token_index.items())\n",
        "reverse_target_char_index = dict(\n",
        "    (i, char) for char, i in target_token_index.items())"
      ],
      "execution_count": 0,
      "outputs": []
    },
    {
      "cell_type": "code",
      "metadata": {
        "colab_type": "code",
        "id": "HMYQuOM1H4mX",
        "colab": {}
      },
      "source": [
        "def decode_sequence(input_seq):\n",
        "    states_value = encoder_model.predict(input_seq)\n",
        "\n",
        "    target_seq = np.zeros((1, 1))\n",
        "    target_seq[0, 0] =  target_token_index['\\t']\n",
        "\n",
        "    # Sampling loop for a batch of sequences\n",
        "    # (to simplify, here we assume a batch of size 1).\n",
        "    stop_condition = False\n",
        "    decoded_sentence = ''\n",
        "    while not stop_condition:\n",
        "        # print (decoded_sentence)\n",
        "        output_tokens, h, c, h2, c2 = decoder_model.predict(\n",
        "            [target_seq] + states_value)\n",
        "\n",
        "        # Sample a token\n",
        "        sampled_token_index = np.argmax(output_tokens[0, -1, :])\n",
        "        sampled_char = reverse_target_char_index[sampled_token_index]\n",
        "        decoded_sentence += ' ' + sampled_char\n",
        "\n",
        "        # Exit condition: either hit max length\n",
        "        # or find stop character.\n",
        "        if (sampled_char == '\\n' or\n",
        "           len(decoded_sentence) > max_decoder_seq_length):\n",
        "            stop_condition = True\n",
        "\n",
        "        # Update the target sequence (of length 1).\n",
        "        target_seq = np.zeros((1, 1))\n",
        "        target_seq[0, 0] = sampled_token_index\n",
        "\n",
        "        # Update states\n",
        "        states_value = [h, c, h2, c2]\n",
        "\n",
        "    return decoded_sentence\n"
      ],
      "execution_count": 0,
      "outputs": []
    },
    {
      "cell_type": "code",
      "metadata": {
        "colab_type": "code",
        "id": "Wx8_IAdYH5xE",
        "outputId": "ff092ab4-a2a8-40fd-cb8b-417218cf7af2",
        "colab": {
          "base_uri": "https://localhost:8080/",
          "height": 1000
        }
      },
      "source": [
        "for seq_index in range(10):\n",
        "    # Take one sequence (part of the training set)\n",
        "    # for trying out decoding.\n",
        "    input_seq = encoder_input_data[seq_index: seq_index + 1]\n",
        "    decoded_sentence = decode_sequence(input_seq)\n",
        "    print('-')\n",
        "    print('Input sentence:', input_texts[seq_index])\n",
        "    print('Decoded sentence:', decoded_sentence)"
      ],
      "execution_count": 0,
      "outputs": [
        {
          "output_type": "stream",
          "text": [
            "\t\n",
            "\t\n",
            "\t\n",
            "\t\n",
            "\t\n",
            "\t\n",
            "\t\n",
            "\t\n",
            "\t\n",
            "\t\n",
            "\t\n",
            "\t\n",
            "\t\n",
            "-\n",
            "Input sentence: ['what', 'kind', 'of', 'phones', 'do', 'you', 'guys', 'have']\n",
            "Decoded sentence:  \t \t \t \t \t \t \t \t \t \t \t \t \t\n",
            "\t\n",
            "\t\n",
            "\t\n",
            "\t\n",
            "\t\n",
            "\t\n",
            "\t\n",
            "\t\n",
            "\t\n",
            "\t\n",
            "\t\n",
            "\t\n",
            "\t\n",
            "-\n",
            "Input sentence: ['i', 'have', 'a', 'it', 'is', 'pretty', 'great', 'much', 'better', 'than', 'what', 'i', 'had', 'before']\n",
            "Decoded sentence:  \t \t \t \t \t \t \t \t \t \t \t \t \t\n",
            "\t\n",
            "\t\n",
            "\t\n",
            "\t\n",
            "\t\n",
            "\t\n",
            "\t\n",
            "\t\n",
            "\t\n",
            "\t\n",
            "\t\n",
            "\t\n",
            "\t\n",
            "-\n",
            "Input sentence: ['does', 'it', 'really', 'charge', 'all', 'the', 'way', 'in', 'min']\n",
            "Decoded sentence:  \t \t \t \t \t \t \t \t \t \t \t \t \t\n",
            "\t\n",
            "\t\n",
            "\t\n",
            "\t\n",
            "\t\n",
            "\t\n",
            "\t\n",
            "\t\n",
            "\t\n",
            "\t\n",
            "\t\n",
            "\t\n",
            "\t\n",
            "-\n",
            "Input sentence: ['what', 'kind', 'of', 'phones', 'do', 'you', 'guys', 'have']\n",
            "Decoded sentence:  \t \t \t \t \t \t \t \t \t \t \t \t \t\n",
            "\t\n",
            "\t\n",
            "\t\n",
            "\t\n",
            "\t\n",
            "\t\n",
            "\t\n",
            "\t\n",
            "\t\n",
            "\t\n",
            "\t\n",
            "\t\n",
            "\t\n",
            "-\n",
            "Input sentence: ['samsung', 'galaxy', 'j', 'it', 'is', 'my', 'first', 'cell', 'phone', 'and', 'i', 'have', 'had', 'it', 'for', 'months']\n",
            "Decoded sentence:  \t \t \t \t \t \t \t \t \t \t \t \t \t\n",
            "\t\n",
            "\t\n",
            "\t\n",
            "\t\n",
            "\t\n",
            "\t\n",
            "\t\n",
            "\t\n",
            "\t\n",
            "\t\n",
            "\t\n",
            "\t\n",
            "\t\n",
            "-\n",
            "Input sentence: ['what', 'do', 'you', 'think', 'of', 'it', 'anything', 'you', 'do', 'not', 'like']\n",
            "Decoded sentence:  \t \t \t \t \t \t \t \t \t \t \t \t \t\n",
            "\t\n",
            "\t\n",
            "\t\n",
            "\t\n",
            "\t\n",
            "\t\n",
            "\t\n",
            "\t\n",
            "\t\n",
            "\t\n",
            "\t\n",
            "\t\n",
            "\t\n",
            "-\n",
            "Input sentence: ['what', 'kind', 'of', 'phones', 'do', 'you', 'guys', 'have']\n",
            "Decoded sentence:  \t \t \t \t \t \t \t \t \t \t \t \t \t\n",
            "\t\n",
            "\t\n",
            "\t\n",
            "\t\n",
            "\t\n",
            "\t\n",
            "\t\n",
            "\t\n",
            "\t\n",
            "\t\n",
            "\t\n",
            "\t\n",
            "\t\n",
            "-\n",
            "Input sentence: ['optimums', 'v', 'i', 'know', 'it', 'is', 'old']\n",
            "Decoded sentence:  \t \t \t \t \t \t \t \t \t \t \t \t \t\n",
            "\t\n",
            "\t\n",
            "\t\n",
            "\t\n",
            "\t\n",
            "\t\n",
            "\t\n",
            "\t\n",
            "\t\n",
            "\t\n",
            "\t\n",
            "\t\n",
            "\t\n",
            "-\n",
            "Input sentence: ['my', 'friend', 'told', 'me', 'to', 'kill', 'myself']\n",
            "Decoded sentence:  \t \t \t \t \t \t \t \t \t \t \t \t \t\n",
            "\t\n",
            "\t\n",
            "\t\n",
            "\t\n",
            "\t\n",
            "\t\n",
            "\t\n",
            "\t\n",
            "\t\n",
            "\t\n",
            "\t\n",
            "\t\n",
            "\t\n",
            "-\n",
            "Input sentence: ['do', 'not', 'kill', 'yourself', 'op']\n",
            "Decoded sentence:  \t \t \t \t \t \t \t \t \t \t \t \t \t\n"
          ],
          "name": "stdout"
        }
      ]
    }
  ]
}