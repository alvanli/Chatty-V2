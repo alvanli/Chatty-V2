{
 "cells": [
  {
   "cell_type": "code",
   "execution_count": 1,
   "metadata": {},
   "outputs": [],
   "source": [
    "import pandas as pd\n",
    "import csv\n",
    "import string"
   ]
  },
  {
   "cell_type": "code",
   "execution_count": 2,
   "metadata": {},
   "outputs": [],
   "source": [
    "df = pd.read_csv(\"COPY_casual_data_windows.csv\")\n",
    "# f = open(\"clean_data.csv\",\"w\", newline=\"\")"
   ]
  },
  {
   "cell_type": "code",
   "execution_count": 3,
   "metadata": {},
   "outputs": [],
   "source": [
    "#keep lowercase for now, make uppercase later\n",
    "#i think? i made everything future tense if applicable\n",
    "contractions = { \n",
    "\"aint\": \"am not\",\n",
    "\"arent\": \"are not\",\n",
    "\"cant\": \"cannot\",\n",
    "\"cantve\": \"cannot have\",\n",
    "\"cause\": \"because\",\n",
    "\"couldve\": \"could have\",\n",
    "\"couldnt\": \"could not\",\n",
    "\"couldntve\": \"could not have\",\n",
    "\"didnt\": \"did not\",\n",
    "\"doesnt\": \"does not\",\n",
    "\"dont\": \"do not\",\n",
    "\"hadnt\": \"had not\",\n",
    "\"hadntve\": \"had not have\",\n",
    "\"hasnt\": \"has not\",\n",
    "\"havent\": \"have not\",\n",
    "\"hed\": \"he had\",\n",
    "\"hedve\": \"he would have\",\n",
    "\"hell\": \"he will\",\n",
    "\"hes\": \"he is\",\n",
    "\"howd\": \"how did\",\n",
    "\"howdy\": \"how do you\",\n",
    "\"howll\": \"how will\",\n",
    "\"hows\": \"how is\",\n",
    "\"id\": \"I would\",\n",
    "\"idve\": \"I would have\",\n",
    "\"ill\": \"I will\",\n",
    "\"im\": \"I am\",\n",
    "\"ive\": \"I have\",\n",
    "\"isnt\": \"is not\",\n",
    "\"itd\": \"it would\",\n",
    "\"itll\": \"it will\",\n",
    "\"itllve\": \"it will have\",\n",
    "\"its\": \"it is\",\n",
    "\"lets\": \"let us\",\n",
    "\"maam\": \"madam\",\n",
    "\"maynt\": \"may not\",\n",
    "\"mightve\": \"might have\",\n",
    "\"mightnt\": \"might not\",\n",
    "\"mightntve\": \"might not have\",\n",
    "\"mustve\": \"must have\",\n",
    "\"mustnt\": \"must not\",\n",
    "\"mustntve\": \"must not have\",\n",
    "\"neednt\": \"need not\",\n",
    "\"needntve\": \"need not have\",\n",
    "\"oclock\": \"of the clock\",\n",
    "\"oughtnt\": \"ought not\",\n",
    "\"oughtntve\": \"ought not have\",\n",
    "\"shed\": \"she would\",\n",
    "\"shell\": \"she will\",\n",
    "\"shes\": \"she is\",\n",
    "\"shouldve\": \"should have\",\n",
    "\"shouldnt\": \"should not\",\n",
    "\"sove\": \"so have\",\n",
    "\"thatd\": \"that would\",\n",
    "\"thats\": \"that is\",\n",
    "\"thered\": \"there would\",\n",
    "\"theres\": \"there is\",\n",
    "\"theyd\": \"they would\",\n",
    "\"theyll\": \"they will\",\n",
    "\"theyre\": \"they are\",\n",
    "\"theyve\": \"they have\",\n",
    "\"wasnt\": \"was not\",\n",
    "\"wed\": \"we would\",\n",
    "\"well\": \"we will\",\n",
    "\"were\": \"we are\",\n",
    "\"weve\": \"we have\",\n",
    "\"werent\": \"were not\",\n",
    "\"whatll\": \"what will\",\n",
    "\"whatllve\": \"what will have\",\n",
    "\"whatre\": \"what are\",\n",
    "\"whats\": \"what is\",\n",
    "\"whatve\": \"what have\",\n",
    "\"whens\": \"when is\",\n",
    "\"whenve\": \"when have\",\n",
    "\"whered\": \"where did\",\n",
    "\"wheres\": \"where is\",\n",
    "\"whereve\": \"where have\",\n",
    "\"wholl\": \"who will\",\n",
    "\"whos\": \"who is\",\n",
    "\"whove\": \"who have\",\n",
    "\"whys\": \"why is\",\n",
    "\"whyve\": \"why have\",\n",
    "\"willve\": \"will have\",\n",
    "\"wont\": \"will not\",\n",
    "\"wouldve\": \"would have\",\n",
    "\"wouldnt\": \"would not\",\n",
    "\"yall\": \"you all\",\n",
    "\"youd\": \"you would\",\n",
    "\"youll\": \"you will\",\n",
    "\"youre\": \"you are\",\n",
    "\"youve\": \"you have\"\n",
    "}"
   ]
  },
  {
   "cell_type": "code",
   "execution_count": 4,
   "metadata": {},
   "outputs": [
    {
     "data": {
      "text/html": [
       "<div>\n",
       "<style scoped>\n",
       "    .dataframe tbody tr th:only-of-type {\n",
       "        vertical-align: middle;\n",
       "    }\n",
       "\n",
       "    .dataframe tbody tr th {\n",
       "        vertical-align: top;\n",
       "    }\n",
       "\n",
       "    .dataframe thead th {\n",
       "        text-align: right;\n",
       "    }\n",
       "</style>\n",
       "<table border=\"1\" class=\"dataframe\">\n",
       "  <thead>\n",
       "    <tr style=\"text-align: right;\">\n",
       "      <th></th>\n",
       "      <th>0</th>\n",
       "      <th>1</th>\n",
       "      <th>2</th>\n",
       "    </tr>\n",
       "  </thead>\n",
       "  <tbody>\n",
       "    <tr>\n",
       "      <th>0</th>\n",
       "      <td>What kind of phone(s) do you guys have?</td>\n",
       "      <td>I have a pixel. It's pretty great. Much better...</td>\n",
       "      <td>Does it really charge all the way in 15 min?</td>\n",
       "    </tr>\n",
       "    <tr>\n",
       "      <th>1</th>\n",
       "      <td>I have a pixel. It's pretty great. Much better...</td>\n",
       "      <td>Does it really charge all the way in 15 min?</td>\n",
       "      <td>Pretty fast. I've never timed it, but it's und...</td>\n",
       "    </tr>\n",
       "    <tr>\n",
       "      <th>2</th>\n",
       "      <td>Does it really charge all the way in 15 min?</td>\n",
       "      <td>Pretty fast. I've never timed it, but it's und...</td>\n",
       "      <td>cool. I've been thinking of getting one, my ph...</td>\n",
       "    </tr>\n",
       "    <tr>\n",
       "      <th>3</th>\n",
       "      <td>What kind of phone(s) do you guys have?</td>\n",
       "      <td>Samsung Galaxy J1. It's my first cell phone an...</td>\n",
       "      <td>What do you think of it? Anything you don't like?</td>\n",
       "    </tr>\n",
       "    <tr>\n",
       "      <th>4</th>\n",
       "      <td>Samsung Galaxy J1. It's my first cell phone an...</td>\n",
       "      <td>What do you think of it? Anything you don't like?</td>\n",
       "      <td>I love it. I can't think of anything I don't l...</td>\n",
       "    </tr>\n",
       "  </tbody>\n",
       "</table>\n",
       "</div>"
      ],
      "text/plain": [
       "                                                   0  \\\n",
       "0            What kind of phone(s) do you guys have?   \n",
       "1  I have a pixel. It's pretty great. Much better...   \n",
       "2       Does it really charge all the way in 15 min?   \n",
       "3            What kind of phone(s) do you guys have?   \n",
       "4  Samsung Galaxy J1. It's my first cell phone an...   \n",
       "\n",
       "                                                   1  \\\n",
       "0  I have a pixel. It's pretty great. Much better...   \n",
       "1       Does it really charge all the way in 15 min?   \n",
       "2  Pretty fast. I've never timed it, but it's und...   \n",
       "3  Samsung Galaxy J1. It's my first cell phone an...   \n",
       "4  What do you think of it? Anything you don't like?   \n",
       "\n",
       "                                                   2  \n",
       "0       Does it really charge all the way in 15 min?  \n",
       "1  Pretty fast. I've never timed it, but it's und...  \n",
       "2  cool. I've been thinking of getting one, my ph...  \n",
       "3  What do you think of it? Anything you don't like?  \n",
       "4  I love it. I can't think of anything I don't l...  "
      ]
     },
     "execution_count": 4,
     "metadata": {},
     "output_type": "execute_result"
    }
   ],
   "source": [
    "df.head()"
   ]
  },
  {
   "cell_type": "code",
   "execution_count": 5,
   "metadata": {},
   "outputs": [
    {
     "data": {
      "text/plain": [
       "'!\"#$%&\\'()*+,-./:;<=>?@[\\\\]^_`{|}~'"
      ]
     },
     "execution_count": 5,
     "metadata": {},
     "output_type": "execute_result"
    }
   ],
   "source": [
    "string.punctuation"
   ]
  },
  {
   "cell_type": "code",
   "execution_count": 14,
   "metadata": {},
   "outputs": [],
   "source": [
    "def string_clean_up(s):\n",
    "    characters=\"abcdefghijklmnopqrstuvwxyz\"\n",
    "    sentence = \"\"\n",
    "    words = s.split()\n",
    "    for word in words:\n",
    "        newWord = word\n",
    "#         index = []\n",
    "\n",
    "        for punc in string.punctuation:\n",
    "            newWord = newWord.replace(punc, '')\n",
    "                \n",
    "#             #keep track of the upper case letters\n",
    "#             if word[i].isupper():\n",
    "#                 index.append(i)\n",
    "                \n",
    "        #if a contraction, replace with the non contraction \n",
    "        if newWord.lower() in contractions:\n",
    "            newWord = contractions[newWord.lower()]\n",
    "                \n",
    "        for letter in word:\n",
    "            if letter.lower() not in characters:\n",
    "                newWord = newWord.replace(letter, '')\n",
    "                \n",
    "        if newWord== \"\":\n",
    "            newWord = \" \"\n",
    "                \n",
    "        sentence += \" \" + newWord.lower()\n",
    "        \n",
    "    return sentence[1:]"
   ]
  },
  {
   "cell_type": "code",
   "execution_count": 15,
   "metadata": {},
   "outputs": [
    {
     "name": "stdout",
     "output_type": "stream",
     "text": [
      "testing this string  \n"
     ]
    }
   ],
   "source": [
    "x = \"Testing this string: ðŸ˜Š\"\n",
    "\n",
    "# # print (x)\n",
    "\n",
    "y = string_clean_up(x)\n",
    "print(y)"
   ]
  },
  {
   "cell_type": "code",
   "execution_count": null,
   "metadata": {},
   "outputs": [],
   "source": [
    "# writer = csv.writer(f)"
   ]
  },
  {
   "cell_type": "code",
   "execution_count": 16,
   "metadata": {},
   "outputs": [],
   "source": [
    "df = df.applymap(lambda x: string_clean_up(x))"
   ]
  },
  {
   "cell_type": "code",
   "execution_count": 17,
   "metadata": {},
   "outputs": [],
   "source": [
    "df.fillna('', inplace=True)"
   ]
  },
  {
   "cell_type": "code",
   "execution_count": 18,
   "metadata": {},
   "outputs": [],
   "source": [
    "df.to_csv(\"cleaned_data.csv\", index=False)"
   ]
  }
 ],
 "metadata": {
  "kernelspec": {
   "display_name": "Python 3",
   "language": "python",
   "name": "python3"
  },
  "language_info": {
   "codemirror_mode": {
    "name": "ipython",
    "version": 3
   },
   "file_extension": ".py",
   "mimetype": "text/x-python",
   "name": "python",
   "nbconvert_exporter": "python",
   "pygments_lexer": "ipython3",
   "version": "3.8.1"
  }
 },
 "nbformat": 4,
 "nbformat_minor": 4
}
