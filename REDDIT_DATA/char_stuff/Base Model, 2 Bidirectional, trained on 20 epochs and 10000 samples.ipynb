{
  "nbformat": 4,
  "nbformat_minor": 0,
  "metadata": {
    "colab": {
      "name": "New2_NewModel.ipynb",
      "provenance": [],
      "collapsed_sections": [],
      "machine_shape": "hm"
    },
    "kernelspec": {
      "display_name": "Python 3",
      "language": "python",
      "name": "python3"
    },
    "language_info": {
      "codemirror_mode": {
        "name": "ipython",
        "version": 3
      },
      "file_extension": ".py",
      "mimetype": "text/x-python",
      "name": "python",
      "nbconvert_exporter": "python",
      "pygments_lexer": "ipython3",
      "version": "3.8.1"
    }
  },
  "cells": [
    {
      "cell_type": "code",
      "metadata": {
        "colab_type": "code",
        "id": "dhyArRYMDyF7",
        "colab": {
          "base_uri": "https://localhost:8080/",
          "height": 34
        },
        "outputId": "e4ef5828-9d3f-4556-a04e-132ab62c2944"
      },
      "source": [
        "import numpy as np\n",
        "import pandas as pd\n",
        "import matplotlib.pyplot as plt\n",
        "import tensorflow as tf\n",
        "\n",
        "from keras.models import Model\n",
        "from keras.layers import Input, LSTM, Dense, Embedding, TimeDistributed, Dropout, Flatten, Bidirectional, Concatenate, Reshape, Average, Add"
      ],
      "execution_count": 1,
      "outputs": [
        {
          "output_type": "stream",
          "text": [
            "Using TensorFlow backend.\n"
          ],
          "name": "stderr"
        }
      ]
    },
    {
      "cell_type": "code",
      "metadata": {
        "colab_type": "code",
        "id": "nKB0D8dnDyGI",
        "colab": {}
      },
      "source": [
        "batch_size = 64  # Batch size for training.\n",
        "epochs = 20  # Number of epochs to train for.\n",
        "latent_dim = 256  # Latent dimensionality of the encoding space.\n",
        "num_samples = 10000 # Number of samples to train on."
      ],
      "execution_count": 0,
      "outputs": []
    },
    {
      "cell_type": "code",
      "metadata": {
        "colab_type": "code",
        "id": "1bWU5i0qDyGS",
        "outputId": "c5401f7f-dfdb-4263-df8d-cb11a049f897",
        "colab": {
          "base_uri": "https://localhost:8080/",
          "height": 204
        }
      },
      "source": [
        "#read from dataset and split into input and targets\n",
        "df = pd.read_csv(\"AL_clean_2.csv\")\n",
        "df.head()"
      ],
      "execution_count": 4,
      "outputs": [
        {
          "output_type": "execute_result",
          "data": {
            "text/html": [
              "<div>\n",
              "<style scoped>\n",
              "    .dataframe tbody tr th:only-of-type {\n",
              "        vertical-align: middle;\n",
              "    }\n",
              "\n",
              "    .dataframe tbody tr th {\n",
              "        vertical-align: top;\n",
              "    }\n",
              "\n",
              "    .dataframe thead th {\n",
              "        text-align: right;\n",
              "    }\n",
              "</style>\n",
              "<table border=\"1\" class=\"dataframe\">\n",
              "  <thead>\n",
              "    <tr style=\"text-align: right;\">\n",
              "      <th></th>\n",
              "      <th>Unnamed: 0</th>\n",
              "      <th>x1</th>\n",
              "      <th>y1</th>\n",
              "      <th>x_count</th>\n",
              "      <th>y_count</th>\n",
              "    </tr>\n",
              "  </thead>\n",
              "  <tbody>\n",
              "    <tr>\n",
              "      <th>0</th>\n",
              "      <td>0</td>\n",
              "      <td>what kind of phones do you guys have</td>\n",
              "      <td>i have a it is pretty great much better than w...</td>\n",
              "      <td>8</td>\n",
              "      <td>8</td>\n",
              "    </tr>\n",
              "    <tr>\n",
              "      <th>1</th>\n",
              "      <td>1</td>\n",
              "      <td>i have a it is pretty great much better than w...</td>\n",
              "      <td>does it really charge all the way in min</td>\n",
              "      <td>14</td>\n",
              "      <td>14</td>\n",
              "    </tr>\n",
              "    <tr>\n",
              "      <th>2</th>\n",
              "      <td>2</td>\n",
              "      <td>does it really charge all the way in min</td>\n",
              "      <td>pretty fast i have never it but it is under ha...</td>\n",
              "      <td>9</td>\n",
              "      <td>9</td>\n",
              "    </tr>\n",
              "    <tr>\n",
              "      <th>3</th>\n",
              "      <td>3</td>\n",
              "      <td>what kind of phones do you guys have</td>\n",
              "      <td>samsung galaxy j it is my first cell phone and...</td>\n",
              "      <td>8</td>\n",
              "      <td>8</td>\n",
              "    </tr>\n",
              "    <tr>\n",
              "      <th>4</th>\n",
              "      <td>4</td>\n",
              "      <td>samsung galaxy j it is my first cell phone and...</td>\n",
              "      <td>what do you think of it anything you do not like</td>\n",
              "      <td>16</td>\n",
              "      <td>16</td>\n",
              "    </tr>\n",
              "  </tbody>\n",
              "</table>\n",
              "</div>"
            ],
            "text/plain": [
              "   Unnamed: 0  ... y_count\n",
              "0           0  ...       8\n",
              "1           1  ...      14\n",
              "2           2  ...       9\n",
              "3           3  ...       8\n",
              "4           4  ...      16\n",
              "\n",
              "[5 rows x 5 columns]"
            ]
          },
          "metadata": {
            "tags": []
          },
          "execution_count": 4
        }
      ]
    },
    {
      "cell_type": "code",
      "metadata": {
        "colab_type": "code",
        "id": "E8s2Vd3mSGQT",
        "outputId": "3b60f3ba-acc1-4bcd-b02c-e50e5869b22b",
        "colab": {
          "base_uri": "https://localhost:8080/",
          "height": 68
        }
      },
      "source": [
        "print(len(df))\n",
        "list0 = df[\"x1\"].tolist()[:num_samples]\n",
        "list1 = df[\"y1\"].tolist()[:num_samples]\n",
        "\n",
        "print(len(list0))\n",
        "print(len(list1))\n"
      ],
      "execution_count": 5,
      "outputs": [
        {
          "output_type": "stream",
          "text": [
            "56297\n",
            "10000\n",
            "10000\n"
          ],
          "name": "stdout"
        }
      ]
    },
    {
      "cell_type": "code",
      "metadata": {
        "colab_type": "code",
        "id": "4JUwdNKQLZrw",
        "colab": {}
      },
      "source": [
        "input_texts=[]\n",
        "target_texts=[]\n",
        "for i in range(0,num_samples):\n",
        "    input_texts.append(str(list0[i]).split())\n",
        "    target_texts.append(['\\t'] + str(list1[i]).split() + ['\\n'])\n",
        "    "
      ],
      "execution_count": 0,
      "outputs": []
    },
    {
      "cell_type": "code",
      "metadata": {
        "colab_type": "code",
        "id": "GJsnuGGRZSyy",
        "colab": {}
      },
      "source": [
        "#words in input\n",
        "input_words = set()\n",
        "for sentence in (input_texts):\n",
        "    for word in sentence:\n",
        "        if word not in input_words:\n",
        "            input_words.add(word)\n",
        "            \n",
        "#words in target           \n",
        "target_words= set()\n",
        "for sentence in (target_texts):\n",
        "    for word in sentence:\n",
        "        if word not in target_words:\n",
        "            target_words.add(word)\n",
        "\n",
        "target_words.add(\"\\t\")\n",
        "target_words.add(\"\\n\")"
      ],
      "execution_count": 0,
      "outputs": []
    },
    {
      "cell_type": "code",
      "metadata": {
        "colab_type": "code",
        "id": "BdJNCnlhDyHT",
        "outputId": "38ec6c3b-6032-41fa-fe20-6c3296747f75",
        "colab": {
          "base_uri": "https://localhost:8080/",
          "height": 102
        }
      },
      "source": [
        "input_words = sorted(list(input_words))\n",
        "target_words = sorted(list(target_words))\n",
        "\n",
        "num_encoder_tokens = len(input_words)\n",
        "num_decoder_tokens=len(target_words)\n",
        "max_encoder_seq_length = max([len(txt) for txt in input_texts])\n",
        "max_decoder_seq_length = max([len(txt) for txt in target_texts])\n",
        "\n",
        "print('Number of samples:', len(input_texts))\n",
        "print('Number of unique input tokens:', num_encoder_tokens)\n",
        "print('Number of unique output tokens:', num_decoder_tokens)\n",
        "print('Max sequence length for inputs:', max_encoder_seq_length)\n",
        "print('Max sequence length for outputs:', max_decoder_seq_length)"
      ],
      "execution_count": 8,
      "outputs": [
        {
          "output_type": "stream",
          "text": [
            "Number of samples: 10000\n",
            "Number of unique input tokens: 4526\n",
            "Number of unique output tokens: 4730\n",
            "Max sequence length for inputs: 25\n",
            "Max sequence length for outputs: 25\n"
          ],
          "name": "stdout"
        }
      ]
    },
    {
      "cell_type": "code",
      "metadata": {
        "id": "sKGxBbfkgnJA",
        "colab_type": "code",
        "colab": {}
      },
      "source": [
        "input_token_index = dict(\n",
        "    [(word, i) for i, word in enumerate(input_words)])\n",
        "target_token_index = dict(\n",
        "    [(word, i) for i, word in enumerate(target_words)])"
      ],
      "execution_count": 0,
      "outputs": []
    },
    {
      "cell_type": "code",
      "metadata": {
        "colab_type": "code",
        "id": "E_QdEmRCpwB7",
        "colab": {}
      },
      "source": [
        "#one hot vectorization of input and target sentences - 3D array\n",
        "encoder_input_data = np.zeros(\n",
        "    (len(input_texts), max_encoder_seq_length), #number of input-ouput pairs, longest input\n",
        "    dtype='float32')\n",
        "decoder_input_data = np.zeros(\n",
        "    (len(input_texts), max_decoder_seq_length), #number of input-output pairs, longest output\n",
        "    dtype='float32')\n",
        "decoder_target_data = np.zeros( #ahead by one time step i.e decorder_target_data @t = decoder_input_data @ t+1. #we want to predict this \n",
        "    (len(input_texts), max_decoder_seq_length, num_decoder_tokens), \n",
        "    dtype='float32')"
      ],
      "execution_count": 0,
      "outputs": []
    },
    {
      "cell_type": "code",
      "metadata": {
        "colab_type": "code",
        "id": "Bo95BBMvDyIJ",
        "colab": {}
      },
      "source": [
        "for i, (input_text, target_text) in enumerate(zip(input_texts, target_texts)): #assign each input/output pair a number \n",
        "    for t, word in enumerate(input_text):  #assign each input sentence to a number \n",
        "        encoder_input_data[i, t] = input_token_index[word] #@pair i, word t, and where the word is located in the input_token_index\n",
        "    for t, word in enumerate(target_text): #assign each output sentence to a number \n",
        "        decoder_input_data[i, t] = target_token_index[word] #@ pair i, word t, and where the word is located in target_token_index\n",
        "        if t > 0:  #subtract one time step from input data to get target data \n",
        "            decoder_target_data[i, t - 1, target_token_index[word]] = 1."
      ],
      "execution_count": 0,
      "outputs": []
    },
    {
      "cell_type": "code",
      "metadata": {
        "colab_type": "code",
        "id": "EKZKaaTpDyIR",
        "colab": {}
      },
      "source": [
        "# Define an input sequence and process it.\n",
        "dropout_rate  = 0.2\n",
        "\n",
        "#input \n",
        "encoder_inputs = Input(shape=(None, ))\n",
        "\n",
        "#hidden layers\n",
        "encoder_embedding = Embedding(num_encoder_tokens, latent_dim, mask_zero=True)(encoder_inputs)\n",
        "encoder_dropout   = (TimeDistributed(Dropout(rate = dropout_rate)))(encoder_embedding)\n",
        "\n",
        "#output layers\n",
        "encoder_LSTM = Bidirectional(LSTM(latent_dim, return_state=True, dropout=dropout_rate), merge_mode='concat')\n",
        "encoder_outputs, forward_h, forward_c, backward_h, backward_c = encoder_LSTM(encoder_dropout)\n",
        "\n",
        "state_h = Add()([forward_h, backward_h])\n",
        "state_c = Add()([forward_c, backward_c])\n",
        "\n",
        "# We discard `encoder_outputs` and only keep the states. \n",
        "# encoder_states = [forward_h, forward_c, backward_h, backward_c ]\n",
        "encoder_states = [state_h, state_c]"
      ],
      "execution_count": 0,
      "outputs": []
    },
    {
      "cell_type": "code",
      "metadata": {
        "colab_type": "code",
        "id": "TFXkK8ttDyIZ",
        "colab": {}
      },
      "source": [
        "# Set up the decoder, using `encoder_states` as initial state.\n",
        "decoder_inputs = Input(shape=(None,  ))\n",
        "\n",
        "#hidden layers\n",
        "decoder_embedding = Embedding(num_decoder_tokens, latent_dim, mask_zero = True)(decoder_inputs)\n",
        "decoder_dropout = (TimeDistributed(Dropout(rate = dropout_rate)))(decoder_embedding)\n",
        "\n",
        "# We set up our decoder to return full output sequences,\n",
        "# and to return internal states as well. We don't use the\n",
        "# return states in the training model, but we will use them in inference.\n",
        "decoder_LSTM_layer0 = Bidirectional(LSTM(latent_dim, return_sequences=True , dropout = dropout_rate))\n",
        "decoder_LSTM0 = decoder_LSTM_layer0(decoder_dropout,)\n",
        "\n",
        "decoder_LSTM_layer = LSTM(latent_dim, return_sequences=True, return_state=True, dropout = dropout_rate)\n",
        "decoder_LSTM,_ , _ = decoder_LSTM_layer(decoder_LSTM0, initial_state=encoder_states)\n",
        "\n",
        "#output\n",
        "decoder_dense = Dense(num_decoder_tokens, activation='softmax')\n",
        "decoder_outputs = decoder_dense(decoder_LSTM)"
      ],
      "execution_count": 0,
      "outputs": []
    },
    {
      "cell_type": "code",
      "metadata": {
        "colab_type": "code",
        "id": "UQuFyR48DyIi",
        "outputId": "8d1a3f4e-8cce-4685-9f46-0031f7b3010b",
        "colab": {
          "base_uri": "https://localhost:8080/",
          "height": 629
        }
      },
      "source": [
        "# Define the model that will turn\n",
        "# `encoder_input_data` & `decoder_input_data` into `decoder_target_data`\n",
        "model = Model([encoder_inputs, decoder_inputs], decoder_outputs)\n",
        "\n",
        "# Run training\n",
        "model.compile(optimizer='rmsprop', loss='categorical_crossentropy',\n",
        "              metrics=['accuracy'])\n",
        "\n",
        "model.summary()"
      ],
      "execution_count": 15,
      "outputs": [
        {
          "output_type": "stream",
          "text": [
            "Model: \"model_1\"\n",
            "__________________________________________________________________________________________________\n",
            "Layer (type)                    Output Shape         Param #     Connected to                     \n",
            "==================================================================================================\n",
            "input_1 (InputLayer)            (None, None)         0                                            \n",
            "__________________________________________________________________________________________________\n",
            "input_2 (InputLayer)            (None, None)         0                                            \n",
            "__________________________________________________________________________________________________\n",
            "embedding_1 (Embedding)         (None, None, 256)    1158656     input_1[0][0]                    \n",
            "__________________________________________________________________________________________________\n",
            "embedding_2 (Embedding)         (None, None, 256)    1210880     input_2[0][0]                    \n",
            "__________________________________________________________________________________________________\n",
            "time_distributed_1 (TimeDistrib (None, None, 256)    0           embedding_1[0][0]                \n",
            "__________________________________________________________________________________________________\n",
            "time_distributed_2 (TimeDistrib (None, None, 256)    0           embedding_2[0][0]                \n",
            "__________________________________________________________________________________________________\n",
            "bidirectional_1 (Bidirectional) [(None, 512), (None, 1050624     time_distributed_1[0][0]         \n",
            "__________________________________________________________________________________________________\n",
            "bidirectional_2 (Bidirectional) (None, None, 512)    1050624     time_distributed_2[0][0]         \n",
            "__________________________________________________________________________________________________\n",
            "add_1 (Add)                     (None, 256)          0           bidirectional_1[0][1]            \n",
            "                                                                 bidirectional_1[0][3]            \n",
            "__________________________________________________________________________________________________\n",
            "add_2 (Add)                     (None, 256)          0           bidirectional_1[0][2]            \n",
            "                                                                 bidirectional_1[0][4]            \n",
            "__________________________________________________________________________________________________\n",
            "lstm_3 (LSTM)                   [(None, None, 256),  787456      bidirectional_2[0][0]            \n",
            "                                                                 add_1[0][0]                      \n",
            "                                                                 add_2[0][0]                      \n",
            "__________________________________________________________________________________________________\n",
            "dense_1 (Dense)                 (None, None, 4730)   1215610     lstm_3[0][0]                     \n",
            "==================================================================================================\n",
            "Total params: 6,473,850\n",
            "Trainable params: 6,473,850\n",
            "Non-trainable params: 0\n",
            "__________________________________________________________________________________________________\n"
          ],
          "name": "stdout"
        }
      ]
    },
    {
      "cell_type": "code",
      "metadata": {
        "colab_type": "code",
        "id": "P7-9bSciDyIq",
        "outputId": "6083dc06-d6e9-4fca-d88d-3eeddb96f90a",
        "colab": {
          "base_uri": "https://localhost:8080/",
          "height": 714
        }
      },
      "source": [
        "history=model.fit(\n",
        "        [encoder_input_data, decoder_input_data], \n",
        "        decoder_target_data,\n",
        "        batch_size=batch_size,\n",
        "        epochs=epochs,\n",
        "        # verbose=0,\n",
        "        validation_split=0.2)"
      ],
      "execution_count": 18,
      "outputs": [
        {
          "output_type": "stream",
          "text": [
            "Train on 8000 samples, validate on 2000 samples\n",
            "Epoch 1/20\n",
            "8000/8000 [==============================] - 104s 13ms/step - loss: 0.5495 - accuracy: 0.5797 - val_loss: 0.7596 - val_accuracy: 0.5637\n",
            "Epoch 2/20\n",
            "8000/8000 [==============================] - 104s 13ms/step - loss: 0.4991 - accuracy: 0.6096 - val_loss: 0.7238 - val_accuracy: 0.5830\n",
            "Epoch 3/20\n",
            "8000/8000 [==============================] - 104s 13ms/step - loss: 0.4516 - accuracy: 0.6358 - val_loss: 0.6892 - val_accuracy: 0.6000\n",
            "Epoch 4/20\n",
            "8000/8000 [==============================] - 104s 13ms/step - loss: 0.4116 - accuracy: 0.6564 - val_loss: 0.6817 - val_accuracy: 0.6069\n",
            "Epoch 5/20\n",
            "8000/8000 [==============================] - 104s 13ms/step - loss: 0.3814 - accuracy: 0.6730 - val_loss: 0.6615 - val_accuracy: 0.6183\n",
            "Epoch 6/20\n",
            "8000/8000 [==============================] - 104s 13ms/step - loss: 0.3542 - accuracy: 0.6888 - val_loss: 0.6760 - val_accuracy: 0.6127\n",
            "Epoch 7/20\n",
            "8000/8000 [==============================] - 104s 13ms/step - loss: 0.3265 - accuracy: 0.7027 - val_loss: 0.6414 - val_accuracy: 0.6331\n",
            "Epoch 8/20\n",
            "8000/8000 [==============================] - 104s 13ms/step - loss: 0.3012 - accuracy: 0.7170 - val_loss: 0.6410 - val_accuracy: 0.6338\n",
            "Epoch 9/20\n",
            "8000/8000 [==============================] - 104s 13ms/step - loss: 0.2804 - accuracy: 0.7299 - val_loss: 0.6352 - val_accuracy: 0.6385\n",
            "Epoch 10/20\n",
            "8000/8000 [==============================] - 104s 13ms/step - loss: 0.2595 - accuracy: 0.7407 - val_loss: 0.6263 - val_accuracy: 0.6425\n",
            "Epoch 11/20\n",
            "8000/8000 [==============================] - 104s 13ms/step - loss: 0.2394 - accuracy: 0.7518 - val_loss: 0.6243 - val_accuracy: 0.6457\n",
            "Epoch 12/20\n",
            "8000/8000 [==============================] - 104s 13ms/step - loss: 0.2211 - accuracy: 0.7613 - val_loss: 0.6242 - val_accuracy: 0.6472\n",
            "Epoch 13/20\n",
            "8000/8000 [==============================] - 104s 13ms/step - loss: 0.2032 - accuracy: 0.7711 - val_loss: 0.6187 - val_accuracy: 0.6508\n",
            "Epoch 14/20\n",
            "8000/8000 [==============================] - 104s 13ms/step - loss: 0.1860 - accuracy: 0.7819 - val_loss: 0.6200 - val_accuracy: 0.6516\n",
            "Epoch 15/20\n",
            "8000/8000 [==============================] - 104s 13ms/step - loss: 0.1705 - accuracy: 0.7910 - val_loss: 0.6179 - val_accuracy: 0.6554\n",
            "Epoch 16/20\n",
            "8000/8000 [==============================] - 104s 13ms/step - loss: 0.1553 - accuracy: 0.8004 - val_loss: 0.6148 - val_accuracy: 0.6556\n",
            "Epoch 17/20\n",
            "8000/8000 [==============================] - 104s 13ms/step - loss: 0.1404 - accuracy: 0.8097 - val_loss: 0.6102 - val_accuracy: 0.6610\n",
            "Epoch 18/20\n",
            "8000/8000 [==============================] - 105s 13ms/step - loss: 0.1268 - accuracy: 0.8186 - val_loss: 0.6083 - val_accuracy: 0.6659\n",
            "Epoch 19/20\n",
            "8000/8000 [==============================] - 104s 13ms/step - loss: 0.1134 - accuracy: 0.8270 - val_loss: 0.6041 - val_accuracy: 0.6669\n",
            "Epoch 20/20\n",
            "8000/8000 [==============================] - 104s 13ms/step - loss: 0.0990 - accuracy: 0.8373 - val_loss: 0.6033 - val_accuracy: 0.6683\n"
          ],
          "name": "stdout"
        }
      ]
    },
    {
      "cell_type": "code",
      "metadata": {
        "colab_type": "code",
        "id": "LFfFBeiEOuRR",
        "outputId": "27a22fac-f1c4-410c-f302-9fe73b016f9d",
        "colab": {
          "base_uri": "https://localhost:8080/",
          "height": 499
        }
      },
      "source": [
        "acc = history.history['accuracy']\n",
        "val_acc = history.history['val_accuracy']\n",
        "\n",
        "loss=history.history['loss']\n",
        "val_loss=history.history['val_loss']\n",
        "\n",
        "epochs_range = range(epochs)\n",
        "\n",
        "plt.figure(figsize=(8, 8))\n",
        "plt.subplot(1, 2, 1)\n",
        "plt.plot(epochs_range, acc, label='Training Accuracy')\n",
        "plt.plot(epochs_range, val_acc, label='Validation Accuracy')\n",
        "plt.legend(loc='lower right')\n",
        "plt.title('Training and Validation Accuracy')\n",
        "\n",
        "plt.subplot(1, 2, 2)\n",
        "plt.plot(epochs_range, loss, label='Training Loss')\n",
        "plt.plot(epochs_range, val_loss, label='Validation Loss')\n",
        "plt.legend(loc='upper right')\n",
        "plt.title('Training and Validation Loss')\n",
        "plt.show()"
      ],
      "execution_count": 0,
      "outputs": [
        {
          "output_type": "display_data",
          "data": {
            "image/png": "[encoded data removed]",
            "text/plain": [
              "<Figure size 576x576 with 2 Axes>"
            ]
          },
          "metadata": {
            "tags": [],
            "needs_background": "light"
          }
        }
      ]
    },
    {
      "cell_type": "code",
      "metadata": {
        "colab_type": "code",
        "id": "HqLNXzMVDyIx",
        "colab": {}
      },
      "source": [
        "# Save model\n",
        "model.save('20epochs.h5')"
      ],
      "execution_count": 0,
      "outputs": []
    },
    {
      "cell_type": "code",
      "metadata": {
        "id": "fnBbg9BrlHh7",
        "colab_type": "code",
        "colab": {}
      },
      "source": [
        "# Next: inference mode (sampling).\n",
        "# Here's the drill:\n",
        "# 1) encode input and retrieve initial decoder state\n",
        "# 2) run one step of decoder with this initial state\n",
        "# and a \"start of sequence\" token as target.\n",
        "# Output will be the next target token\n",
        "# 3) Repeat with the current target token and current states\n",
        "\n",
        "# Define sampling models\n",
        "encoder_model = Model(encoder_inputs, encoder_states)\n",
        "\n",
        "decoder_state_input_h = Input(shape=(latent_dim,))\n",
        "decoder_state_input_c = Input(shape=(latent_dim,))\n",
        "decoder_states_inputs = [decoder_state_input_h, decoder_state_input_c]\n",
        "\n",
        "decoder_outputs, state_h, state_c= decoder_LSTM_layer(decoder_LSTM0, initial_state=decoder_states_inputs)\n",
        "\n",
        "decoder_states = [state_h, state_c]\n",
        "decoder_outputs = decoder_dense(decoder_outputs)\n",
        "decoder_model = Model(\n",
        "    [decoder_inputs] + decoder_states_inputs,\n",
        "    [decoder_outputs] + decoder_states)"
      ],
      "execution_count": 0,
      "outputs": []
    },
    {
      "cell_type": "code",
      "metadata": {
        "colab_type": "code",
        "id": "FR2Ti22KHYcE",
        "colab": {}
      },
      "source": [
        "# Reverse-lookup token index to decode sequences back to something readable.\n",
        "reverse_input_char_index = dict(\n",
        "    (i, char) for char, i in input_token_index.items())\n",
        "reverse_target_char_index = dict(\n",
        "    (i, char) for char, i in target_token_index.items())"
      ],
      "execution_count": 0,
      "outputs": []
    },
    {
      "cell_type": "code",
      "metadata": {
        "colab_type": "code",
        "id": "HMYQuOM1H4mX",
        "colab": {}
      },
      "source": [
        "def decode_sequence(input_seq):\n",
        "    states_value = encoder_model.predict(input_seq)\n",
        "\n",
        "    target_seq = np.zeros((1, 1))\n",
        "    target_seq[0, 0] =  target_token_index['\\t']\n",
        "\n",
        "    # Sampling loop for a batch of sequences\n",
        "    # (to simplify, here we assume a batch of size 1).\n",
        "    stop_condition = False\n",
        "    decoded_sentence = ''\n",
        "    while not stop_condition:\n",
        "        # print (decoded_sentence)\n",
        "        output_tokens, h, c= decoder_model.predict(\n",
        "            [target_seq] + states_value)\n",
        "\n",
        "        # Sample a token\n",
        "        sampled_token_index = np.argmax(output_tokens[0, -1, :])\n",
        "        sampled_char = reverse_target_char_index[sampled_token_index]\n",
        "        decoded_sentence += ' ' + sampled_char\n",
        "\n",
        "        # Exit condition: either hit max length\n",
        "        # or find stop character.\n",
        "        if (sampled_char == '\\n' or\n",
        "           len(decoded_sentence) > max_decoder_seq_length):\n",
        "            stop_condition = True\n",
        "\n",
        "        # Update the target sequence (of length 1).\n",
        "        target_seq = np.zeros((1, 1))\n",
        "        target_seq[0, 0] = sampled_token_index\n",
        "\n",
        "        # Update states\n",
        "        states_value = [h, c]\n",
        "\n",
        "    return decoded_sentence\n"
      ],
      "execution_count": 0,
      "outputs": []
    },
    {
      "cell_type": "code",
      "metadata": {
        "colab_type": "code",
        "id": "Wx8_IAdYH5xE",
        "outputId": "e24339d3-d37c-4fab-b96f-14765a885c97",
        "colab": {
          "base_uri": "https://localhost:8080/",
          "height": 527
        }
      },
      "source": [
        "for seq_index in range(10,20):\n",
        "    # Take one sequence (part of the training set)\n",
        "    # for trying out decoding.\n",
        "    input_seq = encoder_input_data[seq_index: seq_index + 1]\n",
        "    decoded_sentence = decode_sequence(input_seq)\n",
        "    print('-')\n",
        "    print('Input sentence:', input_texts[seq_index])\n",
        "    print('Decoded sentence:', decoded_sentence)"
      ],
      "execution_count": 25,
      "outputs": [
        {
          "output_type": "stream",
          "text": [
            "-\n",
            "Input sentence: ['my', 'friend', 'told', 'me', 'to', 'kill', 'myself']\n",
            "Decoded sentence:  at least d too too too too\n",
            "-\n",
            "Input sentence: ['fuck', 'those', 'losers', 'i', 'will', 'we', 'will', 'be', 'your', 'friend']\n",
            "Decoded sentence:  at least d now dare today\n",
            "-\n",
            "Input sentence: ['i', 'just', 'won', 'a', 'state', 'for', 'debate']\n",
            "Decoded sentence:  at least d too too too too\n",
            "-\n",
            "Input sentence: ['no', 'you', 'did', 'not']\n",
            "Decoded sentence:  at least dare now dare today\n",
            "-\n",
            "Input sentence: ['huh']\n",
            "Decoded sentence:  at least d today today today\n",
            "-\n",
            "Input sentence: ['no', 'you', 'did', 'not']\n",
            "Decoded sentence:  at least dare now dare today\n",
            "-\n",
            "Input sentence: ['so', 'i', 'got', 'a', 'girlfriend', 'the', 'other', 'day']\n",
            "Decoded sentence:  at least d too too too too\n",
            "-\n",
            "Input sentence: ['congrats', 'hope', 'you', 'are', 'as', 'happy', 'as', 'you', 'could', 'possibly', 'be']\n",
            "Decoded sentence:  at least d too too too too\n",
            "-\n",
            "Input sentence: ['so', 'i', 'got', 'a', 'girlfriend', 'the', 'other', 'day']\n",
            "Decoded sentence:  at least d too too too too\n",
            "-\n",
            "Input sentence: ['that', 'is', 'so', 'lovely', 'basically', 'my', 'goals']\n",
            "Decoded sentence:  at least d too too too too\n"
          ],
          "name": "stdout"
        }
      ]
    },
    {
      "cell_type": "code",
      "metadata": {
        "id": "GNJYyZSOwS23",
        "colab_type": "code",
        "colab": {}
      },
      "source": [
        "text=[]\n",
        "with open('testing.csv', mode='r') as f: \n",
        "  for line in f:\n",
        "    text.append(line)\n",
        "\n",
        "test_texts = []\n",
        "for line in text:\n",
        "  test_texts.append(line.split())\n",
        "\n",
        "test_words = set()\n",
        "for line in test_texts:\n",
        "  for word in line:\n",
        "    test_words.add(word)\n",
        "\n",
        "test_words = sorted(list(test_words))\n",
        "\n",
        "test_token_index = dict(\n",
        "    [(word, i) for i, word in enumerate(test_words)])"
      ],
      "execution_count": 0,
      "outputs": []
    },
    {
      "cell_type": "code",
      "metadata": {
        "id": "J42OsHeewKim",
        "colab_type": "code",
        "colab": {}
      },
      "source": [
        "test_data = np.zeros(\n",
        "    (len(input_texts),   (max(len(line) for line in test_texts))), #number of input-ouput pairs, longest input\n",
        "    dtype='float32')\n",
        "\n",
        "# for i, (test_text, target_text) in enumerate(zip(input_texts, target_texts)): #assign each input/output pair a number \n",
        "#     for t, word in enumerate(input_text):  #assign each input sentence to a number \n",
        "#         encoder_input_data[i, t] = input_token_index[word] #@pair i, word t, and where the word is located in the input_token_index\n",
        "#     for t, word in enumerate(target_text): #assign each output sentence to a number \n",
        "#         decoder_input_data[i, t] = target_token_index[word] #@ pair i, word t, and where the word is located in target_token_index\n",
        "#         if t > 0:  #subtract one time step from input data to get target data \n",
        "#             decoder_target_data[i, t - 1, target_token_index[word]] = 1."
      ],
      "execution_count": 0,
      "outputs": []
    }
  ]
}