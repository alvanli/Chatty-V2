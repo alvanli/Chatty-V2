{
  "nbformat": 4,
  "nbformat_minor": 0,
  "metadata": {
    "colab": {
      "name": "NewModel.ipynb",
      "provenance": [],
      "collapsed_sections": [],
      "toc_visible": true,
      "machine_shape": "hm"
    },
    "kernelspec": {
      "display_name": "Python 3",
      "language": "python",
      "name": "python3"
    },
    "language_info": {
      "codemirror_mode": {
        "name": "ipython",
        "version": 3
      },
      "file_extension": ".py",
      "mimetype": "text/x-python",
      "name": "python",
      "nbconvert_exporter": "python",
      "pygments_lexer": "ipython3",
      "version": "3.8.1"
    }
  },
  "cells": [
    {
      "cell_type": "code",
      "metadata": {
        "colab_type": "code",
        "id": "dhyArRYMDyF7",
        "outputId": "7d87afa2-ff95-407a-a91e-c50a66d32ff4",
        "colab": {
          "base_uri": "https://localhost:8080/",
          "height": 34
        }
      },
      "source": [
        "import numpy as np\n",
        "import pandas as pd\n",
        "import matplotlib.pyplot as plt\n",
        "\n",
        "from keras.models import Model\n",
        "from keras.layers import Input, LSTM, Dense, Embedding, TimeDistributed, Dropout, Flatten"
      ],
      "execution_count": 1,
      "outputs": [
        {
          "output_type": "stream",
          "text": [
            "Using TensorFlow backend.\n"
          ],
          "name": "stderr"
        }
      ]
    },
    {
      "cell_type": "code",
      "metadata": {
        "colab_type": "code",
        "id": "nKB0D8dnDyGI",
        "colab": {}
      },
      "source": [
        "batch_size = 64  # Batch size for training.\n",
        "epochs = 100  # Number of epochs to train for.\n",
        "latent_dim = 256  # Latent dimensionality of the encoding space.\n",
        "num_samples = 10000  # Number of samples to train on."
      ],
      "execution_count": 0,
      "outputs": []
    },
    {
      "cell_type": "code",
      "metadata": {
        "colab_type": "code",
        "id": "1bWU5i0qDyGS",
        "outputId": "c3c0b5f4-88da-44ea-f508-64ea97dab885",
        "colab": {
          "base_uri": "https://localhost:8080/",
          "height": 203
        }
      },
      "source": [
        "#read from dataset and split into input and targets\n",
        "df = pd.read_csv(\"AL_clean_2.csv\")\n",
        "df.head()"
      ],
      "execution_count": 3,
      "outputs": [
        {
          "output_type": "execute_result",
          "data": {
            "text/html": [
              "<div>\n",
              "<style scoped>\n",
              "    .dataframe tbody tr th:only-of-type {\n",
              "        vertical-align: middle;\n",
              "    }\n",
              "\n",
              "    .dataframe tbody tr th {\n",
              "        vertical-align: top;\n",
              "    }\n",
              "\n",
              "    .dataframe thead th {\n",
              "        text-align: right;\n",
              "    }\n",
              "</style>\n",
              "<table border=\"1\" class=\"dataframe\">\n",
              "  <thead>\n",
              "    <tr style=\"text-align: right;\">\n",
              "      <th></th>\n",
              "      <th>Unnamed: 0</th>\n",
              "      <th>x1</th>\n",
              "      <th>y1</th>\n",
              "      <th>x_count</th>\n",
              "      <th>y_count</th>\n",
              "    </tr>\n",
              "  </thead>\n",
              "  <tbody>\n",
              "    <tr>\n",
              "      <th>0</th>\n",
              "      <td>0</td>\n",
              "      <td>what kind of phones do you guys have</td>\n",
              "      <td>i have a it is pretty great much better than w...</td>\n",
              "      <td>8</td>\n",
              "      <td>8</td>\n",
              "    </tr>\n",
              "    <tr>\n",
              "      <th>1</th>\n",
              "      <td>1</td>\n",
              "      <td>i have a it is pretty great much better than w...</td>\n",
              "      <td>does it really charge all the way in min</td>\n",
              "      <td>14</td>\n",
              "      <td>14</td>\n",
              "    </tr>\n",
              "    <tr>\n",
              "      <th>2</th>\n",
              "      <td>2</td>\n",
              "      <td>does it really charge all the way in min</td>\n",
              "      <td>pretty fast i have never it but it is under ha...</td>\n",
              "      <td>9</td>\n",
              "      <td>9</td>\n",
              "    </tr>\n",
              "    <tr>\n",
              "      <th>3</th>\n",
              "      <td>3</td>\n",
              "      <td>what kind of phones do you guys have</td>\n",
              "      <td>samsung galaxy j it is my first cell phone and...</td>\n",
              "      <td>8</td>\n",
              "      <td>8</td>\n",
              "    </tr>\n",
              "    <tr>\n",
              "      <th>4</th>\n",
              "      <td>4</td>\n",
              "      <td>samsung galaxy j it is my first cell phone and...</td>\n",
              "      <td>what do you think of it anything you do not like</td>\n",
              "      <td>16</td>\n",
              "      <td>16</td>\n",
              "    </tr>\n",
              "  </tbody>\n",
              "</table>\n",
              "</div>"
            ],
            "text/plain": [
              "   Unnamed: 0  ... y_count\n",
              "0           0  ...       8\n",
              "1           1  ...      14\n",
              "2           2  ...       9\n",
              "3           3  ...       8\n",
              "4           4  ...      16\n",
              "\n",
              "[5 rows x 5 columns]"
            ]
          },
          "metadata": {
            "tags": []
          },
          "execution_count": 3
        }
      ]
    },
    {
      "cell_type": "code",
      "metadata": {
        "colab_type": "code",
        "id": "ZTwU8sdImkaw",
        "colab": {}
      },
      "source": [
        "# print(len(df))\n",
        "# list0 = df[\"0\"].tolist()[:num_samples]\n",
        "# list1 = df[\"1\"].tolist()[:num_samples]\n",
        "# list2 = df[\"2\"].tolist()[:num_samples]\n",
        "# print(len(list0))\n",
        "# print(len(list1))\n",
        "# print(len(list2))"
      ],
      "execution_count": 0,
      "outputs": []
    },
    {
      "cell_type": "code",
      "metadata": {
        "id": "E8s2Vd3mSGQT",
        "colab_type": "code",
        "colab": {
          "base_uri": "https://localhost:8080/",
          "height": 68
        },
        "outputId": "e1956ff3-e07a-49ee-baa3-6c653383dfd7"
      },
      "source": [
        "print(len(df))\n",
        "list0 = df[\"x1\"].tolist()[:num_samples]\n",
        "list1 = df[\"y1\"].tolist()[:num_samples]\n",
        "\n",
        "print(len(list0))\n",
        "print(len(list1))\n"
      ],
      "execution_count": 4,
      "outputs": [
        {
          "output_type": "stream",
          "text": [
            "56297\n",
            "10000\n",
            "10000\n"
          ],
          "name": "stdout"
        }
      ]
    },
    {
      "cell_type": "code",
      "metadata": {
        "colab_type": "code",
        "id": "4JUwdNKQLZrw",
        "colab": {}
      },
      "source": [
        "input_texts=[]\n",
        "target_texts=[]\n",
        "#match 0 and 1\n",
        "for i in range(0,num_samples):\n",
        "    input_texts.append(str(list0[i]).split())\n",
        "    target_texts.append(['\\t'] + str(list1[i]).split() + ['\\n'])\n",
        "\n",
        "# #match 1 and 2\n",
        "# for i in range(0,num_samples):\n",
        "#     input_texts.append(list1[i].split())\n",
        "#     target_texts.append(['\\t'] + list2[i].split() + ['\\n'])\n",
        "\n",
        "# #match 0 and 2\n",
        "# for i in range(0,num_samples):\n",
        "#     input_texts.append(list0[i].split())\n",
        "#     target_texts.append(['\\t'] + list2[i].split() + ['\\n'])\n",
        "    "
      ],
      "execution_count": 0,
      "outputs": []
    },
    {
      "cell_type": "code",
      "metadata": {
        "colab_type": "code",
        "id": "GJsnuGGRZSyy",
        "colab": {}
      },
      "source": [
        "#words in input\n",
        "input_words = set()\n",
        "for sentence in (input_texts):\n",
        "    for word in sentence:\n",
        "        if word not in input_words:\n",
        "            input_words.add(word)\n",
        "            \n",
        "#words in target           \n",
        "target_words= set()\n",
        "for sentence in (target_texts):\n",
        "    for word in sentence:\n",
        "        if word not in target_words:\n",
        "            target_words.add(word)\n",
        "\n",
        "target_words.add(\"\\t\")\n",
        "target_words.add(\"\\n\")"
      ],
      "execution_count": 0,
      "outputs": []
    },
    {
      "cell_type": "code",
      "metadata": {
        "colab_type": "code",
        "id": "BdJNCnlhDyHT",
        "outputId": "8354c31d-2785-4b20-a233-071374edfd39",
        "colab": {
          "base_uri": "https://localhost:8080/",
          "height": 103
        }
      },
      "source": [
        "input_words = sorted(list(input_words))\n",
        "target_words = sorted(list(target_words))\n",
        "\n",
        "num_encoder_tokens = len(input_words)\n",
        "num_decoder_tokens=len(target_words)\n",
        "max_encoder_seq_length = max([len(txt) for txt in input_texts])\n",
        "max_decoder_seq_length = max([len(txt) for txt in target_texts])\n",
        "\n",
        "print('Number of samples:', len(input_texts))\n",
        "print('Number of unique input tokens:', num_encoder_tokens)\n",
        "print('Number of unique output tokens:', num_decoder_tokens)\n",
        "print('Max sequence length for inputs:', max_encoder_seq_length)\n",
        "print('Max sequence length for outputs:', max_decoder_seq_length)"
      ],
      "execution_count": 7,
      "outputs": [
        {
          "output_type": "stream",
          "text": [
            "Number of samples: 10000\n",
            "Number of unique input tokens: 4526\n",
            "Number of unique output tokens: 4730\n",
            "Max sequence length for inputs: 25\n",
            "Max sequence length for outputs: 25\n"
          ],
          "name": "stdout"
        }
      ]
    },
    {
      "cell_type": "code",
      "metadata": {
        "colab_type": "code",
        "id": "-Sw_fgtaDyHf",
        "colab": {}
      },
      "source": [
        "#enumerate the chars \n",
        "input_token_index = dict(\n",
        "    [(word,i) for i,word in enumerate (input_words)] )\n",
        "\n",
        "target_token_index = dict(\n",
        "    [(word,i) for i,word in enumerate (target_words)] )"
      ],
      "execution_count": 0,
      "outputs": []
    },
    {
      "cell_type": "code",
      "metadata": {
        "colab_type": "code",
        "id": "7B6iDWnxDyH8",
        "colab": {}
      },
      "source": [
        "# #one hot vectorization of input and target sentences - 3D array\n",
        "# encoder_input_data = np.zeros(\n",
        "#     (len(input_texts), max_encoder_seq_length, num_encoder_tokens), #number of input-ouput pairs, longest input, number of possible input words\n",
        "#     dtype='float32')\n",
        "# decoder_input_data = np.zeros(\n",
        "#     (len(input_texts), max_decoder_seq_length, num_decoder_tokens), #number of input-output pairs, longest output, number of possible output words\n",
        "#     dtype='float32')\n",
        "# decoder_target_data = np.zeros( #ahead by one time step i.e decorder_target_data @t = decoder_input_data @ t+1. #we want to predict this \n",
        "#     (len(input_texts), max_decoder_seq_length, num_decoder_tokens), \n",
        "#     dtype='float32')"
      ],
      "execution_count": 0,
      "outputs": []
    },
    {
      "cell_type": "code",
      "metadata": {
        "id": "E_QdEmRCpwB7",
        "colab_type": "code",
        "colab": {}
      },
      "source": [
        "#one hot vectorization of input and target sentences - 3D array\n",
        "encoder_input_data = np.zeros(\n",
        "    (len(input_texts), max_encoder_seq_length), #number of input-ouput pairs, longest input\n",
        "    dtype='float32')\n",
        "decoder_input_data = np.zeros(\n",
        "    (len(input_texts), max_decoder_seq_length), #number of input-output pairs, longest output\n",
        "    dtype='float32')\n",
        "decoder_target_data = np.zeros( #ahead by one time step i.e decorder_target_data @t = decoder_input_data @ t+1. #we want to predict this \n",
        "    (len(input_texts), max_decoder_seq_length, num_decoder_tokens), \n",
        "    dtype='float32')"
      ],
      "execution_count": 0,
      "outputs": []
    },
    {
      "cell_type": "code",
      "metadata": {
        "colab_type": "code",
        "id": "Bo95BBMvDyIJ",
        "colab": {}
      },
      "source": [
        "for i, (input_text, target_text) in enumerate(zip(input_texts, target_texts)): #assign each input/output pair a number \n",
        "    for t, word in enumerate(input_text):  #assign each input sentence to a number \n",
        "        encoder_input_data[i, t] = input_token_index[word] #@pair i, word t, and where the word is located in the input_token_index\n",
        "    for t, word in enumerate(target_text): #assign each output sentence to a number \n",
        "        decoder_input_data[i, t] = target_token_index[word] #@ pair i, word t, and where the word is located in target_token_index\n",
        "        if t > 0:  #subtract one time step from input data to get target data \n",
        "            decoder_target_data[i, t - 1, target_token_index[word]] = 1."
      ],
      "execution_count": 0,
      "outputs": []
    },
    {
      "cell_type": "code",
      "metadata": {
        "colab_type": "code",
        "id": "EKZKaaTpDyIR",
        "colab": {}
      },
      "source": [
        "# Define an input sequence and process it.\n",
        "dropout_rate  = 0.2\n",
        "\n",
        "#input \n",
        "encoder_inputs = Input(shape=(None, ))\n",
        "\n",
        "#hidden layers\n",
        "encoder_embedding = Embedding(num_encoder_tokens, latent_dim)(encoder_inputs)\n",
        "encoder_dropout   = (TimeDistributed(Dropout(rate = dropout_rate)))(encoder_embedding)\n",
        "\n",
        "#output layers\n",
        "encoder_LSTM2 = LSTM(latent_dim, return_state=True)\n",
        "encoder_outputs, state_h, state_c = encoder_LSTM2(encoder_dropout)\n",
        "\n",
        "# We discard `encoder_outputs` and only keep the states. \n",
        "encoder_states = [state_h, state_c]"
      ],
      "execution_count": 0,
      "outputs": []
    },
    {
      "cell_type": "code",
      "metadata": {
        "colab_type": "code",
        "id": "TFXkK8ttDyIZ",
        "colab": {}
      },
      "source": [
        "# Set up the decoder, using `encoder_states` as initial state.\n",
        "decoder_inputs = Input(shape=(None,  ))\n",
        "\n",
        "#hidden layers\n",
        "decoder_embedding = Embedding(num_decoder_tokens, latent_dim)(decoder_inputs)\n",
        "decoder_dropout = (TimeDistributed(Dropout(rate = dropout_rate)))(decoder_embedding)\n",
        "\n",
        "# We set up our decoder to return full output sequences,\n",
        "# and to return internal states as well. We don't use the\n",
        "# return states in the training model, but we will use them in inference.\n",
        "decoder_LSTM_layer = LSTM(latent_dim, return_sequences=True, return_state=True)\n",
        "decoder_LSTM,_ , _ = decoder_LSTM_layer(decoder_dropout, initial_state=encoder_states)\n",
        "\n",
        "#output\n",
        "decoder_dense = Dense(num_decoder_tokens, activation='softmax')\n",
        "decoder_outputs = decoder_dense(decoder_LSTM)"
      ],
      "execution_count": 0,
      "outputs": []
    },
    {
      "cell_type": "code",
      "metadata": {
        "colab_type": "code",
        "id": "UQuFyR48DyIi",
        "outputId": "e02c6096-298a-4320-ec7c-2479f3ee1d13",
        "colab": {
          "base_uri": "https://localhost:8080/",
          "height": 500
        }
      },
      "source": [
        "# Define the model that will turn\n",
        "# `encoder_input_data` & `decoder_input_data` into `decoder_target_data`\n",
        "model = Model([encoder_inputs, decoder_inputs], decoder_outputs)\n",
        "\n",
        "# Run training\n",
        "model.compile(optimizer='rmsprop', loss='categorical_crossentropy',\n",
        "              metrics=['accuracy'])\n",
        "\n",
        "model.summary()"
      ],
      "execution_count": 13,
      "outputs": [
        {
          "output_type": "stream",
          "text": [
            "Model: \"model_1\"\n",
            "__________________________________________________________________________________________________\n",
            "Layer (type)                    Output Shape         Param #     Connected to                     \n",
            "==================================================================================================\n",
            "input_1 (InputLayer)            (None, None)         0                                            \n",
            "__________________________________________________________________________________________________\n",
            "input_2 (InputLayer)            (None, None)         0                                            \n",
            "__________________________________________________________________________________________________\n",
            "embedding_1 (Embedding)         (None, None, 256)    1158656     input_1[0][0]                    \n",
            "__________________________________________________________________________________________________\n",
            "embedding_2 (Embedding)         (None, None, 256)    1210880     input_2[0][0]                    \n",
            "__________________________________________________________________________________________________\n",
            "time_distributed_1 (TimeDistrib (None, None, 256)    0           embedding_1[0][0]                \n",
            "__________________________________________________________________________________________________\n",
            "time_distributed_2 (TimeDistrib (None, None, 256)    0           embedding_2[0][0]                \n",
            "__________________________________________________________________________________________________\n",
            "lstm_1 (LSTM)                   [(None, 256), (None, 525312      time_distributed_1[0][0]         \n",
            "__________________________________________________________________________________________________\n",
            "lstm_2 (LSTM)                   [(None, None, 256),  525312      time_distributed_2[0][0]         \n",
            "                                                                 lstm_1[0][1]                     \n",
            "                                                                 lstm_1[0][2]                     \n",
            "__________________________________________________________________________________________________\n",
            "dense_1 (Dense)                 (None, None, 4730)   1215610     lstm_2[0][0]                     \n",
            "==================================================================================================\n",
            "Total params: 4,635,770\n",
            "Trainable params: 4,635,770\n",
            "Non-trainable params: 0\n",
            "__________________________________________________________________________________________________\n"
          ],
          "name": "stdout"
        }
      ]
    },
    {
      "cell_type": "code",
      "metadata": {
        "colab_type": "code",
        "id": "P7-9bSciDyIq",
        "outputId": "284de9c0-949a-4310-bcf9-ad2317917b97",
        "colab": {
          "base_uri": "https://localhost:8080/",
          "height": 1000
        }
      },
      "source": [
        "history=model.fit(\n",
        "        [encoder_input_data, decoder_input_data], \n",
        "        decoder_target_data,\n",
        "        batch_size=batch_size,\n",
        "        epochs=epochs,\n",
        "        # verbose=0,\n",
        "        validation_split=0.2)"
      ],
      "execution_count": 14,
      "outputs": [
        {
          "output_type": "stream",
          "text": [
            "/usr/local/lib/python3.6/dist-packages/tensorflow/python/framework/indexed_slices.py:434: UserWarning: Converting sparse IndexedSlices to a dense Tensor of unknown shape. This may consume a large amount of memory.\n",
            "  \"Converting sparse IndexedSlices to a dense Tensor of unknown shape. \"\n"
          ],
          "name": "stderr"
        },
        {
          "output_type": "stream",
          "text": [
            "Train on 8000 samples, validate on 2000 samples\n",
            "Epoch 1/100\n",
            "8000/8000 [==============================] - 63s 8ms/step - loss: 1.9856 - accuracy: 0.0440 - val_loss: 2.0176 - val_accuracy: 0.0490\n",
            "Epoch 2/100\n",
            "8000/8000 [==============================] - 61s 8ms/step - loss: 1.8437 - accuracy: 0.0546 - val_loss: 1.9369 - val_accuracy: 0.0622\n",
            "Epoch 3/100\n",
            "8000/8000 [==============================] - 60s 8ms/step - loss: 1.7600 - accuracy: 0.0625 - val_loss: 1.8975 - val_accuracy: 0.0665\n",
            "Epoch 4/100\n",
            "8000/8000 [==============================] - 60s 7ms/step - loss: 1.7076 - accuracy: 0.0658 - val_loss: 1.8778 - val_accuracy: 0.0692\n",
            "Epoch 5/100\n",
            "8000/8000 [==============================] - 60s 7ms/step - loss: 1.6627 - accuracy: 0.0696 - val_loss: 1.8690 - val_accuracy: 0.0701\n",
            "Epoch 6/100\n",
            "8000/8000 [==============================] - 60s 8ms/step - loss: 1.6209 - accuracy: 0.0732 - val_loss: 1.8658 - val_accuracy: 0.0713\n",
            "Epoch 7/100\n",
            "8000/8000 [==============================] - 61s 8ms/step - loss: 1.5827 - accuracy: 0.0763 - val_loss: 1.8651 - val_accuracy: 0.0721\n",
            "Epoch 8/100\n",
            "8000/8000 [==============================] - 60s 8ms/step - loss: 1.5466 - accuracy: 0.0788 - val_loss: 1.8636 - val_accuracy: 0.0722\n",
            "Epoch 9/100\n",
            "8000/8000 [==============================] - 61s 8ms/step - loss: 1.5109 - accuracy: 0.0820 - val_loss: 1.8668 - val_accuracy: 0.0726\n",
            "Epoch 10/100\n",
            "8000/8000 [==============================] - 60s 7ms/step - loss: 1.4763 - accuracy: 0.0842 - val_loss: 1.8669 - val_accuracy: 0.0719\n",
            "Epoch 11/100\n",
            "8000/8000 [==============================] - 60s 7ms/step - loss: 1.4434 - accuracy: 0.0871 - val_loss: 1.8734 - val_accuracy: 0.0717\n",
            "Epoch 12/100\n",
            "8000/8000 [==============================] - 60s 8ms/step - loss: 1.4115 - accuracy: 0.0900 - val_loss: 1.8749 - val_accuracy: 0.0717\n",
            "Epoch 13/100\n",
            "8000/8000 [==============================] - 60s 7ms/step - loss: 1.3808 - accuracy: 0.0928 - val_loss: 1.8804 - val_accuracy: 0.0706\n",
            "Epoch 14/100\n",
            "8000/8000 [==============================] - 61s 8ms/step - loss: 1.3490 - accuracy: 0.0958 - val_loss: 1.8929 - val_accuracy: 0.0706\n",
            "Epoch 15/100\n",
            "8000/8000 [==============================] - 60s 8ms/step - loss: 1.3194 - accuracy: 0.0988 - val_loss: 1.8973 - val_accuracy: 0.0710\n",
            "Epoch 16/100\n",
            "8000/8000 [==============================] - 60s 7ms/step - loss: 1.2887 - accuracy: 0.1020 - val_loss: 1.9029 - val_accuracy: 0.0703\n",
            "Epoch 17/100\n",
            "8000/8000 [==============================] - 59s 7ms/step - loss: 1.2592 - accuracy: 0.1055 - val_loss: 1.9137 - val_accuracy: 0.0689\n",
            "Epoch 18/100\n",
            "8000/8000 [==============================] - 59s 7ms/step - loss: 1.2309 - accuracy: 0.1088 - val_loss: 1.9287 - val_accuracy: 0.0695\n",
            "Epoch 19/100\n",
            "8000/8000 [==============================] - 60s 7ms/step - loss: 1.2043 - accuracy: 0.1123 - val_loss: 1.9343 - val_accuracy: 0.0670\n",
            "Epoch 20/100\n",
            "8000/8000 [==============================] - 60s 7ms/step - loss: 1.1766 - accuracy: 0.1161 - val_loss: 1.9404 - val_accuracy: 0.0668\n",
            "Epoch 21/100\n",
            "8000/8000 [==============================] - 59s 7ms/step - loss: 1.1500 - accuracy: 0.1196 - val_loss: 1.9548 - val_accuracy: 0.0670\n",
            "Epoch 22/100\n",
            "8000/8000 [==============================] - 60s 7ms/step - loss: 1.1249 - accuracy: 0.1226 - val_loss: 1.9689 - val_accuracy: 0.0652\n",
            "Epoch 23/100\n",
            "8000/8000 [==============================] - 60s 8ms/step - loss: 1.0998 - accuracy: 0.1265 - val_loss: 1.9772 - val_accuracy: 0.0652\n",
            "Epoch 24/100\n",
            "8000/8000 [==============================] - 60s 8ms/step - loss: 1.0741 - accuracy: 0.1305 - val_loss: 1.9869 - val_accuracy: 0.0643\n",
            "Epoch 25/100\n",
            "8000/8000 [==============================] - 60s 8ms/step - loss: 1.0509 - accuracy: 0.1343 - val_loss: 1.9980 - val_accuracy: 0.0647\n",
            "Epoch 26/100\n",
            "8000/8000 [==============================] - 60s 8ms/step - loss: 1.0257 - accuracy: 0.1378 - val_loss: 2.0109 - val_accuracy: 0.0631\n",
            "Epoch 27/100\n",
            "8000/8000 [==============================] - 60s 8ms/step - loss: 1.0022 - accuracy: 0.1415 - val_loss: 2.0249 - val_accuracy: 0.0622\n",
            "Epoch 28/100\n",
            "8000/8000 [==============================] - 60s 7ms/step - loss: 0.9801 - accuracy: 0.1452 - val_loss: 2.0344 - val_accuracy: 0.0619\n",
            "Epoch 29/100\n",
            "8000/8000 [==============================] - 61s 8ms/step - loss: 0.9573 - accuracy: 0.1489 - val_loss: 2.0490 - val_accuracy: 0.0623\n",
            "Epoch 30/100\n",
            "8000/8000 [==============================] - 60s 7ms/step - loss: 0.9354 - accuracy: 0.1531 - val_loss: 2.0656 - val_accuracy: 0.0605\n",
            "Epoch 31/100\n",
            "8000/8000 [==============================] - 60s 8ms/step - loss: 0.9132 - accuracy: 0.1561 - val_loss: 2.0732 - val_accuracy: 0.0593\n",
            "Epoch 32/100\n",
            "8000/8000 [==============================] - 61s 8ms/step - loss: 0.8924 - accuracy: 0.1598 - val_loss: 2.0815 - val_accuracy: 0.0600\n",
            "Epoch 33/100\n",
            "8000/8000 [==============================] - 60s 8ms/step - loss: 0.8718 - accuracy: 0.1633 - val_loss: 2.0976 - val_accuracy: 0.0587\n",
            "Epoch 34/100\n",
            "8000/8000 [==============================] - 60s 8ms/step - loss: 0.8511 - accuracy: 0.1668 - val_loss: 2.1126 - val_accuracy: 0.0584\n",
            "Epoch 35/100\n",
            "8000/8000 [==============================] - 61s 8ms/step - loss: 0.8315 - accuracy: 0.1707 - val_loss: 2.1211 - val_accuracy: 0.0584\n",
            "Epoch 36/100\n",
            "8000/8000 [==============================] - 61s 8ms/step - loss: 0.8132 - accuracy: 0.1739 - val_loss: 2.1331 - val_accuracy: 0.0570\n",
            "Epoch 37/100\n",
            "8000/8000 [==============================] - 61s 8ms/step - loss: 0.7933 - accuracy: 0.1779 - val_loss: 2.1513 - val_accuracy: 0.0563\n",
            "Epoch 38/100\n",
            "8000/8000 [==============================] - 61s 8ms/step - loss: 0.7758 - accuracy: 0.1807 - val_loss: 2.1564 - val_accuracy: 0.0565\n",
            "Epoch 39/100\n",
            "8000/8000 [==============================] - 60s 8ms/step - loss: 0.7589 - accuracy: 0.1836 - val_loss: 2.1679 - val_accuracy: 0.0564\n",
            "Epoch 40/100\n",
            "8000/8000 [==============================] - 60s 8ms/step - loss: 0.7412 - accuracy: 0.1871 - val_loss: 2.1749 - val_accuracy: 0.0553\n",
            "Epoch 41/100\n",
            "8000/8000 [==============================] - 60s 7ms/step - loss: 0.7236 - accuracy: 0.1900 - val_loss: 2.1955 - val_accuracy: 0.0557\n",
            "Epoch 42/100\n",
            "8000/8000 [==============================] - 59s 7ms/step - loss: 0.7072 - accuracy: 0.1940 - val_loss: 2.2042 - val_accuracy: 0.0544\n",
            "Epoch 43/100\n",
            "8000/8000 [==============================] - 60s 7ms/step - loss: 0.6914 - accuracy: 0.1971 - val_loss: 2.2152 - val_accuracy: 0.0548\n",
            "Epoch 44/100\n",
            "8000/8000 [==============================] - 59s 7ms/step - loss: 0.6768 - accuracy: 0.1993 - val_loss: 2.2285 - val_accuracy: 0.0538\n",
            "Epoch 45/100\n",
            "8000/8000 [==============================] - 60s 7ms/step - loss: 0.6598 - accuracy: 0.2033 - val_loss: 2.2340 - val_accuracy: 0.0540\n",
            "Epoch 46/100\n",
            "8000/8000 [==============================] - 59s 7ms/step - loss: 0.6454 - accuracy: 0.2065 - val_loss: 2.2515 - val_accuracy: 0.0522\n",
            "Epoch 47/100\n",
            "8000/8000 [==============================] - 59s 7ms/step - loss: 0.6309 - accuracy: 0.2095 - val_loss: 2.2610 - val_accuracy: 0.0531\n",
            "Epoch 48/100\n",
            "8000/8000 [==============================] - 60s 7ms/step - loss: 0.6173 - accuracy: 0.2117 - val_loss: 2.2732 - val_accuracy: 0.0527\n",
            "Epoch 49/100\n",
            "8000/8000 [==============================] - 59s 7ms/step - loss: 0.6023 - accuracy: 0.2150 - val_loss: 2.2859 - val_accuracy: 0.0520\n",
            "Epoch 50/100\n",
            "8000/8000 [==============================] - 59s 7ms/step - loss: 0.5887 - accuracy: 0.2180 - val_loss: 2.3024 - val_accuracy: 0.0510\n",
            "Epoch 51/100\n",
            "8000/8000 [==============================] - 59s 7ms/step - loss: 0.5758 - accuracy: 0.2210 - val_loss: 2.3130 - val_accuracy: 0.0505\n",
            "Epoch 52/100\n",
            "8000/8000 [==============================] - 59s 7ms/step - loss: 0.5636 - accuracy: 0.2232 - val_loss: 2.3184 - val_accuracy: 0.0518\n",
            "Epoch 53/100\n",
            "8000/8000 [==============================] - 59s 7ms/step - loss: 0.5495 - accuracy: 0.2264 - val_loss: 2.3328 - val_accuracy: 0.0512\n",
            "Epoch 54/100\n",
            "8000/8000 [==============================] - 60s 8ms/step - loss: 0.5381 - accuracy: 0.2286 - val_loss: 2.3447 - val_accuracy: 0.0506\n",
            "Epoch 55/100\n",
            "8000/8000 [==============================] - 64s 8ms/step - loss: 0.5254 - accuracy: 0.2313 - val_loss: 2.3494 - val_accuracy: 0.0505\n",
            "Epoch 56/100\n",
            "8000/8000 [==============================] - 60s 7ms/step - loss: 0.5138 - accuracy: 0.2338 - val_loss: 2.3599 - val_accuracy: 0.0510\n",
            "Epoch 57/100\n",
            "8000/8000 [==============================] - 60s 8ms/step - loss: 0.5023 - accuracy: 0.2363 - val_loss: 2.3721 - val_accuracy: 0.0494\n",
            "Epoch 58/100\n",
            "8000/8000 [==============================] - 60s 7ms/step - loss: 0.4917 - accuracy: 0.2383 - val_loss: 2.3837 - val_accuracy: 0.0489\n",
            "Epoch 59/100\n",
            "8000/8000 [==============================] - 60s 7ms/step - loss: 0.4807 - accuracy: 0.2407 - val_loss: 2.3897 - val_accuracy: 0.0495\n",
            "Epoch 60/100\n",
            "8000/8000 [==============================] - 61s 8ms/step - loss: 0.4694 - accuracy: 0.2425 - val_loss: 2.4036 - val_accuracy: 0.0493\n",
            "Epoch 61/100\n",
            "8000/8000 [==============================] - 60s 8ms/step - loss: 0.4600 - accuracy: 0.2443 - val_loss: 2.4147 - val_accuracy: 0.0480\n",
            "Epoch 62/100\n",
            "8000/8000 [==============================] - 60s 7ms/step - loss: 0.4492 - accuracy: 0.2476 - val_loss: 2.4197 - val_accuracy: 0.0488\n",
            "Epoch 63/100\n",
            "8000/8000 [==============================] - 60s 8ms/step - loss: 0.4386 - accuracy: 0.2492 - val_loss: 2.4397 - val_accuracy: 0.0478\n",
            "Epoch 64/100\n",
            "8000/8000 [==============================] - 61s 8ms/step - loss: 0.4294 - accuracy: 0.2515 - val_loss: 2.4450 - val_accuracy: 0.0487\n",
            "Epoch 65/100\n",
            "8000/8000 [==============================] - 66s 8ms/step - loss: 0.4195 - accuracy: 0.2531 - val_loss: 2.4526 - val_accuracy: 0.0473\n",
            "Epoch 66/100\n",
            "8000/8000 [==============================] - 61s 8ms/step - loss: 0.4101 - accuracy: 0.2555 - val_loss: 2.4672 - val_accuracy: 0.0483\n",
            "Epoch 67/100\n",
            "8000/8000 [==============================] - 60s 8ms/step - loss: 0.4015 - accuracy: 0.2576 - val_loss: 2.4727 - val_accuracy: 0.0474\n",
            "Epoch 68/100\n",
            "8000/8000 [==============================] - 61s 8ms/step - loss: 0.3939 - accuracy: 0.2587 - val_loss: 2.4809 - val_accuracy: 0.0478\n",
            "Epoch 69/100\n",
            "8000/8000 [==============================] - 60s 8ms/step - loss: 0.3857 - accuracy: 0.2607 - val_loss: 2.4860 - val_accuracy: 0.0481\n",
            "Epoch 70/100\n",
            "8000/8000 [==============================] - 60s 8ms/step - loss: 0.3769 - accuracy: 0.2625 - val_loss: 2.4974 - val_accuracy: 0.0484\n",
            "Epoch 71/100\n",
            "8000/8000 [==============================] - 61s 8ms/step - loss: 0.3685 - accuracy: 0.2644 - val_loss: 2.5109 - val_accuracy: 0.0478\n",
            "Epoch 72/100\n",
            "8000/8000 [==============================] - 60s 8ms/step - loss: 0.3616 - accuracy: 0.2661 - val_loss: 2.5227 - val_accuracy: 0.0470\n",
            "Epoch 73/100\n",
            "8000/8000 [==============================] - 60s 8ms/step - loss: 0.3526 - accuracy: 0.2678 - val_loss: 2.5270 - val_accuracy: 0.0471\n",
            "Epoch 74/100\n",
            "8000/8000 [==============================] - 60s 7ms/step - loss: 0.3458 - accuracy: 0.2690 - val_loss: 2.5406 - val_accuracy: 0.0461\n",
            "Epoch 75/100\n",
            "8000/8000 [==============================] - 60s 7ms/step - loss: 0.3383 - accuracy: 0.2709 - val_loss: 2.5441 - val_accuracy: 0.0473\n",
            "Epoch 76/100\n",
            "8000/8000 [==============================] - 60s 7ms/step - loss: 0.3314 - accuracy: 0.2720 - val_loss: 2.5616 - val_accuracy: 0.0470\n",
            "Epoch 77/100\n",
            "8000/8000 [==============================] - 59s 7ms/step - loss: 0.3258 - accuracy: 0.2730 - val_loss: 2.5628 - val_accuracy: 0.0466\n",
            "Epoch 78/100\n",
            "8000/8000 [==============================] - 59s 7ms/step - loss: 0.3191 - accuracy: 0.2746 - val_loss: 2.5718 - val_accuracy: 0.0473\n",
            "Epoch 79/100\n",
            "8000/8000 [==============================] - 59s 7ms/step - loss: 0.3111 - accuracy: 0.2765 - val_loss: 2.5817 - val_accuracy: 0.0467\n",
            "Epoch 80/100\n",
            "8000/8000 [==============================] - 60s 7ms/step - loss: 0.3056 - accuracy: 0.2771 - val_loss: 2.5893 - val_accuracy: 0.0461\n",
            "Epoch 81/100\n",
            "8000/8000 [==============================] - 60s 8ms/step - loss: 0.2992 - accuracy: 0.2787 - val_loss: 2.5956 - val_accuracy: 0.0469\n",
            "Epoch 82/100\n",
            "8000/8000 [==============================] - 60s 7ms/step - loss: 0.2939 - accuracy: 0.2801 - val_loss: 2.6043 - val_accuracy: 0.0466\n",
            "Epoch 83/100\n",
            "8000/8000 [==============================] - 60s 8ms/step - loss: 0.2882 - accuracy: 0.2810 - val_loss: 2.6121 - val_accuracy: 0.0466\n",
            "Epoch 84/100\n",
            "8000/8000 [==============================] - 60s 7ms/step - loss: 0.2812 - accuracy: 0.2824 - val_loss: 2.6193 - val_accuracy: 0.0467\n",
            "Epoch 85/100\n",
            "8000/8000 [==============================] - 60s 8ms/step - loss: 0.2747 - accuracy: 0.2838 - val_loss: 2.6283 - val_accuracy: 0.0466\n",
            "Epoch 86/100\n",
            "8000/8000 [==============================] - 61s 8ms/step - loss: 0.2706 - accuracy: 0.2845 - val_loss: 2.6388 - val_accuracy: 0.0465\n",
            "Epoch 87/100\n",
            "8000/8000 [==============================] - 60s 7ms/step - loss: 0.2648 - accuracy: 0.2855 - val_loss: 2.6475 - val_accuracy: 0.0462\n",
            "Epoch 88/100\n",
            "8000/8000 [==============================] - 60s 7ms/step - loss: 0.2602 - accuracy: 0.2865 - val_loss: 2.6540 - val_accuracy: 0.0467\n",
            "Epoch 89/100\n",
            "8000/8000 [==============================] - 59s 7ms/step - loss: 0.2545 - accuracy: 0.2876 - val_loss: 2.6628 - val_accuracy: 0.0467\n",
            "Epoch 90/100\n",
            "8000/8000 [==============================] - 59s 7ms/step - loss: 0.2501 - accuracy: 0.2884 - val_loss: 2.6654 - val_accuracy: 0.0449\n",
            "Epoch 91/100\n",
            "8000/8000 [==============================] - 60s 7ms/step - loss: 0.2454 - accuracy: 0.2894 - val_loss: 2.6716 - val_accuracy: 0.0460\n",
            "Epoch 92/100\n",
            "8000/8000 [==============================] - 60s 7ms/step - loss: 0.2404 - accuracy: 0.2909 - val_loss: 2.6857 - val_accuracy: 0.0443\n",
            "Epoch 93/100\n",
            "8000/8000 [==============================] - 59s 7ms/step - loss: 0.2356 - accuracy: 0.2915 - val_loss: 2.6926 - val_accuracy: 0.0453\n",
            "Epoch 94/100\n",
            "8000/8000 [==============================] - 60s 7ms/step - loss: 0.2311 - accuracy: 0.2926 - val_loss: 2.6981 - val_accuracy: 0.0447\n",
            "Epoch 95/100\n",
            "8000/8000 [==============================] - 59s 7ms/step - loss: 0.2280 - accuracy: 0.2929 - val_loss: 2.7019 - val_accuracy: 0.0449\n",
            "Epoch 96/100\n",
            "8000/8000 [==============================] - 59s 7ms/step - loss: 0.2215 - accuracy: 0.2945 - val_loss: 2.7162 - val_accuracy: 0.0453\n",
            "Epoch 97/100\n",
            "8000/8000 [==============================] - 60s 7ms/step - loss: 0.2188 - accuracy: 0.2949 - val_loss: 2.7186 - val_accuracy: 0.0449\n",
            "Epoch 98/100\n",
            "8000/8000 [==============================] - 59s 7ms/step - loss: 0.2143 - accuracy: 0.2957 - val_loss: 2.7273 - val_accuracy: 0.0457\n",
            "Epoch 99/100\n",
            "8000/8000 [==============================] - 60s 7ms/step - loss: 0.2119 - accuracy: 0.2962 - val_loss: 2.7331 - val_accuracy: 0.0445\n",
            "Epoch 100/100\n",
            "8000/8000 [==============================] - 59s 7ms/step - loss: 0.2071 - accuracy: 0.2971 - val_loss: 2.7377 - val_accuracy: 0.0453\n"
          ],
          "name": "stdout"
        }
      ]
    },
    {
      "cell_type": "code",
      "metadata": {
        "colab_type": "code",
        "id": "LFfFBeiEOuRR",
        "outputId": "9ea85f32-be2e-4011-8f58-7907da54f510",
        "colab": {
          "base_uri": "https://localhost:8080/",
          "height": 499
        }
      },
      "source": [
        "acc = history.history['accuracy']\n",
        "val_acc = history.history['val_accuracy']\n",
        "\n",
        "loss=history.history['loss']\n",
        "val_loss=history.history['val_loss']\n",
        "\n",
        "epochs_range = range(epochs)\n",
        "\n",
        "plt.figure(figsize=(8, 8))\n",
        "plt.subplot(1, 2, 1)\n",
        "plt.plot(epochs_range, acc, label='Training Accuracy')\n",
        "plt.plot(epochs_range, val_acc, label='Validation Accuracy')\n",
        "plt.legend(loc='lower right')\n",
        "plt.title('Training and Validation Accuracy')\n",
        "\n",
        "plt.subplot(1, 2, 2)\n",
        "plt.plot(epochs_range, loss, label='Training Loss')\n",
        "plt.plot(epochs_range, val_loss, label='Validation Loss')\n",
        "plt.legend(loc='upper right')\n",
        "plt.title('Training and Validation Loss')\n",
        "plt.show()"
      ],
      "execution_count": 15,
      "outputs": [
        {
          "output_type": "display_data",
          "data": {
            "image/png": "[encoded data removed]",
            "text/plain": [
              "<Figure size 576x576 with 2 Axes>"
            ]
          },
          "metadata": {
            "tags": [],
            "needs_background": "light"
          }
        }
      ]
    },
    {
      "cell_type": "code",
      "metadata": {
        "colab_type": "code",
        "id": "HqLNXzMVDyIx",
        "colab": {}
      },
      "source": [
        "# Save model\n",
        "model.save('s2s.h5')"
      ],
      "execution_count": 0,
      "outputs": []
    },
    {
      "cell_type": "code",
      "metadata": {
        "colab_type": "code",
        "id": "YQ2IvWkUHVos",
        "colab": {}
      },
      "source": [
        "# Next: inference mode (sampling).\n",
        "# Here's the drill:\n",
        "# 1) encode input and retrieve initial decoder state\n",
        "# 2) run one step of decoder with this initial state\n",
        "# and a \"start of sequence\" token as target.\n",
        "# Output will be the next target token\n",
        "# 3) Repeat with the current target token and current states\n",
        "\n",
        "# Define sampling models\n",
        "encoder_model = Model(encoder_inputs, encoder_states)\n",
        "\n",
        "decoder_state_input_h = Input(shape=(latent_dim,))\n",
        "decoder_state_input_c = Input(shape=(latent_dim,))\n",
        "decoder_states_inputs = [decoder_state_input_h, decoder_state_input_c]\n",
        "\n",
        "dec_emb = Embedding(num_decoder_tokens, latent_dim)(decoder_inputs)\n",
        "decoder_dropout = (TimeDistributed(Dropout(rate = dropout_rate)))(decoder_embedding)\n",
        "\n",
        "decoder_outputs, state_h, state_c = decoder_LSTM_layer(decoder_dropout, initial_state=decoder_states_inputs)\n",
        "\n",
        "# decoder_LSTM_layer = LSTM(latent_dim, return_sequences=True, return_state=True)\n",
        "# decoder_LSTM,_ , _ = decoder_LSTM_layer(decoder_dropout, initial_state=encoder_states)\n",
        "\n",
        "decoder_states = [state_h, state_c]\n",
        "decoder_outputs = decoder_dense(decoder_outputs)\n",
        "decoder_model = Model(\n",
        "    [decoder_inputs] + decoder_states_inputs,\n",
        "    [decoder_outputs] + decoder_states)"
      ],
      "execution_count": 0,
      "outputs": []
    },
    {
      "cell_type": "code",
      "metadata": {
        "colab_type": "code",
        "id": "FR2Ti22KHYcE",
        "colab": {}
      },
      "source": [
        "# Reverse-lookup token index to decode sequences back to something readable.\n",
        "reverse_input_char_index = dict(\n",
        "    (i, char) for char, i in input_token_index.items())\n",
        "reverse_target_char_index = dict(\n",
        "    (i, char) for char, i in target_token_index.items())"
      ],
      "execution_count": 0,
      "outputs": []
    },
    {
      "cell_type": "code",
      "metadata": {
        "colab_type": "code",
        "id": "HMYQuOM1H4mX",
        "colab": {}
      },
      "source": [
        "def decode_sequence(input_seq):\n",
        "    states_value = encoder_model.predict(input_seq)\n",
        "\n",
        "    target_seq = np.zeros((1, 1))\n",
        "    target_seq[0, 0] =  target_token_index['\\t']\n",
        "\n",
        "    # Sampling loop for a batch of sequences\n",
        "    # (to simplify, here we assume a batch of size 1).\n",
        "    stop_condition = False\n",
        "    decoded_sentence = ''\n",
        "    while not stop_condition:\n",
        "        output_tokens, h, c = decoder_model.predict(\n",
        "            [target_seq] + states_value)\n",
        "\n",
        "        # Sample a token\n",
        "        sampled_token_index = np.argmax(output_tokens[0, -1, :])\n",
        "        sampled_char = reverse_target_char_index[sampled_token_index]\n",
        "        decoded_sentence += ' ' + sampled_char\n",
        "\n",
        "        # Exit condition: either hit max length\n",
        "        # or find stop character.\n",
        "        if (sampled_char == '\\n' or\n",
        "           len(decoded_sentence) > max_decoder_seq_length):\n",
        "            stop_condition = True\n",
        "\n",
        "        # Update the target sequence (of length 1).\n",
        "        target_seq = np.zeros((1, 1))\n",
        "        target_seq[0, 0] = sampled_token_index\n",
        "\n",
        "        # Update states\n",
        "        states_value = [h, c]\n",
        "\n",
        "    return decoded_sentence\n"
      ],
      "execution_count": 0,
      "outputs": []
    },
    {
      "cell_type": "code",
      "metadata": {
        "colab_type": "code",
        "id": "Wx8_IAdYH5xE",
        "outputId": "0f90b69a-9dd9-4f94-e1ea-ba5e2c39f678",
        "colab": {
          "base_uri": "https://localhost:8080/",
          "height": 612
        }
      },
      "source": [
        "for seq_index in range(11,21):\n",
        "    # Take one sequence (part of the training set)\n",
        "    # for trying out decoding.\n",
        "    input_seq = encoder_input_data[seq_index: seq_index + 1]\n",
        "    decoded_sentence = decode_sequence(input_seq)\n",
        "    print('-')\n",
        "    print('Input sentence:', input_texts[seq_index])\n",
        "    print('Decoded sentence:', decoded_sentence)"
      ],
      "execution_count": 20,
      "outputs": [
        {
          "output_type": "stream",
          "text": [
            "-\n",
            "Input sentence: ['fuck', 'those', 'losers', 'i', 'will', 'we', 'will', 'be', 'your', 'friend']\n",
            "Decoded sentence:  thanks \n",
            "\n",
            "-\n",
            "Input sentence: ['i', 'just', 'won', 'a', 'state', 'for', 'debate']\n",
            "Decoded sentence:  no you did not \n",
            "\n",
            "-\n",
            "Input sentence: ['no', 'you', 'did', 'not']\n",
            "Decoded sentence:  huh \n",
            "\n",
            "-\n",
            "Input sentence: ['huh']\n",
            "Decoded sentence:  heh \n",
            "\n",
            "-\n",
            "Input sentence: ['no', 'you', 'did', 'not']\n",
            "Decoded sentence:  huh \n",
            "\n",
            "-\n",
            "Input sentence: ['so', 'i', 'got', 'a', 'girlfriend', 'the', 'other', 'day']\n",
            "Decoded sentence:  that is so lovely basically\n",
            "-\n",
            "Input sentence: ['congrats', 'hope', 'you', 'are', 'as', 'happy', 'as', 'you', 'could', 'possibly', 'be']\n",
            "Decoded sentence:  oh i definitely am i still\n",
            "-\n",
            "Input sentence: ['so', 'i', 'got', 'a', 'girlfriend', 'the', 'other', 'day']\n",
            "Decoded sentence:  that is so lovely basically\n",
            "-\n",
            "Input sentence: ['that', 'is', 'so', 'lovely', 'basically', 'my', 'goals']\n",
            "Decoded sentence:  gay ass goals double here\n",
            "-\n",
            "Input sentence: ['so', 'i', 'got', 'a', 'girlfriend', 'the', 'other', 'day']\n",
            "Decoded sentence:  that is so lovely basically\n"
          ],
          "name": "stdout"
        }
      ]
    }
  ]
}