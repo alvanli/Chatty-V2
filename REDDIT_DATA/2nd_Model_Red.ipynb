{
  "nbformat": 4,
  "nbformat_minor": 0,
  "metadata": {
    "colab": {
      "name": "2nd_Model_Red",
      "provenance": [],
      "machine_shape": "hm"
    },
    "kernelspec": {
      "name": "python3",
      "display_name": "Python 3"
    },
    "accelerator": "GPU"
  },
  "cells": [
    {
      "cell_type": "markdown",
      "metadata": {
        "id": "FIqge7r5GOxX",
        "colab_type": "text"
      },
      "source": [
        "In this notebook, I used embedding on top of the original seq2seq model. This was also done on the calculations dataset. Accuracy siginificantly decreased in both datasets. In the calculations dataset, generated sentences were still correct but the reddit dataset resorted to blank output sentences. <br>\n",
        "RMSPROP: Tried to increase training size (does improve acc by 5% in the first 100 epochs, no significant changes in the next 100). Increased lr from 0.001 to 0.01 --> plateaus at 10% after 20 epochs , plateaus after 5 epochs if use 0.1. <br>\n",
        "ADAM: default lr goes up to 19% acc (but graph looks like its on a steady increase, may go up even more if trained more) "
      ]
    },
    {
      "cell_type": "code",
      "metadata": {
        "id": "rGqN2bd-GGK0",
        "colab_type": "code",
        "outputId": "2c611c6f-0a68-4ff1-aa78-bb5633785067",
        "colab": {
          "base_uri": "https://localhost:8080/",
          "height": 70
        }
      },
      "source": [
        "%cd ..\n",
        "%cd root\n",
        "import numpy as np\n",
        "import pandas as pd\n",
        "df = pd.read_csv(\"AL_clean_2.csv\")\n",
        "df.head()\n",
        "df.fillna('', inplace=True)\n",
        "print(len(df))\n",
        "x = df[\"x1\"].tolist()\n",
        "y = df[\"y1\"].tolist()"
      ],
      "execution_count": 4,
      "outputs": [
        {
          "output_type": "stream",
          "text": [
            "/\n",
            "/root\n",
            "56297\n"
          ],
          "name": "stdout"
        }
      ]
    },
    {
      "cell_type": "code",
      "metadata": {
        "id": "01q84BQeLTqC",
        "colab_type": "code",
        "colab": {}
      },
      "source": [
        "x = x[:int(len(x)*.6)]\n",
        "y = y[:int(len(x)*.6)]"
      ],
      "execution_count": 0,
      "outputs": []
    },
    {
      "cell_type": "code",
      "metadata": {
        "id": "T0gUFUNwLJim",
        "colab_type": "code",
        "colab": {
          "base_uri": "https://localhost:8080/",
          "height": 194
        },
        "outputId": "6d0b3994-51c3-40ce-90b3-b5fc05ca8fad"
      },
      "source": [
        "df.head()"
      ],
      "execution_count": 3,
      "outputs": [
        {
          "output_type": "execute_result",
          "data": {
            "text/html": [
              "<div>\n",
              "<style scoped>\n",
              "    .dataframe tbody tr th:only-of-type {\n",
              "        vertical-align: middle;\n",
              "    }\n",
              "\n",
              "    .dataframe tbody tr th {\n",
              "        vertical-align: top;\n",
              "    }\n",
              "\n",
              "    .dataframe thead th {\n",
              "        text-align: right;\n",
              "    }\n",
              "</style>\n",
              "<table border=\"1\" class=\"dataframe\">\n",
              "  <thead>\n",
              "    <tr style=\"text-align: right;\">\n",
              "      <th></th>\n",
              "      <th>Unnamed: 0</th>\n",
              "      <th>x1</th>\n",
              "      <th>y1</th>\n",
              "      <th>x_count</th>\n",
              "      <th>y_count</th>\n",
              "    </tr>\n",
              "  </thead>\n",
              "  <tbody>\n",
              "    <tr>\n",
              "      <th>0</th>\n",
              "      <td>0</td>\n",
              "      <td>what kind of phones do you guys have</td>\n",
              "      <td>i have a it is pretty great much better than w...</td>\n",
              "      <td>8</td>\n",
              "      <td>8</td>\n",
              "    </tr>\n",
              "    <tr>\n",
              "      <th>1</th>\n",
              "      <td>1</td>\n",
              "      <td>i have a it is pretty great much better than w...</td>\n",
              "      <td>does it really charge all the way in min</td>\n",
              "      <td>14</td>\n",
              "      <td>14</td>\n",
              "    </tr>\n",
              "    <tr>\n",
              "      <th>2</th>\n",
              "      <td>2</td>\n",
              "      <td>does it really charge all the way in min</td>\n",
              "      <td>pretty fast i have never it but it is under ha...</td>\n",
              "      <td>9</td>\n",
              "      <td>9</td>\n",
              "    </tr>\n",
              "    <tr>\n",
              "      <th>3</th>\n",
              "      <td>3</td>\n",
              "      <td>what kind of phones do you guys have</td>\n",
              "      <td>samsung galaxy j it is my first cell phone and...</td>\n",
              "      <td>8</td>\n",
              "      <td>8</td>\n",
              "    </tr>\n",
              "    <tr>\n",
              "      <th>4</th>\n",
              "      <td>4</td>\n",
              "      <td>samsung galaxy j it is my first cell phone and...</td>\n",
              "      <td>what do you think of it anything you do not like</td>\n",
              "      <td>16</td>\n",
              "      <td>16</td>\n",
              "    </tr>\n",
              "  </tbody>\n",
              "</table>\n",
              "</div>"
            ],
            "text/plain": [
              "   Unnamed: 0  ... y_count\n",
              "0           0  ...       8\n",
              "1           1  ...      14\n",
              "2           2  ...       9\n",
              "3           3  ...       8\n",
              "4           4  ...      16\n",
              "\n",
              "[5 rows x 5 columns]"
            ]
          },
          "metadata": {
            "tags": []
          },
          "execution_count": 3
        }
      ]
    },
    {
      "cell_type": "code",
      "metadata": {
        "id": "WZX_oCBwXIOt",
        "colab_type": "code",
        "outputId": "2ca33c28-bdcf-479e-c948-095f8c2a9aa2",
        "colab": {
          "base_uri": "https://localhost:8080/",
          "height": 124
        }
      },
      "source": [
        "from keras.models import Model\n",
        "from keras.layers import Input, LSTM, Dense\n",
        "import numpy as np\n",
        "\n",
        "batch_size = 64  # Batch size for training.\n",
        "epochs = 100  # Number of epochs to train for.\n",
        "latent_dim = 256  # Latent dimensionality of the encoding space.\n",
        "num_samples = 10000  # Number of samples to train on.\n",
        "\n",
        "# Vectorize the data.\n",
        "input_texts = []\n",
        "target_texts = []\n",
        "input_words = set()\n",
        "target_words = set()\n",
        "\n",
        "for line in x:\n",
        "    input_texts.append(str(line).split(\" \"))\n",
        "    for word in str(line).split(\" \"):\n",
        "        if word not in input_words:\n",
        "            input_words.add(word)\n",
        "\n",
        "for line in y:\n",
        "  target_texts.append(['\\t'] + str(line).split(\" \") + ['\\n'])\n",
        "  for word in str(line).split(\" \"):\n",
        "    if word not in target_words:\n",
        "        target_words.add(word)\n",
        "target_words.add(\"\\t\")\n",
        "target_words.add(\"\\n\")\n",
        "  \n",
        "input_words = sorted(list(input_words))\n",
        "target_words = sorted(list(target_words))\n",
        "num_encoder_tokens = len(input_words)\n",
        "num_decoder_tokens = len(target_words)\n",
        "max_encoder_seq_length = max([len(txt) for txt in input_texts])\n",
        "max_decoder_seq_length = max([len(txt) for txt in target_texts])\n",
        "\n",
        "print('Number of samples:', len(input_texts))\n",
        "print('Number of unique input tokens:', num_encoder_tokens)\n",
        "print('Number of unique output tokens:', num_decoder_tokens)\n",
        "print('Max sequence length for inputs:', max_encoder_seq_length)\n",
        "print('Max sequence length for outputs:', max_decoder_seq_length)\n",
        "\n",
        "# Original Data\n",
        "# Number of samples: 56297\n",
        "# Number of unique input tokens: 18207\n",
        "# Number of unique output tokens: 22006\n",
        "# Max sequence length for inputs: 63\n",
        "# Max sequence length for outputs: 34"
      ],
      "execution_count": 6,
      "outputs": [
        {
          "output_type": "stream",
          "text": [
            "Using TensorFlow backend.\n"
          ],
          "name": "stderr"
        },
        {
          "output_type": "stream",
          "text": [
            "Number of samples: 33778\n",
            "Number of unique input tokens: 6840\n",
            "Number of unique output tokens: 5948\n",
            "Max sequence length for inputs: 25\n",
            "Max sequence length for outputs: 27\n"
          ],
          "name": "stdout"
        }
      ]
    },
    {
      "cell_type": "code",
      "metadata": {
        "id": "nGG9MwD3aC6K",
        "colab_type": "code",
        "outputId": "3f03a231-93e5-40ba-a397-cf4b9e9171d1",
        "colab": {
          "base_uri": "https://localhost:8080/",
          "height": 55
        }
      },
      "source": [
        "input_token_index = dict(\n",
        "    [(word, i) for i, word in enumerate(input_words)])\n",
        "target_token_index = dict(\n",
        "    [(word, i) for i, word in enumerate(target_words)])\n",
        "print(target_token_index)"
      ],
      "execution_count": 7,
      "outputs": [
        {
          "output_type": "stream",
          "text": [
            "{'': 0, '\\t': 1, '\\n': 2, 'a': 3, 'aaa': 4, 'abandoned': 5, 'abba': 6, 'abilities': 7, 'ability': 8, 'able': 9, 'abomination': 10, 'about': 11, 'abouts': 12, 'above': 13, 'absolute': 14, 'absolutely': 15, 'abstract': 16, 'abuse': 17, 'abusive': 18, 'ac': 19, 'academia': 20, 'academy': 21, 'accent': 22, 'accents': 23, 'accept': 24, 'acceptable': 25, 'accepted': 26, 'accepting': 27, 'access': 28, 'accident': 29, 'accidentally': 30, 'accidently': 31, 'accomplish': 32, 'accomplished': 33, 'accomplishment': 34, 'accomplishments': 35, 'according': 36, 'account': 37, 'accounting': 38, 'accounts': 39, 'accurate': 40, 'ace': 41, 'achieve': 42, 'achieved': 43, 'achievement': 44, 'acid': 45, 'acne': 46, 'acoustic': 47, 'acres': 48, 'across': 49, 'act': 50, 'acted': 51, 'acting': 52, 'action': 53, 'actions': 54, 'active': 55, 'activities': 56, 'activity': 57, 'actor': 58, 'actress': 59, 'acts': 60, 'actual': 61, 'actually': 62, 'ad': 63, 'adc': 64, 'add': 65, 'added': 66, 'addict': 67, 'addicted': 68, 'addicting': 69, 'addiction': 70, 'adding': 71, 'addition': 72, 'address': 73, 'admit': 74, 'adopt': 75, 'adopted': 76, 'adopting': 77, 'adoption': 78, 'adorable': 79, 'adore': 80, 'ads': 81, 'adult': 82, 'adults': 83, 'adventure': 84, 'advertising': 85, 'advice': 86, 'advise': 87, 'af': 88, 'affair': 89, 'affect': 90, 'affection': 91, 'afford': 92, 'afraid': 93, 'africa': 94, 'african': 95, 'after': 96, 'afternoon': 97, 'afterwards': 98, 'again': 99, 'against': 100, 'age': 101, 'aged': 102, 'agent': 103, 'ages': 104, 'aggressive': 105, 'aging': 106, 'ago': 107, 'agony': 108, 'agree': 109, 'agreed': 110, 'ah': 111, 'aha': 112, 'ahahaha': 113, 'ahead': 114, 'ahem': 115, 'ahh': 116, 'ahhhhh': 117, 'ahhs': 118, 'ahush': 119, 'ai': 120, 'aid': 121, 'aids': 122, 'air': 123, 'airplane': 124, 'airport': 125, 'airports': 126, 'aka': 127, 'al': 128, 'alarm': 129, 'alaska': 130, 'album': 131, 'albums': 132, 'alcohol': 133, 'alice': 134, 'alien': 135, 'aliens': 136, 'alike': 137, 'alive': 138, 'all': 139, 'allergic': 140, 'allow': 141, 'allowed': 142, 'allows': 143, 'almond': 144, 'almonds': 145, 'almost': 146, 'alone': 147, 'along': 148, 'alphabets': 149, 'already': 150, 'alright': 151, 'also': 152, 'alt': 153, 'alternative': 154, 'although': 155, 'always': 156, 'am': 157, 'ama': 158, 'amazed': 159, 'amazing': 160, 'amazon': 161, 'amen': 162, 'america': 163, 'american': 164, 'americans': 165, 'amie': 166, 'among': 167, 'amount': 168, 'amp': 169, 'amsterdam': 170, 'an': 171, 'anal': 172, 'analysis': 173, 'anatomy': 174, 'anchovies': 175, 'ancient': 176, 'and': 177, 'andor': 178, 'android': 179, 'andromeda': 180, 'andy': 181, 'angel': 182, 'anger': 183, 'angry': 184, 'animal': 185, 'animals': 186, 'animated': 187, 'animation': 188, 'anime': 189, 'ankle': 190, 'anniversary': 191, 'annoyed': 192, 'annoying': 193, 'annoys': 194, 'anonymous': 195, 'another': 196, 'answer': 197, 'answered': 198, 'answering': 199, 'answers': 200, 'ant': 201, 'antarctica': 202, 'ants': 203, 'anus': 204, 'anxiety': 205, 'anxious': 206, 'any': 207, 'anybody': 208, 'anymore': 209, 'anyone': 210, 'anyones': 211, 'anything': 212, 'anytime': 213, 'anyway': 214, 'anyways': 215, 'anywhere': 216, 'apart': 217, 'apartment': 218, 'apocalypse': 219, 'apologise': 220, 'apologize': 221, 'app': 222, 'apparently': 223, 'appeal': 224, 'appear': 225, 'appearance': 226, 'appeared': 227, 'appears': 228, 'appel': 229, 'apple': 230, 'apples': 231, 'application': 232, 'apply': 233, 'applying': 234, 'appointment': 235, 'appointments': 236, 'appreciate': 237, 'appreciated': 238, 'appropriate': 239, 'apps': 240, 'april': 241, 'aquarium': 242, 'aquarius': 243, 'arabia': 244, 'arabic': 245, 'arbs': 246, 'arcade': 247, 'archer': 248, 'archived': 249, 'arctic': 250, 'are': 251, 'area': 252, 'areas': 253, 'argentina': 254, 'argue': 255, 'arguing': 256, 'argument': 257, 'arguments': 258, 'arizona': 259, 'arkansas': 260, 'arm': 261, 'armed': 262, 'armour': 263, 'arms': 264, 'army': 265, 'arnold': 266, 'around': 267, 'arrested': 268, 'arrive': 269, 'arrived': 270, 'arrow': 271, 'art': 272, 'arthur': 273, 'artist': 274, 'artists': 275, 'artwork': 276, 'as': 277, 'asap': 278, 'asexual': 279, 'ashamed': 280, 'ashes': 281, 'asia': 282, 'asian': 283, 'aside': 284, 'ask': 285, 'asked': 286, 'asking': 287, 'asks': 288, 'asl': 289, 'asleep': 290, 'aspergers': 291, 'ass': 292, 'asshole': 293, 'assholes': 294, 'assignment': 295, 'assistant': 296, 'associated': 297, 'association': 298, 'assume': 299, 'assumed': 300, 'assuming': 301, 'assumptions': 302, 'aswell': 303, 'at': 304, 'ate': 305, 'atheism': 306, 'atheist': 307, 'athletic': 308, 'atm': 309, 'atmosphere': 310, 'attached': 311, 'attack': 312, 'attacks': 313, 'attempt': 314, 'attempting': 315, 'attend': 316, 'attending': 317, 'attention': 318, 'attitude': 319, 'attract': 320, 'attracted': 321, 'attractive': 322, 'attribute': 323, 'audience': 324, 'audio': 325, 'august': 326, 'aunt': 327, 'aussie': 328, 'austin': 329, 'australia': 330, 'australian': 331, 'australians': 332, 'austria': 333, 'authentic': 334, 'authority': 335, 'autistic': 336, 'auto': 337, 'automatic': 338, 'automobiles': 339, 'autumn': 340, 'available': 341, 'avatar': 342, 'average': 343, 'aviation': 344, 'avocado': 345, 'avocados': 346, 'avoid': 347, 'aw': 348, 'awake': 349, 'award': 350, 'aware': 351, 'away': 352, 'awe': 353, 'awesome': 354, 'awful': 355, 'awhile': 356, 'awkward': 357, 'axe': 358, 'aye': 359, 'az': 360, 'azygy': 361, 'b': 362, 'babies': 363, 'baby': 364, 'bachelor': 365, 'back': 366, 'backhanded': 367, 'backpack': 368, 'bacon': 369, 'bad': 370, 'badass': 371, 'badgers': 372, 'badly': 373, 'bag': 374, 'bagel': 375, 'bagels': 376, 'bahasa': 377, 'baileys': 378, 'bait': 379, 'bake': 380, 'baked': 381, 'baker': 382, 'balance': 383, 'balcony': 384, 'bald': 385, 'ball': 386, 'balls': 387, 'bambino': 388, 'ban': 389, 'banana': 390, 'bananas': 391, 'band': 392, 'bands': 393, 'bang': 394, 'banged': 395, 'banger': 396, 'bangs': 397, 'bank': 398, 'banned': 399, 'bar': 400, 'barbecue': 401, 'barcelona': 402, 'bard': 403, 'bare': 404, 'barely': 405, 'bark': 406, 'barrel': 407, 'bars': 408, 'base': 409, 'baseball': 410, 'based': 411, 'basement': 412, 'basic': 413, 'basically': 414, 'basis': 415, 'basketball': 416, 'bass': 417, 'bath': 418, 'bathe': 419, 'bathroom': 420, 'batman': 421, 'battery': 422, 'battle': 423, 'battlefield': 424, 'battles': 425, 'bay': 426, 'bb': 427, 'bbs': 428, 'bc': 429, 'be': 430, 'beach': 431, 'beaches': 432, 'beagle': 433, 'bean': 434, 'beans': 435, 'bear': 436, 'beard': 437, 'bears': 438, 'beast': 439, 'beat': 440, 'beating': 441, 'beatles': 442, 'beats': 443, 'beautiful': 444, 'beauty': 445, 'bebop': 446, 'became': 447, 'because': 448, 'become': 449, 'becomes': 450, 'becoming': 451, 'bed': 452, 'bedroom': 453, 'bee': 454, 'beef': 455, 'been': 456, 'beer': 457, 'beers': 458, 'bees': 459, 'beetles': 460, 'before': 461, 'began': 462, 'begin': 463, 'beginning': 464, 'behalf': 465, 'behavior': 466, 'behind': 467, 'being': 468, 'belated': 469, 'belfast': 470, 'belgium': 471, 'believe': 472, 'believed': 473, 'believer': 474, 'believes': 475, 'bell': 476, 'belly': 477, 'belong': 478, 'belongs': 479, 'below': 480, 'belt': 481, 'ben': 482, 'benefit': 483, 'benefits': 484, 'benjamin': 485, 'berlin': 486, 'berries': 487, 'berry': 488, 'besides': 489, 'best': 490, 'bet': 491, 'beta': 492, 'bethesda': 493, 'better': 494, 'between': 495, 'beverage': 496, 'beyond': 497, 'bf': 498, 'bi': 499, 'biased': 500, 'bible': 501, 'bicycle': 502, 'bien': 503, 'big': 504, 'bigger': 505, 'biggest': 506, 'bigoted': 507, 'bike': 508, 'bikes': 509, 'bilingual': 510, 'bill': 511, 'billion': 512, 'bills': 513, 'billy': 514, 'bin': 515, 'binge': 516, 'binged': 517, 'binging': 518, 'bio': 519, 'biology': 520, 'bird': 521, 'birds': 522, 'birth': 523, 'birthday': 524, 'birthmark': 525, 'biscuit': 526, 'bisexual': 527, 'bit': 528, 'bitch': 529, 'bitches': 530, 'bite': 531, 'bitter': 532, 'bizarre': 533, 'black': 534, 'blackout': 535, 'blade': 536, 'blame': 537, 'blanket': 538, 'blankets': 539, 'blaring': 540, 'blast': 541, 'blasting': 542, 'bleach': 543, 'blend': 544, 'bless': 545, 'blessed': 546, 'blessing': 547, 'blew': 548, 'blind': 549, 'blink': 550, 'blizzards': 551, 'block': 552, 'blonde': 553, 'blood': 554, 'bloodborne': 555, 'bloody': 556, 'blossoms': 557, 'blow': 558, 'blowing': 559, 'blowjob': 560, 'blown': 561, 'blows': 562, 'blue': 563, 'blueberry': 564, 'blunt': 565, 'blur': 566, 'board': 567, 'boarding': 568, 'boat': 569, 'bob': 570, 'bobs': 571, 'body': 572, 'bohemian': 573, 'boiled': 574, 'bold': 575, 'bomb': 576, 'bon': 577, 'bond': 578, 'bonding': 579, 'bone': 580, 'boneless': 581, 'bones': 582, 'bonus': 583, 'boo': 584, 'boob': 585, 'boobs': 586, 'boof': 587, 'book': 588, 'books': 589, 'boom': 590, 'boost': 591, 'boot': 592, 'boots': 593, 'booty': 594, 'booze': 595, 'borderlands': 596, 'borderline': 597, 'borders': 598, 'bored': 599, 'boring': 600, 'bork': 601, 'born': 602, 'borrow': 603, 'boss': 604, 'bosses': 605, 'boston': 606, 'bot': 607, 'both': 608, 'bother': 609, 'bothered': 610, 'bothering': 611, 'bots': 612, 'bottle': 613, 'bottom': 614, 'bottoms': 615, 'bought': 616, 'bounce': 617, 'bound': 618, 'bounty': 619, 'bourbon': 620, 'bout': 621, 'bow': 622, 'bowie': 623, 'bowl': 624, 'bowling': 625, 'bowls': 626, 'box': 627, 'boxer': 628, 'boxers': 629, 'boxing': 630, 'boy': 631, 'boyfriend': 632, 'boyfriends': 633, 'boys': 634, 'brace': 635, 'braces': 636, 'brag': 637, 'bragging': 638, 'brain': 639, 'brand': 640, 'brandon': 641, 'brave': 642, 'brazil': 643, 'bread': 644, 'break': 645, 'breakfast': 646, 'breaking': 647, 'breaks': 648, 'breast': 649, 'breath': 650, 'breathe': 651, 'breathing': 652, 'bredi': 653, 'breed': 654, 'breeze': 655, 'brew': 656, 'brian': 657, 'brick': 658, 'bride': 659, 'brief': 660, 'briefs': 661, 'bright': 662, 'brilliant': 663, 'bring': 664, 'bringing': 665, 'brings': 666, 'britain': 667, 'british': 668, 'bro': 669, 'broadly': 670, 'broccoli': 671, 'brock': 672, 'broke': 673, 'broken': 674, 'brooklyn': 675, 'brother': 676, 'brothers': 677, 'brothy': 678, 'brought': 679, 'brown': 680, 'brownie': 681, 'brownies': 682, 'browse': 683, 'browsing': 684, 'brunch': 685, 'brush': 686, 'brutal': 687, 'bs': 688, 'bu': 689, 'bubble': 690, 'bubbles': 691, 'buck': 692, 'buckaroo': 693, 'bucket': 694, 'bucks': 695, 'bud': 696, 'buddies': 697, 'buddy': 698, 'budget': 699, 'buenos': 700, 'buffalo': 701, 'buffy': 702, 'bug': 703, 'bugger': 704, 'bugs': 705, 'build': 706, 'building': 707, 'built': 708, 'bull': 709, 'bullet': 710, 'bullied': 711, 'bullshit': 712, 'bully': 713, 'bum': 714, 'bummed': 715, 'bun': 716, 'bunch': 717, 'buns': 718, 'burger': 719, 'burgers': 720, 'burn': 721, 'burning': 722, 'burnt': 723, 'burritos': 724, 'burst': 725, 'bursts': 726, 'bus': 727, 'buses': 728, 'bushes': 729, 'business': 730, 'busy': 731, 'but': 732, 'butt': 733, 'butter': 734, 'butterfingers': 735, 'butterfly': 736, 'butthole': 737, 'button': 738, 'buttons': 739, 'butts': 740, 'buy': 741, 'buying': 742, 'buzzing': 743, 'by': 744, 'c': 745, 'ca': 746, 'cabin': 747, 'cabinet': 748, 'cable': 749, 'cactus': 750, 'caffeine': 751, 'cage': 752, 'cake': 753, 'cakes': 754, 'calamari': 755, 'calculus': 756, 'california': 757, 'call': 758, 'called': 759, 'callers': 760, 'calling': 761, 'calls': 762, 'calm': 763, 'calories': 764, 'came': 765, 'camera': 766, 'camp': 767, 'campaign': 768, 'camping': 769, 'campus': 770, 'can': 771, 'canada': 772, 'canadian': 773, 'canadians': 774, 'cancelled': 775, 'cancer': 776, 'candle': 777, 'candy': 778, 'cannot': 779, 'cant': 780, 'canvas': 781, 'cap': 782, 'capable': 783, 'capital': 784, 'capitalism': 785, 'capricorn': 786, 'caps': 787, 'captain': 788, 'car': 789, 'caramel': 790, 'carbon': 791, 'carbs': 792, 'card': 793, 'carded': 794, 'cards': 795, 'care': 796, 'cared': 797, 'career': 798, 'careful': 799, 'carefully': 800, 'cares': 801, 'caretaker': 802, 'caring': 803, 'carnivorous': 804, 'carolina': 805, 'carried': 806, 'carrot': 807, 'carrots': 808, 'carry': 809, 'carrying': 810, 'cars': 811, 'cartoon': 812, 'cartoons': 813, 'case': 814, 'cash': 815, 'cashier': 816, 'cast': 817, 'castle': 818, 'castlevania': 819, 'castoff': 820, 'casual': 821, 'casually': 822, 'casuals': 823, 'cat': 824, 'catch': 825, 'catcher': 826, 'catchphrase': 827, 'catchy': 828, 'category': 829, 'cathartic': 830, 'cats': 831, 'caught': 832, 'caused': 833, 'causes': 834, 'cave': 835, 'cavity': 836, 'cc': 837, 'celebrate': 838, 'celebrated': 839, 'celebrating': 840, 'celebration': 841, 'celebrity': 842, 'cell': 843, 'cello': 844, 'cells': 845, 'celsius': 846, 'centai': 847, 'center': 848, 'centimeters': 849, 'centipede': 850, 'central': 851, 'cents': 852, 'century': 853, 'cereal': 854, 'ceremony': 855, 'certain': 856, 'certainly': 857, 'certificate': 858, 'certified': 859, 'chain': 860, 'chains': 861, 'chair': 862, 'challenge': 863, 'challenges': 864, 'challenging': 865, 'champion': 866, 'chance': 867, 'chances': 868, 'change': 869, 'changed': 870, 'changes': 871, 'changing': 872, 'channel': 873, 'channels': 874, 'chaos': 875, 'chap': 876, 'character': 877, 'characters': 878, 'charge': 879, 'charges': 880, 'charity': 881, 'charlie': 882, 'charming': 883, 'chase': 884, 'chat': 885, 'chatting': 886, 'che': 887, 'cheap': 888, 'cheaper': 889, 'cheat': 890, 'cheated': 891, 'cheater': 892, 'cheating': 893, 'check': 894, 'checked': 895, 'checking': 896, 'checks': 897, 'cheddar': 898, 'cheek': 899, 'cheer': 900, 'cheerios': 901, 'cheeros': 902, 'cheers': 903, 'cheese': 904, 'cheeseburger': 905, 'cheesecake': 906, 'cheesy': 907, 'chef': 908, 'chem': 909, 'chemical': 910, 'chemicals': 911, 'chemistry': 912, 'cherry': 913, 'chess': 914, 'chest': 915, 'chicago': 916, 'chick': 917, 'chicken': 918, 'chickens': 919, 'chickfila': 920, 'chickpeas': 921, 'chicks': 922, 'chief': 923, 'child': 924, 'childhood': 925, 'childish': 926, 'children': 927, 'chili': 928, 'chilis': 929, 'chill': 930, 'chilled': 931, 'chilling': 932, 'chills': 933, 'chilly': 934, 'chime': 935, 'chin': 936, 'china': 937, 'chinese': 938, 'chip': 939, 'chipotle': 940, 'chips': 941, 'chitlin': 942, 'chocolate': 943, 'chocolates': 944, 'choice': 945, 'choices': 946, 'cholesterol': 947, 'choose': 948, 'chop': 949, 'chopsticks': 950, 'chose': 951, 'chosen': 952, 'chris': 953, 'christ': 954, 'christian': 955, 'christmas': 956, 'chuck': 957, 'church': 958, 'cider': 959, 'cigarettes': 960, 'cinema': 961, 'cinnamon': 962, 'circ': 963, 'circle': 964, 'circles': 965, 'circus': 966, 'cities': 967, 'citizen': 968, 'city': 969, 'civ': 970, 'civics': 971, 'ck': 972, 'claim': 973, 'class': 974, 'classes': 975, 'classic': 976, 'classical': 977, 'classics': 978, 'classmate': 979, 'classy': 980, 'claus': 981, 'clean': 982, 'cleaning': 983, 'clear': 984, 'clearly': 985, 'clever': 986, 'cleverest': 987, 'click': 988, 'client': 989, 'climb': 990, 'climbing': 991, 'clint': 992, 'clock': 993, 'clone': 994, 'close': 995, 'closed': 996, 'closer': 997, 'closest': 998, 'closing': 999, 'clot': 1000, 'clothes': 1001, 'clothing': 1002, 'cloud': 1003, 'clouds': 1004, 'cloudy': 1005, 'club': 1006, 'clue': 1007, 'clutch': 1008, 'cm': 1009, 'coast': 1010, 'coaster': 1011, 'cocaine': 1012, 'cock': 1013, 'cockroach': 1014, 'cocoa': 1015, 'coconut': 1016, 'code': 1017, 'coding': 1018, 'coffee': 1019, 'coffin': 1020, 'coincidence': 1021, 'coke': 1022, 'cola': 1023, 'cold': 1024, 'coldly': 1025, 'collect': 1026, 'collecting': 1027, 'collection': 1028, 'college': 1029, 'colleges': 1030, 'colocola': 1031, 'colonel': 1032, 'color': 1033, 'colorado': 1034, 'colored': 1035, 'colors': 1036, 'colour': 1037, 'com': 1038, 'coma': 1039, 'combat': 1040, 'combination': 1041, 'combine': 1042, 'combined': 1043, 'combo': 1044, 'come': 1045, 'comeback': 1046, 'comedy': 1047, 'comes': 1048, 'comfort': 1049, 'comfortable': 1050, 'comforting': 1051, 'comfy': 1052, 'comic': 1053, 'comics': 1054, 'coming': 1055, 'comma': 1056, 'comme': 1057, 'comment': 1058, 'commented': 1059, 'commenting': 1060, 'comments': 1061, 'commercial': 1062, 'commercials': 1063, 'commit': 1064, 'common': 1065, 'communicate': 1066, 'communication': 1067, 'communist': 1068, 'community': 1069, 'comp': 1070, 'company': 1071, 'compare': 1072, 'compared': 1073, 'competition': 1074, 'competitive': 1075, 'complain': 1076, 'complaining': 1077, 'complete': 1078, 'completed': 1079, 'completely': 1080, 'complex': 1081, 'complicated': 1082, 'compliment': 1083, 'complimented': 1084, 'complimenting': 1085, 'compliments': 1086, 'computer': 1087, 'computers': 1088, 'comrade': 1089, 'con': 1090, 'concept': 1091, 'concerned': 1092, 'concert': 1093, 'concerts': 1094, 'conclusions': 1095, 'concrete': 1096, 'condiments': 1097, 'condition': 1098, 'condolences': 1099, 'condoms': 1100, 'cone': 1101, 'confidence': 1102, 'confident': 1103, 'confirm': 1104, 'confirmed': 1105, 'conflicting': 1106, 'confuse': 1107, 'confused': 1108, 'confusing': 1109, 'congrats': 1110, 'congratulate': 1111, 'congratulations': 1112, 'connected': 1113, 'connection': 1114, 'conscious': 1115, 'conservative': 1116, 'consider': 1117, 'considered': 1118, 'considering': 1119, 'consistently': 1120, 'console': 1121, 'consoles': 1122, 'conspiracy': 1123, 'constant': 1124, 'constantly': 1125, 'construction': 1126, 'contact': 1127, 'contacts': 1128, 'content': 1129, 'context': 1130, 'continent': 1131, 'continents': 1132, 'continue': 1133, 'continued': 1134, 'continues': 1135, 'control': 1136, 'controlled': 1137, 'controversial': 1138, 'convenient': 1139, 'conversation': 1140, 'conversations': 1141, 'converse': 1142, 'conversing': 1143, 'convert': 1144, 'converted': 1145, 'convince': 1146, 'convinced': 1147, 'cook': 1148, 'cooked': 1149, 'cookie': 1150, 'cookies': 1151, 'cooking': 1152, 'cool': 1153, 'cooler': 1154, 'coolest': 1155, 'coop': 1156, 'cop': 1157, 'cops': 1158, 'copy': 1159, 'cord': 1160, 'core': 1161, 'corgi': 1162, 'corn': 1163, 'cornea': 1164, 'corner': 1165, 'corpse': 1166, 'correct': 1167, 'correctly': 1168, 'cost': 1169, 'costo': 1170, 'costs': 1171, 'costume': 1172, 'couch': 1173, 'cough': 1174, 'could': 1175, 'count': 1176, 'counted': 1177, 'counterpart': 1178, 'counting': 1179, 'countries': 1180, 'country': 1181, 'counts': 1182, 'couple': 1183, 'courage': 1184, 'course': 1185, 'courtesy': 1186, 'cousin': 1187, 'cousins': 1188, 'couture': 1189, 'cover': 1190, 'covered': 1191, 'covering': 1192, 'covers': 1193, 'cow': 1194, 'cowboy': 1195, 'coworker': 1196, 'coworkers': 1197, 'cozy': 1198, 'cpr': 1199, 'crack': 1200, 'cracked': 1201, 'cracker': 1202, 'crackers': 1203, 'craigslist': 1204, 'crap': 1205, 'crappy': 1206, 'crash': 1207, 'craving': 1208, 'crawl': 1209, 'craziest': 1210, 'crazy': 1211, 'cream': 1212, 'creamed': 1213, 'creamer': 1214, 'creamy': 1215, 'create': 1216, 'created': 1217, 'creating': 1218, 'creative': 1219, 'creativity': 1220, 'creator': 1221, 'creature': 1222, 'creatures': 1223, 'credit': 1224, 'creditors': 1225, 'creep': 1226, 'creeped': 1227, 'creepy': 1228, 'crepes': 1229, 'cricket': 1230, 'crime': 1231, 'cringe': 1232, 'cripple': 1233, 'crisps': 1234, 'crispy': 1235, 'croatian': 1236, 'crocs': 1237, 'croissant': 1238, 'crooked': 1239, 'cross': 1240, 'crossed': 1241, 'crowd': 1242, 'crumb': 1243, 'crumbs': 1244, 'crunch': 1245, 'crunchy': 1246, 'crush': 1247, 'crushes': 1248, 'crushing': 1249, 'crust': 1250, 'cry': 1251, 'crying': 1252, 'ct': 1253, 'ctrl': 1254, 'cube': 1255, 'cubes': 1256, 'cuddle': 1257, 'cuddled': 1258, 'cuddles': 1259, 'cuddling': 1260, 'cue': 1261, 'cult': 1262, 'culture': 1263, 'cum': 1264, 'cup': 1265, 'cupcake': 1266, 'cupcakes': 1267, 'cups': 1268, 'curate': 1269, 'cure': 1270, 'cured': 1271, 'curiosity': 1272, 'curious': 1273, 'curled': 1274, 'curly': 1275, 'currency': 1276, 'current': 1277, 'currently': 1278, 'curry': 1279, 'curse': 1280, 'cursed': 1281, 'curtains': 1282, 'curvy': 1283, 'customer': 1284, 'cut': 1285, 'cute': 1286, 'cutest': 1287, 'cutting': 1288, 'cuz': 1289, 'cycle': 1290, 'cynical': 1291, 'cystic': 1292, 'czech': 1293, 'd': 1294, 'da': 1295, 'dad': 1296, 'daddy': 1297, 'dads': 1298, 'daily': 1299, 'dairy': 1300, 'dam': 1301, 'dammit': 1302, 'damn': 1303, 'damned': 1304, 'damning': 1305, 'damnit': 1306, 'damp': 1307, 'dan': 1308, 'dance': 1309, 'dancer': 1310, 'dancing': 1311, 'dang': 1312, 'danger': 1313, 'dangerous': 1314, 'daniel': 1315, 'danish': 1316, 'dank': 1317, 'danke': 1318, 'danny': 1319, 'dare': 1320, 'daredevil': 1321, 'dark': 1322, 'darkest': 1323, 'darkness': 1324, 'darn': 1325, 'das': 1326, 'dash': 1327, 'dat': 1328, 'data': 1329, 'date': 1330, 'dated': 1331, 'dates': 1332, 'dating': 1333, 'daughter': 1334, 'david': 1335, 'davis': 1336, 'dawn': 1337, 'day': 1338, 'daydreaming': 1339, 'daylight': 1340, 'days': 1341, 'daytime': 1342, 'dc': 1343, 'de': 1344, 'dead': 1345, 'deadwood': 1346, 'deal': 1347, 'dealing': 1348, 'dear': 1349, 'death': 1350, 'debating': 1351, 'debt': 1352, 'dec': 1353, 'decade': 1354, 'decent': 1355, 'decently': 1356, 'decide': 1357, 'decided': 1358, 'decision': 1359, 'decisions': 1360, 'deck': 1361, 'decks': 1362, 'dedicated': 1363, 'deep': 1364, 'deepest': 1365, 'deeply': 1366, 'def': 1367, 'default': 1368, 'defeated': 1369, 'define': 1370, 'definedly': 1371, 'defines': 1372, 'definitely': 1373, 'definition': 1374, 'degenerate': 1375, 'degree': 1376, 'degrees': 1377, 'delayed': 1378, 'delete': 1379, 'deleted': 1380, 'delicious': 1381, 'delish': 1382, 'deliver': 1383, 'dells': 1384, 'demon': 1385, 'demonic': 1386, 'demons': 1387, 'denial': 1388, 'denmark': 1389, 'dentist': 1390, 'denver': 1391, 'department': 1392, 'depends': 1393, 'deployed': 1394, 'deported': 1395, 'deposit': 1396, 'depressed': 1397, 'depressing': 1398, 'depression': 1399, 'derrire': 1400, 'describe': 1401, 'describes': 1402, 'description': 1403, 'desert': 1404, 'deserted': 1405, 'deserve': 1406, 'deserved': 1407, 'deserving': 1408, 'design': 1409, 'designer': 1410, 'desire': 1411, 'desk': 1412, 'desktop': 1413, 'desperately': 1414, 'despite': 1415, 'dessert': 1416, 'destination': 1417, 'destroying': 1418, 'details': 1419, 'detective': 1420, 'detroit': 1421, 'deus': 1422, 'deutsche': 1423, 'developed': 1424, 'development': 1425, 'devil': 1426, 'devoto': 1427, 'dew': 1428, 'diabetes': 1429, 'diagnosed': 1430, 'diam': 1431, 'diamonds': 1432, 'diary': 1433, 'dias': 1434, 'dick': 1435, 'dicks': 1436, 'dictionary': 1437, 'did': 1438, 'didnt': 1439, 'die': 1440, 'died': 1441, 'diego': 1442, 'dies': 1443, 'diet': 1444, 'dieting': 1445, 'difference': 1446, 'different': 1447, 'difficult': 1448, 'dig': 1449, 'digging': 1450, 'digital': 1451, 'dill': 1452, 'dime': 1453, 'dimension': 1454, 'dimensions': 1455, 'dine': 1456, 'ding': 1457, 'dinner': 1458, 'dinosaur': 1459, 'dinosaurs': 1460, 'dip': 1461, 'diploma': 1462, 'dire': 1463, 'direction': 1464, 'directly': 1465, 'dirt': 1466, 'dirty': 1467, 'dis': 1468, 'disabled': 1469, 'disagree': 1470, 'disappear': 1471, 'disappeared': 1472, 'disappointed': 1473, 'disappointing': 1474, 'discipline': 1475, 'disco': 1476, 'discord': 1477, 'discover': 1478, 'discovered': 1479, 'discuss': 1480, 'discussion': 1481, 'disgusting': 1482, 'dish': 1483, 'dishes': 1484, 'dislike': 1485, 'disney': 1486, 'disorder': 1487, 'distance': 1488, 'distract': 1489, 'distraction': 1490, 'ditch': 1491, 'ditched': 1492, 'ditto': 1493, 'dive': 1494, 'diving': 1495, 'division': 1496, 'divorce': 1497, 'divorced': 1498, 'do': 1499, 'doctor': 1500, 'doctors': 1501, 'documentaries': 1502, 'documentary': 1503, 'dodged': 1504, 'does': 1505, 'dog': 1506, 'doggo': 1507, 'dogs': 1508, 'doing': 1509, 'dollar': 1510, 'dollars': 1511, 'dominoes': 1512, 'donald': 1513, 'donate': 1514, 'donated': 1515, 'done': 1516, 'dont': 1517, 'donut': 1518, 'donuts': 1519, 'doodle': 1520, 'doom': 1521, 'door': 1522, 'doors': 1523, 'dope': 1524, 'dot': 1525, 'double': 1526, 'doubt': 1527, 'doubtful': 1528, 'douchebag': 1529, 'dough': 1530, 'doughnuts': 1531, 'down': 1532, 'download': 1533, 'downloaded': 1534, 'downloading': 1535, 'downstairs': 1536, 'downzone': 1537, 'downzoned': 1538, 'downzones': 1539, 'dozens': 1540, 'dr': 1541, 'drag': 1542, 'dragon': 1543, 'dragons': 1544, 'drake': 1545, 'drama': 1546, 'dramatic': 1547, 'drank': 1548, 'draw': 1549, 'drawer': 1550, 'drawing': 1551, 'drawings': 1552, 'dread': 1553, 'dreading': 1554, 'dream': 1555, 'dreams': 1556, 'dreamy': 1557, 'dress': 1558, 'dressed': 1559, 'dressing': 1560, 'drink': 1561, 'drinker': 1562, 'drinking': 1563, 'drinks': 1564, 'drive': 1565, 'driven': 1566, 'driver': 1567, 'drivers': 1568, 'drives': 1569, 'driving': 1570, 'droits': 1571, 'drone': 1572, 'drop': 1573, 'dropped': 1574, 'drove': 1575, 'drown': 1576, 'drug': 1577, 'drugs': 1578, 'drums': 1579, 'drumstick': 1580, 'drumsticks': 1581, 'drunk': 1582, 'druthers': 1583, 'dry': 1584, 'ds': 1585, 'du': 1586, 'duck': 1587, 'ducks': 1588, 'dude': 1589, 'dudes': 1590, 'duds': 1591, 'due': 1592, 'duh': 1593, 'dumb': 1594, 'dumbest': 1595, 'dump': 1596, 'dumplingsgtsushi': 1597, 'dunkirk': 1598, 'dunno': 1599, 'during': 1600, 'dutch': 1601, 'duty': 1602, 'dweller': 1603, 'dwight': 1604, 'dye': 1605, 'dyed': 1606, 'dying': 1607, 'dynamite': 1608, 'e': 1609, 'each': 1610, 'eagerly': 1611, 'eagle': 1612, 'ear': 1613, 'earl': 1614, 'earlier': 1615, 'early': 1616, 'earn': 1617, 'earned': 1618, 'ears': 1619, 'earth': 1620, 'easier': 1621, 'easily': 1622, 'east': 1623, 'easter': 1624, 'eastern': 1625, 'easy': 1626, 'easygoing': 1627, 'eat': 1628, 'eaten': 1629, 'eater': 1630, 'eating': 1631, 'eclipse': 1632, 'economic': 1633, 'ecstatic': 1634, 'ed': 1635, 'edgy': 1636, 'edible': 1637, 'edit': 1638, 'edited': 1639, 'edition': 1640, 'editor': 1641, 'education': 1642, 'effect': 1643, 'effective': 1644, 'effects': 1645, 'effort': 1646, 'egg': 1647, 'eggs': 1648, 'eh': 1649, 'eight': 1650, 'eightscore': 1651, 'either': 1652, 'el': 1653, 'elaborate': 1654, 'elder': 1655, 'elderly': 1656, 'elect': 1657, 'election': 1658, 'electric': 1659, 'electronic': 1660, 'electronics': 1661, 'element': 1662, 'elementary': 1663, 'elephant': 1664, 'eleven': 1665, 'eligible': 1666, 'eliminate': 1667, 'eliza': 1668, 'ellipsis': 1669, 'else': 1670, 'em': 1671, 'email': 1672, 'emails': 1673, 'embarrassed': 1674, 'embarrassing': 1675, 'emboli': 1676, 'emotional': 1677, 'emotions': 1678, 'empathetic': 1679, 'empire': 1680, 'employer': 1681, 'empty': 1682, 'ems': 1683, 'en': 1684, 'enchains': 1685, 'encountered': 1686, 'encouraging': 1687, 'end': 1688, 'endangered': 1689, 'ended': 1690, 'ending': 1691, 'endless': 1692, 'ends': 1693, 'enemies': 1694, 'energy': 1695, 'engagement': 1696, 'engineer': 1697, 'engineering': 1698, 'england': 1699, 'english': 1700, 'enigma': 1701, 'enjoy': 1702, 'enjoyable': 1703, 'enjoyed': 1704, 'enjoying': 1705, 'enough': 1706, 'entail': 1707, 'enter': 1708, 'entertainer': 1709, 'entertaining': 1710, 'entertainment': 1711, 'enthusiasm': 1712, 'entire': 1713, 'entirely': 1714, 'envelope': 1715, 'envy': 1716, 'ep': 1717, 'epic': 1718, 'epidemic': 1719, 'episode': 1720, 'episodes': 1721, 'equally': 1722, 'equipped': 1723, 'equivalent': 1724, 'eric': 1725, 'error': 1726, 'es': 1727, 'escape': 1728, 'escaped': 1729, 'espauol': 1730, 'especially': 1731, 'essay': 1732, 'essentially': 1733, 'et': 1734, 'etc': 1735, 'eternal': 1736, 'eu': 1737, 'europe': 1738, 'european': 1739, 'evans': 1740, 'eve': 1741, 'even': 1742, 'evening': 1743, 'event': 1744, 'events': 1745, 'eventually': 1746, 'ever': 1747, 'every': 1748, 'everybody': 1749, 'everyday': 1750, 'everyone': 1751, 'everything': 1752, 'everywhere': 1753, 'evil': 1754, 'ew': 1755, 'ex': 1756, 'exact': 1757, 'exactly': 1758, 'exam': 1759, 'example': 1760, 'examples': 1761, 'exams': 1762, 'excellent': 1763, 'except': 1764, 'exchanged': 1765, 'excited': 1766, 'excitement': 1767, 'exciting': 1768, 'excuse': 1769, 'exercise': 1770, 'exercises': 1771, 'exhausted': 1772, 'exhausting': 1773, 'exist': 1774, 'existed': 1775, 'existence': 1776, 'exists': 1777, 'exotic': 1778, 'expect': 1779, 'expectation': 1780, 'expected': 1781, 'expecting': 1782, 'expensive': 1783, 'experience': 1784, 'experienced': 1785, 'experiences': 1786, 'experiment': 1787, 'explain': 1788, 'explore': 1789, 'express': 1790, 'expression': 1791, 'extent': 1792, 'extra': 1793, 'extremely': 1794, 'eye': 1795, 'eyes': 1796, 'f': 1797, 'fa': 1798, 'face': 1799, 'faces': 1800, 'facial': 1801, 'fact': 1802, 'factory': 1803, 'facts': 1804, 'faded': 1805, 'fahrenheit': 1806, 'fail': 1807, 'failed': 1808, 'failure': 1809, 'fair': 1810, 'fairly': 1811, 'fairness': 1812, 'faith': 1813, 'fake': 1814, 'falcon': 1815, 'fall': 1816, 'falling': 1817, 'fallout': 1818, 'falls': 1819, 'false': 1820, 'fam': 1821, 'familiar': 1822, 'familiarized': 1823, 'families': 1824, 'family': 1825, 'famous': 1826, 'fan': 1827, 'fancy': 1828, 'fans': 1829, 'fantastic': 1830, 'fantasy': 1831, 'fap': 1832, 'far': 1833, 'farm': 1834, 'farmer': 1835, 'fart': 1836, 'farts': 1837, 'fascinating': 1838, 'fashion': 1839, 'fashioned': 1840, 'fast': 1841, 'faster': 1842, 'fat': 1843, 'fate': 1844, 'father': 1845, 'fathers': 1846, 'fault': 1847, 'faulty': 1848, 'fave': 1849, 'favor': 1850, 'favorite': 1851, 'favorites': 1852, 'favour': 1853, 'favourite': 1854, 'favourites': 1855, 'fb': 1856, 'fbi': 1857, 'fear': 1858, 'fears': 1859, 'feat': 1860, 'feathers': 1861, 'feature': 1862, 'featured': 1863, 'features': 1864, 'feb': 1865, 'february': 1866, 'fed': 1867, 'feed': 1868, 'feel': 1869, 'feeling': 1870, 'feelings': 1871, 'feels': 1872, 'feet': 1873, 'fell': 1874, 'fellow': 1875, 'fellowship': 1876, 'felt': 1877, 'female': 1878, 'females': 1879, 'feminine': 1880, 'feminist': 1881, 'femme': 1882, 'femoris': 1883, 'fence': 1884, 'festival': 1885, 'fetish': 1886, 'fever': 1887, 'few': 1888, 'ff': 1889, 'fi': 1890, 'fiance': 1891, 'fiancee': 1892, 'fiction': 1893, 'fictional': 1894, 'fidget': 1895, 'field': 1896, 'fields': 1897, 'fifteen': 1898, 'fifth': 1899, 'fight': 1900, 'fighting': 1901, 'figure': 1902, 'figured': 1903, 'fil': 1904, 'fila': 1905, 'file': 1906, 'filipino': 1907, 'fill': 1908, 'filled': 1909, 'film': 1910, 'films': 1911, 'filter': 1912, 'filthy': 1913, 'final': 1914, 'finally': 1915, 'finals': 1916, 'financial': 1917, 'find': 1918, 'finding': 1919, 'finds': 1920, 'fine': 1921, 'finger': 1922, 'fingers': 1923, 'finish': 1924, 'finished': 1925, 'finishing': 1926, 'finland': 1927, 'fire': 1928, 'fired': 1929, 'firefighter': 1930, 'firefly': 1931, 'fireworks': 1932, 'first': 1933, 'fish': 1934, 'fishing': 1935, 'fist': 1936, 'fit': 1937, 'fits': 1938, 'fitting': 1939, 'five': 1940, 'fix': 1941, 'fixed': 1942, 'fl': 1943, 'flag': 1944, 'flair': 1945, 'flash': 1946, 'flat': 1947, 'flavor': 1948, 'flavored': 1949, 'flavour': 1950, 'flavoured': 1951, 'flaw': 1952, 'flew': 1953, 'flex': 1954, 'flies': 1955, 'flight': 1956, 'flip': 1957, 'flipped': 1958, 'flirting': 1959, 'float': 1960, 'floating': 1961, 'floats': 1962, 'flood': 1963, 'floor': 1964, 'florida': 1965, 'flossing': 1966, 'flower': 1967, 'flowers': 1968, 'flu': 1969, 'fluent': 1970, 'fluently': 1971, 'fluffy': 1972, 'fluid': 1973, 'fly': 1974, 'flying': 1975, 'fo': 1976, 'foam': 1977, 'focus': 1978, 'foi': 1979, 'fold': 1980, 'folding': 1981, 'folk': 1982, 'folks': 1983, 'follow': 1984, 'followed': 1985, 'following': 1986, 'follows': 1987, 'fond': 1988, 'fonts': 1989, 'food': 1990, 'foods': 1991, 'fool': 1992, 'foolish': 1993, 'foot': 1994, 'football': 1995, 'for': 1996, 'force': 1997, 'forced': 1998, 'foreign': 1999, 'forest': 2000, 'forever': 2001, 'forget': 2002, 'forgive': 2003, 'forgot': 2004, 'forgotten': 2005, 'fork': 2006, 'form': 2007, 'format': 2008, 'former': 2009, 'formerly': 2010, 'fortunately': 2011, 'fortune': 2012, 'forty': 2013, 'forward': 2014, 'found': 2015, 'four': 2016, 'fourth': 2017, 'fox': 2018, 'fr': 2019, 'france': 2020, 'frank': 2021, 'frankenstein': 2022, 'frankly': 2023, 'frantically': 2024, 'frasier': 2025, 'fraud': 2026, 'freak': 2027, 'freaking': 2028, 'free': 2029, 'freedom': 2030, 'freeze': 2031, 'freezer': 2032, 'freezing': 2033, 'fren': 2034, 'french': 2035, 'frequently': 2036, 'fresh': 2037, 'freshman': 2038, 'friday': 2039, 'fridge': 2040, 'fried': 2041, 'friend': 2042, 'friendly': 2043, 'friends': 2044, 'friendship': 2045, 'fries': 2046, 'frog': 2047, 'from': 2048, 'front': 2049, 'frozen': 2050, 'fruggin': 2051, 'fruit': 2052, 'fruits': 2053, 'frustrated': 2054, 'frustrating': 2055, 'fruz': 2056, 'fry': 2057, 'ft': 2058, 'fuck': 2059, 'fucked': 2060, 'fucking': 2061, 'fucks': 2062, 'fudge': 2063, 'fuel': 2064, 'fugios': 2065, 'fulfilled': 2066, 'full': 2067, 'fullest': 2068, 'fully': 2069, 'fun': 2070, 'functioning': 2071, 'fund': 2072, 'funeral': 2073, 'funk': 2074, 'funniest': 2075, 'funny': 2076, 'furniture': 2077, 'further': 2078, 'furthest': 2079, 'futurama': 2080, 'future': 2081, 'g': 2082, 'gain': 2083, 'gained': 2084, 'gal': 2085, 'galaxy': 2086, 'gallery': 2087, 'gallon': 2088, 'game': 2089, 'gamer': 2090, 'games': 2091, 'gaming': 2092, 'gang': 2093, 'gangsta': 2094, 'gap': 2095, 'gape': 2096, 'gaping': 2097, 'garage': 2098, 'garbage': 2099, 'garden': 2100, 'garlic': 2101, 'gary': 2102, 'gas': 2103, 'gascon': 2104, 'gasp': 2105, 'gates': 2106, 'gathering': 2107, 'gave': 2108, 'gay': 2109, 'gb': 2110, 'gear': 2111, 'geez': 2112, 'gemini': 2113, 'gen': 2114, 'gender': 2115, 'general': 2116, 'generally': 2117, 'generation': 2118, 'generations': 2119, 'generic': 2120, 'genetics': 2121, 'genie': 2122, 'genius': 2123, 'genre': 2124, 'genres': 2125, 'gentleman': 2126, 'genuine': 2127, 'genuinely': 2128, 'geography': 2129, 'george': 2130, 'german': 2131, 'germany': 2132, 'gesture': 2133, 'get': 2134, 'gets': 2135, 'getting': 2136, 'ghost': 2137, 'giant': 2138, 'giddy': 2139, 'gif': 2140, 'gift': 2141, 'gifts': 2142, 'gig': 2143, 'gimme': 2144, 'gin': 2145, 'ginger': 2146, 'giraffe': 2147, 'girl': 2148, 'girlfriend': 2149, 'girlfriends': 2150, 'girls': 2151, 'give': 2152, 'given': 2153, 'gives': 2154, 'giving': 2155, 'glad': 2156, 'gladly': 2157, 'glass': 2158, 'glasses': 2159, 'glitter': 2160, 'globe': 2161, 'gloomy': 2162, 'glorious': 2163, 'glory': 2164, 'glove': 2165, 'gloves': 2166, 'glutenfree': 2167, 'go': 2168, 'goal': 2169, 'goals': 2170, 'goat': 2171, 'goats': 2172, 'god': 2173, 'goddamn': 2174, 'gods': 2175, 'godspeed': 2176, 'goeduck': 2177, 'goes': 2178, 'gofundme': 2179, 'going': 2180, 'gold': 2181, 'golden': 2182, 'golf': 2183, 'gone': 2184, 'gonna': 2185, 'good': 2186, 'goodness': 2187, 'goods': 2188, 'google': 2189, 'googled': 2190, 'googling': 2191, 'goosebumps': 2192, 'gorge': 2193, 'gorgeous': 2194, 'gorilla': 2195, 'gosh': 2196, 'got': 2197, 'gotcha': 2198, 'gotchy': 2199, 'gotham': 2200, 'goto': 2201, 'gotta': 2202, 'gotten': 2203, 'government': 2204, 'grab': 2205, 'grabs': 2206, 'grace': 2207, 'grade': 2208, 'grades': 2209, 'graduate': 2210, 'graduated': 2211, 'graduating': 2212, 'graduation': 2213, 'grammar': 2214, 'grand': 2215, 'grandma': 2216, 'grandmother': 2217, 'grandpa': 2218, 'grandparents': 2219, 'grant': 2220, 'grapefruit': 2221, 'grapes': 2222, 'graphic': 2223, 'graphics': 2224, 'grasp': 2225, 'grass': 2226, 'grat': 2227, 'grave': 2228, 'gravity': 2229, 'gravy': 2230, 'gray': 2231, 'greasy': 2232, 'great': 2233, 'greatest': 2234, 'greatly': 2235, 'greece': 2236, 'greek': 2237, 'green': 2238, 'greeting': 2239, 'greetings': 2240, 'grenade': 2241, 'grew': 2242, 'grey': 2243, 'greys': 2244, 'grilled': 2245, 'grim': 2246, 'grind': 2247, 'grinding': 2248, 'grocery': 2249, 'gross': 2250, 'ground': 2251, 'group': 2252, 'groups': 2253, 'grow': 2254, 'growing': 2255, 'grown': 2256, 'grows': 2257, 'growth': 2258, 'grumpy': 2259, 'gt': 2260, 'guarantee': 2261, 'guaranteed': 2262, 'guard': 2263, 'guardian': 2264, 'guess': 2265, 'guessed': 2266, 'guessing': 2267, 'guest': 2268, 'guests': 2269, 'guide': 2270, 'guilty': 2271, 'guinness': 2272, 'guitar': 2273, 'gulp': 2274, 'gum': 2275, 'gummy': 2276, 'gump': 2277, 'gun': 2278, 'guns': 2279, 'guy': 2280, 'guys': 2281, 'gym': 2282, 'h': 2283, 'ha': 2284, 'habit': 2285, 'habits': 2286, 'had': 2287, 'hah': 2288, 'haha': 2289, 'hahahaha': 2290, 'hahas': 2291, 'haiku': 2292, 'haikus': 2293, 'hail': 2294, 'hair': 2295, 'haircut': 2296, 'hairless': 2297, 'hairs': 2298, 'hairy': 2299, 'half': 2300, 'halflife': 2301, 'halfway': 2302, 'hallo': 2303, 'halloween': 2304, 'halo': 2305, 'ham': 2306, 'hamilton': 2307, 'hammer': 2308, 'hamster': 2309, 'hand': 2310, 'handed': 2311, 'handing': 2312, 'handle': 2313, 'hands': 2314, 'handsome': 2315, 'handstand': 2316, 'handwriting': 2317, 'handy': 2318, 'hang': 2319, 'hanging': 2320, 'happen': 2321, 'happened': 2322, 'happening': 2323, 'happens': 2324, 'happier': 2325, 'happily': 2326, 'happiness': 2327, 'happy': 2328, 'hard': 2329, 'hardcore': 2330, 'harder': 2331, 'hardest': 2332, 'hardline': 2333, 'hardly': 2334, 'harry': 2335, 'has': 2336, 'hat': 2337, 'hate': 2338, 'hated': 2339, 'haters': 2340, 'hates': 2341, 'hats': 2342, 'haunt': 2343, 'have': 2344, 'having': 2345, 'hawaii': 2346, 'hawaiian': 2347, 'hayles': 2348, 'he': 2349, 'head': 2350, 'headache': 2351, 'headed': 2352, 'heading': 2353, 'headphones': 2354, 'headrest': 2355, 'heads': 2356, 'health': 2357, 'healthcare': 2358, 'healthy': 2359, 'hear': 2360, 'heard': 2361, 'hearing': 2362, 'heart': 2363, 'heartbroken': 2364, 'heartfelt': 2365, 'heat': 2366, 'heaven': 2367, 'heavier': 2368, 'heaviest': 2369, 'heavy': 2370, 'hebrew': 2371, 'heck': 2372, 'hectic': 2373, 'hedgehog': 2374, 'heh': 2375, 'hehehehe': 2376, 'height': 2377, 'helicopter': 2378, 'hell': 2379, 'hello': 2380, 'helo': 2381, 'help': 2382, 'helped': 2383, 'helping': 2384, 'helps': 2385, 'hence': 2386, 'her': 2387, 'here': 2388, 'hereby': 2389, 'heres': 2390, 'heresy': 2391, 'hero': 2392, 'heroes': 2393, 'heroin': 2394, 'herself': 2395, 'hes': 2396, 'hey': 2397, 'hi': 2398, 'hid': 2399, 'hidden': 2400, 'hide': 2401, 'hiding': 2402, 'high': 2403, 'higher': 2404, 'highlight': 2405, 'highly': 2406, 'highrise': 2407, 'highschool': 2408, 'hike': 2409, 'hiking': 2410, 'hilarious': 2411, 'hill': 2412, 'him': 2413, 'hint': 2414, 'hip': 2415, 'hiphop': 2416, 'hippies': 2417, 'hips': 2418, 'hire': 2419, 'his': 2420, 'historical': 2421, 'history': 2422, 'hit': 2423, 'hitchhikers': 2424, 'hitler': 2425, 'hits': 2426, 'hiya': 2427, 'hm': 2428, 'hmm': 2429, 'ho': 2430, 'hobbies': 2431, 'hobby': 2432, 'hockey': 2433, 'hola': 2434, 'hold': 2435, 'holding': 2436, 'holds': 2437, 'hole': 2438, 'holes': 2439, 'holiday': 2440, 'holidays': 2441, 'hollywood': 2442, 'holy': 2443, 'hombre': 2444, 'home': 2445, 'homeless': 2446, 'homemade': 2447, 'homework': 2448, 'homie': 2449, 'homo': 2450, 'homophobic': 2451, 'honest': 2452, 'honestly': 2453, 'honesty': 2454, 'honey': 2455, 'honeymoon': 2456, 'honor': 2457, 'honorary': 2458, 'hoo': 2459, 'hood': 2460, 'hoodie': 2461, 'hook': 2462, 'hooked': 2463, 'hooker': 2464, 'hookup': 2465, 'hooray': 2466, 'hop': 2467, 'hope': 2468, 'hopefully': 2469, 'hopeless': 2470, 'hopes': 2471, 'hoping': 2472, 'horde': 2473, 'horizon': 2474, 'horn': 2475, 'horrible': 2476, 'horror': 2477, 'horse': 2478, 'horseman': 2479, 'horses': 2480, 'horsons': 2481, 'hospital': 2482, 'hostile': 2483, 'hot': 2484, 'hotdog': 2485, 'hotel': 2486, 'hour': 2487, 'hours': 2488, 'house': 2489, 'household': 2490, 'houses': 2491, 'housewife': 2492, 'housing': 2493, 'houston': 2494, 'how': 2495, 'however': 2496, 'howre': 2497, 'hr': 2498, 'hrs': 2499, 'hs': 2500, 'hubby': 2501, 'hufflepuff': 2502, 'hug': 2503, 'huge': 2504, 'hugged': 2505, 'hugging': 2506, 'hugs': 2507, 'huh': 2508, 'hulu': 2509, 'hum': 2510, 'human': 2511, 'humanity': 2512, 'humans': 2513, 'humble': 2514, 'humid': 2515, 'hummus': 2516, 'humor': 2517, 'hung': 2518, 'hungover': 2519, 'hungry': 2520, 'hunt': 2521, 'hunter': 2522, 'hunting': 2523, 'hurricane': 2524, 'hurry': 2525, 'hurt': 2526, 'hurts': 2527, 'husband': 2528, 'husbands': 2529, 'hush': 2530, 'hw': 2531, 'hydrated': 2532, 'hype': 2533, 'hyped': 2534, 'hypocrite': 2535, 'i': 2536, 'ice': 2537, 'iced': 2538, 'iceland': 2539, 'ich': 2540, 'icon': 2541, 'iconic': 2542, 'icy': 2543, 'id': 2544, 'idea': 2545, 'ideal': 2546, 'ideas': 2547, 'identify': 2548, 'idiot': 2549, 'if': 2550, 'ignorance': 2551, 'ignore': 2552, 'ignoring': 2553, 'ii': 2554, 'ik': 2555, 'il': 2556, 'ill': 2557, 'illegal': 2558, 'illinois': 2559, 'illusion': 2560, 'im': 2561, 'image': 2562, 'imagine': 2563, 'immediately': 2564, 'immensely': 2565, 'immigrating': 2566, 'imo': 2567, 'impala': 2568, 'imperial': 2569, 'important': 2570, 'impossible': 2571, 'impress': 2572, 'impressed': 2573, 'impression': 2574, 'impressive': 2575, 'improve': 2576, 'improvement': 2577, 'impulse': 2578, 'impure': 2579, 'in': 2580, 'inception': 2581, 'inch': 2582, 'inches': 2583, 'include': 2584, 'including': 2585, 'inconvenient': 2586, 'incredible': 2587, 'incredibly': 2588, 'indeed': 2589, 'independence': 2590, 'independent': 2591, 'india': 2592, 'indian': 2593, 'indiana': 2594, 'indie': 2595, 'individual': 2596, 'indoors': 2597, 'industry': 2598, 'inevitable': 2599, 'inferno': 2600, 'infinite': 2601, 'infinity': 2602, 'info': 2603, 'information': 2604, 'informed': 2605, 'infuriating': 2606, 'initial': 2607, 'ink': 2608, 'inner': 2609, 'innocent': 2610, 'input': 2611, 'insane': 2612, 'insanely': 2613, 'insect': 2614, 'insecure': 2615, 'insert': 2616, 'inside': 2617, 'insight': 2618, 'insomnia': 2619, 'inspiration': 2620, 'inspire': 2621, 'inspired': 2622, 'inspiring': 2623, 'install': 2624, 'installed': 2625, 'instance': 2626, 'instant': 2627, 'instantly': 2628, 'instead': 2629, 'instructor': 2630, 'instrument': 2631, 'insult': 2632, 'insulting': 2633, 'insurance': 2634, 'intelligent': 2635, 'intend': 2636, 'intended': 2637, 'intense': 2638, 'intentionally': 2639, 'intentions': 2640, 'interact': 2641, 'interacting': 2642, 'interaction': 2643, 'interest': 2644, 'interested': 2645, 'interesting': 2646, 'interests': 2647, 'international': 2648, 'internet': 2649, 'interpret': 2650, 'interview': 2651, 'into': 2652, 'intrigued': 2653, 'introduce': 2654, 'introduced': 2655, 'introvert': 2656, 'introverted': 2657, 'introverts': 2658, 'invading': 2659, 'invented': 2660, 'invest': 2661, 'invested': 2662, 'invisibility': 2663, 'invisible': 2664, 'invite': 2665, 'invited': 2666, 'involve': 2667, 'involved': 2668, 'ireland': 2669, 'irish': 2670, 'iron': 2671, 'ironic': 2672, 'ironically': 2673, 'irons': 2674, 'irrational': 2675, 'irrelevant': 2676, 'is': 2677, 'ish': 2678, 'island': 2679, 'islands': 2680, 'isnt': 2681, 'isolation': 2682, 'israel': 2683, 'iss': 2684, 'issue': 2685, 'issues': 2686, 'ist': 2687, 'it': 2688, 'italian': 2689, 'italics': 2690, 'italy': 2691, 'item': 2692, 'items': 2693, 'its': 2694, 'itself': 2695, 'iv': 2696, 'ive': 2697, 'j': 2698, 'ja': 2699, 'jack': 2700, 'jacket': 2701, 'jackets': 2702, 'jackson': 2703, 'jail': 2704, 'jake': 2705, 'jam': 2706, 'jamaica': 2707, 'james': 2708, 'jamming': 2709, 'january': 2710, 'japan': 2711, 'japanese': 2712, 'jason': 2713, 'jay': 2714, 'jazz': 2715, 'je': 2716, 'jealous': 2717, 'jealousy': 2718, 'jeans': 2719, 'jed': 2720, 'jeff': 2721, 'jello': 2722, 'jelly': 2723, 'jerk': 2724, 'jerks': 2725, 'jerry': 2726, 'jersey': 2727, 'jesus': 2728, 'jet': 2729, 'jew': 2730, 'jewellery': 2731, 'jewish': 2732, 'jim': 2733, 'jimbo': 2734, 'jimmy': 2735, 'job': 2736, 'jobs': 2737, 'joe': 2738, 'joey': 2739, 'john': 2740, 'johnny': 2741, 'johns': 2742, 'johnson': 2743, 'join': 2744, 'joined': 2745, 'joining': 2746, 'joint': 2747, 'joke': 2748, 'joker': 2749, 'jokes': 2750, 'joking': 2751, 'jones': 2752, 'jordan': 2753, 'jordans': 2754, 'journal': 2755, 'journey': 2756, 'joy': 2757, 'judge': 2758, 'judgement': 2759, 'judgemental': 2760, 'judging': 2761, 'juice': 2762, 'juicy': 2763, 'julia': 2764, 'july': 2765, 'jump': 2766, 'jumping': 2767, 'june': 2768, 'junior': 2769, 'jus': 2770, 'just': 2771, 'justice': 2772, 'k': 2773, 'kalahari': 2774, 'kane': 2775, 'kansas': 2776, 'karaoke': 2777, 'karen': 2778, 'karma': 2779, 'kat': 2780, 'kay': 2781, 'kazoo': 2782, 'keep': 2783, 'keeping': 2784, 'keeps': 2785, 'kelly': 2786, 'kept': 2787, 'ketchup': 2788, 'kettle': 2789, 'key': 2790, 'keyboard': 2791, 'keys': 2792, 'kg': 2793, 'khakis': 2794, 'kick': 2795, 'kicked': 2796, 'kicks': 2797, 'kid': 2798, 'kidding': 2799, 'kiddo': 2800, 'kidney': 2801, 'kids': 2802, 'kill': 2803, 'killed': 2804, 'killer': 2805, 'killers': 2806, 'killing': 2807, 'kind': 2808, 'kinda': 2809, 'kinds': 2810, 'king': 2811, 'kink': 2812, 'kiss': 2813, 'kissed': 2814, 'kisses': 2815, 'kissing': 2816, 'kit': 2817, 'kitchen': 2818, 'kitten': 2819, 'kittens': 2820, 'kitties': 2821, 'kitty': 2822, 'kiwi': 2823, 'kiwis': 2824, 'km': 2825, 'knee': 2826, 'knew': 2827, 'knife': 2828, 'knight': 2829, 'knit': 2830, 'knitting': 2831, 'knives': 2832, 'knock': 2833, 'knocked': 2834, 'know': 2835, 'knowing': 2836, 'known': 2837, 'knows': 2838, 'koku': 2839, 'kong': 2840, 'korea': 2841, 'korean': 2842, 'kr': 2843, 'ku': 2844, 'kudos': 2845, 'l': 2846, 'la': 2847, 'label': 2848, 'labor': 2849, 'labrador': 2850, 'lack': 2851, 'lacking': 2852, 'ladies': 2853, 'lads': 2854, 'lady': 2855, 'laid': 2856, 'lake': 2857, 'lamborghini': 2858, 'lame': 2859, 'lamination': 2860, 'land': 2861, 'landed': 2862, 'landing': 2863, 'landscapes': 2864, 'lane': 2865, 'language': 2866, 'languages': 2867, 'lap': 2868, 'laptop': 2869, 'large': 2870, 'largely': 2871, 'larger': 2872, 'largest': 2873, 'las': 2874, 'lasagna': 2875, 'laser': 2876, 'lasers': 2877, 'last': 2878, 'lasts': 2879, 'late': 2880, 'lately': 2881, 'later': 2882, 'latin': 2883, 'latter': 2884, 'laugh': 2885, 'laughed': 2886, 'laughing': 2887, 'laughs': 2888, 'laughter': 2889, 'laundry': 2890, 'law': 2891, 'lawn': 2892, 'laws': 2893, 'lawyer': 2894, 'lay': 2895, 'laying': 2896, 'lazy': 2897, 'lb': 2898, 'lbs': 2899, 'le': 2900, 'lead': 2901, 'leader': 2902, 'leaders': 2903, 'leading': 2904, 'leaf': 2905, 'league': 2906, 'leagues': 2907, 'leak': 2908, 'lean': 2909, 'leaning': 2910, 'learn': 2911, 'learned': 2912, 'learning': 2913, 'learns': 2914, 'learnt': 2915, 'least': 2916, 'leave': 2917, 'leaves': 2918, 'leaving': 2919, 'lectures': 2920, 'led': 2921, 'left': 2922, 'lefthanded': 2923, 'leftover': 2924, 'leftovers': 2925, 'leg': 2926, 'legal': 2927, 'legally': 2928, 'legend': 2929, 'legends': 2930, 'leggings': 2931, 'legit': 2932, 'legitimately': 2933, 'legs': 2934, 'leicester': 2935, 'lemme': 2936, 'lemon': 2937, 'lemonade': 2938, 'lemons': 2939, 'length': 2940, 'leo': 2941, 'leopard': 2942, 'lesbian': 2943, 'less': 2944, 'lesson': 2945, 'let': 2946, 'letter': 2947, 'letters': 2948, 'letting': 2949, 'lettuce': 2950, 'level': 2951, 'levels': 2952, 'levin': 2953, 'liar': 2954, 'library': 2955, 'license': 2956, 'lick': 2957, 'lie': 2958, 'lied': 2959, 'lies': 2960, 'lieutenant': 2961, 'life': 2962, 'lifeline': 2963, 'lifestyle': 2964, 'lift': 2965, 'lifting': 2966, 'lifts': 2967, 'light': 2968, 'lighter': 2969, 'lighthearted': 2970, 'lighting': 2971, 'lights': 2972, 'like': 2973, 'liked': 2974, 'likely': 2975, 'likes': 2976, 'liking': 2977, 'limb': 2978, 'lime': 2979, 'limit': 2980, 'limited': 2981, 'limits': 2982, 'limo': 2983, 'line': 2984, 'lines': 2985, 'lingua': 2986, 'linguistics': 2987, 'link': 2988, 'linking': 2989, 'links': 2990, 'linum': 2991, 'lion': 2992, 'lions': 2993, 'lips': 2994, 'lipstick': 2995, 'liquid': 2996, 'liquor': 2997, 'list': 2998, 'listen': 2999, 'listened': 3000, 'listener': 3001, 'listening': 3002, 'lit': 3003, 'literal': 3004, 'literally': 3005, 'literature': 3006, 'little': 3007, 'live': 3008, 'lived': 3009, 'lives': 3010, 'living': 3011, 'lizard': 3012, 'load': 3013, 'loads': 3014, 'loaf': 3015, 'loans': 3016, 'lobster': 3017, 'local': 3018, 'located': 3019, 'location': 3020, 'lock': 3021, 'locked': 3022, 'log': 3023, 'logic': 3024, 'lolog': 3025, 'london': 3026, 'loneliness': 3027, 'lonely': 3028, 'long': 3029, 'longer': 3030, 'longest': 3031, 'longsword': 3032, 'look': 3033, 'looked': 3034, 'looking': 3035, 'looks': 3036, 'loop': 3037, 'loose': 3038, 'loppard': 3039, 'lord': 3040, 'los': 3041, 'lose': 3042, 'loser': 3043, 'losers': 3044, 'losing': 3045, 'loss': 3046, 'lost': 3047, 'lot': 3048, 'lots': 3049, 'lottery': 3050, 'lotto': 3051, 'loud': 3052, 'louis': 3053, 'love': 3054, 'loved': 3055, 'lovely': 3056, 'lover': 3057, 'loves': 3058, 'loving': 3059, 'low': 3060, 'lower': 3061, 'loyal': 3062, 'lsd': 3063, 'lt': 3064, 'lucid': 3065, 'lucifer': 3066, 'luck': 3067, 'luckily': 3068, 'lucky': 3069, 'lucy': 3070, 'lunch': 3071, 'lurker': 3072, 'lurking': 3073, 'lying': 3074, 'lyric': 3075, 'lyrics': 3076, 'm': 3077, 'ma': 3078, 'mac': 3079, 'macaroni': 3080, 'machine': 3081, 'mad': 3082, 'madam': 3083, 'made': 3084, 'madman': 3085, 'mafia': 3086, 'magic': 3087, 'magical': 3088, 'maiden': 3089, 'mail': 3090, 'main': 3091, 'mainly': 3092, 'maintenance': 3093, 'major': 3094, 'majority': 3095, 'make': 3096, 'maker': 3097, 'makes': 3098, 'makeup': 3099, 'making': 3100, 'malaysia': 3101, 'male': 3102, 'males': 3103, 'malice': 3104, 'mall': 3105, 'malta': 3106, 'mammal': 3107, 'man': 3108, 'manage': 3109, 'managed': 3110, 'manager': 3111, 'manchester': 3112, 'manga': 3113, 'mango': 3114, 'manila': 3115, 'manner': 3116, 'mans': 3117, 'manual': 3118, 'many': 3119, 'maple': 3120, 'marathon': 3121, 'march': 3122, 'marching': 3123, 'margaret': 3124, 'marie': 3125, 'marine': 3126, 'mark': 3127, 'marketing': 3128, 'marks': 3129, 'marmite': 3130, 'marriage': 3131, 'married': 3132, 'marry': 3133, 'mars': 3134, 'marsh': 3135, 'marshmallow': 3136, 'martin': 3137, 'marvel': 3138, 'mary': 3139, 'maryland': 3140, 'mascot': 3141, 'mask': 3142, 'mass': 3143, 'massachusetts': 3144, 'massages': 3145, 'massive': 3146, 'massively': 3147, 'master': 3148, 'masterate': 3149, 'masters': 3150, 'masturbate': 3151, 'masturbating': 3152, 'match': 3153, 'matches': 3154, 'mate': 3155, 'material': 3156, 'math': 3157, 'mathematician': 3158, 'maths': 3159, 'matrix': 3160, 'matt': 3161, 'matter': 3162, 'matters': 3163, 'mattress': 3164, 'mature': 3165, 'max': 3166, 'may': 3167, 'maybe': 3168, 'mayo': 3169, 'mayonnaise': 3170, 'mcdonald': 3171, 'me': 3172, 'meal': 3173, 'mean': 3174, 'meaning': 3175, 'meaningful': 3176, 'means': 3177, 'meant': 3178, 'meat': 3179, 'meatballs': 3180, 'meatloaf': 3181, 'mechanical': 3182, 'mechanics': 3183, 'med': 3184, 'media': 3185, 'medicine': 3186, 'medieval': 3187, 'mediocre': 3188, 'medium': 3189, 'meds': 3190, 'meet': 3191, 'meeting': 3192, 'meets': 3193, 'mei': 3194, 'melancholic': 3195, 'melancholy': 3196, 'melee': 3197, 'melon': 3198, 'melt': 3199, 'melted': 3200, 'member': 3201, 'members': 3202, 'meme': 3203, 'memes': 3204, 'memorable': 3205, 'memorial': 3206, 'memories': 3207, 'memory': 3208, 'men': 3209, 'mental': 3210, 'mentally': 3211, 'mention': 3212, 'mentioned': 3213, 'menu': 3214, 'meow': 3215, 'mere': 3216, 'merel': 3217, 'merely': 3218, 'merry': 3219, 'mess': 3220, 'message': 3221, 'messaged': 3222, 'messages': 3223, 'messed': 3224, 'messenger': 3225, 'messing': 3226, 'messy': 3227, 'met': 3228, 'meta': 3229, 'metal': 3230, 'metalhead': 3231, 'metallic': 3232, 'meth': 3233, 'method': 3234, 'metric': 3235, 'metro': 3236, 'mexican': 3237, 'mexico': 3238, 'mho': 3239, 'mi': 3240, 'mice': 3241, 'michael': 3242, 'michigan': 3243, 'microwave': 3244, 'mid': 3245, 'middle': 3246, 'middleaged': 3247, 'midnight': 3248, 'midterm': 3249, 'midwest': 3250, 'midwestern': 3251, 'might': 3252, 'mighty': 3253, 'mike': 3254, 'mild': 3255, 'mildly': 3256, 'mile': 3257, 'mileage': 3258, 'miles': 3259, 'military': 3260, 'milk': 3261, 'milkshake': 3262, 'millenium': 3263, 'millennial': 3264, 'millimeters': 3265, 'million': 3266, 'millionaire': 3267, 'millions': 3268, 'min': 3269, 'mind': 3270, 'minds': 3271, 'mine': 3272, 'mines': 3273, 'mini': 3274, 'minimum': 3275, 'minnesota': 3276, 'minor': 3277, 'minority': 3278, 'mins': 3279, 'mint': 3280, 'minus': 3281, 'minute': 3282, 'minutes': 3283, 'miracle': 3284, 'mirror': 3285, 'miserable': 3286, 'miss': 3287, 'missed': 3288, 'misses': 3289, 'missing': 3290, 'mistake': 3291, 'mistakes': 3292, 'mix': 3293, 'mixed': 3294, 'mm': 3295, 'mmmm': 3296, 'mo': 3297, 'moan': 3298, 'mob': 3299, 'mobile': 3300, 'mockingbird': 3301, 'mod': 3302, 'mode': 3303, 'model': 3304, 'models': 3305, 'modern': 3306, 'mods': 3307, 'moist': 3308, 'mojos': 3309, 'mole': 3310, 'molly': 3311, 'mom': 3312, 'moment': 3313, 'moments': 3314, 'momma': 3315, 'mommy': 3316, 'moms': 3317, 'mon': 3318, 'monday': 3319, 'mondays': 3320, 'money': 3321, 'monkey': 3322, 'monkeys': 3323, 'monster': 3324, 'monsters': 3325, 'month': 3326, 'months': 3327, 'mood': 3328, 'moods': 3329, 'moon': 3330, 'morbid': 3331, 'more': 3332, 'morgan': 3333, 'mormon': 3334, 'morning': 3335, 'moron': 3336, 'mortal': 3337, 'mortality': 3338, 'mosh': 3339, 'most': 3340, 'mostly': 3341, 'mother': 3342, 'motherfucker': 3343, 'mothers': 3344, 'motion': 3345, 'motions': 3346, 'motivated': 3347, 'motivation': 3348, 'motivational': 3349, 'motorcycle': 3350, 'motorcycles': 3351, 'motto': 3352, 'mountain': 3353, 'mountains': 3354, 'mouse': 3355, 'mouth': 3356, 'move': 3357, 'moved': 3358, 'movement': 3359, 'moves': 3360, 'movie': 3361, 'movies': 3362, 'moving': 3363, 'mow': 3364, 'mowing': 3365, 'mr': 3366, 'mrs': 3367, 'ms': 3368, 'mtg': 3369, 'mu': 3370, 'much': 3371, 'mucho': 3372, 'mud': 3373, 'mug': 3374, 'multiplayer': 3375, 'multiple': 3376, 'mum': 3377, 'mums': 3378, 'murder': 3379, 'murdered': 3380, 'murderer': 3381, 'muscle': 3382, 'muscles': 3383, 'muscular': 3384, 'museum': 3385, 'mushroom': 3386, 'mushrooms': 3387, 'music': 3388, 'musical': 3389, 'musicals': 3390, 'musician': 3391, 'musicians': 3392, 'must': 3393, 'mustang': 3394, 'mustard': 3395, 'my': 3396, 'myself': 3397, 'myth': 3398, 'n': 3399, 'na': 3400, 'naan': 3401, 'nacho': 3402, 'nachos': 3403, 'nada': 3404, 'nah': 3405, 'nail': 3406, 'nailed': 3407, 'nails': 3408, 'naked': 3409, 'nakedly': 3410, 'name': 3411, 'named': 3412, 'namely': 3413, 'names': 3414, 'naming': 3415, 'nana': 3416, 'nap': 3417, 'napoleon': 3418, 'naps': 3419, 'nasa': 3420, 'nasal': 3421, 'nasty': 3422, 'nation': 3423, 'national': 3424, 'native': 3425, 'natural': 3426, 'naturally': 3427, 'nature': 3428, 'naughty': 3429, 'navy': 3430, 'naw': 3431, 'nazis': 3432, 'nd': 3433, 'ne': 3434, 'near': 3435, 'nearest': 3436, 'nearly': 3437, 'neat': 3438, 'necessarily': 3439, 'necessary': 3440, 'neck': 3441, 'need': 3442, 'needed': 3443, 'needs': 3444, 'negative': 3445, 'negativity': 3446, 'neighborhood': 3447, 'neighbors': 3448, 'neighbours': 3449, 'neither': 3450, 'nephew': 3451, 'nerd': 3452, 'nerds': 3453, 'nerdy': 3454, 'nerves': 3455, 'nervous': 3456, 'net': 3457, 'netflix': 3458, 'netherlands': 3459, 'neutral': 3460, 'nevada': 3461, 'never': 3462, 'nevermind': 3463, 'new': 3464, 'newest': 3465, 'news': 3466, 'next': 3467, 'nice': 3468, 'nicely': 3469, 'nicer': 3470, 'nicest': 3471, 'niche': 3472, 'nickname': 3473, 'nicknamed': 3474, 'nicks': 3475, 'night': 3476, 'nighter': 3477, 'nightish': 3478, 'nightmare': 3479, 'nightmares': 3480, 'nights': 3481, 'nike': 3482, 'nine': 3483, 'nipple': 3484, 'nipples': 3485, 'nirvana': 3486, 'nitella': 3487, 'nl': 3488, 'no': 3489, 'noah': 3490, 'noble': 3491, 'nobody': 3492, 'noise': 3493, 'noises': 3494, 'non': 3495, 'none': 3496, 'nonstop': 3497, 'nonverbal': 3498, 'noodle': 3499, 'noodles': 3500, 'noon': 3501, 'noooooo': 3502, 'nope': 3503, 'nor': 3504, 'norm': 3505, 'normal': 3506, 'normally': 3507, 'north': 3508, 'northern': 3509, 'norway': 3510, 'norwegian': 3511, 'nose': 3512, 'nostalgia': 3513, 'nostalgic': 3514, 'not': 3515, 'note': 3516, 'notepad': 3517, 'notes': 3518, 'nothing': 3519, 'nothingness': 3520, 'notice': 3521, 'noticed': 3522, 'notification': 3523, 'notifications': 3524, 'novel': 3525, 'november': 3526, 'now': 3527, 'nowadays': 3528, 'nowhere': 3529, 'np': 3530, 'nude': 3531, 'nudes': 3532, 'nuggets': 3533, 'number': 3534, 'numbers': 3535, 'nurse': 3536, 'nut': 3537, 'nuts': 3538, 'nutshell': 3539, 'ny': 3540, 'nye': 3541, 'nz': 3542, 'o': 3543, 'oak': 3544, 'oath': 3545, 'oatmeal': 3546, 'oats': 3547, 'object': 3548, 'objectively': 3549, 'objects': 3550, 'obligatory': 3551, 'obliged': 3552, 'oblivion': 3553, 'obscure': 3554, 'obsessed': 3555, 'obsession': 3556, 'obvious': 3557, 'obviously': 3558, 'occasion': 3559, 'occasionally': 3560, 'occur': 3561, 'occurrence': 3562, 'ocean': 3563, 'october': 3564, 'odd': 3565, 'odds': 3566, 'odyssey': 3567, 'of': 3568, 'off': 3569, 'offended': 3570, 'offensive': 3571, 'offer': 3572, 'office': 3573, 'officer': 3574, 'official': 3575, 'officially': 3576, 'often': 3577, 'og': 3578, 'oh': 3579, 'ohio': 3580, 'oi': 3581, 'oil': 3582, 'ok': 3583, 'okapi': 3584, 'okay': 3585, 'oki': 3586, 'oklahoma': 3587, 'ol': 3588, 'old': 3589, 'older': 3590, 'olds': 3591, 'olive': 3592, 'olives': 3593, 'olivia': 3594, 'omao': 3595, 'on': 3596, 'once': 3597, 'one': 3598, 'ones': 3599, 'oneupping': 3600, 'onion': 3601, 'onions': 3602, 'online': 3603, 'onlinethank': 3604, 'only': 3605, 'ontario': 3606, 'onto': 3607, 'oo': 3608, 'oof': 3609, 'ooh': 3610, 'oomph': 3611, 'oooo': 3612, 'oop': 3613, 'oops': 3614, 'op': 3615, 'opah': 3616, 'open': 3617, 'opening': 3618, 'opens': 3619, 'operation': 3620, 'operator': 3621, 'opinion': 3622, 'opinions': 3623, 'opportunities': 3624, 'opportunity': 3625, 'opposite': 3626, 'ops': 3627, 'optimistic': 3628, 'optimums': 3629, 'option': 3630, 'options': 3631, 'or': 3632, 'oral': 3633, 'orange': 3634, 'oranges': 3635, 'orb': 3636, 'orbit': 3637, 'orchestra': 3638, 'order': 3639, 'ordered': 3640, 'ordering': 3641, 'orders': 3642, 'oregon': 3643, 'oreo': 3644, 'ores': 3645, 'org': 3646, 'organic': 3647, 'organization': 3648, 'organized': 3649, 'organizing': 3650, 'organs': 3651, 'orgasms': 3652, 'orientation': 3653, 'origin': 3654, 'original': 3655, 'originally': 3656, 'orthodox': 3657, 'os': 3658, 'oscar': 3659, 'other': 3660, 'others': 3661, 'otherwise': 3662, 'ottawa': 3663, 'ouch': 3664, 'ought': 3665, 'our': 3666, 'ours': 3667, 'ourselves': 3668, 'out': 3669, 'outcast': 3670, 'outdoor': 3671, 'outdoors': 3672, 'outer': 3673, 'outfit': 3674, 'outlet': 3675, 'outlook': 3676, 'outoftheloop': 3677, 'outside': 3678, 'outta': 3679, 'oven': 3680, 'over': 3681, 'overall': 3682, 'overcome': 3683, 'overly': 3684, 'overnight': 3685, 'overnights': 3686, 'overseas': 3687, 'overtime': 3688, 'overwatch': 3689, 'overwhelmed': 3690, 'owe': 3691, 'owl': 3692, 'owls': 3693, 'own': 3694, 'owned': 3695, 'oxygen': 3696, 'oy': 3697, 'p': 3698, 'pa': 3699, 'pacific': 3700, 'pack': 3701, 'package': 3702, 'packages': 3703, 'packs': 3704, 'pad': 3705, 'pads': 3706, 'page': 3707, 'pages': 3708, 'paging': 3709, 'paid': 3710, 'pain': 3711, 'painful': 3712, 'paint': 3713, 'painting': 3714, 'pair': 3715, 'pairing': 3716, 'pajamas': 3717, 'pal': 3718, 'palm': 3719, 'palmar': 3720, 'palpating': 3721, 'pampa': 3722, 'pan': 3723, 'panama': 3724, 'pancake': 3725, 'pancakes': 3726, 'panda': 3727, 'pandas': 3728, 'panic': 3729, 'panther': 3730, 'pants': 3731, 'papa': 3732, 'paper': 3733, 'papers': 3734, 'paradise': 3735, 'paragraphs': 3736, 'paranoid': 3737, 'pardon': 3738, 'parent': 3739, 'parents': 3740, 'park': 3741, 'parking': 3742, 'parks': 3743, 'parley': 3744, 'parrot': 3745, 'part': 3746, 'partake': 3747, 'participate': 3748, 'particular': 3749, 'particularly': 3750, 'parties': 3751, 'partner': 3752, 'partners': 3753, 'parts': 3754, 'party': 3755, 'pass': 3756, 'passed': 3757, 'passing': 3758, 'passion': 3759, 'passionate': 3760, 'password': 3761, 'past': 3762, 'pasta': 3763, 'paste': 3764, 'pastel': 3765, 'pastime': 3766, 'patata': 3767, 'patch': 3768, 'path': 3769, 'pathetic': 3770, 'patient': 3771, 'paty': 3772, 'paw': 3773, 'pawn': 3774, 'pay': 3775, 'paying': 3776, 'payment': 3777, 'pays': 3778, 'pc': 3779, 'pe': 3780, 'pea': 3781, 'peace': 3782, 'peach': 3783, 'peaches': 3784, 'peanut': 3785, 'peanuts': 3786, 'pear': 3787, 'peas': 3788, 'pedestal': 3789, 'pee': 3790, 'peed': 3791, 'peeing': 3792, 'peep': 3793, 'peeps': 3794, 'peeve': 3795, 'pen': 3796, 'pendant': 3797, 'penguin': 3798, 'penguins': 3799, 'penis': 3800, 'penny': 3801, 'pens': 3802, 'people': 3803, 'peoples': 3804, 'pepper': 3805, 'peppermint': 3806, 'peppermints': 3807, 'pepperoni': 3808, 'pepsi': 3809, 'per': 3810, 'perfect': 3811, 'perfectly': 3812, 'perform': 3813, 'perhaps': 3814, 'period': 3815, 'perk': 3816, 'perks': 3817, 'permanent': 3818, 'permanently': 3819, 'permission': 3820, 'perry': 3821, 'persistent': 3822, 'person': 3823, 'personal': 3824, 'personalities': 3825, 'personality': 3826, 'personally': 3827, 'persons': 3828, 'perspective': 3829, 'perturbator': 3830, 'pet': 3831, 'pets': 3832, 'petty': 3833, 'pew': 3834, 'pfc': 3835, 'pfft': 3836, 'pharmacy': 3837, 'phase': 3838, 'phd': 3839, 'phil': 3840, 'philadelphia': 3841, 'philippines': 3842, 'philosophical': 3843, 'philosophicallyminded': 3844, 'philosophy': 3845, 'phobias': 3846, 'phoenix': 3847, 'phone': 3848, 'photo': 3849, 'photography': 3850, 'photos': 3851, 'phrase': 3852, 'physical': 3853, 'physically': 3854, 'physics': 3855, 'pi': 3856, 'piano': 3857, 'pic': 3858, 'pick': 3859, 'picked': 3860, 'picking': 3861, 'pickle': 3862, 'pickles': 3863, 'picky': 3864, 'picnic': 3865, 'pics': 3866, 'picture': 3867, 'pictures': 3868, 'pie': 3869, 'piece': 3870, 'pieces': 3871, 'pierced': 3872, 'piercings': 3873, 'pig': 3874, 'pigs': 3875, 'pile': 3876, 'pillow': 3877, 'pills': 3878, 'pinball': 3879, 'pine': 3880, 'pineapple': 3881, 'pineapples': 3882, 'pink': 3883, 'pirates': 3884, 'pisachi': 3885, 'piss': 3886, 'pissed': 3887, 'pistol': 3888, 'pit': 3889, 'pity': 3890, 'pizza': 3891, 'pizzas': 3892, 'place': 3893, 'placed': 3894, 'places': 3895, 'plague': 3896, 'plain': 3897, 'plan': 3898, 'plane': 3899, 'planes': 3900, 'planet': 3901, 'planets': 3902, 'planned': 3903, 'planning': 3904, 'plans': 3905, 'plant': 3906, 'plantation': 3907, 'plants': 3908, 'plastic': 3909, 'plate': 3910, 'plates': 3911, 'platform': 3912, 'platonic': 3913, 'play': 3914, 'played': 3915, 'player': 3916, 'players': 3917, 'playing': 3918, 'playlist': 3919, 'plays': 3920, 'pleasant': 3921, 'please': 3922, 'pleased': 3923, 'pleasing': 3924, 'pleasure': 3925, 'plenty': 3926, 'plot': 3927, 'plum': 3928, 'plus': 3929, 'ply': 3930, 'pm': 3931, 'pms': 3932, 'pocket': 3933, 'pockets': 3934, 'podcast': 3935, 'poem': 3936, 'poems': 3937, 'poetry': 3938, 'point': 3939, 'pointless': 3940, 'points': 3941, 'pointy': 3942, 'poison': 3943, 'poisoning': 3944, 'poke': 3945, 'poland': 3946, 'pole': 3947, 'police': 3948, 'policy': 3949, 'polish': 3950, 'polite': 3951, 'political': 3952, 'politics': 3953, 'polly': 3954, 'poo': 3955, 'pool': 3956, 'poop': 3957, 'pooped': 3958, 'pooping': 3959, 'poor': 3960, 'pop': 3961, 'popcorn': 3962, 'popped': 3963, 'poppin': 3964, 'pops': 3965, 'popular': 3966, 'population': 3967, 'porch': 3968, 'pork': 3969, 'porn': 3970, 'portable': 3971, 'portal': 3972, 'portland': 3973, 'portrait': 3974, 'portugal': 3975, 'portuguese': 3976, 'position': 3977, 'positive': 3978, 'positives': 3979, 'positivity': 3980, 'possess': 3981, 'possible': 3982, 'possibly': 3983, 'post': 3984, 'posted': 3985, 'posting': 3986, 'posts': 3987, 'pot': 3988, 'potato': 3989, 'potatoes': 3990, 'potter': 3991, 'pounds': 3992, 'poured': 3993, 'poutine': 3994, 'poverty': 3995, 'power': 3996, 'powers': 3997, 'pox': 3998, 'ppl': 3999, 'pr': 4000, 'practically': 4001, 'practice': 4002, 'practicing': 4003, 'pray': 4004, 'pre': 4005, 'preach': 4006, 'precious': 4007, 'predator': 4008, 'predict': 4009, 'prediction': 4010, 'prefer': 4011, 'preference': 4012, 'preferences': 4013, 'pregnancy': 4014, 'pregnant': 4015, 'premiere': 4016, 'preorder': 4017, 'prep': 4018, 'prepare': 4019, 'prepared': 4020, 'preparing': 4021, 'presence': 4022, 'present': 4023, 'president': 4024, 'press': 4025, 'pressed': 4026, 'pressure': 4027, 'pretend': 4028, 'pretending': 4029, 'pretty': 4030, 'pretzels': 4031, 'previous': 4032, 'price': 4033, 'pride': 4034, 'primus': 4035, 'prince': 4036, 'princess': 4037, 'principle': 4038, 'prison': 4039, 'private': 4040, 'pro': 4041, 'prob': 4042, 'probably': 4043, 'problem': 4044, 'problems': 4045, 'proceed': 4046, 'process': 4047, 'proclaim': 4048, 'procrastinating': 4049, 'produce': 4050, 'product': 4051, 'production': 4052, 'productive': 4053, 'profession': 4054, 'professional': 4055, 'professor': 4056, 'profile': 4057, 'program': 4058, 'programming': 4059, 'progress': 4060, 'project': 4061, 'projects': 4062, 'prom': 4063, 'promise': 4064, 'pronounce': 4065, 'pronounced': 4066, 'pronunciation': 4067, 'proof': 4068, 'proper': 4069, 'properly': 4070, 'property': 4071, 'proposals': 4072, 'propose': 4073, 'proposed': 4074, 'proposing': 4075, 'props': 4076, 'protagonist': 4077, 'protection': 4078, 'protein': 4079, 'proud': 4080, 'prove': 4081, 'proven': 4082, 'ps': 4083, 'psych': 4084, 'psychedelic': 4085, 'psychology': 4086, 'ptsd': 4087, 'pub': 4088, 'public': 4089, 'published': 4090, 'puke': 4091, 'pull': 4092, 'pulled': 4093, 'pulling': 4094, 'pulp': 4095, 'pumped': 4096, 'pumpkin': 4097, 'pumpkins': 4098, 'pun': 4099, 'punch': 4100, 'punk': 4101, 'puns': 4102, 'puppies': 4103, 'puppy': 4104, 'purchase': 4105, 'purchased': 4106, 'pure': 4107, 'purple': 4108, 'purpose': 4109, 'purse': 4110, 'pursue': 4111, 'pus': 4112, 'push': 4113, 'pushing': 4114, 'pussy': 4115, 'put': 4116, 'puts': 4117, 'putting': 4118, 'puzzle': 4119, 'puzzles': 4120, 'python': 4121, 'q': 4122, 'qualified': 4123, 'quality': 4124, 'quarter': 4125, 'que': 4126, 'quebec': 4127, 'queen': 4128, 'queens': 4129, 'queer': 4130, 'quest': 4131, 'question': 4132, 'questions': 4133, 'quick': 4134, 'quicker': 4135, 'quickly': 4136, 'quickness': 4137, 'quiet': 4138, 'quietly': 4139, 'quit': 4140, 'quite': 4141, 'quitting': 4142, 'quote': 4143, 'quoted': 4144, 'quotes': 4145, 'r': 4146, 'rabbit': 4147, 'race': 4148, 'racing': 4149, 'racism': 4150, 'racist': 4151, 'rack': 4152, 'rad': 4153, 'radiation': 4154, 'radio': 4155, 'radioactive': 4156, 'radiolead': 4157, 'rage': 4158, 'rags': 4159, 'rain': 4160, 'rainbow': 4161, 'rainbows': 4162, 'rained': 4163, 'raining': 4164, 'rains': 4165, 'rainy': 4166, 'raise': 4167, 'raised': 4168, 'raisin': 4169, 'raisins': 4170, 'ramen': 4171, 'ramps': 4172, 'ran': 4173, 'ranch': 4174, 'random': 4175, 'randomly': 4176, 'range': 4177, 'rangers': 4178, 'rap': 4179, 'raped': 4180, 'rapid': 4181, 'rare': 4182, 'rarely': 4183, 'raskreddit': 4184, 'raspberry': 4185, 'rat': 4186, 'rate': 4187, 'rather': 4188, 'rating': 4189, 'ratio': 4190, 'ravioli': 4191, 'raw': 4192, 'rcasualconversation': 4193, 'rd': 4194, 're': 4195, 'reach': 4196, 'reached': 4197, 'reaches': 4198, 'react': 4199, 'reaction': 4200, 'read': 4201, 'reading': 4202, 'readmit': 4203, 'ready': 4204, 'real': 4205, 'realise': 4206, 'realised': 4207, 'realistic': 4208, 'realistically': 4209, 'reality': 4210, 'realize': 4211, 'realized': 4212, 'realizing': 4213, 'really': 4214, 'reason': 4215, 'reasonable': 4216, 'reasoning': 4217, 'reasons': 4218, 'rebel': 4219, 'rec': 4220, 'receive': 4221, 'received': 4222, 'recent': 4223, 'recently': 4224, 'reception': 4225, 'receptionisception': 4226, 'receptionist': 4227, 'recipe': 4228, 'recipes': 4229, 'reckon': 4230, 'recognize': 4231, 'recommend': 4232, 'recommendation': 4233, 'recommendations': 4234, 'recommended': 4235, 'record': 4236, 'recovering': 4237, 'recreational': 4238, 'red': 4239, 'redbill': 4240, 'redemption': 4241, 'redesign': 4242, 'reedit': 4243, 'reediting': 4244, 'reedits': 4245, 'reference': 4246, 'references': 4247, 'referring': 4248, 'refuse': 4249, 'regardless': 4250, 'region': 4251, 'registered': 4252, 'regret': 4253, 'regular': 4254, 'regularly': 4255, 'reign': 4256, 'rejected': 4257, 'rejection': 4258, 'relatable': 4259, 'relate': 4260, 'related': 4261, 'relationship': 4262, 'relationships': 4263, 'relatively': 4264, 'relatives': 4265, 'relax': 4266, 'relaxed': 4267, 'relaxing': 4268, 'release': 4269, 'released': 4270, 'relevant': 4271, 'reliable': 4272, 'religion': 4273, 'religious': 4274, 'remain': 4275, 'remained': 4276, 'remap': 4277, 'remember': 4278, 'remembered': 4279, 'remembering': 4280, 'remind': 4281, 'reminded': 4282, 'reminder': 4283, 'reminding': 4284, 'reminds': 4285, 'remix': 4286, 'remote': 4287, 'remotely': 4288, 'removed': 4289, 'rendrock': 4290, 'renewed': 4291, 'rent': 4292, 'repatching': 4293, 'repeat': 4294, 'repeating': 4295, 'replace': 4296, 'replaced': 4297, 'replied': 4298, 'replies': 4299, 'reply': 4300, 'replying': 4301, 'report': 4302, 'reported': 4303, 'reports': 4304, 'reposted': 4305, 'represent': 4306, 'reproduce': 4307, 'republic': 4308, 'request': 4309, 'requested': 4310, 'require': 4311, 'required': 4312, 'requirements': 4313, 'res': 4314, 'rescue': 4315, 'research': 4316, 'resident': 4317, 'resist': 4318, 'resolution': 4319, 'resources': 4320, 'respect': 4321, 'respond': 4322, 'responded': 4323, 'responding': 4324, 'response': 4325, 'responses': 4326, 'responsible': 4327, 'rest': 4328, 'restaurant': 4329, 'restaurants': 4330, 'result': 4331, 'results': 4332, 'retail': 4333, 'retard': 4334, 'retarded': 4335, 'retired': 4336, 'return': 4337, 'reuses': 4338, 'revealed': 4339, 'revenge': 4340, 'reverse': 4341, 'revision': 4342, 'revolution': 4343, 'rewarding': 4344, 'rgrilledcheese': 4345, 'rhapsody': 4346, 'rhyme': 4347, 'rhymes': 4348, 'ribs': 4349, 'rice': 4350, 'rich': 4351, 'richard': 4352, 'rick': 4353, 'rid': 4354, 'ride': 4355, 'ridiculous': 4356, 'ridiculously': 4357, 'riding': 4358, 'right': 4359, 'righting': 4360, 'ring': 4361, 'rings': 4362, 'rip': 4363, 'ripe': 4364, 'ripped': 4365, 'rise': 4366, 'risen': 4367, 'rising': 4368, 'risk': 4369, 'risky': 4370, 'river': 4371, 'rly': 4372, 'rn': 4373, 'roaches': 4374, 'road': 4375, 'roads': 4376, 'roast': 4377, 'roasted': 4378, 'robot': 4379, 'robotics': 4380, 'robots': 4381, 'rock': 4382, 'rocket': 4383, 'rocking': 4384, 'rocks': 4385, 'rocky': 4386, 'rode': 4387, 'roger': 4388, 'role': 4389, 'roll': 4390, 'rolling': 4391, 'rolls': 4392, 'romance': 4393, 'romantic': 4394, 'ron': 4395, 'roof': 4396, 'room': 4397, 'roommate': 4398, 'rooms': 4399, 'rooster': 4400, 'root': 4401, 'rooting': 4402, 'roots': 4403, 'rope': 4404, 'ros': 4405, 'rose': 4406, 'roses': 4407, 'ross': 4408, 'rough': 4409, 'round': 4410, 'roundabout': 4411, 'roundtrip': 4412, 'route': 4413, 'routine': 4414, 'row': 4415, 'royal': 4416, 'rpointlessstories': 4417, 'rpredaddit': 4418, 'rseriousconversation': 4419, 'rtotallynotrobots': 4420, 'rub': 4421, 'rubai': 4422, 'rubins': 4423, 'ruby': 4424, 'rude': 4425, 'rug': 4426, 'ruin': 4427, 'rule': 4428, 'ruler': 4429, 'rules': 4430, 'run': 4431, 'runaway': 4432, 'runecraft': 4433, 'running': 4434, 'rural': 4435, 'rush': 4436, 'rusky': 4437, 'russia': 4438, 'russian': 4439, 'russians': 4440, 'rwholesomememes': 4441, 's': 4442, 'sa': 4443, 'sacrifice': 4444, 'sad': 4445, 'saddest': 4446, 'sadly': 4447, 'safe': 4448, 'said': 4449, 'sail': 4450, 'sake': 4451, 'salad': 4452, 'salary': 4453, 'sale': 4454, 'sales': 4455, 'salsa': 4456, 'salt': 4457, 'salted': 4458, 'salty': 4459, 'same': 4460, 'samsung': 4461, 'samurai': 4462, 'san': 4463, 'sand': 4464, 'sandwich': 4465, 'sandwiches': 4466, 'sang': 4467, 'sanity': 4468, 'santa': 4469, 'sarcasm': 4470, 'sarcastic': 4471, 'sat': 4472, 'satan': 4473, 'satisfaction': 4474, 'satisfied': 4475, 'satisfying': 4476, 'saturday': 4477, 'saturdays': 4478, 'saturn': 4479, 'sauce': 4480, 'saul': 4481, 'sausage': 4482, 'savage': 4483, 'save': 4484, 'saved': 4485, 'saves': 4486, 'saving': 4487, 'saviour': 4488, 'savor': 4489, 'saw': 4490, 'say': 4491, 'saying': 4492, 'says': 4493, 'scale': 4494, 'scar': 4495, 'scared': 4496, 'scary': 4497, 'scenario': 4498, 'scene': 4499, 'scent': 4500, 'schedule': 4501, 'scheduled': 4502, 'scheme': 4503, 'schizophrenia': 4504, 'school': 4505, 'schools': 4506, 'science': 4507, 'scientific': 4508, 'score': 4509, 'scored': 4510, 'scores': 4511, 'scorpio': 4512, 'scotland': 4513, 'scott': 4514, 'scottish': 4515, 'scout': 4516, 'scratch': 4517, 'scream': 4518, 'screamed': 4519, 'screaming': 4520, 'screen': 4521, 'screenshot': 4522, 'screw': 4523, 'screwed': 4524, 'scrolls': 4525, 'scrubs': 4526, 'se': 4527, 'sea': 4528, 'search': 4529, 'searching': 4530, 'seas': 4531, 'season': 4532, 'seasoning': 4533, 'seasons': 4534, 'seat': 4535, 'seats': 4536, 'seattle': 4537, 'second': 4538, 'seconds': 4539, 'secret': 4540, 'secretly': 4541, 'secrets': 4542, 'section': 4543, 'secure': 4544, 'security': 4545, 'see': 4546, 'seeds': 4547, 'seeing': 4548, 'seek': 4549, 'seem': 4550, 'seemed': 4551, 'seems': 4552, 'seen': 4553, 'seined': 4554, 'seldom': 4555, 'select': 4556, 'self': 4557, 'sell': 4558, 'seller': 4559, 'sellie': 4560, 'selling': 4561, 'semester': 4562, 'send': 4563, 'sending': 4564, 'senior': 4565, 'sense': 4566, 'sensitive': 4567, 'sent': 4568, 'sentence': 4569, 'sentences': 4570, 'sentient': 4571, 'separate': 4572, 'september': 4573, 'sequel': 4574, 'sequence': 4575, 'serial': 4576, 'series': 4577, 'serious': 4578, 'seriously': 4579, 'serve': 4580, 'server': 4581, 'service': 4582, 'services': 4583, 'session': 4584, 'set': 4585, 'sets': 4586, 'setting': 4587, 'settle': 4588, 'settled': 4589, 'seven': 4590, 'several': 4591, 'sex': 4592, 'sexual': 4593, 'sexually': 4594, 'sexy': 4595, 'shadow': 4596, 'shah': 4597, 'shake': 4598, 'shakes': 4599, 'shaking': 4600, 'shall': 4601, 'shallow': 4602, 'shame': 4603, 'shape': 4604, 'shaped': 4605, 'share': 4606, 'sharing': 4607, 'shark': 4608, 'sharpie': 4609, 'shave': 4610, 'shaving': 4611, 'she': 4612, 'sheep': 4613, 'sheer': 4614, 'sheet': 4615, 'shelter': 4616, 'sherlock': 4617, 'shes': 4618, 'shield': 4619, 'shift': 4620, 'shifts': 4621, 'ship': 4622, 'shirt': 4623, 'shirts': 4624, 'shit': 4625, 'shitless': 4626, 'shits': 4627, 'shitting': 4628, 'shitty': 4629, 'shocked': 4630, 'shocking': 4631, 'shoe': 4632, 'shoes': 4633, 'shook': 4634, 'shoot': 4635, 'shooting': 4636, 'shop': 4637, 'shopping': 4638, 'shops': 4639, 'short': 4640, 'shortbread': 4641, 'shorter': 4642, 'shortest': 4643, 'shot': 4644, 'shots': 4645, 'should': 4646, 'shoulder': 4647, 'shoulders': 4648, 'shout': 4649, 'shouting': 4650, 'show': 4651, 'showed': 4652, 'shower': 4653, 'showering': 4654, 'showers': 4655, 'showing': 4656, 'shows': 4657, 'shriek': 4658, 'shrug': 4659, 'shut': 4660, 'shutout': 4661, 'shy': 4662, 'shyness': 4663, 'siblings': 4664, 'sick': 4665, 'side': 4666, 'sidebar': 4667, 'sidekick': 4668, 'sidewalk': 4669, 'siege': 4670, 'sigh': 4671, 'sight': 4672, 'sign': 4673, 'significant': 4674, 'signs': 4675, 'silence': 4676, 'silent': 4677, 'silently': 4678, 'silicon': 4679, 'silly': 4680, 'silver': 4681, 'simi': 4682, 'similar': 4683, 'similarities': 4684, 'simon': 4685, 'simple': 4686, 'simplest': 4687, 'simply': 4688, 'simpson': 4689, 'simulation': 4690, 'sin': 4691, 'since': 4692, 'sing': 4693, 'singer': 4694, 'singing': 4695, 'single': 4696, 'sinus': 4697, 'sir': 4698, 'sirens': 4699, 'sister': 4700, 'sisters': 4701, 'sit': 4702, 'sitcom': 4703, 'site': 4704, 'sits': 4705, 'sitting': 4706, 'situation': 4707, 'six': 4708, 'size': 4709, 'sized': 4710, 'skateboard': 4711, 'skating': 4712, 'skeleton': 4713, 'sketch': 4714, 'sketchy': 4715, 'skies': 4716, 'skill': 4717, 'skilled': 4718, 'skills': 4719, 'skin': 4720, 'skinny': 4721, 'skip': 4722, 'skipped': 4723, 'skull': 4724, 'sky': 4725, 'skyrin': 4726, 'slang': 4727, 'slaughter': 4728, 'slayer': 4729, 'sleep': 4730, 'sleeping': 4731, 'sleepy': 4732, 'slept': 4733, 'slice': 4734, 'slices': 4735, 'slide': 4736, 'slight': 4737, 'slightly': 4738, 'slip': 4739, 'slipped': 4740, 'sloth': 4741, 'slow': 4742, 'slowly': 4743, 'slut': 4744, 'small': 4745, 'smaller': 4746, 'smart': 4747, 'smartphone': 4748, 'smash': 4749, 'smashing': 4750, 'smell': 4751, 'smelled': 4752, 'smells': 4753, 'smile': 4754, 'smiling': 4755, 'smoke': 4756, 'smokies': 4757, 'smoking': 4758, 'smooth': 4759, 'smoothie': 4760, 'smoothies': 4761, 'smoothly': 4762, 'snack': 4763, 'snacks': 4764, 'snail': 4765, 'snake': 4766, 'snakes': 4767, 'snap': 4768, 'snapshot': 4769, 'sneezed': 4770, 'sneezes': 4771, 'snow': 4772, 'snowing': 4773, 'snowline': 4774, 'snowman': 4775, 'snuggling': 4776, 'so': 4777, 'soap': 4778, 'sober': 4779, 'soccer': 4780, 'social': 4781, 'socializing': 4782, 'socially': 4783, 'society': 4784, 'sock': 4785, 'socks': 4786, 'soda': 4787, 'sofa': 4788, 'soft': 4789, 'software': 4790, 'sokemen': 4791, 'sol': 4792, 'sold': 4793, 'soldier': 4794, 'soldiers': 4795, 'sole': 4796, 'solid': 4797, 'solo': 4798, 'solution': 4799, 'solve': 4800, 'solved': 4801, 'solving': 4802, 'some': 4803, 'somebody': 4804, 'someday': 4805, 'somehow': 4806, 'someone': 4807, 'someones': 4808, 'something': 4809, 'sometime': 4810, 'sometimes': 4811, 'somewhat': 4812, 'somewhere': 4813, 'son': 4814, 'song': 4815, 'songs': 4816, 'sonic': 4817, 'soon': 4818, 'sooner': 4819, 'soosoo': 4820, 'sophomore': 4821, 'sore': 4822, 'sorry': 4823, 'sort': 4824, 'sorta': 4825, 'sorted': 4826, 'sorts': 4827, 'sos': 4828, 'soul': 4829, 'souls': 4830, 'sound': 4831, 'sounded': 4832, 'sounds': 4833, 'soundtrack': 4834, 'soundtracks': 4835, 'soup': 4836, 'sour': 4837, 'source': 4838, 'sources': 4839, 'south': 4840, 'southern': 4841, 'soy': 4842, 'space': 4843, 'spaghetti': 4844, 'spain': 4845, 'spanish': 4846, 'spare': 4847, 'spawn': 4848, 'speak': 4849, 'speaking': 4850, 'speaks': 4851, 'special': 4852, 'species': 4853, 'specific': 4854, 'specifically': 4855, 'speech': 4856, 'speed': 4857, 'speedy': 4858, 'spell': 4859, 'spelled': 4860, 'spelling': 4861, 'spend': 4862, 'spending': 4863, 'spent': 4864, 'spice': 4865, 'spices': 4866, 'spicy': 4867, 'spider': 4868, 'spiderman': 4869, 'spiders': 4870, 'spill': 4871, 'spin': 4872, 'spinner': 4873, 'spirit': 4874, 'spiritualism': 4875, 'split': 4876, 'spoiler': 4877, 'spoilers': 4878, 'spoke': 4879, 'spoken': 4880, 'spongebag': 4881, 'spooky': 4882, 'spoon': 4883, 'spoons': 4884, 'sport': 4885, 'sports': 4886, 'spot': 4887, 'spotted': 4888, 'spouse': 4889, 'spray': 4890, 'spread': 4891, 'spring': 4892, 'spy': 4893, 'squad': 4894, 'square': 4895, 'squeak': 4896, 'squeeze': 4897, 'squid': 4898, 'ss': 4899, 'st': 4900, 'stabbed': 4901, 'stable': 4902, 'staff': 4903, 'stage': 4904, 'stairs': 4905, 'stalk': 4906, 'stalking': 4907, 'stamp': 4908, 'stand': 4909, 'standard': 4910, 'standing': 4911, 'stands': 4912, 'star': 4913, 'stare': 4914, 'staring': 4915, 'stars': 4916, 'start': 4917, 'started': 4918, 'starting': 4919, 'starts': 4920, 'starve': 4921, 'starved': 4922, 'starving': 4923, 'stat': 4924, 'state': 4925, 'statement': 4926, 'states': 4927, 'station': 4928, 'statistics': 4929, 'stay': 4930, 'stayed': 4931, 'staying': 4932, 'steak': 4933, 'steal': 4934, 'stealing': 4935, 'steals': 4936, 'stealthoggle': 4937, 'steam': 4938, 'steel': 4939, 'stekan': 4940, 'stembucks': 4941, 'step': 4942, 'stepped': 4943, 'stepping': 4944, 'steps': 4945, 'stereotype': 4946, 'steve': 4947, 'stick': 4948, 'sticks': 4949, 'sticky': 4950, 'stigma': 4951, 'still': 4952, 'stir': 4953, 'stock': 4954, 'stole': 4955, 'stone': 4956, 'stoned': 4957, 'stood': 4958, 'stool': 4959, 'stop': 4960, 'stopped': 4961, 'stopping': 4962, 'stops': 4963, 'store': 4964, 'stores': 4965, 'stories': 4966, 'storify': 4967, 'storm': 4968, 'story': 4969, 'straight': 4970, 'strange': 4971, 'strangely': 4972, 'stranger': 4973, 'strangers': 4974, 'strawberries': 4975, 'strawberry': 4976, 'streaming': 4977, 'street': 4978, 'strength': 4979, 'stress': 4980, 'stressed': 4981, 'stresses': 4982, 'stressful': 4983, 'stretch': 4984, 'strokes': 4985, 'stroll': 4986, 'strong': 4987, 'stronger': 4988, 'struggle': 4989, 'stuck': 4990, 'student': 4991, 'students': 4992, 'studies': 4993, 'studio': 4994, 'study': 4995, 'studying': 4996, 'stuff': 4997, 'stuffed': 4998, 'stumbled': 4999, 'stumped': 5000, 'stunning': 5001, 'stupid': 5002, 'style': 5003, 'sub': 5004, 'subbed': 5005, 'subbrddit': 5006, 'subedit': 5007, 'subedits': 5008, 'subject': 5009, 'subjects': 5010, 'submit': 5011, 'subs': 5012, 'subscribed': 5013, 'subscriber': 5014, 'subscribers': 5015, 'substitute': 5016, 'subtitles': 5017, 'subway': 5018, 'success': 5019, 'successful': 5020, 'successfully': 5021, 'succulents': 5022, 'such': 5023, 'suck': 5024, 'sucked': 5025, 'sucker': 5026, 'sucks': 5027, 'suddenly': 5028, 'suffer': 5029, 'suffering': 5030, 'sufficient': 5031, 'sugar': 5032, 'suggest': 5033, 'suggestion': 5034, 'suggestions': 5035, 'suicidal': 5036, 'suicide': 5037, 'suits': 5038, 'sum': 5039, 'summer': 5040, 'summon': 5041, 'sun': 5042, 'sunday': 5043, 'sunflower': 5044, 'sunglasses': 5045, 'sunny': 5046, 'sunset': 5047, 'sunshine': 5048, 'sup': 5049, 'super': 5050, 'superbad': 5051, 'superhero': 5052, 'superman': 5053, 'supermarket': 5054, 'superpower': 5055, 'supplies': 5056, 'support': 5057, 'supportive': 5058, 'suppose': 5059, 'supposed': 5060, 'sure': 5061, 'surely': 5062, 'surgery': 5063, 'surname': 5064, 'surpassed': 5065, 'surprise': 5066, 'surprised': 5067, 'surprisingly': 5068, 'survival': 5069, 'survive': 5070, 'survived': 5071, 'sushi': 5072, 'suspect': 5073, 'suspicious': 5074, 'swallow': 5075, 'swallowed': 5076, 'swamp': 5077, 'swear': 5078, 'swearing': 5079, 'sweat': 5080, 'sweater': 5081, 'sweating': 5082, 'sweatshirt': 5083, 'sweaty': 5084, 'sweden': 5085, 'swedish': 5086, 'sweet': 5087, 'sweets': 5088, 'swell': 5089, 'swift': 5090, 'swim': 5091, 'swimming': 5092, 'swiss': 5093, 'switch': 5094, 'switched': 5095, 'syllables': 5096, 'syndrome': 5097, 'synthwave': 5098, 'syrup': 5099, 'system': 5100, 't': 5101, 'ta': 5102, 'table': 5103, 'tables': 5104, 'tablet': 5105, 'tabletop': 5106, 'taboo': 5107, 'tack': 5108, 'taco': 5109, 'tacos': 5110, 'tad': 5111, 'tag': 5112, 'tai': 5113, 'tail': 5114, 'take': 5115, 'taken': 5116, 'takes': 5117, 'taking': 5118, 'tale': 5119, 'talebook': 5120, 'talent': 5121, 'talented': 5122, 'talk': 5123, 'talked': 5124, 'talking': 5125, 'talks': 5126, 'tall': 5127, 'taller': 5128, 'tame': 5129, 'tan': 5130, 'tank': 5131, 'tanks': 5132, 'target': 5133, 'tarot': 5134, 'tart': 5135, 'task': 5136, 'tasks': 5137, 'taste': 5138, 'tasted': 5139, 'tastes': 5140, 'tasty': 5141, 'tattoo': 5142, 'tattoos': 5143, 'taught': 5144, 'tax': 5145, 'taxes': 5146, 'taylor': 5147, 'te': 5148, 'tea': 5149, 'teach': 5150, 'teacher': 5151, 'teachers': 5152, 'teaching': 5153, 'teal': 5154, 'team': 5155, 'teams': 5156, 'teamwork': 5157, 'tear': 5158, 'tears': 5159, 'teased': 5160, 'tech': 5161, 'technically': 5162, 'technology': 5163, 'teddy': 5164, 'teen': 5165, 'teenage': 5166, 'teenager': 5167, 'teenagers': 5168, 'teens': 5169, 'teeth': 5170, 'tehee': 5171, 'telekinesis': 5172, 'telephone': 5173, 'teleporting': 5174, 'television': 5175, 'tell': 5176, 'telling': 5177, 'tells': 5178, 'temp': 5179, 'temperature': 5180, 'temperatures': 5181, 'temporary': 5182, 'tempted': 5183, 'tempting': 5184, 'ten': 5185, 'tend': 5186, 'tendril': 5187, 'tends': 5188, 'tennessee': 5189, 'tennis': 5190, 'tequila': 5191, 'term': 5192, 'terms': 5193, 'tern': 5194, 'terrible': 5195, 'terrier': 5196, 'terrifying': 5197, 'tesla': 5198, 'test': 5199, 'tested': 5200, 'tester': 5201, 'testing': 5202, 'tetric': 5203, 'texas': 5204, 'text': 5205, 'texture': 5206, 'tgt': 5207, 'th': 5208, 'thai': 5209, 'than': 5210, 'thank': 5211, 'thankful': 5212, 'thankfully': 5213, 'thanks': 5214, 'thanksgiving': 5215, 'thankyou': 5216, 'that': 5217, 'thatll': 5218, 'thats': 5219, 'the': 5220, 'theater': 5221, 'theatre': 5222, 'thee': 5223, 'their': 5224, 'theirs': 5225, 'them': 5226, 'theme': 5227, 'themes': 5228, 'themselves': 5229, 'then': 5230, 'theorist': 5231, 'theory': 5232, 'therapist': 5233, 'therapy': 5234, 'there': 5235, 'therefore': 5236, 'these': 5237, 'thesis': 5238, 'they': 5239, 'thick': 5240, 'thief': 5241, 'thieves': 5242, 'thighs': 5243, 'thin': 5244, 'thing': 5245, 'thingies': 5246, 'things': 5247, 'thingy': 5248, 'think': 5249, 'thinking': 5250, 'thinks': 5251, 'third': 5252, 'this': 5253, 'tho': 5254, 'thor': 5255, 'those': 5256, 'though': 5257, 'thought': 5258, 'thoughts': 5259, 'thousand': 5260, 'thread': 5261, 'three': 5262, 'threw': 5263, 'throat': 5264, 'thrones': 5265, 'through': 5266, 'throughout': 5267, 'throw': 5268, 'throwing': 5269, 'thumb': 5270, 'thumbs': 5271, 'thunder': 5272, 'thursday': 5273, 'thus': 5274, 'thy': 5275, 'ti': 5276, 'ticket': 5277, 'tickets': 5278, 'tie': 5279, 'tied': 5280, 'tiger': 5281, 'tigers': 5282, 'tight': 5283, 'tightly': 5284, 'til': 5285, 'till': 5286, 'tim': 5287, 'time': 5288, 'timeless': 5289, 'times': 5290, 'timezone': 5291, 'tinder': 5292, 'tiny': 5293, 'tip': 5294, 'tips': 5295, 'tipsy': 5296, 'tired': 5297, 'tis': 5298, 'title': 5299, 'titles': 5300, 'tits': 5301, 'titties': 5302, 'titular': 5303, 'tmh': 5304, 'to': 5305, 'toast': 5306, 'toasted': 5307, 'toaster': 5308, 'tobira': 5309, 'today': 5310, 'todays': 5311, 'toddler': 5312, 'toddlers': 5313, 'toe': 5314, 'toes': 5315, 'tofu': 5316, 'together': 5317, 'toilet': 5318, 'tokyo': 5319, 'told': 5320, 'tom': 5321, 'tomato': 5322, 'tomatoes': 5323, 'tommy': 5324, 'tomorrow': 5325, 'tomorrows': 5326, 'ton': 5327, 'tones': 5328, 'tongue': 5329, 'tonight': 5330, 'tonne': 5331, 'tons': 5332, 'tony': 5333, 'too': 5334, 'took': 5335, 'tool': 5336, 'tooth': 5337, 'toothpaste': 5338, 'top': 5339, 'topic': 5340, 'topics': 5341, 'topping': 5342, 'toppings': 5343, 'tops': 5344, 'tornado': 5345, 'toronto': 5346, 'toss': 5347, 'total': 5348, 'totally': 5349, 'touch': 5350, 'touched': 5351, 'touching': 5352, 'tough': 5353, 'tour': 5354, 'tourists': 5355, 'tow': 5356, 'towards': 5357, 'towel': 5358, 'tower': 5359, 'towers': 5360, 'town': 5361, 'toxic': 5362, 'toy': 5363, 'toyos': 5364, 'toyota': 5365, 'toys': 5366, 'track': 5367, 'trade': 5368, 'tradition': 5369, 'traffic': 5370, 'tragedy': 5371, 'trail': 5372, 'trailer': 5373, 'train': 5374, 'training': 5375, 'trains': 5376, 'trait': 5377, 'traits': 5378, 'trans': 5379, 'transformers': 5380, 'translation': 5381, 'transmission': 5382, 'transplant': 5383, 'trap': 5384, 'trapped': 5385, 'trash': 5386, 'travel': 5387, 'traveling': 5388, 'travelled': 5389, 'travelling': 5390, 'travis': 5391, 'treadmill': 5392, 'treasures': 5393, 'treat': 5394, 'treating': 5395, 'treats': 5396, 'tree': 5397, 'trees': 5398, 'trek': 5399, 'trend': 5400, 'trendies': 5401, 'trial': 5402, 'triangle': 5403, 'trick': 5404, 'tricky': 5405, 'tried': 5406, 'tries': 5407, 'triggers': 5408, 'trilogy': 5409, 'tringles': 5410, 'trio': 5411, 'trip': 5412, 'triple': 5413, 'triplet': 5414, 'tripped': 5415, 'tripping': 5416, 'trips': 5417, 'trivia': 5418, 'trivial': 5419, 'troll': 5420, 'trolls': 5421, 'trophy': 5422, 'tropical': 5423, 'trouble': 5424, 'true': 5425, 'truly': 5426, 'trump': 5427, 'trumpet': 5428, 'trust': 5429, 'trusty': 5430, 'truth': 5431, 'truths': 5432, 'try': 5433, 'trying': 5434, 'tt': 5435, 'tu': 5436, 'tub': 5437, 'tubes': 5438, 'tucked': 5439, 'tuesday': 5440, 'tumbleweeds': 5441, 'tuna': 5442, 'tune': 5443, 'tunes': 5444, 'turkey': 5445, 'turn': 5446, 'turned': 5447, 'turning': 5448, 'turnip': 5449, 'turns': 5450, 'turtle': 5451, 'turtles': 5452, 'tutor': 5453, 'tv': 5454, 'twas': 5455, 'twelve': 5456, 'twenties': 5457, 'twenty': 5458, 'twice': 5459, 'twilight': 5460, 'twin': 5461, 'twins': 5462, 'twist': 5463, 'two': 5464, 'ty': 5465, 'tyler': 5466, 'type': 5467, 'types': 5468, 'typical': 5469, 'typically': 5470, 'typing': 5471, 'typo': 5472, 'tyranting': 5473, 'u': 5474, 'ucaffeinatedraccon': 5475, 'ugh': 5476, 'ugly': 5477, 'uh': 5478, 'uhhhh': 5479, 'ui': 5480, 'uigur': 5481, 'uiwinalot': 5482, 'uk': 5483, 'ulionghost': 5484, 'ultimate': 5485, 'um': 5486, 'umisterdrprof': 5487, 'umm': 5488, 'umma': 5489, 'un': 5490, 'unattractive': 5491, 'unbox': 5492, 'uncle': 5493, 'uncomfortable': 5494, 'uncommon': 5495, 'uncontrollable': 5496, 'uncultured': 5497, 'under': 5498, 'underestimate': 5499, 'undergrad': 5500, 'underground': 5501, 'underrated': 5502, 'understand': 5503, 'understandable': 5504, 'understanding': 5505, 'understood': 5506, 'undertake': 5507, 'underwater': 5508, 'underwear': 5509, 'undesirable': 5510, 'undoubtedly': 5511, 'unemployed': 5512, 'unemployment': 5513, 'unescaped': 5514, 'uneventful': 5515, 'unexpected': 5516, 'unexpectedly': 5517, 'unfair': 5518, 'unfortunate': 5519, 'unfortunately': 5520, 'unhappy': 5521, 'unhealthy': 5522, 'uni': 5523, 'uniform': 5524, 'union': 5525, 'unique': 5526, 'unite': 5527, 'united': 5528, 'units': 5529, 'universal': 5530, 'universe': 5531, 'university': 5532, 'unkin': 5533, 'unknown': 5534, 'unless': 5535, 'unlike': 5536, 'unlikely': 5537, 'unlucky': 5538, 'unpopular': 5539, 'unreasonable': 5540, 'unsweetened': 5541, 'until': 5542, 'unusual': 5543, 'unusually': 5544, 'unvote': 5545, 'unvoted': 5546, 'unzipped': 5547, 'up': 5548, 'upbeat': 5549, 'upcoming': 5550, 'update': 5551, 'updated': 5552, 'updates': 5553, 'uplifting': 5554, 'upload': 5555, 'uploaded': 5556, 'uploading': 5557, 'upon': 5558, 'upper': 5559, 'upset': 5560, 'upside': 5561, 'upstate': 5562, 'upwards': 5563, 'ur': 5564, 'urceus': 5565, 'urge': 5566, 'urs': 5567, 'uruguay': 5568, 'us': 5569, 'usa': 5570, 'use': 5571, 'used': 5572, 'useful': 5573, 'useless': 5574, 'user': 5575, 'username': 5576, 'usernames': 5577, 'users': 5578, 'uses': 5579, 'ush': 5580, 'using': 5581, 'usual': 5582, 'usually': 5583, 'uwaterguy': 5584, 'v': 5585, 'va': 5586, 'vacation': 5587, 'vaccine': 5588, 'vagina': 5589, 'valentines': 5590, 'valid': 5591, 'valley': 5592, 'valuable': 5593, 'value': 5594, 'valve': 5595, 'vampire': 5596, 'vancouver': 5597, 'vanilla': 5598, 'varieties': 5599, 'variety': 5600, 'various': 5601, 'vegan': 5602, 'vegas': 5603, 'vegetable': 5604, 'vegetables': 5605, 'vegetarian': 5606, 'veggies': 5607, 'venom': 5608, 'vent': 5609, 'verbal': 5610, 'version': 5611, 'very': 5612, 'vet': 5613, 'veteran': 5614, 'via': 5615, 'vibe': 5616, 'vibes': 5617, 'vice': 5618, 'victim': 5619, 'victory': 5620, 'video': 5621, 'videos': 5622, 'videotape': 5623, 'videotapes': 5624, 'vidya': 5625, 'vietnam': 5626, 'vietnamese': 5627, 'view': 5628, 'views': 5629, 'vikings': 5630, 'villain': 5631, 'vine': 5632, 'vinegar': 5633, 'violent': 5634, 'virgin': 5635, 'virginia': 5636, 'virtual': 5637, 'vision': 5638, 'visit': 5639, 'visited': 5640, 'visiting': 5641, 'visual': 5642, 'vitamin': 5643, 'vocals': 5644, 'vodka': 5645, 'voice': 5646, 'vol': 5647, 'volume': 5648, 'volunteer': 5649, 'volunteering': 5650, 'vote': 5651, 'voted': 5652, 'votes': 5653, 'vous': 5654, 'voyage': 5655, 'vr': 5656, 'vs': 5657, 'w': 5658, 'wa': 5659, 'waffles': 5660, 'wage': 5661, 'waged': 5662, 'wahahe': 5663, 'wait': 5664, 'waited': 5665, 'waiter': 5666, 'waiting': 5667, 'wake': 5668, 'waking': 5669, 'wales': 5670, 'walk': 5671, 'walked': 5672, 'walking': 5673, 'walks': 5674, 'wall': 5675, 'wallet': 5676, 'wallpapers': 5677, 'walls': 5678, 'wanna': 5679, 'want': 5680, 'wanted': 5681, 'wanting': 5682, 'wants': 5683, 'war': 5684, 'warcraft': 5685, 'ward': 5686, 'warehouse': 5687, 'warfare': 5688, 'warm': 5689, 'warming': 5690, 'warning': 5691, 'warrior': 5692, 'wars': 5693, 'was': 5694, 'wash': 5695, 'washing': 5696, 'washington': 5697, 'wasnt': 5698, 'wasp': 5699, 'wasps': 5700, 'waste': 5701, 'wasted': 5702, 'wasting': 5703, 'wat': 5704, 'watch': 5705, 'watched': 5706, 'watches': 5707, 'watching': 5708, 'water': 5709, 'watermelon': 5710, 'watt': 5711, 'wave': 5712, 'waves': 5713, 'way': 5714, 'wayne': 5715, 'ways': 5716, 'we': 5717, 'weak': 5718, 'weapon': 5719, 'weapons': 5720, 'wear': 5721, 'wearing': 5722, 'wears': 5723, 'weather': 5724, 'web': 5725, 'website': 5726, 'wedding': 5727, 'wednesday': 5728, 'wednesdays': 5729, 'weed': 5730, 'week': 5731, 'weekend': 5732, 'weekends': 5733, 'weekly': 5734, 'weeks': 5735, 'wehee': 5736, 'weigh': 5737, 'weight': 5738, 'weights': 5739, 'weird': 5740, 'weirder': 5741, 'weirdly': 5742, 'welcome': 5743, 'welcoming': 5744, 'well': 5745, 'wends': 5746, 'went': 5747, 'were': 5748, 'west': 5749, 'western': 5750, 'wet': 5751, 'wh': 5752, 'what': 5753, 'whatchy': 5754, 'whatd': 5755, 'whatever': 5756, 'whats': 5757, 'wheel': 5758, 'when': 5759, 'whenever': 5760, 'where': 5761, 'whereabouts': 5762, 'wheres': 5763, 'wherever': 5764, 'whether': 5765, 'which': 5766, 'while': 5767, 'whip': 5768, 'whiplash': 5769, 'whipped': 5770, 'whiskey': 5771, 'whisky': 5772, 'whisper': 5773, 'whistle': 5774, 'white': 5775, 'who': 5776, 'whoa': 5777, 'whoever': 5778, 'whole': 5779, 'wholesome': 5780, 'whom': 5781, 'whoops': 5782, 'whore': 5783, 'whose': 5784, 'why': 5785, 'wicked': 5786, 'wide': 5787, 'wife': 5788, 'wifes': 5789, 'wikipedia': 5790, 'wild': 5791, 'wildest': 5792, 'will': 5793, 'williams': 5794, 'willing': 5795, 'wills': 5796, 'wilson': 5797, 'win': 5798, 'window': 5799, 'windows': 5800, 'windy': 5801, 'wine': 5802, 'wing': 5803, 'wings': 5804, 'wink': 5805, 'winner': 5806, 'winning': 5807, 'wins': 5808, 'winter': 5809, 'wipe': 5810, 'wire': 5811, 'wires': 5812, 'wisconsin': 5813, 'wisdom': 5814, 'wise': 5815, 'wisely': 5816, 'wish': 5817, 'wished': 5818, 'wishes': 5819, 'wishing': 5820, 'witch': 5821, 'witcher': 5822, 'with': 5823, 'within': 5824, 'without': 5825, 'witnessed': 5826, 'wiwi': 5827, 'wizard': 5828, 'woke': 5829, 'wolfenstein': 5830, 'wolves': 5831, 'woman': 5832, 'women': 5833, 'won': 5834, 'wonder': 5835, 'wonderful': 5836, 'wondering': 5837, 'wonders': 5838, 'woo': 5839, 'wood': 5840, 'woods': 5841, 'woohoo': 5842, 'woooooooooooooo': 5843, 'woot': 5844, 'word': 5845, 'words': 5846, 'wore': 5847, 'work': 5848, 'worked': 5849, 'workers': 5850, 'working': 5851, 'workout': 5852, 'works': 5853, 'world': 5854, 'worlds': 5855, 'worm': 5856, 'worn': 5857, 'worried': 5858, 'worries': 5859, 'worry': 5860, 'worse': 5861, 'worship': 5862, 'worst': 5863, 'worth': 5864, 'worthy': 5865, 'wot': 5866, 'would': 5867, 'wow': 5868, 'wreck': 5869, 'wrench': 5870, 'wrestling': 5871, 'write': 5872, 'writer': 5873, 'writing': 5874, 'written': 5875, 'wrong': 5876, 'wrote': 5877, 'wtv': 5878, 'wunna': 5879, 'wut': 5880, 'www': 5881, 'x': 5882, 'xd': 5883, 'xed': 5884, 'xx': 5885, 'xxiii': 5886, 'xxx': 5887, 'y': 5888, 'ya': 5889, 'yah': 5890, 'yaray': 5891, 'yard': 5892, 'yas': 5893, 'yay': 5894, 'ye': 5895, 'yea': 5896, 'yeah': 5897, 'year': 5898, 'yearly': 5899, 'years': 5900, 'yee': 5901, 'yees': 5902, 'yeh': 5903, 'yell': 5904, 'yellow': 5905, 'yep': 5906, 'yes': 5907, 'yesses': 5908, 'yesterday': 5909, 'yests': 5910, 'yet': 5911, 'yikes': 5912, 'yo': 5913, 'yoga': 5914, 'yogurt': 5915, 'york': 5916, 'you': 5917, 'young': 5918, 'younger': 5919, 'your': 5920, 'youre': 5921, 'yours': 5922, 'yourself': 5923, 'youth': 5924, 'youthier': 5925, 'youtubers': 5926, 'youve': 5927, 'yr': 5928, 'yuck': 5929, 'yuh': 5930, 'yum': 5931, 'yummies': 5932, 'yummy': 5933, 'yup': 5934, 'z': 5935, 'ze': 5936, 'zealand': 5937, 'zed': 5938, 'zee': 5939, 'zeppelin': 5940, 'zerda': 5941, 'zero': 5942, 'zombie': 5943, 'zombies': 5944, 'zone': 5945, 'zoo': 5946, 'zootypic': 5947}\n"
          ],
          "name": "stdout"
        }
      ]
    },
    {
      "cell_type": "code",
      "metadata": {
        "id": "Qt2GzYoahq1p",
        "colab_type": "code",
        "colab": {
          "base_uri": "https://localhost:8080/",
          "height": 35
        },
        "outputId": "c46b1735-233c-4778-b44a-697bef9480bd"
      },
      "source": [
        "word2vec_index = {}\n",
        "f = open(\"glove.6B.100d.txt\",encoding=\"utf8\")\n",
        "for line in f:\n",
        "    words = line.split()\n",
        "    word = words[0]\n",
        "    index = np.asarray(words[1:], dtype=\"float32\")\n",
        "    word2vec_index[word] = index\n",
        "f.close()\n",
        "\n",
        "print(\"The number of word vectors are: \", len(word2vec_index))"
      ],
      "execution_count": 13,
      "outputs": [
        {
          "output_type": "stream",
          "text": [
            "The number of word vectors are:  400000\n"
          ],
          "name": "stdout"
        }
      ]
    },
    {
      "cell_type": "code",
      "metadata": {
        "id": "ExfVMy2yhwkF",
        "colab_type": "code",
        "colab": {
          "base_uri": "https://localhost:8080/",
          "height": 35
        },
        "outputId": "77565564-cdbb-4679-b0e9-d017ab74b53a"
      },
      "source": [
        "en_embedding_matrix = np.zeros((num_encoder_tokens, 100))\n",
        "count = 0\n",
        "count_1 = 0\n",
        "not_glove = []\n",
        "for i, word in enumerate(input_words):\n",
        "    embedding_vector = word2vec_index.get(word)\n",
        "    if embedding_vector is not None:\n",
        "        en_embedding_matrix[i] = embedding_vector\n",
        "        count_1 += 1\n",
        "    else:\n",
        "        en_embedding_matrix[i] = np.random.randn(100)\n",
        "        not_glove.append(word)\n",
        "        count += 1\n",
        "print(\"In GLOVE: {}, Not in GLOVE: {}\".format(count_1, count))\n",
        "# The updated version has 90% of the vocab in glove! Yay!"
      ],
      "execution_count": 14,
      "outputs": [
        {
          "output_type": "stream",
          "text": [
            "In GLOVE: 6617, Not in GLOVE: 223\n"
          ],
          "name": "stdout"
        }
      ]
    },
    {
      "cell_type": "code",
      "metadata": {
        "id": "vnMXNpOorunR",
        "colab_type": "code",
        "colab": {
          "base_uri": "https://localhost:8080/",
          "height": 35
        },
        "outputId": "3d408f69-bac2-4af1-8d46-8282cbb8213f"
      },
      "source": [
        "de_embedding_matrix = np.zeros((num_decoder_tokens, 100))\n",
        "count = 0\n",
        "count_1 = 0\n",
        "not_glove = []\n",
        "for i, word in enumerate(target_words):\n",
        "    embedding_vector = word2vec_index.get(word)\n",
        "    if embedding_vector is not None:\n",
        "        de_embedding_matrix[i] = embedding_vector\n",
        "        count_1 += 1\n",
        "    else:\n",
        "        de_embedding_matrix[i] = np.random.randn(100)\n",
        "        not_glove.append(word)\n",
        "        count += 1\n",
        "print(\"In GLOVE: {}, Not in GLOVE: {}\".format(count_1, count))\n",
        "# The updated version has 92% of the vocab in glove! Yay!"
      ],
      "execution_count": 15,
      "outputs": [
        {
          "output_type": "stream",
          "text": [
            "In GLOVE: 5817, Not in GLOVE: 131\n"
          ],
          "name": "stdout"
        }
      ]
    },
    {
      "cell_type": "code",
      "metadata": {
        "id": "G-Se6VUTMwVQ",
        "colab_type": "code",
        "colab": {}
      },
      "source": [
        "encoder_input_data = np.zeros(\n",
        "    (len(input_texts), max_encoder_seq_length),\n",
        "    dtype='float32')\n",
        "decoder_input_data = np.zeros(\n",
        "    (len(input_texts), max_decoder_seq_length),\n",
        "    dtype='float32')\n",
        "decoder_target_data = np.zeros(\n",
        "    (len(input_texts), max_decoder_seq_length, num_decoder_tokens),\n",
        "    dtype='float32')\n",
        "\n",
        "for i, (input_text, target_text) in enumerate(zip(input_texts, target_texts)):\n",
        "    for t, word in enumerate(input_text):\n",
        "        encoder_input_data[i, t] = input_token_index[word]\n",
        "    for t, word in enumerate(target_text):\n",
        "        decoder_input_data[i, t] = target_token_index[word]\n",
        "        if t > 0:\n",
        "            decoder_target_data[i, t - 1, target_token_index[word]] = 1"
      ],
      "execution_count": 0,
      "outputs": []
    },
    {
      "cell_type": "code",
      "metadata": {
        "id": "s_sxSPrBVLVw",
        "colab_type": "code",
        "outputId": "7c0c8b72-41f5-403d-d644-ed76e7576607",
        "colab": {
          "base_uri": "https://localhost:8080/",
          "height": 444
        }
      },
      "source": [
        "from keras.layers import Embedding, TimeDistributed\n",
        "import tensorflow as tf\n",
        "EN_Embedding = Embedding(input_dim= num_encoder_tokens, output_dim=100,weights=[en_embedding_matrix],trainable=True)\n",
        "DE_Embedding = Embedding(input_dim= num_decoder_tokens, output_dim=100,weights=[de_embedding_matrix],trainable=True)\n",
        "\n",
        "encoder_inputs = Input(shape=(None,), dtype=\"int32\")\n",
        "encoder_inputs_embed = EN_Embedding(encoder_inputs)\n",
        "encoder = LSTM(latent_dim, return_state=True)\n",
        "encoder_outputs, state_h, state_c = encoder(encoder_inputs_embed)\n",
        "encoder_states = [state_h, state_c]\n",
        "\n",
        "decoder_inputs = Input(shape=(None,), dtype=\"int32\")\n",
        "decoder_inputs_embed = DE_Embedding(decoder_inputs)\n",
        "decoder_lstm = LSTM(latent_dim, return_sequences=True, return_state=True)\n",
        "decoder_outputs, _, _ = decoder_lstm(decoder_inputs_embed,\n",
        "                                     initial_state=encoder_states)\n",
        "decoder_dense = Dense(num_decoder_tokens, activation='softmax')\n",
        "decoder_outputs = decoder_dense(decoder_outputs)\n",
        "\n",
        "model = Model([encoder_inputs, decoder_inputs], decoder_outputs)\n",
        "# rms = tf.keras.optimizers.RMSprop(\n",
        "#     learning_rate=0.01\n",
        "# )\n",
        "model.compile(optimizer='adam', loss='categorical_crossentropy',\n",
        "              metrics=['accuracy'])\n",
        "model.summary()"
      ],
      "execution_count": 24,
      "outputs": [
        {
          "output_type": "stream",
          "text": [
            "Model: \"model_4\"\n",
            "__________________________________________________________________________________________________\n",
            "Layer (type)                    Output Shape         Param #     Connected to                     \n",
            "==================================================================================================\n",
            "input_7 (InputLayer)            (None, None)         0                                            \n",
            "__________________________________________________________________________________________________\n",
            "input_8 (InputLayer)            (None, None)         0                                            \n",
            "__________________________________________________________________________________________________\n",
            "embedding_7 (Embedding)         (None, None, 100)    684000      input_7[0][0]                    \n",
            "__________________________________________________________________________________________________\n",
            "embedding_8 (Embedding)         (None, None, 100)    594800      input_8[0][0]                    \n",
            "__________________________________________________________________________________________________\n",
            "lstm_7 (LSTM)                   [(None, 256), (None, 365568      embedding_7[0][0]                \n",
            "__________________________________________________________________________________________________\n",
            "lstm_8 (LSTM)                   [(None, None, 256),  365568      embedding_8[0][0]                \n",
            "                                                                 lstm_7[0][1]                     \n",
            "                                                                 lstm_7[0][2]                     \n",
            "__________________________________________________________________________________________________\n",
            "dense_4 (Dense)                 (None, None, 5948)   1528636     lstm_8[0][0]                     \n",
            "==================================================================================================\n",
            "Total params: 3,538,572\n",
            "Trainable params: 3,538,572\n",
            "Non-trainable params: 0\n",
            "__________________________________________________________________________________________________\n"
          ],
          "name": "stdout"
        }
      ]
    },
    {
      "cell_type": "code",
      "metadata": {
        "id": "KQFnSWdaEUWL",
        "colab_type": "code",
        "colab": {}
      },
      "source": [
        "# encoder_input_data = np.expand_dims(encoder_input_data, axis=-1)\n",
        "# decoder_input_data = np.expand_dims(decoder_input_data, axis=-1)"
      ],
      "execution_count": 0,
      "outputs": []
    },
    {
      "cell_type": "code",
      "metadata": {
        "id": "tGKXiHrDstmA",
        "colab_type": "code",
        "colab": {
          "base_uri": "https://localhost:8080/",
          "height": 1000
        },
        "outputId": "3081eac6-3849-465c-e52a-ad64e3f16c19"
      },
      "source": [
        "hist = model.fit([encoder_input_data[:int(len(input_texts)*.9)], decoder_input_data[:int(len(input_texts)*.9)]], decoder_target_data[:int(len(input_texts)*.9)],\n",
        "          batch_size=128,\n",
        "          epochs=100,\n",
        "          validation_split=0.05)\n",
        "\n",
        "model.save('al_m2_reddit_v3.h5')"
      ],
      "execution_count": 25,
      "outputs": [
        {
          "output_type": "stream",
          "text": [
            "/usr/local/lib/python3.6/dist-packages/tensorflow/python/framework/indexed_slices.py:434: UserWarning: Converting sparse IndexedSlices to a dense Tensor of unknown shape. This may consume a large amount of memory.\n",
            "  \"Converting sparse IndexedSlices to a dense Tensor of unknown shape. \"\n"
          ],
          "name": "stderr"
        },
        {
          "output_type": "stream",
          "text": [
            "Train on 28880 samples, validate on 1520 samples\n",
            "Epoch 1/100\n",
            "28880/28880 [==============================] - 53s 2ms/step - loss: 1.3357 - accuracy: 0.0298 - val_loss: 0.0000e+00 - val_accuracy: 0.0000e+00\n",
            "Epoch 2/100\n",
            "28880/28880 [==============================] - 52s 2ms/step - loss: 1.2095 - accuracy: 0.0397 - val_loss: 0.0000e+00 - val_accuracy: 0.0000e+00\n",
            "Epoch 3/100\n",
            "28880/28880 [==============================] - 52s 2ms/step - loss: 1.1549 - accuracy: 0.0438 - val_loss: 0.0000e+00 - val_accuracy: 0.0000e+00\n",
            "Epoch 4/100\n",
            "28880/28880 [==============================] - 52s 2ms/step - loss: 1.1166 - accuracy: 0.0462 - val_loss: 0.0000e+00 - val_accuracy: 0.0000e+00\n",
            "Epoch 5/100\n",
            "28880/28880 [==============================] - 52s 2ms/step - loss: 1.0859 - accuracy: 0.0481 - val_loss: 0.0000e+00 - val_accuracy: 0.0000e+00\n",
            "Epoch 6/100\n",
            "28880/28880 [==============================] - 52s 2ms/step - loss: 1.0607 - accuracy: 0.0495 - val_loss: 0.0000e+00 - val_accuracy: 0.0000e+00\n",
            "Epoch 7/100\n",
            "28880/28880 [==============================] - 52s 2ms/step - loss: 1.0384 - accuracy: 0.0510 - val_loss: 0.0000e+00 - val_accuracy: 0.0000e+00\n",
            "Epoch 8/100\n",
            "28880/28880 [==============================] - 52s 2ms/step - loss: 1.0182 - accuracy: 0.0520 - val_loss: 0.0000e+00 - val_accuracy: 0.0000e+00\n",
            "Epoch 9/100\n",
            "28880/28880 [==============================] - 52s 2ms/step - loss: 0.9993 - accuracy: 0.0531 - val_loss: 0.0000e+00 - val_accuracy: 0.0000e+00\n",
            "Epoch 10/100\n",
            "28880/28880 [==============================] - 52s 2ms/step - loss: 0.9813 - accuracy: 0.0545 - val_loss: 0.0000e+00 - val_accuracy: 0.0000e+00\n",
            "Epoch 11/100\n",
            "28880/28880 [==============================] - 52s 2ms/step - loss: 0.9638 - accuracy: 0.0556 - val_loss: 0.0000e+00 - val_accuracy: 0.0000e+00\n",
            "Epoch 12/100\n",
            "28880/28880 [==============================] - 52s 2ms/step - loss: 0.9469 - accuracy: 0.0568 - val_loss: 0.0000e+00 - val_accuracy: 0.0000e+00\n",
            "Epoch 13/100\n",
            "28880/28880 [==============================] - 52s 2ms/step - loss: 0.9307 - accuracy: 0.0579 - val_loss: 0.0000e+00 - val_accuracy: 0.0000e+00\n",
            "Epoch 14/100\n",
            "28880/28880 [==============================] - 52s 2ms/step - loss: 0.9148 - accuracy: 0.0591 - val_loss: 0.0000e+00 - val_accuracy: 0.0000e+00\n",
            "Epoch 15/100\n",
            "28880/28880 [==============================] - 52s 2ms/step - loss: 0.8992 - accuracy: 0.0605 - val_loss: 0.0000e+00 - val_accuracy: 0.0000e+00\n",
            "Epoch 16/100\n",
            "28880/28880 [==============================] - 52s 2ms/step - loss: 0.8844 - accuracy: 0.0618 - val_loss: 0.0000e+00 - val_accuracy: 0.0000e+00\n",
            "Epoch 17/100\n",
            "28880/28880 [==============================] - 52s 2ms/step - loss: 0.8697 - accuracy: 0.0632 - val_loss: 0.0000e+00 - val_accuracy: 0.0000e+00\n",
            "Epoch 18/100\n",
            "28880/28880 [==============================] - 52s 2ms/step - loss: 0.8553 - accuracy: 0.0644 - val_loss: 0.0000e+00 - val_accuracy: 0.0000e+00\n",
            "Epoch 19/100\n",
            "28880/28880 [==============================] - 52s 2ms/step - loss: 0.8412 - accuracy: 0.0658 - val_loss: 0.0000e+00 - val_accuracy: 0.0000e+00\n",
            "Epoch 20/100\n",
            "28880/28880 [==============================] - 52s 2ms/step - loss: 0.8275 - accuracy: 0.0674 - val_loss: 0.0000e+00 - val_accuracy: 0.0000e+00\n",
            "Epoch 21/100\n",
            "28880/28880 [==============================] - 52s 2ms/step - loss: 0.8140 - accuracy: 0.0689 - val_loss: 0.0000e+00 - val_accuracy: 0.0000e+00\n",
            "Epoch 22/100\n",
            "28880/28880 [==============================] - 52s 2ms/step - loss: 0.8008 - accuracy: 0.0705 - val_loss: 0.0000e+00 - val_accuracy: 0.0000e+00\n",
            "Epoch 23/100\n",
            "28880/28880 [==============================] - 52s 2ms/step - loss: 0.7882 - accuracy: 0.0722 - val_loss: 0.0000e+00 - val_accuracy: 0.0000e+00\n",
            "Epoch 24/100\n",
            "28880/28880 [==============================] - 52s 2ms/step - loss: 0.7758 - accuracy: 0.0738 - val_loss: 0.0000e+00 - val_accuracy: 0.0000e+00\n",
            "Epoch 25/100\n",
            "28880/28880 [==============================] - 52s 2ms/step - loss: 0.7633 - accuracy: 0.0752 - val_loss: 0.0000e+00 - val_accuracy: 0.0000e+00\n",
            "Epoch 26/100\n",
            "28880/28880 [==============================] - 52s 2ms/step - loss: 0.7513 - accuracy: 0.0769 - val_loss: 0.0000e+00 - val_accuracy: 0.0000e+00\n",
            "Epoch 27/100\n",
            "28880/28880 [==============================] - 52s 2ms/step - loss: 0.7395 - accuracy: 0.0786 - val_loss: 0.0000e+00 - val_accuracy: 0.0000e+00\n",
            "Epoch 28/100\n",
            "28880/28880 [==============================] - 52s 2ms/step - loss: 0.7279 - accuracy: 0.0802 - val_loss: 0.0000e+00 - val_accuracy: 0.0000e+00\n",
            "Epoch 29/100\n",
            "28880/28880 [==============================] - 52s 2ms/step - loss: 0.7165 - accuracy: 0.0817 - val_loss: 0.0000e+00 - val_accuracy: 0.0000e+00\n",
            "Epoch 30/100\n",
            "28880/28880 [==============================] - 52s 2ms/step - loss: 0.7055 - accuracy: 0.0832 - val_loss: 0.0000e+00 - val_accuracy: 0.0000e+00\n",
            "Epoch 31/100\n",
            "28880/28880 [==============================] - 52s 2ms/step - loss: 0.6944 - accuracy: 0.0851 - val_loss: 0.0000e+00 - val_accuracy: 0.0000e+00\n",
            "Epoch 32/100\n",
            "28880/28880 [==============================] - 52s 2ms/step - loss: 0.6838 - accuracy: 0.0864 - val_loss: 0.0000e+00 - val_accuracy: 0.0000e+00\n",
            "Epoch 33/100\n",
            "28880/28880 [==============================] - 52s 2ms/step - loss: 0.6734 - accuracy: 0.0882 - val_loss: 0.0000e+00 - val_accuracy: 0.0000e+00\n",
            "Epoch 34/100\n",
            "28880/28880 [==============================] - 52s 2ms/step - loss: 0.6630 - accuracy: 0.0898 - val_loss: 0.0000e+00 - val_accuracy: 0.0000e+00\n",
            "Epoch 35/100\n",
            "28880/28880 [==============================] - 52s 2ms/step - loss: 0.6529 - accuracy: 0.0914 - val_loss: 0.0000e+00 - val_accuracy: 0.0000e+00\n",
            "Epoch 36/100\n",
            "28880/28880 [==============================] - 52s 2ms/step - loss: 0.6430 - accuracy: 0.0930 - val_loss: 0.0000e+00 - val_accuracy: 0.0000e+00\n",
            "Epoch 37/100\n",
            "28880/28880 [==============================] - 52s 2ms/step - loss: 0.6332 - accuracy: 0.0946 - val_loss: 0.0000e+00 - val_accuracy: 0.0000e+00\n",
            "Epoch 38/100\n",
            "28880/28880 [==============================] - 51s 2ms/step - loss: 0.6232 - accuracy: 0.0962 - val_loss: 0.0000e+00 - val_accuracy: 0.0000e+00\n",
            "Epoch 39/100\n",
            "28880/28880 [==============================] - 51s 2ms/step - loss: 0.6139 - accuracy: 0.0976 - val_loss: 0.0000e+00 - val_accuracy: 0.0000e+00\n",
            "Epoch 40/100\n",
            "28880/28880 [==============================] - 51s 2ms/step - loss: 0.6045 - accuracy: 0.0995 - val_loss: 0.0000e+00 - val_accuracy: 0.0000e+00\n",
            "Epoch 41/100\n",
            "28880/28880 [==============================] - 51s 2ms/step - loss: 0.5951 - accuracy: 0.1010 - val_loss: 0.0000e+00 - val_accuracy: 0.0000e+00\n",
            "Epoch 42/100\n",
            "28880/28880 [==============================] - 51s 2ms/step - loss: 0.5859 - accuracy: 0.1024 - val_loss: 0.0000e+00 - val_accuracy: 0.0000e+00\n",
            "Epoch 43/100\n",
            "28880/28880 [==============================] - 52s 2ms/step - loss: 0.5770 - accuracy: 0.1042 - val_loss: 0.0000e+00 - val_accuracy: 0.0000e+00\n",
            "Epoch 44/100\n",
            "28880/28880 [==============================] - 51s 2ms/step - loss: 0.5680 - accuracy: 0.1057 - val_loss: 0.0000e+00 - val_accuracy: 0.0000e+00\n",
            "Epoch 45/100\n",
            "28880/28880 [==============================] - 51s 2ms/step - loss: 0.5591 - accuracy: 0.1073 - val_loss: 0.0000e+00 - val_accuracy: 0.0000e+00\n",
            "Epoch 46/100\n",
            "28880/28880 [==============================] - 51s 2ms/step - loss: 0.5507 - accuracy: 0.1087 - val_loss: 0.0000e+00 - val_accuracy: 0.0000e+00\n",
            "Epoch 47/100\n",
            "28880/28880 [==============================] - 51s 2ms/step - loss: 0.5423 - accuracy: 0.1104 - val_loss: 0.0000e+00 - val_accuracy: 0.0000e+00\n",
            "Epoch 48/100\n",
            "28880/28880 [==============================] - 51s 2ms/step - loss: 0.5338 - accuracy: 0.1119 - val_loss: 0.0000e+00 - val_accuracy: 0.0000e+00\n",
            "Epoch 49/100\n",
            "28880/28880 [==============================] - 52s 2ms/step - loss: 0.5252 - accuracy: 0.1134 - val_loss: 0.0000e+00 - val_accuracy: 0.0000e+00\n",
            "Epoch 50/100\n",
            "28880/28880 [==============================] - 52s 2ms/step - loss: 0.5169 - accuracy: 0.1149 - val_loss: 0.0000e+00 - val_accuracy: 0.0000e+00\n",
            "Epoch 51/100\n",
            "28880/28880 [==============================] - 52s 2ms/step - loss: 0.5091 - accuracy: 0.1165 - val_loss: 0.0000e+00 - val_accuracy: 0.0000e+00\n",
            "Epoch 52/100\n",
            "28880/28880 [==============================] - 52s 2ms/step - loss: 0.5004 - accuracy: 0.1183 - val_loss: 0.0000e+00 - val_accuracy: 0.0000e+00\n",
            "Epoch 53/100\n",
            "28880/28880 [==============================] - 51s 2ms/step - loss: 0.4927 - accuracy: 0.1197 - val_loss: 0.0000e+00 - val_accuracy: 0.0000e+00\n",
            "Epoch 54/100\n",
            "28880/28880 [==============================] - 51s 2ms/step - loss: 0.4849 - accuracy: 0.1211 - val_loss: 0.0000e+00 - val_accuracy: 0.0000e+00\n",
            "Epoch 55/100\n",
            "28880/28880 [==============================] - 51s 2ms/step - loss: 0.4774 - accuracy: 0.1225 - val_loss: 0.0000e+00 - val_accuracy: 0.0000e+00\n",
            "Epoch 56/100\n",
            "28880/28880 [==============================] - 51s 2ms/step - loss: 0.4696 - accuracy: 0.1243 - val_loss: 0.0000e+00 - val_accuracy: 0.0000e+00\n",
            "Epoch 57/100\n",
            "28880/28880 [==============================] - 51s 2ms/step - loss: 0.4619 - accuracy: 0.1255 - val_loss: 0.0000e+00 - val_accuracy: 0.0000e+00\n",
            "Epoch 58/100\n",
            "28880/28880 [==============================] - 51s 2ms/step - loss: 0.4547 - accuracy: 0.1270 - val_loss: 0.0000e+00 - val_accuracy: 0.0370\n",
            "Epoch 59/100\n",
            "28880/28880 [==============================] - 51s 2ms/step - loss: 0.4475 - accuracy: 0.1288 - val_loss: 0.0000e+00 - val_accuracy: 0.0370\n",
            "Epoch 60/100\n",
            "28880/28880 [==============================] - 52s 2ms/step - loss: 0.4402 - accuracy: 0.1301 - val_loss: 0.0000e+00 - val_accuracy: 0.0000e+00\n",
            "Epoch 61/100\n",
            "28880/28880 [==============================] - 52s 2ms/step - loss: 0.4328 - accuracy: 0.1324 - val_loss: 0.0000e+00 - val_accuracy: 0.0370\n",
            "Epoch 62/100\n",
            "28880/28880 [==============================] - 52s 2ms/step - loss: 0.4257 - accuracy: 0.1352 - val_loss: 0.0000e+00 - val_accuracy: 0.0000e+00\n",
            "Epoch 63/100\n",
            "28880/28880 [==============================] - 51s 2ms/step - loss: 0.4189 - accuracy: 0.1377 - val_loss: 0.0000e+00 - val_accuracy: 0.0000e+00\n",
            "Epoch 64/100\n",
            "28880/28880 [==============================] - 52s 2ms/step - loss: 0.4122 - accuracy: 0.1394 - val_loss: 0.0000e+00 - val_accuracy: 0.0000e+00\n",
            "Epoch 65/100\n",
            "28880/28880 [==============================] - 52s 2ms/step - loss: 0.4051 - accuracy: 0.1375 - val_loss: 0.0000e+00 - val_accuracy: 0.0370\n",
            "Epoch 66/100\n",
            "28880/28880 [==============================] - 52s 2ms/step - loss: 0.3987 - accuracy: 0.1432 - val_loss: 0.0000e+00 - val_accuracy: 0.0000e+00\n",
            "Epoch 67/100\n",
            "28880/28880 [==============================] - 52s 2ms/step - loss: 0.3920 - accuracy: 0.1426 - val_loss: 0.0000e+00 - val_accuracy: 0.0370\n",
            "Epoch 68/100\n",
            "28880/28880 [==============================] - 52s 2ms/step - loss: 0.3858 - accuracy: 0.1459 - val_loss: 0.0000e+00 - val_accuracy: 0.0370\n",
            "Epoch 69/100\n",
            "28880/28880 [==============================] - 52s 2ms/step - loss: 0.3792 - accuracy: 0.1493 - val_loss: 0.0000e+00 - val_accuracy: 0.0000e+00\n",
            "Epoch 70/100\n",
            "28880/28880 [==============================] - 51s 2ms/step - loss: 0.3732 - accuracy: 0.1486 - val_loss: 0.0000e+00 - val_accuracy: 0.0000e+00\n",
            "Epoch 71/100\n",
            "28880/28880 [==============================] - 52s 2ms/step - loss: 0.3666 - accuracy: 0.1488 - val_loss: 0.0000e+00 - val_accuracy: 0.0000e+00\n",
            "Epoch 72/100\n",
            "28880/28880 [==============================] - 51s 2ms/step - loss: 0.3602 - accuracy: 0.1517 - val_loss: 0.0000e+00 - val_accuracy: 0.0370\n",
            "Epoch 73/100\n",
            "28880/28880 [==============================] - 51s 2ms/step - loss: 0.3543 - accuracy: 0.1546 - val_loss: 0.0000e+00 - val_accuracy: 0.0370\n",
            "Epoch 74/100\n",
            "28880/28880 [==============================] - 51s 2ms/step - loss: 0.3485 - accuracy: 0.1575 - val_loss: 0.0000e+00 - val_accuracy: 0.0370\n",
            "Epoch 75/100\n",
            "28880/28880 [==============================] - 51s 2ms/step - loss: 0.3425 - accuracy: 0.1583 - val_loss: 0.0000e+00 - val_accuracy: 0.0370\n",
            "Epoch 76/100\n",
            "28880/28880 [==============================] - 51s 2ms/step - loss: 0.3367 - accuracy: 0.1601 - val_loss: 0.0000e+00 - val_accuracy: 0.0000e+00\n",
            "Epoch 77/100\n",
            "28880/28880 [==============================] - 51s 2ms/step - loss: 0.3310 - accuracy: 0.1615 - val_loss: 0.0000e+00 - val_accuracy: 0.0370\n",
            "Epoch 78/100\n",
            "28880/28880 [==============================] - 51s 2ms/step - loss: 0.3255 - accuracy: 0.1637 - val_loss: 0.0000e+00 - val_accuracy: 0.0370\n",
            "Epoch 79/100\n",
            "28880/28880 [==============================] - 51s 2ms/step - loss: 0.3202 - accuracy: 0.1639 - val_loss: 0.0000e+00 - val_accuracy: 0.0370\n",
            "Epoch 80/100\n",
            "28880/28880 [==============================] - 51s 2ms/step - loss: 0.3145 - accuracy: 0.1662 - val_loss: 0.0000e+00 - val_accuracy: 0.0370\n",
            "Epoch 81/100\n",
            "28880/28880 [==============================] - 51s 2ms/step - loss: 0.3093 - accuracy: 0.1668 - val_loss: 0.0000e+00 - val_accuracy: 0.0370\n",
            "Epoch 82/100\n",
            "28880/28880 [==============================] - 52s 2ms/step - loss: 0.3037 - accuracy: 0.1695 - val_loss: 0.0000e+00 - val_accuracy: 0.0370\n",
            "Epoch 83/100\n",
            "28880/28880 [==============================] - 52s 2ms/step - loss: 0.2987 - accuracy: 0.1685 - val_loss: 0.0000e+00 - val_accuracy: 0.0370\n",
            "Epoch 84/100\n",
            "28880/28880 [==============================] - 51s 2ms/step - loss: 0.2939 - accuracy: 0.1716 - val_loss: 0.0000e+00 - val_accuracy: 0.0370\n",
            "Epoch 85/100\n",
            "28880/28880 [==============================] - 52s 2ms/step - loss: 0.2887 - accuracy: 0.1720 - val_loss: 0.0000e+00 - val_accuracy: 0.0370\n",
            "Epoch 86/100\n",
            "28880/28880 [==============================] - 51s 2ms/step - loss: 0.2836 - accuracy: 0.1730 - val_loss: 0.0000e+00 - val_accuracy: 0.0370\n",
            "Epoch 87/100\n",
            "28880/28880 [==============================] - 51s 2ms/step - loss: 0.2789 - accuracy: 0.1740 - val_loss: 0.0000e+00 - val_accuracy: 0.0370\n",
            "Epoch 88/100\n",
            "28880/28880 [==============================] - 51s 2ms/step - loss: 0.2745 - accuracy: 0.1745 - val_loss: 0.0000e+00 - val_accuracy: 0.0370\n",
            "Epoch 89/100\n",
            "28880/28880 [==============================] - 51s 2ms/step - loss: 0.2696 - accuracy: 0.1766 - val_loss: 0.0000e+00 - val_accuracy: 0.0370\n",
            "Epoch 90/100\n",
            "28880/28880 [==============================] - 52s 2ms/step - loss: 0.2654 - accuracy: 0.1762 - val_loss: 0.0000e+00 - val_accuracy: 0.0370\n",
            "Epoch 91/100\n",
            "28880/28880 [==============================] - 52s 2ms/step - loss: 0.2609 - accuracy: 0.1790 - val_loss: 0.0000e+00 - val_accuracy: 0.0370\n",
            "Epoch 92/100\n",
            "28880/28880 [==============================] - 52s 2ms/step - loss: 0.2566 - accuracy: 0.1784 - val_loss: 0.0000e+00 - val_accuracy: 0.0370\n",
            "Epoch 93/100\n",
            "28880/28880 [==============================] - 52s 2ms/step - loss: 0.2518 - accuracy: 0.1804 - val_loss: 0.0000e+00 - val_accuracy: 0.0370\n",
            "Epoch 94/100\n",
            "28880/28880 [==============================] - 52s 2ms/step - loss: 0.2468 - accuracy: 0.1821 - val_loss: 0.0000e+00 - val_accuracy: 0.0370\n",
            "Epoch 95/100\n",
            "28880/28880 [==============================] - 52s 2ms/step - loss: 0.2427 - accuracy: 0.1828 - val_loss: 0.0000e+00 - val_accuracy: 0.0370\n",
            "Epoch 96/100\n",
            "28880/28880 [==============================] - 52s 2ms/step - loss: 0.2390 - accuracy: 0.1837 - val_loss: 0.0000e+00 - val_accuracy: 0.0370\n",
            "Epoch 97/100\n",
            "28880/28880 [==============================] - 52s 2ms/step - loss: 0.2352 - accuracy: 0.1839 - val_loss: 0.0000e+00 - val_accuracy: 0.0370\n",
            "Epoch 98/100\n",
            "28880/28880 [==============================] - 52s 2ms/step - loss: 0.2313 - accuracy: 0.1854 - val_loss: 0.0000e+00 - val_accuracy: 0.0370\n",
            "Epoch 99/100\n",
            "28880/28880 [==============================] - 52s 2ms/step - loss: 0.2268 - accuracy: 0.1867 - val_loss: 0.0000e+00 - val_accuracy: 0.0370\n",
            "Epoch 100/100\n",
            "28880/28880 [==============================] - 52s 2ms/step - loss: 0.2228 - accuracy: 0.1870 - val_loss: 0.0000e+00 - val_accuracy: 0.0000e+00\n"
          ],
          "name": "stdout"
        }
      ]
    },
    {
      "cell_type": "code",
      "metadata": {
        "id": "dOUjVrWVfOxu",
        "colab_type": "code",
        "colab": {}
      },
      "source": [
        "from google.colab import files\n",
        "files.download('al_m2_reddit_v3.h5')"
      ],
      "execution_count": 0,
      "outputs": []
    },
    {
      "cell_type": "code",
      "metadata": {
        "id": "CkYyoI99NaKp",
        "colab_type": "code",
        "colab": {
          "base_uri": "https://localhost:8080/",
          "height": 287
        },
        "outputId": "9d28dcef-7821-4e4a-ec58-4826b10615e1"
      },
      "source": [
        "import matplotlib.pyplot as plt\n",
        "plt.plot(hist.history[\"loss\"], color='r')\n",
        "plt.plot(hist.history[\"accuracy\"], color='b')\n",
        "# observations: val loss and val acc not increase/decreasing, not learning anything!\n",
        "# observations: acc seems to be plateauing, not sure if will even increase after more epochs\n",
        "# time distributed has around the same acc\n",
        "# setting dimensions to none made acc go up by at least 3% (to 15%) !?\n",
        "# increased training size --> acc went up to 20% per 100 epochs\n",
        "# https://github.com/devm2024/nmt_keras/blob/master/base.ipynb"
      ],
      "execution_count": 26,
      "outputs": [
        {
          "output_type": "execute_result",
          "data": {
            "text/plain": [
              "[<matplotlib.lines.Line2D at 0x7f01b82282e8>]"
            ]
          },
          "metadata": {
            "tags": []
          },
          "execution_count": 26
        },
        {
          "output_type": "display_data",
          "data": {
            "image/png": "[encoded data removed]",
            "text/plain": [
              "<Figure size 432x288 with 1 Axes>"
            ]
          },
          "metadata": {
            "tags": [],
            "needs_background": "light"
          }
        }
      ]
    },
    {
      "cell_type": "code",
      "metadata": {
        "id": "13jYFeFoWT0Z",
        "colab_type": "code",
        "colab": {}
      },
      "source": [
        "encoder_model = Model(encoder_inputs, encoder_states)\n",
        "decoder_state_input_h = Input(shape=(latent_dim,))\n",
        "decoder_state_input_c = Input(shape=(latent_dim,))\n",
        "decoder_states_inputs = [decoder_state_input_h, decoder_state_input_c]\n",
        "\n",
        "embed_decoder_inputs = DE_Embedding(decoder_inputs)\n",
        "\n",
        "decoder_outputs1, state_h1, state_c1 = decoder_lstm(\n",
        "    embed_decoder_inputs, initial_state=decoder_states_inputs)\n",
        "\n",
        "decoder_states1 = [state_h1, state_c1]\n",
        "decoder_outputs1 = decoder_dense(decoder_outputs1)\n",
        "decoder_model = Model(\n",
        "    [decoder_inputs] + decoder_states_inputs,\n",
        "    [decoder_outputs1] + decoder_states1)\n",
        "\n",
        "# Reverse-lookup token index to decode sequences back to\n",
        "# something readable.\n",
        "reverse_input_char_index = dict(\n",
        "    (i, char) for char, i in input_token_index.items())\n",
        "reverse_target_char_index = dict(\n",
        "    (i, char) for char, i in target_token_index.items())\n"
      ],
      "execution_count": 0,
      "outputs": []
    },
    {
      "cell_type": "code",
      "metadata": {
        "id": "pkHNfTCWZvAm",
        "colab_type": "code",
        "colab": {
          "base_uri": "https://localhost:8080/",
          "height": 239
        },
        "outputId": "1c3bfa1b-d78f-457b-b48f-5dcd678979a4"
      },
      "source": [
        "def decode_sequence(input_seq):\n",
        "    states_value = encoder_model.predict(input_seq)\n",
        "\n",
        "    target_seq = np.zeros((1, 1))\n",
        "    target_seq[0, 0] = target_token_index['\\t']\n",
        "\n",
        "    # Sampling loop for a batch of sequences\n",
        "    # (to simplify, here we assume a batch of size 1).\n",
        "    stop_condition = False\n",
        "    decoded_sentence = ''\n",
        "    while not stop_condition:\n",
        "        output_tokens, h, c = decoder_model.predict(\n",
        "            [target_seq] + states_value)\n",
        "        # Sample a token\n",
        "        sampled_token_index = np.argmax(output_tokens[0, -1, :])\n",
        "        sampled_char = reverse_target_char_index[sampled_token_index]\n",
        "        decoded_sentence += sampled_char\n",
        "\n",
        "        # Exit condition: either hit max length\n",
        "        # or find stop character.\n",
        "        if (sampled_char == '\\n' or\n",
        "           len(decoded_sentence) > max_decoder_seq_length):\n",
        "            stop_condition = True\n",
        "\n",
        "        # Update the target sequence (of length 1).\n",
        "        target_seq = np.zeros((1, 1))\n",
        "        target_seq[0, 0] = sampled_token_index\n",
        "\n",
        "        # Update states\n",
        "        states_value = [h, c]\n",
        "\n",
        "    return decoded_sentence\n",
        "\n",
        "\n",
        "for seq_index in range(int(len(input_texts)*.9),int(len(input_texts)*.9)+10 ):\n",
        "    # Take one sequence (part of the training set)\n",
        "    # for trying out decoding.\n",
        "    input_seq = encoder_input_data[seq_index: seq_index + 1]\n",
        "    decoded_sentence = decode_sequence(input_seq)\n",
        "    print('-')\n",
        "    print('Input sentence:', input_texts[seq_index])\n",
        "    print('Decoded sentence:', decoded_sentence)"
      ],
      "execution_count": 1,
      "outputs": [
        {
          "output_type": "error",
          "ename": "NameError",
          "evalue": "ignored",
          "traceback": [
            "\u001b[0;31m---------------------------------------------------------------------------\u001b[0m",
            "\u001b[0;31mNameError\u001b[0m                                 Traceback (most recent call last)",
            "\u001b[0;32m<ipython-input-1-b63da9945a0a>\u001b[0m in \u001b[0;36m<module>\u001b[0;34m()\u001b[0m\n\u001b[1;32m     33\u001b[0m \u001b[0;34m\u001b[0m\u001b[0m\n\u001b[1;32m     34\u001b[0m \u001b[0;34m\u001b[0m\u001b[0m\n\u001b[0;32m---> 35\u001b[0;31m \u001b[0;32mfor\u001b[0m \u001b[0mseq_index\u001b[0m \u001b[0;32min\u001b[0m \u001b[0mrange\u001b[0m\u001b[0;34m(\u001b[0m\u001b[0mint\u001b[0m\u001b[0;34m(\u001b[0m\u001b[0mlen\u001b[0m\u001b[0;34m(\u001b[0m\u001b[0minput_texts\u001b[0m\u001b[0;34m)\u001b[0m\u001b[0;34m*\u001b[0m\u001b[0;36m.9\u001b[0m\u001b[0;34m)\u001b[0m\u001b[0;34m,\u001b[0m\u001b[0mint\u001b[0m\u001b[0;34m(\u001b[0m\u001b[0mlen\u001b[0m\u001b[0;34m(\u001b[0m\u001b[0minput_texts\u001b[0m\u001b[0;34m)\u001b[0m\u001b[0;34m*\u001b[0m\u001b[0;36m.9\u001b[0m\u001b[0;34m)\u001b[0m\u001b[0;34m+\u001b[0m\u001b[0;36m10\u001b[0m \u001b[0;34m)\u001b[0m\u001b[0;34m:\u001b[0m\u001b[0;34m\u001b[0m\u001b[0;34m\u001b[0m\u001b[0m\n\u001b[0m\u001b[1;32m     36\u001b[0m     \u001b[0;31m# Take one sequence (part of the training set)\u001b[0m\u001b[0;34m\u001b[0m\u001b[0;34m\u001b[0m\u001b[0;34m\u001b[0m\u001b[0m\n\u001b[1;32m     37\u001b[0m     \u001b[0;31m# for trying out decoding.\u001b[0m\u001b[0;34m\u001b[0m\u001b[0;34m\u001b[0m\u001b[0;34m\u001b[0m\u001b[0m\n",
            "\u001b[0;31mNameError\u001b[0m: name 'input_texts' is not defined"
          ]
        }
      ]
    }
  ]
}