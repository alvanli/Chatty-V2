{
  "nbformat": 4,
  "nbformat_minor": 0,
  "metadata": {
    "colab": {
      "name": "mod3b.ipynb",
      "provenance": [],
      "collapsed_sections": []
    },
    "kernelspec": {
      "name": "python3",
      "display_name": "Python 3"
    },
    "accelerator": "GPU"
  },
  "cells": [
    {
      "cell_type": "markdown",
      "metadata": {
        "id": "tWhkRiycLwBQ",
        "colab_type": "text"
      },
      "source": [
        "This model will try out attention with the original keras seq2seq model without embedding. try transformer maybe graph2seq, try reversing the training sentence"
      ]
    },
    {
      "cell_type": "code",
      "metadata": {
        "id": "soLYqDlVUh9f",
        "colab_type": "code",
        "outputId": "463c4a8a-5b2f-4fcb-aa3b-a5dd42c2ec92",
        "colab": {
          "base_uri": "https://localhost:8080/",
          "height": 67
        }
      },
      "source": [
        "%cd ..\n",
        "%cd root\n",
        "import numpy as np\n",
        "import pandas as pd\n",
        "df = pd.read_csv(\"AL_clean_2.csv\")\n",
        "df.head()\n",
        "df.fillna('', inplace=True)\n",
        "print(len(df))\n",
        "x = df[\"x1\"].tolist()\n",
        "y = df[\"y1\"].tolist()"
      ],
      "execution_count": 1,
      "outputs": [
        {
          "output_type": "stream",
          "text": [
            "/\n",
            "/root\n",
            "56820\n"
          ],
          "name": "stdout"
        }
      ]
    },
    {
      "cell_type": "code",
      "metadata": {
        "id": "VF1aQLOeUlQO",
        "colab_type": "code",
        "outputId": "0547df6d-5691-4051-99fe-76799103352e",
        "colab": {
          "base_uri": "https://localhost:8080/",
          "height": 118
        }
      },
      "source": [
        "from keras.models import Model\n",
        "from keras.layers import Input, LSTM, Dense\n",
        "import numpy as np\n",
        "\n",
        "batch_size = 64  # Batch size for training.\n",
        "epochs = 100  # Number of epochs to train for.\n",
        "latent_dim = 256  # Latent dimensionality of the encoding space.\n",
        "num_samples = 10000  # Number of samples to train on.\n",
        "\n",
        "# Vectorize the data.\n",
        "input_texts = []\n",
        "target_texts = []\n",
        "input_words = set()\n",
        "target_words = set()\n",
        "\n",
        "for line in x:\n",
        "    input_texts.append(['\\t']+ str(line).split(\" \")+ ['\\n'])\n",
        "    for word in str(line).split(\" \"):\n",
        "        if word not in input_words:\n",
        "            input_words.add(word)\n",
        "\n",
        "for line in y:\n",
        "  target_texts.append(['\\t'] + str(line).split(\" \") + ['\\n'])\n",
        "  for word in str(line).split(\" \"):\n",
        "    if word not in target_words:\n",
        "        target_words.add(word)\n",
        "target_words.add(\"\\t\")\n",
        "target_words.add(\"\\n\")\n",
        "input_words.add(\"\\t\")\n",
        "input_words.add(\"\\n\")\n",
        "\n",
        "input_words = sorted(list(input_words))\n",
        "target_words = sorted(list(target_words))\n",
        "num_encoder_tokens = len(input_words)\n",
        "num_decoder_tokens = len(target_words)\n",
        "max_encoder_seq_length = max([len(txt) for txt in input_texts])\n",
        "max_decoder_seq_length = max([len(txt) for txt in target_texts])\n",
        "\n",
        "print('Number of samples:', len(input_texts))\n",
        "print('Number of unique input tokens:', num_encoder_tokens)\n",
        "print('Number of unique output tokens:', num_decoder_tokens)\n",
        "print('Max sequence length for inputs:', max_encoder_seq_length)\n",
        "print('Max sequence length for outputs:', max_decoder_seq_length)"
      ],
      "execution_count": 2,
      "outputs": [
        {
          "output_type": "stream",
          "text": [
            "Using TensorFlow backend.\n"
          ],
          "name": "stderr"
        },
        {
          "output_type": "stream",
          "text": [
            "Number of samples: 56820\n",
            "Number of unique input tokens: 7747\n",
            "Number of unique output tokens: 7652\n",
            "Max sequence length for inputs: 27\n",
            "Max sequence length for outputs: 27\n"
          ],
          "name": "stdout"
        }
      ]
    },
    {
      "cell_type": "code",
      "metadata": {
        "id": "OTXcGZveUp_-",
        "colab_type": "code",
        "colab": {}
      },
      "source": [
        "input_token_index = dict(\n",
        "    [(word, i) for i, word in enumerate(input_words)])\n",
        "target_token_index = dict(\n",
        "    [(word, i) for i, word in enumerate(target_words)])"
      ],
      "execution_count": 0,
      "outputs": []
    },
    {
      "cell_type": "code",
      "metadata": {
        "id": "MnbGWpTVUscc",
        "colab_type": "code",
        "outputId": "d7555d9a-5300-47e5-f6ab-64b294784df6",
        "colab": {
          "base_uri": "https://localhost:8080/",
          "height": 34
        }
      },
      "source": [
        "import tensorflow as tf\n",
        "input_data = np.zeros(\n",
        "    (len(input_texts), max_encoder_seq_length),\n",
        "    dtype='float32')\n",
        "output_data = np.zeros(\n",
        "    (len(input_texts), max_decoder_seq_length),\n",
        "    dtype='float32')\n",
        "\n",
        "for i, (input_text, target_text) in enumerate(zip(input_texts, target_texts)):\n",
        "    for t, word in enumerate(input_text):\n",
        "        input_data[i, t] = input_token_index[word]\n",
        "    for t, word in enumerate(target_text):\n",
        "        output_data[i, t] = target_token_index[word]\n",
        "\n",
        "# maybe expand dims?\n",
        "# import numpy as np\n",
        "# input_data = np.expand_dims(input_data, axis=-1)\n",
        "# output_data = np.expand_dims(output_data, axis=-1)\n",
        "dataset = tf.data.Dataset.from_tensor_slices((input_data, output_data)).shuffle(len(input_data)).batch(64, drop_remainder=True)\n",
        "print(input_data.shape)"
      ],
      "execution_count": 4,
      "outputs": [
        {
          "output_type": "stream",
          "text": [
            "(56820, 27)\n"
          ],
          "name": "stdout"
        }
      ]
    },
    {
      "cell_type": "code",
      "metadata": {
        "id": "EViR_99Zb1v4",
        "colab_type": "code",
        "outputId": "d16ee53b-7570-46ab-e3c0-ba1ff8e48255",
        "colab": {
          "base_uri": "https://localhost:8080/",
          "height": 34
        }
      },
      "source": [
        "example_input_batch, example_target_batch = next(iter(dataset))\n",
        "example_input_batch.shape, example_target_batch.shape"
      ],
      "execution_count": 5,
      "outputs": [
        {
          "output_type": "execute_result",
          "data": {
            "text/plain": [
              "(TensorShape([64, 27]), TensorShape([64, 27]))"
            ]
          },
          "metadata": {
            "tags": []
          },
          "execution_count": 5
        }
      ]
    },
    {
      "cell_type": "code",
      "metadata": {
        "id": "ch_AIZNQLozD",
        "colab_type": "code",
        "colab": {}
      },
      "source": [
        "#https://www.tensorflow.org/tutorials/text/nmt_with_attention\n",
        "from keras import backend as K\n",
        "class Encoder(tf.keras.Model):\n",
        "  def __init__(self, vocab_size, embedding_dim, enc_units, batch_sz):\n",
        "    super(Encoder, self).__init__()\n",
        "    self.batch_sz = batch_sz\n",
        "    self.enc_units = enc_units\n",
        "    self.embedding = tf.keras.layers.Embedding(vocab_size, embedding_dim)\n",
        "    self.lstm = tf.keras.layers.LSTM(self.enc_units,\n",
        "                                   return_sequences=True,\n",
        "                                   return_state=True,\n",
        "                                   recurrent_initializer='glorot_uniform')\n",
        "\n",
        "  def call(self, x, hidden):\n",
        "    x = self.embedding(x)\n",
        "    output, stateh, statec = self.lstm(x, initial_state = hidden)\n",
        "    state = [stateh, statec]\n",
        "    return output, state\n",
        "\n",
        "  def initialize_hidden_state(self):\n",
        "    return [tf.zeros((self.batch_sz, self.enc_units)),tf.zeros((self.batch_sz, self.enc_units))]\n",
        "\n",
        "\n",
        "class BahdanauAttention(tf.keras.layers.Layer):\n",
        "  def __init__(self, units):\n",
        "    super(BahdanauAttention, self).__init__()\n",
        "    self.W1 = tf.keras.layers.Dense(units)\n",
        "    self.W2 = tf.keras.layers.Dense(units)\n",
        "    self.V = tf.keras.layers.Dense(1)\n",
        "\n",
        "  def call(self, query, values):\n",
        "    # query hidden state shape == (batch_size, hidden size)\n",
        "    # query_with_time_axis shape == (batch_size, 1, hidden size)\n",
        "    # values shape == (batch_size, max_len, hidden size)\n",
        "    # we are doing this to broadcast addition along the time axis to calculate the score\n",
        "    query1 = query[0]\n",
        "    query_with_time_axis = tf.expand_dims(query1, 1)\n",
        "\n",
        "    # score shape == (batch_size, max_length, 1)\n",
        "    # we get 1 at the last axis because we are applying score to self.V\n",
        "    # the shape of the tensor before applying self.V is (batch_size, max_length, units)\n",
        "    score = self.V(tf.nn.tanh(\n",
        "        self.W1(query_with_time_axis) + self.W2(values)))\n",
        "\n",
        "    # attention_weights shape == (batch_size, max_length, 1)\n",
        "    attention_weights = tf.nn.softmax(score, axis=1)\n",
        "\n",
        "    # context_vector shape after sum == (batch_size, hidden_size)\n",
        "    context_vector = attention_weights * values\n",
        "    context_vector = tf.reduce_sum(context_vector, axis=1)\n",
        "\n",
        "    return context_vector, attention_weights\n",
        "\n",
        "class Decoder(tf.keras.Model):\n",
        "  def __init__(self, vocab_size, embedding_dim, dec_units, batch_sz):\n",
        "    super(Decoder, self).__init__()\n",
        "    self.batch_sz = batch_sz\n",
        "    self.dec_units = dec_units\n",
        "    self.embedding = tf.keras.layers.Embedding(vocab_size, embedding_dim)\n",
        "    self.lstm = tf.keras.layers.LSTM(self.dec_units,\n",
        "                                   return_sequences=True,\n",
        "                                   return_state=True,\n",
        "                                   recurrent_initializer='glorot_uniform')\n",
        "    self.fc = tf.keras.layers.Dense(vocab_size)\n",
        "\n",
        "    # used for attention\n",
        "    self.attention = BahdanauAttention(self.dec_units)\n",
        "\n",
        "  def call(self, x, hidden, enc_output):\n",
        "    # enc_output shape == (batch_size, max_length, hidden_size)\n",
        "    context_vector, attention_weights = self.attention(hidden, enc_output)\n",
        "\n",
        "    # x shape after passing through embedding == (batch_size, 1, embedding_dim)\n",
        "    x = self.embedding(x)\n",
        "\n",
        "    # x shape after concatenation == (batch_size, 1, embedding_dim + hidden_size)\n",
        "    x = tf.concat([tf.expand_dims(context_vector, 1), x], axis=-1)\n",
        "\n",
        "    # passing the concatenated vector to the GRU\n",
        "    output, stateh, statec = self.lstm(x)\n",
        "    state = [stateh, statec]\n",
        "    # output shape == (batch_size * 1, hidden_size)\n",
        "    output = tf.reshape(output, (-1, output.shape[2]))\n",
        "\n",
        "    # output shape == (batch_size, vocab)\n",
        "    x = self.fc(output)\n",
        "\n",
        "    return x, state, attention_weights"
      ],
      "execution_count": 0,
      "outputs": []
    },
    {
      "cell_type": "code",
      "metadata": {
        "id": "74HrJ7dtPlQY",
        "colab_type": "code",
        "colab": {}
      },
      "source": [
        "encoder = Encoder(num_encoder_tokens, 100, 1024, 64)\n",
        "decoder = Decoder(num_decoder_tokens, 100, 1024, 64)\n",
        "optimizer = tf.keras.optimizers.Adam()\n",
        "loss_object = tf.keras.losses.SparseCategoricalCrossentropy(\n",
        "    from_logits=True, reduction='none')\n",
        "\n",
        "def loss_function(real, pred):\n",
        "  mask = tf.math.logical_not(tf.math.equal(real, 0))\n",
        "  loss_ = loss_object(real, pred)\n",
        "\n",
        "  mask = tf.cast(mask, dtype=loss_.dtype)\n",
        "  loss_ *= mask\n",
        "\n",
        "  return tf.reduce_mean(loss_)"
      ],
      "execution_count": 0,
      "outputs": []
    },
    {
      "cell_type": "code",
      "metadata": {
        "id": "LQAknLonbjfX",
        "colab_type": "code",
        "colab": {}
      },
      "source": [
        "def train_step(inp, targ, enc_hidden):\n",
        "  loss = 0\n",
        "  with tf.GradientTape() as tape:\n",
        "    enc_output, enc_hidden = encoder(inp, enc_hidden)\n",
        "    dec_hidden = enc_hidden\n",
        "    dec_input = tf.expand_dims([target_token_index['\\t']] * BATCH_SIZE, 1)\n",
        "    # Teacher forcing - feeding the target as the next input\n",
        "    for t in range(1, targ.shape[1]):\n",
        "      # passing enc_output to the decoder\n",
        "      predictions, dec_hidden, _ = decoder(dec_input, dec_hidden, enc_output)\n",
        "      loss += loss_function(targ[:, t], predictions)\n",
        "      # using teacher forcing\n",
        "      dec_input = tf.expand_dims(targ[:, t], 1)\n",
        "  batch_loss = (loss / int(targ.shape[1]))\n",
        "  variables = encoder.trainable_variables + decoder.trainable_variables\n",
        "  gradients = tape.gradient(loss, variables)\n",
        "  optimizer.apply_gradients(zip(gradients, variables))\n",
        "  return batch_loss"
      ],
      "execution_count": 0,
      "outputs": []
    },
    {
      "cell_type": "code",
      "metadata": {
        "id": "krFa1QPYbuBf",
        "colab_type": "code",
        "outputId": "c9d2cb02-0be8-4f7d-a626-6ffee3f18fe9",
        "colab": {
          "base_uri": "https://localhost:8080/",
          "height": 1000
        }
      },
      "source": [
        "EPOCHS = 10\n",
        "BATCH_SIZE = 64\n",
        "embedding_dim = 256\n",
        "units = 1024\n",
        "\n",
        "\n",
        "import time\n",
        "steps_per_epoch = len(input_data)//64\n",
        "for epoch in range(EPOCHS):\n",
        "  start = time.time()\n",
        "  enc_hidden = encoder.initialize_hidden_state()\n",
        "  total_loss = 0\n",
        "  for (batch, (inp, targ)) in enumerate(dataset.take(steps_per_epoch)):\n",
        "    batch_loss = train_step(inp, targ, enc_hidden)\n",
        "    total_loss += batch_loss\n",
        "    if batch % 100 == 0:\n",
        "      print('Epoch {} Batch {} Loss {:.4f}'.format(epoch + 1,\n",
        "                                                   batch,\n",
        "                                                   batch_loss.numpy()))\n",
        "  print('Epoch {} Loss {:.4f}'.format(epoch + 1,\n",
        "                                      total_loss / steps_per_epoch))\n",
        "  print('Time taken for 1 epoch {} sec\\n'.format(time.time() - start))"
      ],
      "execution_count": 9,
      "outputs": [
        {
          "output_type": "stream",
          "text": [
            "Epoch 1 Batch 0 Loss 3.4363\n",
            "Epoch 1 Batch 100 Loss 2.0055\n",
            "Epoch 1 Batch 200 Loss 1.8230\n",
            "Epoch 1 Batch 300 Loss 1.7935\n",
            "Epoch 1 Batch 400 Loss 1.5769\n",
            "Epoch 1 Batch 500 Loss 1.9672\n",
            "Epoch 1 Batch 600 Loss 1.7140\n",
            "Epoch 1 Batch 700 Loss 1.5333\n",
            "Epoch 1 Batch 800 Loss 1.7851\n",
            "Epoch 1 Loss 1.8200\n",
            "Time taken for 1 epoch 360.610844373703 sec\n",
            "\n",
            "Epoch 2 Batch 0 Loss 1.6147\n",
            "Epoch 2 Batch 100 Loss 1.8267\n",
            "Epoch 2 Batch 200 Loss 1.7191\n",
            "Epoch 2 Batch 300 Loss 1.6864\n",
            "Epoch 2 Batch 400 Loss 1.4833\n",
            "Epoch 2 Batch 500 Loss 1.8256\n",
            "Epoch 2 Batch 600 Loss 1.4615\n",
            "Epoch 2 Batch 700 Loss 1.7701\n",
            "Epoch 2 Batch 800 Loss 1.8102\n",
            "Epoch 2 Loss 1.6394\n",
            "Time taken for 1 epoch 353.52995347976685 sec\n",
            "\n",
            "Epoch 3 Batch 0 Loss 1.6577\n",
            "Epoch 3 Batch 100 Loss 1.4936\n",
            "Epoch 3 Batch 200 Loss 1.4913\n",
            "Epoch 3 Batch 300 Loss 1.6452\n",
            "Epoch 3 Batch 400 Loss 1.4089\n",
            "Epoch 3 Batch 500 Loss 1.8005\n",
            "Epoch 3 Batch 600 Loss 1.6836\n",
            "Epoch 3 Batch 700 Loss 1.6395\n",
            "Epoch 3 Batch 800 Loss 1.6723\n",
            "Epoch 3 Loss 1.5515\n",
            "Time taken for 1 epoch 353.77558398246765 sec\n",
            "\n",
            "Epoch 4 Batch 0 Loss 1.5537\n",
            "Epoch 4 Batch 100 Loss 1.4554\n",
            "Epoch 4 Batch 200 Loss 1.4597\n",
            "Epoch 4 Batch 300 Loss 1.6377\n",
            "Epoch 4 Batch 400 Loss 1.5155\n",
            "Epoch 4 Batch 500 Loss 1.1723\n",
            "Epoch 4 Batch 600 Loss 1.5223\n",
            "Epoch 4 Batch 700 Loss 1.6059\n",
            "Epoch 4 Batch 800 Loss 1.5183\n",
            "Epoch 4 Loss 1.4766\n",
            "Time taken for 1 epoch 353.80810379981995 sec\n",
            "\n",
            "Epoch 5 Batch 0 Loss 1.2027\n",
            "Epoch 5 Batch 100 Loss 1.2752\n",
            "Epoch 5 Batch 200 Loss 1.2438\n",
            "Epoch 5 Batch 300 Loss 1.5195\n",
            "Epoch 5 Batch 400 Loss 1.5585\n",
            "Epoch 5 Batch 500 Loss 1.4689\n",
            "Epoch 5 Batch 600 Loss 1.3970\n",
            "Epoch 5 Batch 700 Loss 1.4634\n",
            "Epoch 5 Batch 800 Loss 1.3967\n",
            "Epoch 5 Loss 1.4038\n",
            "Time taken for 1 epoch 353.3410391807556 sec\n",
            "\n",
            "Epoch 6 Batch 0 Loss 1.3633\n",
            "Epoch 6 Batch 100 Loss 1.3203\n",
            "Epoch 6 Batch 200 Loss 1.1863\n",
            "Epoch 6 Batch 300 Loss 1.2389\n",
            "Epoch 6 Batch 400 Loss 1.2882\n",
            "Epoch 6 Batch 500 Loss 1.4277\n",
            "Epoch 6 Batch 600 Loss 1.2345\n",
            "Epoch 6 Batch 700 Loss 1.2610\n",
            "Epoch 6 Batch 800 Loss 0.9986\n",
            "Epoch 6 Loss 1.3296\n",
            "Time taken for 1 epoch 352.90462374687195 sec\n",
            "\n",
            "Epoch 7 Batch 0 Loss 1.1854\n",
            "Epoch 7 Batch 100 Loss 1.2318\n",
            "Epoch 7 Batch 200 Loss 1.3247\n",
            "Epoch 7 Batch 300 Loss 1.3215\n",
            "Epoch 7 Batch 400 Loss 1.3194\n",
            "Epoch 7 Batch 500 Loss 1.2623\n",
            "Epoch 7 Batch 600 Loss 1.1357\n",
            "Epoch 7 Batch 700 Loss 1.3490\n",
            "Epoch 7 Batch 800 Loss 1.2337\n",
            "Epoch 7 Loss 1.2514\n",
            "Time taken for 1 epoch 352.4492447376251 sec\n",
            "\n",
            "Epoch 8 Batch 0 Loss 1.0974\n",
            "Epoch 8 Batch 100 Loss 1.3047\n",
            "Epoch 8 Batch 200 Loss 1.1758\n",
            "Epoch 8 Batch 300 Loss 1.2699\n",
            "Epoch 8 Batch 400 Loss 1.2622\n",
            "Epoch 8 Batch 500 Loss 1.3457\n",
            "Epoch 8 Batch 600 Loss 1.1406\n",
            "Epoch 8 Batch 700 Loss 1.0957\n",
            "Epoch 8 Batch 800 Loss 1.1650\n",
            "Epoch 8 Loss 1.1685\n",
            "Time taken for 1 epoch 353.8266849517822 sec\n",
            "\n",
            "Epoch 9 Batch 0 Loss 1.2051\n",
            "Epoch 9 Batch 100 Loss 1.0242\n",
            "Epoch 9 Batch 200 Loss 1.1829\n",
            "Epoch 9 Batch 300 Loss 1.0884\n",
            "Epoch 9 Batch 400 Loss 0.9602\n",
            "Epoch 9 Batch 500 Loss 1.0451\n",
            "Epoch 9 Batch 600 Loss 1.0095\n",
            "Epoch 9 Batch 700 Loss 1.1430\n",
            "Epoch 9 Batch 800 Loss 0.9016\n",
            "Epoch 9 Loss 1.0801\n",
            "Time taken for 1 epoch 352.6572997570038 sec\n",
            "\n",
            "Epoch 10 Batch 0 Loss 0.9888\n",
            "Epoch 10 Batch 100 Loss 0.8354\n",
            "Epoch 10 Batch 200 Loss 0.9676\n",
            "Epoch 10 Batch 300 Loss 1.0146\n",
            "Epoch 10 Batch 400 Loss 1.0962\n",
            "Epoch 10 Batch 500 Loss 1.0400\n",
            "Epoch 10 Batch 600 Loss 0.8874\n",
            "Epoch 10 Batch 700 Loss 1.0999\n",
            "Epoch 10 Batch 800 Loss 0.9868\n",
            "Epoch 10 Loss 0.9872\n",
            "Time taken for 1 epoch 351.83548283576965 sec\n",
            "\n"
          ],
          "name": "stdout"
        }
      ]
    },
    {
      "cell_type": "code",
      "metadata": {
        "id": "4jknGyewrVpx",
        "colab_type": "code",
        "colab": {}
      },
      "source": [
        "reverse_input_char_index = dict(\n",
        "    (i, char) for char, i in input_token_index.items())\n",
        "reverse_target_char_index = dict(\n",
        "    (i, char) for char, i in target_token_index.items())\n",
        "\n",
        "# LOSS IS 1.0647 AT EPOCH 10"
      ],
      "execution_count": 0,
      "outputs": []
    },
    {
      "cell_type": "code",
      "metadata": {
        "id": "VERez3Y3cA80",
        "colab_type": "code",
        "colab": {}
      },
      "source": [
        "def evaluate(sentence):\n",
        "  attention_plot = np.zeros((max_decoder_seq_length, max_encoder_seq_length))\n",
        "\n",
        "  inputs = [input_token_index[i] for i in sentence.split(' ')]\n",
        "  inputs = tf.keras.preprocessing.sequence.pad_sequences([inputs],\n",
        "                                                         maxlen=max_encoder_seq_length,\n",
        "                                                         padding='post')\n",
        "  inputs = tf.convert_to_tensor(inputs)\n",
        "  result = ''\n",
        "  hidden = [tf.zeros((1, units)), tf.zeros((1, units))]\n",
        "  enc_out, enc_hidden = encoder(inputs, hidden)\n",
        "  dec_hidden = enc_hidden\n",
        "  dec_input = tf.expand_dims([target_token_index['\\t']], 0)\n",
        "  for t in range(max_decoder_seq_length):\n",
        "    predictions, dec_hidden, attention_weights = decoder(dec_input,\n",
        "                                                         dec_hidden,\n",
        "                                                         enc_out)\n",
        "\n",
        "    # storing the attention weights to plot later on\n",
        "    attention_weights = tf.reshape(attention_weights, (-1, ))\n",
        "    attention_plot[t] = attention_weights.numpy()\n",
        "\n",
        "    predicted_id = tf.argmax(predictions[0]).numpy()\n",
        "\n",
        "    result += reverse_target_char_index[predicted_id] + ' '\n",
        "\n",
        "    if reverse_target_char_index[predicted_id] == '\\n':\n",
        "      return result, sentence, attention_plot\n",
        "\n",
        "    # the predicted ID is fed back into the model\n",
        "    dec_input = tf.expand_dims([predicted_id], 0)\n",
        "\n",
        "  return result, sentence, attention_plot"
      ],
      "execution_count": 0,
      "outputs": []
    },
    {
      "cell_type": "code",
      "metadata": {
        "id": "l7cYVYSOcF4d",
        "colab_type": "code",
        "colab": {}
      },
      "source": [
        "def translate(sentence):\n",
        "  result, sentence, attention_plot = evaluate(sentence)\n",
        "\n",
        "  print('Input: %s' % (sentence))\n",
        "  print('Predicted translation: {}'.format(result))\n"
      ],
      "execution_count": 0,
      "outputs": []
    },
    {
      "cell_type": "code",
      "metadata": {
        "id": "V-si-rJFrkSO",
        "colab_type": "code",
        "colab": {
          "base_uri": "https://localhost:8080/",
          "height": 991
        },
        "outputId": "62a56b1b-80cf-4d64-86fd-2fbf7df4c609"
      },
      "source": [
        "testing = pd.read_csv(\"testing.csv\", header=None)\n",
        "tests = testing[0].tolist()\n",
        "for test in tests:\n",
        "  translate(test)"
      ],
      "execution_count": 13,
      "outputs": [
        {
          "output_type": "stream",
          "text": [
            "Input: i am an amazon warrior it means i shop on amazon a lot\n",
            "Predicted translation: what is your favorite \n",
            " \n",
            "Input: how are you doing today\n",
            "Predicted translation: i am doing great how bout yourself \n",
            " \n",
            "Input: i do not like you because of your face\n",
            "Predicted translation: i am not sure if you want to be a good thing \n",
            " \n",
            "Input: what do you think about trump\n",
            "Predicted translation: i have a lot of people \n",
            " \n",
            "Input: i suppose you are smart can you make me a sandwich\n",
            "Predicted translation: no you are a scout \n",
            " \n",
            "Input: can you do math on your own\n",
            "Predicted translation: i am a very large extent i am a very large extent i am a very large extent i am a very large extent i am a \n",
            "Input: so i got a girlfriend today\n",
            "Predicted translation: congratulations and i am so happy for you \n",
            " \n",
            "Input: what kind of pizza do you like\n",
            "Predicted translation: i have a favourite vegetable that is the best i have a lot of the stone age \n",
            " \n",
            "Input: i am working on a website project \n",
            "Predicted translation: what is the most of a new town \n",
            " \n",
            "Input: do you like chem homework\n",
            "Predicted translation: i have a very good time \n",
            " \n",
            "Input: i ate leftover pizza from yesterday it taste bad\n",
            "Predicted translation: i have not even heard of it \n",
            " \n",
            "Input: is the sky purple when i am not looking\n",
            "Predicted translation: i am not familiar with you \n",
            " \n",
            "Input: hi my name is tommy and i am small\n",
            "Predicted translation: i am doing \n",
            " \n",
            "Input: would you rather dye your hair or eat a pear\n",
            "Predicted translation: i will take a lot of a bit of a bit of a bit of a bit of a bit of a bit of a bit of \n",
            "Input: how many days does it take to build a bear\n",
            "Predicted translation: i am a woman \n",
            " \n",
            "Input: talking to you is difficult in so many ways\n",
            "Predicted translation: i would have been a lot of the globe \n",
            " \n",
            "Input: congratulations i finished my homework\n",
            "Predicted translation: thank you i am doing so happy \n",
            " \n",
            "Input: can you guess why i like duck eggs when boiled with diamonds\n",
            "Predicted translation: no \n",
            " \n",
            "Input: you should not take pictures of cups in the morning\n",
            "Predicted translation: i have a bit of them \n",
            " \n",
            "Input: my cousin is a musician and he likes french chocolate\n",
            "Predicted translation: i thought it was really a thing for you \n",
            " \n"
          ],
          "name": "stdout"
        }
      ]
    }
  ]
}