{
  "nbformat": 4,
  "nbformat_minor": 0,
  "metadata": {
    "accelerator": "GPU",
    "colab": {
      "name": "mod3a.ipynb",
      "provenance": [],
      "collapsed_sections": []
    },
    "kernelspec": {
      "display_name": "Python 3",
      "language": "python",
      "name": "python3"
    },
    "language_info": {
      "codemirror_mode": {
        "name": "ipython",
        "version": 3
      },
      "file_extension": ".py",
      "mimetype": "text/x-python",
      "name": "python",
      "nbconvert_exporter": "python",
      "pygments_lexer": "ipython3",
      "version": "3.7.4"
    }
  },
  "cells": [
    {
      "cell_type": "markdown",
      "metadata": {
        "colab_type": "text",
        "id": "tWhkRiycLwBQ"
      },
      "source": [
        "This model will try out attention with the original keras seq2seq model without embedding. try transformer maybe graph2seq, try reversing the training sentence"
      ]
    },
    {
      "cell_type": "code",
      "metadata": {
        "colab_type": "code",
        "id": "soLYqDlVUh9f",
        "outputId": "95df356a-6fb5-41c6-bc26-58469de74cad",
        "colab": {
          "base_uri": "https://localhost:8080/",
          "height": 67
        }
      },
      "source": [
        "% cd .. \n",
        "% cd root\n",
        "import numpy as np\n",
        "import pandas as pd\n",
        "df = pd.read_csv(\"AL_clean_2.csv\")\n",
        "df.head()\n",
        "df.fillna('', inplace=True)\n",
        "print(len(df))\n",
        "x = df[\"x1\"].tolist()\n",
        "y = df[\"y1\"].tolist()"
      ],
      "execution_count": 1,
      "outputs": [
        {
          "output_type": "stream",
          "text": [
            "/\n",
            "/root\n",
            "56820\n"
          ],
          "name": "stdout"
        }
      ]
    },
    {
      "cell_type": "code",
      "metadata": {
        "colab_type": "code",
        "id": "VF1aQLOeUlQO",
        "outputId": "91cecd81-37fc-48bc-ecb2-410b331cb10d",
        "colab": {
          "base_uri": "https://localhost:8080/",
          "height": 118
        }
      },
      "source": [
        "from keras.models import Model\n",
        "from keras.layers import Input, LSTM, Dense\n",
        "import numpy as np\n",
        "\n",
        "batch_size = 64  # Batch size for training.\n",
        "epochs = 100  # Number of epochs to train for.\n",
        "latent_dim = 256  # Latent dimensionality of the encoding space.\n",
        "num_samples = 10000  # Number of samples to train on.\n",
        "\n",
        "# Vectorize the data.\n",
        "input_texts = []\n",
        "target_texts = []\n",
        "input_words = set()\n",
        "target_words = set()\n",
        "\n",
        "for line in x:\n",
        "    input_texts.append(['\\t']+ str(line).split(\" \")+ ['\\n'])\n",
        "    for word in str(line).split(\" \"):\n",
        "        if word not in input_words:\n",
        "            input_words.add(word)\n",
        "\n",
        "for line in y:\n",
        "  target_texts.append(['\\t'] + str(line).split(\" \") + ['\\n'])\n",
        "  for word in str(line).split(\" \"):\n",
        "    if word not in target_words:\n",
        "        target_words.add(word)\n",
        "target_words.add(\"\\t\")\n",
        "target_words.add(\"\\n\")\n",
        "input_words.add(\"\\t\")\n",
        "input_words.add(\"\\n\")\n",
        "\n",
        "input_words = sorted(list(input_words))\n",
        "target_words = sorted(list(target_words))\n",
        "num_encoder_tokens = len(input_words)\n",
        "num_decoder_tokens = len(target_words)\n",
        "max_encoder_seq_length = max([len(txt) for txt in input_texts])\n",
        "max_decoder_seq_length = max([len(txt) for txt in target_texts])\n",
        "\n",
        "print('Number of samples:', len(input_texts))\n",
        "print('Number of unique input tokens:', num_encoder_tokens)\n",
        "print('Number of unique output tokens:', num_decoder_tokens)\n",
        "print('Max sequence length for inputs:', max_encoder_seq_length)\n",
        "print('Max sequence length for outputs:', max_decoder_seq_length)"
      ],
      "execution_count": 2,
      "outputs": [
        {
          "output_type": "stream",
          "text": [
            "Using TensorFlow backend.\n"
          ],
          "name": "stderr"
        },
        {
          "output_type": "stream",
          "text": [
            "Number of samples: 56820\n",
            "Number of unique input tokens: 7747\n",
            "Number of unique output tokens: 7652\n",
            "Max sequence length for inputs: 27\n",
            "Max sequence length for outputs: 27\n"
          ],
          "name": "stdout"
        }
      ]
    },
    {
      "cell_type": "code",
      "metadata": {
        "colab_type": "code",
        "id": "OTXcGZveUp_-",
        "colab": {}
      },
      "source": [
        "input_token_index = dict(\n",
        "    [(word, i) for i, word in enumerate(input_words)])\n",
        "target_token_index = dict(\n",
        "    [(word, i) for i, word in enumerate(target_words)])"
      ],
      "execution_count": 0,
      "outputs": []
    },
    {
      "cell_type": "code",
      "metadata": {
        "colab_type": "code",
        "id": "MnbGWpTVUscc",
        "outputId": "3823dac3-45cb-4dc4-c6ba-35c9b3dcae09",
        "colab": {
          "base_uri": "https://localhost:8080/",
          "height": 34
        }
      },
      "source": [
        "import tensorflow as tf\n",
        "input_data = np.zeros(\n",
        "    (len(input_texts), max_encoder_seq_length),\n",
        "    dtype='float32')\n",
        "output_data = np.zeros(\n",
        "    (len(input_texts), max_decoder_seq_length),\n",
        "    dtype='float32')\n",
        "\n",
        "for i, (input_text, target_text) in enumerate(zip(input_texts, target_texts)):\n",
        "    for t, word in enumerate(input_text):\n",
        "        input_data[i, t] = input_token_index[word]\n",
        "    for t, word in enumerate(target_text):\n",
        "        output_data[i, t] = target_token_index[word]\n",
        "\n",
        "dataset = tf.data.Dataset.from_tensor_slices((input_data, output_data)).shuffle(len(input_data)).batch(64, drop_remainder=True)\n",
        "print(input_data.shape)"
      ],
      "execution_count": 4,
      "outputs": [
        {
          "output_type": "stream",
          "text": [
            "(56820, 27)\n"
          ],
          "name": "stdout"
        }
      ]
    },
    {
      "cell_type": "code",
      "metadata": {
        "colab_type": "code",
        "id": "EViR_99Zb1v4",
        "outputId": "c4c524c8-2ee0-4111-d1e3-088d77b0923c",
        "colab": {
          "base_uri": "https://localhost:8080/",
          "height": 34
        }
      },
      "source": [
        "example_input_batch, example_target_batch = next(iter(dataset))\n",
        "example_input_batch.shape, example_target_batch.shape"
      ],
      "execution_count": 5,
      "outputs": [
        {
          "output_type": "execute_result",
          "data": {
            "text/plain": [
              "(TensorShape([64, 27]), TensorShape([64, 27]))"
            ]
          },
          "metadata": {
            "tags": []
          },
          "execution_count": 5
        }
      ]
    },
    {
      "cell_type": "code",
      "metadata": {
        "colab_type": "code",
        "id": "ch_AIZNQLozD",
        "colab": {}
      },
      "source": [
        "#https://www.tensorflow.org/tutorials/text/nmt_with_attention\n",
        "\n",
        "class Encoder(tf.keras.Model):\n",
        "  def __init__(self, vocab_size, embedding_dim, enc_units, batch_sz):\n",
        "    super(Encoder, self).__init__()\n",
        "    self.batch_sz = batch_sz\n",
        "    self.enc_units = enc_units\n",
        "    self.embedding = tf.keras.layers.Embedding(vocab_size, embedding_dim)\n",
        "    self.lstm = tf.keras.layers.GRU(self.enc_units,\n",
        "                                   return_sequences=True,\n",
        "                                   return_state=True,\n",
        "                                   recurrent_initializer='glorot_uniform')\n",
        "\n",
        "  def call(self, x, hidden):\n",
        "    x = self.embedding(x)\n",
        "    output, state = self.lstm(x, initial_state = hidden)\n",
        "    return output, state\n",
        "\n",
        "  def initialize_hidden_state(self):\n",
        "    return [tf.zeros((self.batch_sz, self.enc_units))]\n",
        "\n",
        "\n",
        "class BahdanauAttention(tf.keras.layers.Layer):\n",
        "  def __init__(self, units):\n",
        "    super(BahdanauAttention, self).__init__()\n",
        "    self.W1 = tf.keras.layers.Dense(units)\n",
        "    self.W2 = tf.keras.layers.Dense(units)\n",
        "    self.V = tf.keras.layers.Dense(1)\n",
        "\n",
        "  def call(self, query, values):\n",
        "    # query hidden state shape == (batch_size, hidden size)\n",
        "    # query_with_time_axis shape == (batch_size, 1, hidden size)\n",
        "    # values shape == (batch_size, max_len, hidden size)\n",
        "    # we are doing this to broadcast addition along the time axis to calculate the score\n",
        "    query_with_time_axis = tf.expand_dims(query, 1)\n",
        "\n",
        "    # score shape == (batch_size, max_length, 1)\n",
        "    # we get 1 at the last axis because we are applying score to self.V\n",
        "    # the shape of the tensor before applying self.V is (batch_size, max_length, units)\n",
        "    score = self.V(tf.nn.tanh(\n",
        "        self.W1(query_with_time_axis) + self.W2(values)))\n",
        "\n",
        "    # attention_weights shape == (batch_size, max_length, 1)\n",
        "    attention_weights = tf.nn.softmax(score, axis=1)\n",
        "\n",
        "    # context_vector shape after sum == (batch_size, hidden_size)\n",
        "    context_vector = attention_weights * values\n",
        "    context_vector = tf.reduce_sum(context_vector, axis=1)\n",
        "\n",
        "    return context_vector, attention_weights\n",
        "\n",
        "class Decoder(tf.keras.Model):\n",
        "  def __init__(self, vocab_size, embedding_dim, dec_units, batch_sz):\n",
        "    super(Decoder, self).__init__()\n",
        "    self.batch_sz = batch_sz\n",
        "    self.dec_units = dec_units\n",
        "    self.embedding = tf.keras.layers.Embedding(vocab_size, embedding_dim)\n",
        "    self.lstm = tf.keras.layers.GRU(self.dec_units,\n",
        "                                   return_sequences=True,\n",
        "                                   return_state=True,\n",
        "                                   recurrent_initializer='glorot_uniform')\n",
        "    self.fc = tf.keras.layers.Dense(vocab_size)\n",
        "\n",
        "    # used for attention\n",
        "    self.attention = BahdanauAttention(self.dec_units)\n",
        "\n",
        "  def call(self, x, hidden, enc_output):\n",
        "    # enc_output shape == (batch_size, max_length, hidden_size)\n",
        "    context_vector, attention_weights = self.attention(hidden, enc_output)\n",
        "\n",
        "    # x shape after passing through embedding == (batch_size, 1, embedding_dim)\n",
        "    x = self.embedding(x)\n",
        "\n",
        "    # x shape after concatenation == (batch_size, 1, embedding_dim + hidden_size)\n",
        "    x = tf.concat([tf.expand_dims(context_vector, 1), x], axis=-1)\n",
        "\n",
        "    # passing the concatenated vector to the GRU\n",
        "    output, state = self.lstm(x)\n",
        "    # output shape == (batch_size * 1, hidden_size)\n",
        "    output = tf.reshape(output, (-1, output.shape[2]))\n",
        "\n",
        "    # output shape == (batch_size, vocab)\n",
        "    x = self.fc(output)\n",
        "\n",
        "    return x, state, attention_weights"
      ],
      "execution_count": 0,
      "outputs": []
    },
    {
      "cell_type": "code",
      "metadata": {
        "colab_type": "code",
        "id": "74HrJ7dtPlQY",
        "colab": {}
      },
      "source": [
        "encoder = Encoder(num_encoder_tokens, 100, 1024, 64)\n",
        "decoder = Decoder(num_decoder_tokens, 100, 1024, 64)\n",
        "optimizer = tf.keras.optimizers.Adam()\n",
        "loss_object = tf.keras.losses.SparseCategoricalCrossentropy(\n",
        "    from_logits=True, reduction='none')\n",
        "\n",
        "def loss_function(real, pred):\n",
        "  mask = tf.math.logical_not(tf.math.equal(real, 0))\n",
        "  loss_ = loss_object(real, pred)\n",
        "\n",
        "  mask = tf.cast(mask, dtype=loss_.dtype)\n",
        "  loss_ *= mask\n",
        "\n",
        "  return tf.reduce_mean(loss_)"
      ],
      "execution_count": 0,
      "outputs": []
    },
    {
      "cell_type": "code",
      "metadata": {
        "colab_type": "code",
        "id": "LQAknLonbjfX",
        "colab": {}
      },
      "source": [
        "def train_step(inp, targ, enc_hidden):\n",
        "  loss = 0\n",
        "  with tf.GradientTape() as tape:\n",
        "    enc_output, enc_hidden = encoder(inp, enc_hidden)\n",
        "    dec_hidden = enc_hidden\n",
        "    dec_input = tf.expand_dims([target_token_index['\\t']] * BATCH_SIZE, 1)\n",
        "    # Teacher forcing - feeding the target as the next input\n",
        "    for t in range(1, targ.shape[1]):\n",
        "      # passing enc_output to the decoder\n",
        "      predictions, dec_hidden, _ = decoder(dec_input, dec_hidden, enc_output)\n",
        "      loss += loss_function(targ[:, t], predictions)\n",
        "      # using teacher forcing\n",
        "      dec_input = tf.expand_dims(targ[:, t], 1)\n",
        "  batch_loss = (loss / int(targ.shape[1]))\n",
        "  variables = encoder.trainable_variables + decoder.trainable_variables\n",
        "  gradients = tape.gradient(loss, variables)\n",
        "  optimizer.apply_gradients(zip(gradients, variables))\n",
        "  return batch_loss"
      ],
      "execution_count": 0,
      "outputs": []
    },
    {
      "cell_type": "code",
      "metadata": {
        "colab_type": "code",
        "id": "krFa1QPYbuBf",
        "outputId": "1eba5282-ac09-46bb-ce81-cd4a600c2a9d",
        "colab": {
          "base_uri": "https://localhost:8080/",
          "height": 1000
        }
      },
      "source": [
        "EPOCHS = 10\n",
        "BATCH_SIZE = 64\n",
        "embedding_dim = 256\n",
        "units = 1024\n",
        "\n",
        "\n",
        "import time\n",
        "steps_per_epoch = len(input_data)//64\n",
        "for epoch in range(EPOCHS):\n",
        "  start = time.time()\n",
        "  enc_hidden = encoder.initialize_hidden_state()\n",
        "  total_loss = 0\n",
        "  for (batch, (inp, targ)) in enumerate(dataset.take(steps_per_epoch)):\n",
        "    batch_loss = train_step(inp, targ, enc_hidden)\n",
        "    total_loss += batch_loss\n",
        "    if batch % 100 == 0:\n",
        "      print('Epoch {} Batch {} Loss {:.4f}'.format(epoch + 1,\n",
        "                                                   batch,\n",
        "                                                   batch_loss.numpy()))\n",
        "  print('Epoch {} Loss {:.4f}'.format(epoch + 1,\n",
        "                                      total_loss / steps_per_epoch))\n",
        "  print('Time taken for 1 epoch {} sec\\n'.format(time.time() - start))"
      ],
      "execution_count": 9,
      "outputs": [
        {
          "output_type": "stream",
          "text": [
            "Epoch 1 Batch 0 Loss 3.0119\n",
            "Epoch 1 Batch 100 Loss 2.2889\n",
            "Epoch 1 Batch 200 Loss 1.7755\n",
            "Epoch 1 Batch 300 Loss 1.6993\n",
            "Epoch 1 Batch 400 Loss 1.5176\n",
            "Epoch 1 Batch 500 Loss 1.6933\n",
            "Epoch 1 Batch 600 Loss 1.9126\n",
            "Epoch 1 Batch 700 Loss 1.7851\n",
            "Epoch 1 Batch 800 Loss 1.6418\n",
            "Epoch 1 Loss 1.8130\n",
            "Time taken for 1 epoch 408.3906192779541 sec\n",
            "\n",
            "Epoch 2 Batch 0 Loss 1.7055\n",
            "Epoch 2 Batch 100 Loss 1.6482\n",
            "Epoch 2 Batch 200 Loss 1.4949\n",
            "Epoch 2 Batch 300 Loss 1.7221\n",
            "Epoch 2 Batch 400 Loss 1.5354\n",
            "Epoch 2 Batch 500 Loss 1.6502\n",
            "Epoch 2 Batch 600 Loss 1.5362\n",
            "Epoch 2 Batch 700 Loss 1.5880\n",
            "Epoch 2 Batch 800 Loss 1.7002\n",
            "Epoch 2 Loss 1.6345\n",
            "Time taken for 1 epoch 401.6073362827301 sec\n",
            "\n",
            "Epoch 3 Batch 0 Loss 1.6256\n",
            "Epoch 3 Batch 100 Loss 1.5030\n",
            "Epoch 3 Batch 200 Loss 1.6165\n",
            "Epoch 3 Batch 300 Loss 1.4334\n",
            "Epoch 3 Batch 400 Loss 1.3699\n",
            "Epoch 3 Batch 500 Loss 1.4212\n",
            "Epoch 3 Batch 600 Loss 1.3734\n",
            "Epoch 3 Batch 700 Loss 1.3903\n",
            "Epoch 3 Batch 800 Loss 1.6847\n",
            "Epoch 3 Loss 1.5559\n",
            "Time taken for 1 epoch 400.10047006607056 sec\n",
            "\n",
            "Epoch 4 Batch 0 Loss 1.6254\n",
            "Epoch 4 Batch 100 Loss 1.3450\n",
            "Epoch 4 Batch 200 Loss 1.3814\n",
            "Epoch 4 Batch 300 Loss 1.2553\n",
            "Epoch 4 Batch 400 Loss 1.4460\n",
            "Epoch 4 Batch 500 Loss 1.3214\n",
            "Epoch 4 Batch 600 Loss 1.5094\n",
            "Epoch 4 Batch 700 Loss 1.5882\n",
            "Epoch 4 Batch 800 Loss 1.5094\n",
            "Epoch 4 Loss 1.4865\n",
            "Time taken for 1 epoch 402.92957735061646 sec\n",
            "\n",
            "Epoch 5 Batch 0 Loss 1.3631\n",
            "Epoch 5 Batch 100 Loss 1.2974\n",
            "Epoch 5 Batch 200 Loss 1.3744\n",
            "Epoch 5 Batch 300 Loss 1.4163\n",
            "Epoch 5 Batch 400 Loss 1.3775\n",
            "Epoch 5 Batch 500 Loss 1.3466\n",
            "Epoch 5 Batch 600 Loss 1.3258\n",
            "Epoch 5 Batch 700 Loss 1.3775\n",
            "Epoch 5 Batch 800 Loss 1.4755\n",
            "Epoch 5 Loss 1.4127\n",
            "Time taken for 1 epoch 402.2677493095398 sec\n",
            "\n",
            "Epoch 6 Batch 0 Loss 1.5662\n",
            "Epoch 6 Batch 100 Loss 1.2970\n",
            "Epoch 6 Batch 200 Loss 1.0356\n",
            "Epoch 6 Batch 300 Loss 1.3022\n",
            "Epoch 6 Batch 400 Loss 1.2583\n",
            "Epoch 6 Batch 500 Loss 1.4387\n",
            "Epoch 6 Batch 600 Loss 1.4635\n",
            "Epoch 6 Batch 700 Loss 1.5093\n",
            "Epoch 6 Batch 800 Loss 1.4234\n",
            "Epoch 6 Loss 1.3358\n",
            "Time taken for 1 epoch 399.58086466789246 sec\n",
            "\n",
            "Epoch 7 Batch 0 Loss 1.1346\n",
            "Epoch 7 Batch 100 Loss 1.4751\n",
            "Epoch 7 Batch 200 Loss 1.2834\n",
            "Epoch 7 Batch 300 Loss 1.1828\n",
            "Epoch 7 Batch 400 Loss 1.4330\n",
            "Epoch 7 Batch 500 Loss 1.2633\n",
            "Epoch 7 Batch 600 Loss 1.4080\n",
            "Epoch 7 Batch 700 Loss 1.3649\n",
            "Epoch 7 Batch 800 Loss 1.2107\n",
            "Epoch 7 Loss 1.2536\n",
            "Time taken for 1 epoch 398.4627435207367 sec\n",
            "\n",
            "Epoch 8 Batch 0 Loss 1.0309\n",
            "Epoch 8 Batch 100 Loss 1.0178\n",
            "Epoch 8 Batch 200 Loss 1.3693\n",
            "Epoch 8 Batch 300 Loss 1.0249\n",
            "Epoch 8 Batch 400 Loss 1.3490\n",
            "Epoch 8 Batch 500 Loss 1.1476\n",
            "Epoch 8 Batch 600 Loss 1.1438\n",
            "Epoch 8 Batch 700 Loss 1.3414\n",
            "Epoch 8 Batch 800 Loss 1.3878\n",
            "Epoch 8 Loss 1.1670\n",
            "Time taken for 1 epoch 397.5206935405731 sec\n",
            "\n",
            "Epoch 9 Batch 0 Loss 1.1495\n",
            "Epoch 9 Batch 100 Loss 1.0475\n",
            "Epoch 9 Batch 200 Loss 1.2009\n",
            "Epoch 9 Batch 300 Loss 1.1153\n",
            "Epoch 9 Batch 400 Loss 1.0488\n",
            "Epoch 9 Batch 500 Loss 1.0907\n",
            "Epoch 9 Batch 600 Loss 1.0067\n",
            "Epoch 9 Batch 700 Loss 1.2187\n",
            "Epoch 9 Batch 800 Loss 0.9986\n",
            "Epoch 9 Loss 1.0769\n",
            "Time taken for 1 epoch 394.898713350296 sec\n",
            "\n",
            "Epoch 10 Batch 0 Loss 0.9610\n",
            "Epoch 10 Batch 100 Loss 0.8355\n",
            "Epoch 10 Batch 200 Loss 0.9081\n",
            "Epoch 10 Batch 300 Loss 1.0227\n",
            "Epoch 10 Batch 400 Loss 0.9815\n",
            "Epoch 10 Batch 500 Loss 1.0015\n",
            "Epoch 10 Batch 600 Loss 1.1220\n",
            "Epoch 10 Batch 700 Loss 0.9256\n",
            "Epoch 10 Batch 800 Loss 0.8904\n",
            "Epoch 10 Loss 0.9874\n",
            "Time taken for 1 epoch 394.4424047470093 sec\n",
            "\n"
          ],
          "name": "stdout"
        }
      ]
    },
    {
      "cell_type": "code",
      "metadata": {
        "colab_type": "code",
        "id": "4jknGyewrVpx",
        "colab": {}
      },
      "source": [
        "reverse_input_char_index = dict(\n",
        "    (i, char) for char, i in input_token_index.items())\n",
        "reverse_target_char_index = dict(\n",
        "    (i, char) for char, i in target_token_index.items())"
      ],
      "execution_count": 0,
      "outputs": []
    },
    {
      "cell_type": "code",
      "metadata": {
        "colab_type": "code",
        "id": "VERez3Y3cA80",
        "colab": {}
      },
      "source": [
        "def evaluate(sentence):\n",
        "  attention_plot = np.zeros((max_decoder_seq_length, max_encoder_seq_length))\n",
        "\n",
        "  inputs = [input_token_index[i] for i in sentence.split(' ')]\n",
        "  inputs = tf.keras.preprocessing.sequence.pad_sequences([inputs],\n",
        "                                                         maxlen=max_encoder_seq_length,\n",
        "                                                         padding='post')\n",
        "  inputs = tf.convert_to_tensor(inputs)\n",
        "  result = ''\n",
        "  hidden = [tf.zeros((1, units))]\n",
        "  enc_out, enc_hidden = encoder(inputs, hidden)\n",
        "  dec_hidden = enc_hidden\n",
        "  dec_input = tf.expand_dims([target_token_index['\\t']], 0)\n",
        "  for t in range(max_decoder_seq_length):\n",
        "    predictions, dec_hidden, attention_weights = decoder(dec_input,\n",
        "                                                         dec_hidden,\n",
        "                                                         enc_out)\n",
        "\n",
        "    # storing the attention weights to plot later on\n",
        "    attention_weights = tf.reshape(attention_weights, (-1, ))\n",
        "    attention_plot[t] = attention_weights.numpy()\n",
        "\n",
        "    predicted_id = tf.argmax(predictions[0]).numpy()\n",
        "\n",
        "    result += reverse_target_char_index[predicted_id] + ' '\n",
        "\n",
        "    if reverse_target_char_index[predicted_id] == '\\n':\n",
        "      return result, sentence, attention_plot\n",
        "\n",
        "    # the predicted ID is fed back into the model\n",
        "    dec_input = tf.expand_dims([predicted_id], 0)\n",
        "\n",
        "  return result, sentence, attention_plot"
      ],
      "execution_count": 0,
      "outputs": []
    },
    {
      "cell_type": "code",
      "metadata": {
        "colab_type": "code",
        "id": "l7cYVYSOcF4d",
        "colab": {}
      },
      "source": [
        "def translate(sentence):\n",
        "  result, sentence, attention_plot = evaluate(sentence)\n",
        "\n",
        "  print('Input: %s' % (sentence))\n",
        "  print('Predicted translation: {}'.format(result))\n"
      ],
      "execution_count": 0,
      "outputs": []
    },
    {
      "cell_type": "code",
      "metadata": {
        "colab_type": "code",
        "id": "V-si-rJFrkSO",
        "colab": {
          "base_uri": "https://localhost:8080/",
          "height": 941
        },
        "outputId": "ff9b3156-4243-4bc7-dceb-27e3f4c1aebd"
      },
      "source": [
        "testing = pd.read_csv(\"testing.csv\", header=None)\n",
        "tests = testing[0].tolist()\n",
        "for test in tests:\n",
        "  translate(test)"
      ],
      "execution_count": 14,
      "outputs": [
        {
          "output_type": "stream",
          "text": [
            "Input: i am an amazon warrior it means i shop on amazon a lot\n",
            "Predicted translation: what is your job \n",
            " \n",
            "Input: how are you doing today\n",
            "Predicted translation: i am feeling down \n",
            " \n",
            "Input: i do not like you because of your face\n",
            "Predicted translation: what is your job \n",
            " \n",
            "Input: what do you think about trump\n",
            "Predicted translation: i have a lot of a lot of a lot of a lot of a lot of a lot of a lot of a lot of a \n",
            "Input: i suppose you are smart can you make me a sandwich\n",
            "Predicted translation: i am \n",
            " \n",
            "Input: can you do math on your own\n",
            "Predicted translation: i do not to do a lot of a different \n",
            " \n",
            "Input: so i got a girlfriend today\n",
            "Predicted translation: what is that is the pain \n",
            " \n",
            "Input: what kind of pizza do you like\n",
            "Predicted translation: i like the hobby and i like the hobby and i like the hobby and i like the hobby and i like the hobby and i like \n",
            "Input: i am working on a website project \n",
            "Predicted translation: what is your job \n",
            " \n",
            "Input: do you like chem homework\n",
            "Predicted translation: i am a lot of this is this is the same i am a lot of this is this is the same i am a lot of \n",
            "Input: i ate leftover pizza from yesterday it taste bad\n",
            "Predicted translation: what is your work \n",
            " \n",
            "Input: is the sky purple when i am not looking\n",
            "Predicted translation: i am \n",
            " \n",
            "Input: hi my name is tommy and i am small\n",
            "Predicted translation: hey how are you had a great i am doing it is it is it is it is it is it is it is it is it \n",
            "Input: would you rather dye your hair or eat a pear\n",
            "Predicted translation: i am i could i am i could i am i could i am i could i am i could i am i could i am i \n",
            "Input: how many days does it take to build a bear\n",
            "Predicted translation: a few weeks ago doing not sure \n",
            " \n",
            "Input: talking to you is difficult in so many ways\n",
            "Predicted translation: i am not too late \n",
            " \n",
            "Input: congratulations i finished my homework\n",
            "Predicted translation: i am in my way \n",
            " \n",
            "Input: can you guess why i like duck eggs when boiled with diamonds\n",
            "Predicted translation: how to the link \n",
            " \n",
            "Input: you should not take pictures of cups in the morning\n",
            "Predicted translation: i have a question \n",
            " \n",
            "Input: my cousin is a musician and he likes french chocolate\n",
            "Predicted translation: i am and happy \n",
            " \n"
          ],
          "name": "stdout"
        }
      ]
    }
  ]
}