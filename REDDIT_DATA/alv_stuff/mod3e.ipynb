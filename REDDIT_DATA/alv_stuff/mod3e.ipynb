{
  "nbformat": 4,
  "nbformat_minor": 0,
  "metadata": {
    "accelerator": "GPU",
    "colab": {
      "name": "mod3e.ipynb",
      "provenance": [],
      "collapsed_sections": []
    },
    "kernelspec": {
      "display_name": "Python 3",
      "language": "python",
      "name": "python3"
    },
    "language_info": {
      "codemirror_mode": {
        "name": "ipython",
        "version": 3
      },
      "file_extension": ".py",
      "mimetype": "text/x-python",
      "name": "python",
      "nbconvert_exporter": "python",
      "pygments_lexer": "ipython3",
      "version": "3.7.4"
    }
  },
  "cells": [
    {
      "cell_type": "markdown",
      "metadata": {
        "colab_type": "text",
        "id": "tWhkRiycLwBQ"
      },
      "source": [
        "This model will try out attention with the original keras seq2seq model without embedding. try transformer maybe graph2seq, try reversing the training sentence"
      ]
    },
    {
      "cell_type": "code",
      "metadata": {
        "colab_type": "code",
        "id": "soLYqDlVUh9f",
        "outputId": "835b4cfe-f610-480f-f276-5c8419ad18e6",
        "colab": {
          "base_uri": "https://localhost:8080/",
          "height": 67
        }
      },
      "source": [
        "% cd ..\n",
        "% cd root\n",
        "import numpy as np\n",
        "import pandas as pd\n",
        "df = pd.read_csv(\"AL_clean_2.csv\")\n",
        "df.head()\n",
        "df.fillna('', inplace=True)\n",
        "print(len(df))\n",
        "x = df[\"x1\"].tolist()\n",
        "y = df[\"y1\"].tolist()"
      ],
      "execution_count": 0,
      "outputs": [
        {
          "output_type": "stream",
          "text": [
            "/\n",
            "/root\n",
            "56820\n"
          ],
          "name": "stdout"
        }
      ]
    },
    {
      "cell_type": "code",
      "metadata": {
        "colab_type": "code",
        "id": "VF1aQLOeUlQO",
        "outputId": "13f793d4-6165-4107-af4c-82cd49c15a06",
        "colab": {
          "base_uri": "https://localhost:8080/",
          "height": 101
        }
      },
      "source": [
        "from keras.models import Model\n",
        "from keras.layers import Input, LSTM, Dense\n",
        "import numpy as np\n",
        "\n",
        "batch_size = 64  # Batch size for training.\n",
        "epochs = 100  # Number of epochs to train for.\n",
        "latent_dim = 256  # Latent dimensionality of the encoding space.\n",
        "num_samples = 10000  # Number of samples to train on.\n",
        "\n",
        "# Vectorize the data.\n",
        "input_texts = []\n",
        "target_texts = []\n",
        "input_words = set()\n",
        "target_words = set()\n",
        "\n",
        "for line in x:\n",
        "    input_texts.append(['\\t']+ str(line).split(\" \")+ ['\\n'])\n",
        "    for word in str(line).split(\" \"):\n",
        "        if word not in input_words:\n",
        "            input_words.add(word)\n",
        "\n",
        "for line in y:\n",
        "  target_texts.append(['\\t'] + str(line).split(\" \") + ['\\n'])\n",
        "  for word in str(line).split(\" \"):\n",
        "    if word not in target_words:\n",
        "        target_words.add(word)\n",
        "target_words.add(\"\\t\")\n",
        "target_words.add(\"\\n\")\n",
        "input_words.add(\"\\t\")\n",
        "input_words.add(\"\\n\")\n",
        "\n",
        "input_words = sorted(list(input_words))\n",
        "target_words = sorted(list(target_words))\n",
        "num_encoder_tokens = len(input_words)\n",
        "num_decoder_tokens = len(target_words)\n",
        "max_encoder_seq_length = max([len(txt) for txt in input_texts])\n",
        "max_decoder_seq_length = max([len(txt) for txt in target_texts])\n",
        "\n",
        "print('Number of samples:', len(input_texts))\n",
        "print('Number of unique input tokens:', num_encoder_tokens)\n",
        "print('Number of unique output tokens:', num_decoder_tokens)\n",
        "print('Max sequence length for inputs:', max_encoder_seq_length)\n",
        "print('Max sequence length for outputs:', max_decoder_seq_length)"
      ],
      "execution_count": 0,
      "outputs": [
        {
          "output_type": "stream",
          "text": [
            "Number of samples: 56820\n",
            "Number of unique input tokens: 7747\n",
            "Number of unique output tokens: 7652\n",
            "Max sequence length for inputs: 27\n",
            "Max sequence length for outputs: 27\n"
          ],
          "name": "stdout"
        }
      ]
    },
    {
      "cell_type": "code",
      "metadata": {
        "colab_type": "code",
        "id": "OTXcGZveUp_-",
        "colab": {}
      },
      "source": [
        "input_token_index = dict(\n",
        "    [(word, i) for i, word in enumerate(input_words)])\n",
        "target_token_index = dict(\n",
        "    [(word, i) for i, word in enumerate(target_words)])"
      ],
      "execution_count": 0,
      "outputs": []
    },
    {
      "cell_type": "code",
      "metadata": {
        "colab_type": "code",
        "id": "MnbGWpTVUscc",
        "outputId": "ded40be1-ad0e-47d9-e81c-34bbc6c9189e",
        "colab": {
          "base_uri": "https://localhost:8080/",
          "height": 34
        }
      },
      "source": [
        "import tensorflow as tf\n",
        "input_data = np.zeros(\n",
        "    (len(input_texts), max_encoder_seq_length),\n",
        "    dtype='float32')\n",
        "output_data = np.zeros(\n",
        "    (len(input_texts), max_decoder_seq_length),\n",
        "    dtype='float32')\n",
        "\n",
        "for i, (input_text, target_text) in enumerate(zip(input_texts, target_texts)):\n",
        "    for t, word in enumerate(input_text):\n",
        "        input_data[i, t] = input_token_index[word]\n",
        "    for t, word in enumerate(target_text):\n",
        "        output_data[i, t] = target_token_index[word]\n",
        "\n",
        "dataset = tf.data.Dataset.from_tensor_slices((input_data, output_data)).shuffle(len(input_data)).batch(64, drop_remainder=True)\n",
        "print(input_data.shape)"
      ],
      "execution_count": 0,
      "outputs": [
        {
          "output_type": "stream",
          "text": [
            "(56820, 27)\n"
          ],
          "name": "stdout"
        }
      ]
    },
    {
      "cell_type": "code",
      "metadata": {
        "colab_type": "code",
        "id": "EViR_99Zb1v4",
        "outputId": "c9b70e18-4cca-432f-ae81-d5b2d81af163",
        "colab": {
          "base_uri": "https://localhost:8080/",
          "height": 34
        }
      },
      "source": [
        "example_input_batch, example_target_batch = next(iter(dataset))\n",
        "example_input_batch.shape, example_target_batch.shape"
      ],
      "execution_count": 0,
      "outputs": [
        {
          "output_type": "execute_result",
          "data": {
            "text/plain": [
              "(TensorShape([64, 27]), TensorShape([64, 27]))"
            ]
          },
          "metadata": {
            "tags": []
          },
          "execution_count": 27
        }
      ]
    },
    {
      "cell_type": "code",
      "metadata": {
        "colab_type": "code",
        "id": "ch_AIZNQLozD",
        "colab": {}
      },
      "source": [
        "#https://www.tensorflow.org/tutorials/text/nmt_with_attention\n",
        "\n",
        "class Encoder(tf.keras.Model):\n",
        "  def __init__(self, vocab_size, embedding_dim, enc_units, batch_sz):\n",
        "    super(Encoder, self).__init__()\n",
        "    self.batch_sz = batch_sz\n",
        "    self.enc_units = enc_units\n",
        "    self.embedding = tf.keras.layers.Embedding(vocab_size, embedding_dim)\n",
        "    self.lstm = tf.keras.layers.LSTM(self.enc_units,\n",
        "                                   return_sequences=True,\n",
        "                                   return_state=True,\n",
        "                                   recurrent_initializer='glorot_uniform')\n",
        "\n",
        "  def call(self, x, hidden):\n",
        "    x = self.embedding(x)\n",
        "    output, stateh, statec = self.lstm(x, initial_state = hidden)\n",
        "    return output, stateh, statec\n",
        "\n",
        "  def initialize_hidden_state(self):\n",
        "    return [tf.zeros((self.batch_sz, self.enc_units)),tf.zeros((self.batch_sz, self.enc_units))]\n",
        "\n",
        "\n",
        "class BahdanauAttention(tf.keras.layers.Layer):\n",
        "  def __init__(self, units):\n",
        "    super(BahdanauAttention, self).__init__()\n",
        "    self.W1 = tf.keras.layers.Dense(units)\n",
        "    self.V = tf.keras.layers.Dense(1)\n",
        "\n",
        "  def call(self, query, values):\n",
        "    # query hidden state shape == (batch_size, hidden size)\n",
        "    # query_with_time_axis shape == (batch_size, 1, hidden size)\n",
        "    # values shape == (batch_size, max_len, hidden size)\n",
        "    # we are doing this to broadcast addition along the time axis to calculate the score\n",
        "\n",
        "    # score shape == (batch_size, max_length, 1)\n",
        "    # we get 1 at the last axis because we are applying score to self.V\n",
        "    # the shape of the tensor before applying self.V is (batch_size, max_length, units)\n",
        "    score = tf.matmul(query,self.W1(values), transpose_b = True)\n",
        "\n",
        "    # attention_weights shape == (batch_size, max_length, 1)\n",
        "    attention_weights = tf.nn.softmax(score, axis=1)\n",
        "\n",
        "    # context_vector shape after sum == (batch_size, hidden_size)\n",
        "    context_vector = tf.matmul(attention_weights, values)\n",
        "\n",
        "    return context_vector, attention_weights\n",
        "\n",
        "class Decoder(tf.keras.Model):\n",
        "  def __init__(self, vocab_size, embedding_dim, dec_units, batch_sz):\n",
        "    super(Decoder, self).__init__()\n",
        "    self.batch_sz = batch_sz\n",
        "    self.dec_units = dec_units\n",
        "    self.embedding = tf.keras.layers.Embedding(vocab_size, embedding_dim)\n",
        "    self.lstm = tf.keras.layers.LSTM(self.dec_units,\n",
        "                                   return_sequences=True,\n",
        "                                   return_state=True,\n",
        "                                   recurrent_initializer='glorot_uniform')\n",
        "    self.ws = tf.keras.layers.Dense(vocab_size)\n",
        "    self.wc = tf.keras.layers.Dense(dec_units, activation='tanh')\n",
        "\n",
        "    # used for attention\n",
        "    self.attention = BahdanauAttention(self.dec_units)\n",
        "\n",
        "  def call(self, x, hidden, enc_output):\n",
        "    # enc_output shape == (batch_size, max_length, hidden_size)\n",
        "    \n",
        "\n",
        "    # x shape after passing through embedding == (batch_size, 1, embedding_dim)\n",
        "    x = self.embedding(x)\n",
        "\n",
        "    # passing the concatenated vector to the GRU\n",
        "    output, stateh, statec = self.lstm(x, initial_state = hidden)\n",
        "    \n",
        "    context_vector, attention_weights = self.attention(output, enc_output)\n",
        "    \n",
        "    output = tf.concat([tf.squeeze(context_vector, 1), tf.squeeze(output, 1)], 1)\n",
        "    # output shape == (batch_size * 1, hidden_size)\n",
        "    output = self.wc(output)\n",
        "\n",
        "    # output shape == (batch_size, vocab)\n",
        "    x = self.ws(output)\n",
        "\n",
        "    return x, stateh, statec, attention_weights"
      ],
      "execution_count": 0,
      "outputs": []
    },
    {
      "cell_type": "code",
      "metadata": {
        "colab_type": "code",
        "id": "74HrJ7dtPlQY",
        "colab": {}
      },
      "source": [
        "BATCH_SIZE = 64\n",
        "encoder = Encoder(num_encoder_tokens, 100, 1024, BATCH_SIZE)\n",
        "decoder = Decoder(num_decoder_tokens, 100, 1024, BATCH_SIZE)\n",
        "optimizer = tf.keras.optimizers.Adam()\n",
        "loss_object = tf.keras.losses.SparseCategoricalCrossentropy(\n",
        "    from_logits=True, reduction='none')\n",
        "\n",
        "def loss_function(real, pred):\n",
        "  mask = tf.math.logical_not(tf.math.equal(real, 0))\n",
        "  loss_ = loss_object(real, pred)\n",
        "\n",
        "  mask = tf.cast(mask, dtype=loss_.dtype)\n",
        "  loss_ *= mask\n",
        "\n",
        "  return tf.reduce_mean(loss_)\n",
        "\n",
        "def train_step(inp, targ, enc_hidden):\n",
        "  loss = 0\n",
        "  with tf.GradientTape() as tape:\n",
        "    enc_output = encoder(inp, enc_hidden)\n",
        "    enc_hidden = enc_output[1:]\n",
        "    state_h, state_c = enc_hidden\n",
        "    \n",
        "    dec_input = tf.expand_dims([target_token_index['\\t']] * BATCH_SIZE, 1)\n",
        "    # Teacher forcing - feeding the target as the next input\n",
        "    for t in range(1, targ.shape[1]):\n",
        "      \n",
        "      predictions, state_h, state_c , _ = decoder(dec_input, (state_h, state_c), enc_output[0])\n",
        "      loss += loss_function(targ[:, t], predictions)\n",
        "      # using teacher forcing\n",
        "      dec_input = tf.expand_dims(targ[:, t], 1)\n",
        "    \n",
        "  batch_loss = (loss / int(targ.shape[1]))\n",
        "  variables = encoder.trainable_variables + decoder.trainable_variables\n",
        "  gradients = tape.gradient(loss, variables)\n",
        "  optimizer.apply_gradients(zip(gradients, variables))\n",
        "  return batch_loss"
      ],
      "execution_count": 0,
      "outputs": []
    },
    {
      "cell_type": "code",
      "metadata": {
        "colab_type": "code",
        "id": "krFa1QPYbuBf",
        "outputId": "8abc4244-3cad-44cf-c095-1379ea5a20d4",
        "colab": {
          "base_uri": "https://localhost:8080/",
          "height": 1000
        }
      },
      "source": [
        "EPOCHS = 10\n",
        "embedding_dim = 256\n",
        "units = 1024\n",
        "\n",
        "import time\n",
        "steps_per_epoch = len(input_data)//64\n",
        "for epoch in range(EPOCHS):\n",
        "  start = time.time()\n",
        "  enc_hidden = encoder.initialize_hidden_state()\n",
        "  total_loss = 0\n",
        "  for (batch, (inp, targ)) in enumerate(dataset.take(steps_per_epoch)):\n",
        "    batch_loss = train_step(inp, targ, enc_hidden)\n",
        "    total_loss += batch_loss\n",
        "    if batch % 100 == 0:\n",
        "      print('Epoch {} Batch {} Loss {:.4f}'.format(epoch + 1,\n",
        "                                                   batch,\n",
        "                                                   batch_loss.numpy()))\n",
        "  print('Epoch {} Loss {:.4f}'.format(epoch + 1,\n",
        "                                      total_loss / steps_per_epoch))\n",
        "  print('Time taken for 1 epoch {} sec\\n'.format(time.time() - start))"
      ],
      "execution_count": 0,
      "outputs": [
        {
          "output_type": "stream",
          "text": [
            "Epoch 1 Batch 0 Loss 2.7503\n",
            "Epoch 1 Batch 100 Loss 2.1718\n",
            "Epoch 1 Batch 200 Loss 2.2553\n",
            "Epoch 1 Batch 300 Loss 2.2899\n",
            "Epoch 1 Batch 400 Loss 1.6309\n",
            "Epoch 1 Batch 500 Loss 2.1566\n",
            "Epoch 1 Batch 600 Loss 2.2387\n",
            "Epoch 1 Batch 700 Loss 2.1671\n",
            "Epoch 1 Batch 800 Loss 2.1021\n",
            "Epoch 1 Loss 2.1502\n",
            "Time taken for 1 epoch 297.38531517982483 sec\n",
            "\n",
            "Epoch 2 Batch 0 Loss 2.1829\n",
            "Epoch 2 Batch 100 Loss 2.2407\n",
            "Epoch 2 Batch 200 Loss 1.9849\n",
            "Epoch 2 Batch 300 Loss 2.0421\n",
            "Epoch 2 Batch 400 Loss 2.1243\n",
            "Epoch 2 Batch 500 Loss 2.0474\n",
            "Epoch 2 Batch 600 Loss 2.1769\n",
            "Epoch 2 Batch 700 Loss 2.2254\n",
            "Epoch 2 Batch 800 Loss 2.2353\n",
            "Epoch 2 Loss 2.1457\n",
            "Time taken for 1 epoch 295.1687593460083 sec\n",
            "\n",
            "Epoch 3 Batch 0 Loss 2.3022\n",
            "Epoch 3 Batch 100 Loss 2.1508\n",
            "Epoch 3 Batch 200 Loss 2.3201\n",
            "Epoch 3 Batch 300 Loss 2.2109\n",
            "Epoch 3 Batch 400 Loss 2.1998\n",
            "Epoch 3 Batch 500 Loss 2.1592\n",
            "Epoch 3 Batch 600 Loss 2.3751\n",
            "Epoch 3 Batch 700 Loss 2.1348\n",
            "Epoch 3 Batch 800 Loss 2.3711\n",
            "Epoch 3 Loss 2.1451\n",
            "Time taken for 1 epoch 296.5362317562103 sec\n",
            "\n",
            "Epoch 4 Batch 0 Loss 2.3138\n",
            "Epoch 4 Batch 100 Loss 1.9614\n",
            "Epoch 4 Batch 200 Loss 2.2314\n",
            "Epoch 4 Batch 300 Loss 2.0417\n",
            "Epoch 4 Batch 400 Loss 2.3092\n",
            "Epoch 4 Batch 500 Loss 2.1630\n",
            "Epoch 4 Batch 600 Loss 2.3559\n",
            "Epoch 4 Batch 700 Loss 2.2857\n",
            "Epoch 4 Batch 800 Loss 2.3863\n",
            "Epoch 4 Loss 2.1434\n",
            "Time taken for 1 epoch 295.37102460861206 sec\n",
            "\n",
            "Epoch 5 Batch 0 Loss 2.1772\n",
            "Epoch 5 Batch 100 Loss 2.0516\n",
            "Epoch 5 Batch 200 Loss 2.1923\n",
            "Epoch 5 Batch 300 Loss 2.0573\n",
            "Epoch 5 Batch 400 Loss 2.1670\n",
            "Epoch 5 Batch 500 Loss 2.0652\n",
            "Epoch 5 Batch 600 Loss 2.1152\n",
            "Epoch 5 Batch 700 Loss 1.9949\n",
            "Epoch 5 Batch 800 Loss 2.1130\n",
            "Epoch 5 Loss 2.1436\n",
            "Time taken for 1 epoch 295.54390025138855 sec\n",
            "\n",
            "Epoch 6 Batch 0 Loss 2.2546\n",
            "Epoch 6 Batch 100 Loss 1.9516\n",
            "Epoch 6 Batch 200 Loss 1.9057\n",
            "Epoch 6 Batch 300 Loss 2.0541\n",
            "Epoch 6 Batch 400 Loss 2.1683\n",
            "Epoch 6 Batch 500 Loss 1.9671\n",
            "Epoch 6 Batch 600 Loss 1.9969\n",
            "Epoch 6 Batch 700 Loss 1.8496\n",
            "Epoch 6 Batch 800 Loss 2.3332\n",
            "Epoch 6 Loss 2.1454\n",
            "Time taken for 1 epoch 295.56836009025574 sec\n",
            "\n",
            "Epoch 7 Batch 0 Loss 2.3013\n",
            "Epoch 7 Batch 100 Loss 1.9438\n",
            "Epoch 7 Batch 200 Loss 2.0953\n",
            "Epoch 7 Batch 300 Loss 2.2976\n",
            "Epoch 7 Batch 400 Loss 2.4698\n",
            "Epoch 7 Batch 500 Loss 1.8966\n",
            "Epoch 7 Batch 600 Loss 2.1483\n",
            "Epoch 7 Batch 700 Loss 2.2274\n",
            "Epoch 7 Batch 800 Loss 1.9463\n",
            "Epoch 7 Loss 2.1455\n",
            "Time taken for 1 epoch 292.6318714618683 sec\n",
            "\n",
            "Epoch 8 Batch 0 Loss 2.1831\n",
            "Epoch 8 Batch 100 Loss 1.9367\n",
            "Epoch 8 Batch 200 Loss 2.1437\n",
            "Epoch 8 Batch 300 Loss 2.0639\n",
            "Epoch 8 Batch 400 Loss 1.9414\n",
            "Epoch 8 Batch 500 Loss 2.1139\n",
            "Epoch 8 Batch 600 Loss 2.0051\n",
            "Epoch 8 Batch 700 Loss 2.3372\n",
            "Epoch 8 Batch 800 Loss 2.2598\n",
            "Epoch 8 Loss 2.1452\n",
            "Time taken for 1 epoch 295.36518692970276 sec\n",
            "\n",
            "Epoch 9 Batch 0 Loss 1.9864\n",
            "Epoch 9 Batch 100 Loss 1.9730\n",
            "Epoch 9 Batch 200 Loss 2.1554\n",
            "Epoch 9 Batch 300 Loss 2.0129\n",
            "Epoch 9 Batch 400 Loss 2.3680\n",
            "Epoch 9 Batch 500 Loss 2.2479\n",
            "Epoch 9 Batch 600 Loss 2.2650\n",
            "Epoch 9 Batch 700 Loss 2.1741\n",
            "Epoch 9 Batch 800 Loss 1.9964\n",
            "Epoch 9 Loss 2.1454\n",
            "Time taken for 1 epoch 293.9102761745453 sec\n",
            "\n",
            "Epoch 10 Batch 0 Loss 2.4754\n",
            "Epoch 10 Batch 100 Loss 2.3111\n",
            "Epoch 10 Batch 200 Loss 2.1071\n",
            "Epoch 10 Batch 300 Loss 2.2565\n",
            "Epoch 10 Batch 400 Loss 2.0763\n",
            "Epoch 10 Batch 500 Loss 2.4436\n",
            "Epoch 10 Batch 600 Loss 1.9872\n",
            "Epoch 10 Batch 700 Loss 2.1521\n",
            "Epoch 10 Batch 800 Loss 2.3095\n",
            "Epoch 10 Loss 2.1443\n",
            "Time taken for 1 epoch 292.43087363243103 sec\n",
            "\n"
          ],
          "name": "stdout"
        }
      ]
    },
    {
      "cell_type": "code",
      "metadata": {
        "colab_type": "code",
        "id": "4jknGyewrVpx",
        "colab": {}
      },
      "source": [
        "reverse_input_char_index = dict(\n",
        "    (i, char) for char, i in input_token_index.items())\n",
        "reverse_target_char_index = dict(\n",
        "    (i, char) for char, i in target_token_index.items())"
      ],
      "execution_count": 0,
      "outputs": []
    },
    {
      "cell_type": "code",
      "metadata": {
        "colab_type": "code",
        "id": "VERez3Y3cA80",
        "colab": {}
      },
      "source": [
        "def evaluate(sentence):\n",
        "  attention_plot = np.zeros((max_decoder_seq_length, max_encoder_seq_length))\n",
        "\n",
        "  inputs = [input_token_index[i] for i in sentence.split(' ')]\n",
        "  inputs = tf.keras.preprocessing.sequence.pad_sequences([inputs],\n",
        "                                                         maxlen=max_encoder_seq_length,\n",
        "                                                         padding='post')\n",
        "  inputs = tf.convert_to_tensor(inputs)\n",
        "  result = ''\n",
        "  hidden = [tf.zeros((1, units)),tf.zeros((1, units))]\n",
        "  enc_out, enc_hidden_h, enc_hidden_c = encoder(inputs, hidden)\n",
        "  dec_hidden = [enc_hidden_h,enc_hidden_c]\n",
        "  dec_input = tf.expand_dims([target_token_index['\\t']], 0)\n",
        "  for t in range(max_decoder_seq_length):\n",
        "    predictions, dec_hidden_h, dec_hidden_c, attention_weights = decoder(dec_input,\n",
        "                                                         dec_hidden,\n",
        "                                                         enc_out)\n",
        "    dec_hidden = [dec_hidden_h, dec_hidden_c]\n",
        "    # storing the attention weights to plot later on\n",
        "    attention_weights = tf.reshape(attention_weights, (-1, ))\n",
        "    attention_plot[t] = attention_weights.numpy()\n",
        "\n",
        "    predicted_id = tf.argmax(predictions[0]).numpy()\n",
        "\n",
        "    result += reverse_target_char_index[predicted_id] + ' '\n",
        "\n",
        "    if reverse_target_char_index[predicted_id] == '\\n':\n",
        "      return result, sentence, attention_plot\n",
        "\n",
        "    # the predicted ID is fed back into the model\n",
        "    dec_input = tf.expand_dims([predicted_id], 0)\n",
        "\n",
        "  return result, sentence, attention_plot"
      ],
      "execution_count": 0,
      "outputs": []
    },
    {
      "cell_type": "code",
      "metadata": {
        "colab_type": "code",
        "id": "l7cYVYSOcF4d",
        "colab": {}
      },
      "source": [
        "def translate(sentence):\n",
        "  result, sentence, attention_plot = evaluate(sentence)\n",
        "\n",
        "  print('Input: %s' % (sentence))\n",
        "  print('Predicted translation: {}'.format(result))\n"
      ],
      "execution_count": 0,
      "outputs": []
    },
    {
      "cell_type": "code",
      "metadata": {
        "colab_type": "code",
        "id": "V-si-rJFrkSO",
        "outputId": "88efd43c-9bce-42f2-b10e-2f20d349d7f7",
        "colab": {
          "base_uri": "https://localhost:8080/",
          "height": 1000
        }
      },
      "source": [
        "testing = pd.read_csv(\"testing.csv\", header=None)\n",
        "tests = testing[0].tolist()\n",
        "for test in tests:\n",
        "  translate(test)"
      ],
      "execution_count": 0,
      "outputs": [
        {
          "output_type": "stream",
          "text": [
            "Input: i am an amazon warrior it means i shop on amazon a lot\n",
            "Predicted translation: \n",
            " \n",
            "Input: how are you doing today\n",
            "Predicted translation: \n",
            " \n",
            "Input: i do not like you because of your face\n",
            "Predicted translation: \n",
            " \n",
            "Input: what do you think about trump\n",
            "Predicted translation: \n",
            " \n",
            "Input: i suppose you are smart can you make me a sandwich\n",
            "Predicted translation: \n",
            " \n",
            "Input: can you do math on your own\n",
            "Predicted translation: \n",
            " \n",
            "Input: so i got a girlfriend today\n",
            "Predicted translation: \n",
            " \n",
            "Input: what kind of pizza do you like\n",
            "Predicted translation: \n",
            " \n",
            "Input: i am working on a website project \n",
            "Predicted translation: \n",
            " \n",
            "Input: do you like chem homework\n",
            "Predicted translation: \n",
            " \n",
            "Input: i ate leftover pizza from yesterday it taste bad\n",
            "Predicted translation: \n",
            " \n",
            "Input: is the sky purple when i am not looking\n",
            "Predicted translation: \n",
            " \n",
            "Input: hi my name is tommy and i am small\n",
            "Predicted translation: \n",
            " \n",
            "Input: would you rather dye your hair or eat a pear\n",
            "Predicted translation: \n",
            " \n",
            "Input: how many days does it take to build a bear\n",
            "Predicted translation: \n",
            " \n",
            "Input: talking to you is difficult in so many ways\n",
            "Predicted translation: \n",
            " \n",
            "Input: congratulations i finished my homework\n",
            "Predicted translation: \n",
            " \n",
            "Input: can you guess why i like duck eggs when boiled with diamonds\n",
            "Predicted translation: \n",
            " \n",
            "Input: you should not take pictures of cups in the morning\n",
            "Predicted translation: \n",
            " \n",
            "Input: my cousin is a musician and he likes french chocolate\n",
            "Predicted translation: \n",
            " \n"
          ],
          "name": "stdout"
        }
      ]
    }
  ]
}