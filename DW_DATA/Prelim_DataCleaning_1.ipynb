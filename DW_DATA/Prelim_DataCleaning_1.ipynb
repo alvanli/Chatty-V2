{
 "cells": [
  {
   "cell_type": "code",
   "execution_count": 1,
   "metadata": {},
   "outputs": [
    {
     "name": "stdout",
     "output_type": "stream",
     "text": [
      "D:\\updated\\Chatty-V2\n"
     ]
    }
   ],
   "source": [
    "%cd D:\\updated\\Chatty-V2"
   ]
  },
  {
   "cell_type": "code",
   "execution_count": 3,
   "metadata": {},
   "outputs": [],
   "source": [
    "import pandas as pd\n",
    "raw = pd.read_csv(\"DW_DATA//all-scripts.csv\")"
   ]
  },
  {
   "cell_type": "code",
   "execution_count": 4,
   "metadata": {},
   "outputs": [
    {
     "data": {
      "text/html": [
       "<div>\n",
       "<style scoped>\n",
       "    .dataframe tbody tr th:only-of-type {\n",
       "        vertical-align: middle;\n",
       "    }\n",
       "\n",
       "    .dataframe tbody tr th {\n",
       "        vertical-align: top;\n",
       "    }\n",
       "\n",
       "    .dataframe thead th {\n",
       "        text-align: right;\n",
       "    }\n",
       "</style>\n",
       "<table border=\"1\" class=\"dataframe\">\n",
       "  <thead>\n",
       "    <tr style=\"text-align: right;\">\n",
       "      <th></th>\n",
       "      <th>idx</th>\n",
       "      <th>text</th>\n",
       "      <th>type</th>\n",
       "      <th>details</th>\n",
       "      <th>episodeid</th>\n",
       "      <th>doctorid</th>\n",
       "    </tr>\n",
       "  </thead>\n",
       "  <tbody>\n",
       "    <tr>\n",
       "      <th>0</th>\n",
       "      <td>0</td>\n",
       "      <td>Sylvest home</td>\n",
       "      <td>location</td>\n",
       "      <td>NaN</td>\n",
       "      <td>21-7</td>\n",
       "      <td>6</td>\n",
       "    </tr>\n",
       "    <tr>\n",
       "      <th>1</th>\n",
       "      <td>1</td>\n",
       "      <td>Twin boys are playing a cross between chess an...</td>\n",
       "      <td>context</td>\n",
       "      <td>NaN</td>\n",
       "      <td>21-7</td>\n",
       "      <td>6</td>\n",
       "    </tr>\n",
       "    <tr>\n",
       "      <th>2</th>\n",
       "      <td>2</td>\n",
       "      <td>Where's mother?</td>\n",
       "      <td>talk</td>\n",
       "      <td>REMUS</td>\n",
       "      <td>21-7</td>\n",
       "      <td>6</td>\n",
       "    </tr>\n",
       "    <tr>\n",
       "      <th>3</th>\n",
       "      <td>3</td>\n",
       "      <td>She's busy.</td>\n",
       "      <td>talk</td>\n",
       "      <td>SYLVEST</td>\n",
       "      <td>21-7</td>\n",
       "      <td>6</td>\n",
       "    </tr>\n",
       "    <tr>\n",
       "      <th>4</th>\n",
       "      <td>4</td>\n",
       "      <td>Does that mean she isn't talking to us?</td>\n",
       "      <td>talk</td>\n",
       "      <td>ROMULUS</td>\n",
       "      <td>21-7</td>\n",
       "      <td>6</td>\n",
       "    </tr>\n",
       "  </tbody>\n",
       "</table>\n",
       "</div>"
      ],
      "text/plain": [
       "   idx                                               text      type  details  \\\n",
       "0    0                                       Sylvest home  location      NaN   \n",
       "1    1  Twin boys are playing a cross between chess an...   context      NaN   \n",
       "2    2                                    Where's mother?      talk    REMUS   \n",
       "3    3                                        She's busy.      talk  SYLVEST   \n",
       "4    4            Does that mean she isn't talking to us?      talk  ROMULUS   \n",
       "\n",
       "  episodeid  doctorid  \n",
       "0      21-7         6  \n",
       "1      21-7         6  \n",
       "2      21-7         6  \n",
       "3      21-7         6  \n",
       "4      21-7         6  "
      ]
     },
     "execution_count": 4,
     "metadata": {},
     "output_type": "execute_result"
    }
   ],
   "source": [
    "raw.head()"
   ]
  },
  {
   "cell_type": "code",
   "execution_count": 5,
   "metadata": {},
   "outputs": [
    {
     "data": {
      "text/html": [
       "<div>\n",
       "<style scoped>\n",
       "    .dataframe tbody tr th:only-of-type {\n",
       "        vertical-align: middle;\n",
       "    }\n",
       "\n",
       "    .dataframe tbody tr th {\n",
       "        vertical-align: top;\n",
       "    }\n",
       "\n",
       "    .dataframe thead th {\n",
       "        text-align: right;\n",
       "    }\n",
       "</style>\n",
       "<table border=\"1\" class=\"dataframe\">\n",
       "  <thead>\n",
       "    <tr style=\"text-align: right;\">\n",
       "      <th></th>\n",
       "      <th>idx</th>\n",
       "      <th>text</th>\n",
       "      <th>type</th>\n",
       "      <th>details</th>\n",
       "      <th>episodeid</th>\n",
       "      <th>doctorid</th>\n",
       "    </tr>\n",
       "  </thead>\n",
       "  <tbody>\n",
       "    <tr>\n",
       "      <th>2</th>\n",
       "      <td>2</td>\n",
       "      <td>Where's mother?</td>\n",
       "      <td>talk</td>\n",
       "      <td>REMUS</td>\n",
       "      <td>21-7</td>\n",
       "      <td>6</td>\n",
       "    </tr>\n",
       "    <tr>\n",
       "      <th>3</th>\n",
       "      <td>3</td>\n",
       "      <td>She's busy.</td>\n",
       "      <td>talk</td>\n",
       "      <td>SYLVEST</td>\n",
       "      <td>21-7</td>\n",
       "      <td>6</td>\n",
       "    </tr>\n",
       "    <tr>\n",
       "      <th>4</th>\n",
       "      <td>4</td>\n",
       "      <td>Does that mean she isn't talking to us?</td>\n",
       "      <td>talk</td>\n",
       "      <td>ROMULUS</td>\n",
       "      <td>21-7</td>\n",
       "      <td>6</td>\n",
       "    </tr>\n",
       "    <tr>\n",
       "      <th>5</th>\n",
       "      <td>5</td>\n",
       "      <td>No, she's just busy.</td>\n",
       "      <td>talk</td>\n",
       "      <td>SYLVEST</td>\n",
       "      <td>21-7</td>\n",
       "      <td>6</td>\n",
       "    </tr>\n",
       "    <tr>\n",
       "      <th>6</th>\n",
       "      <td>6</td>\n",
       "      <td>We would like to see her.</td>\n",
       "      <td>talk</td>\n",
       "      <td>BOTH</td>\n",
       "      <td>21-7</td>\n",
       "      <td>6</td>\n",
       "    </tr>\n",
       "  </tbody>\n",
       "</table>\n",
       "</div>"
      ],
      "text/plain": [
       "   idx                                      text  type  details episodeid  \\\n",
       "2    2                           Where's mother?  talk    REMUS      21-7   \n",
       "3    3                               She's busy.  talk  SYLVEST      21-7   \n",
       "4    4   Does that mean she isn't talking to us?  talk  ROMULUS      21-7   \n",
       "5    5                      No, she's just busy.  talk  SYLVEST      21-7   \n",
       "6    6                 We would like to see her.  talk     BOTH      21-7   \n",
       "\n",
       "   doctorid  \n",
       "2         6  \n",
       "3         6  \n",
       "4         6  \n",
       "5         6  \n",
       "6         6  "
      ]
     },
     "execution_count": 5,
     "metadata": {},
     "output_type": "execute_result"
    }
   ],
   "source": [
    "raw = raw[raw.type=='talk']\n",
    "raw.head()"
   ]
  },
  {
   "cell_type": "code",
   "execution_count": 7,
   "metadata": {},
   "outputs": [
    {
     "data": {
      "text/plain": [
       "<matplotlib.axes._subplots.AxesSubplot at 0x1e66d629a90>"
      ]
     },
     "execution_count": 7,
     "metadata": {},
     "output_type": "execute_result"
    },
    {
     "data": {
      "image/png": "[encoded data removed]",
      "text/plain": [
       "<Figure size 432x288 with 1 Axes>"
      ]
     },
     "metadata": {
      "needs_background": "light"
     },
     "output_type": "display_data"
    }
   ],
   "source": [
    "raw.details.value_counts()[:10].plot.bar()"
   ]
  },
  {
   "cell_type": "code",
   "execution_count": 8,
   "metadata": {},
   "outputs": [],
   "source": [
    "raw.loc[raw['details'] != 'DOCTOR', 'details'] = 'COMPANION'"
   ]
  },
  {
   "cell_type": "code",
   "execution_count": 9,
   "metadata": {},
   "outputs": [
    {
     "data": {
      "text/plain": [
       "<matplotlib.axes._subplots.AxesSubplot at 0x1e66d68b160>"
      ]
     },
     "execution_count": 9,
     "metadata": {},
     "output_type": "execute_result"
    },
    {
     "data": {
      "image/png": "[encoded data removed]",
      "text/plain": [
       "<Figure size 432x288 with 1 Axes>"
      ]
     },
     "metadata": {
      "needs_background": "light"
     },
     "output_type": "display_data"
    }
   ],
   "source": [
    "raw.details.value_counts()[:10].plot.bar()"
   ]
  },
  {
   "cell_type": "code",
   "execution_count": 10,
   "metadata": {},
   "outputs": [],
   "source": [
    "raw[\"counts\"] = raw[\"text\"].str.split().str.len()"
   ]
  },
  {
   "cell_type": "code",
   "execution_count": 11,
   "metadata": {},
   "outputs": [],
   "source": [
    "raw = raw.drop([\"idx\",\"doctorid\"],axis=1)"
   ]
  },
  {
   "cell_type": "code",
   "execution_count": 12,
   "metadata": {},
   "outputs": [],
   "source": [
    "raw = raw.reset_index(drop=True)"
   ]
  },
  {
   "cell_type": "code",
   "execution_count": 13,
   "metadata": {},
   "outputs": [
    {
     "name": "stdout",
     "output_type": "stream",
     "text": [
      "245632\n",
      "DOCTOR\n",
      "Max words per sentence: 237.0, Avg words per sentence: 10.523773698465241\n",
      "COMPANION\n",
      "Max words per sentence: 184.0, Avg words per sentence: 8.82458935222062\n"
     ]
    }
   ],
   "source": [
    "print(len(raw))\n",
    "print(\"DOCTOR\")\n",
    "print(\"Max words per sentence: {}, Avg words per sentence: {}\".format(max(raw[raw.details=='DOCTOR'].counts),raw[raw.details=='DOCTOR'].counts.mean()))\n",
    "print(\"COMPANION\")\n",
    "print(\"Max words per sentence: {}, Avg words per sentence: {}\".format(max(raw[raw.details=='COMPANION'].counts),raw[raw.details=='COMPANION'].counts.mean()))"
   ]
  },
  {
   "cell_type": "markdown",
   "metadata": {},
   "source": [
    "We need to make it so that it's only the doctor talking to the companion, no companion to companion.<br>\n",
    "Note that companion is x, doctor is y<br>\n",
    "We first split by episode, then we check whether doctor talks under a companion, if not, line is removed"
   ]
  },
  {
   "cell_type": "code",
   "execution_count": 14,
   "metadata": {},
   "outputs": [
    {
     "data": {
      "text/plain": [
       "305"
      ]
     },
     "execution_count": 14,
     "metadata": {},
     "output_type": "execute_result"
    }
   ],
   "source": [
    "eps = raw.episodeid.unique()\n",
    "len(eps)"
   ]
  },
  {
   "cell_type": "code",
   "execution_count": 19,
   "metadata": {},
   "outputs": [],
   "source": [
    "df = raw\n",
    "df[\"Person\"] = df[\"details\"]\n",
    "df[\"Text\"] = df[\"text\"]\n",
    "df[\"Ep\"] = df[\"episodeid\"]"
   ]
  },
  {
   "cell_type": "markdown",
   "metadata": {},
   "source": [
    "I noticed that the number is way below the supposed 851, so I am gonna web scrap this"
   ]
  },
  {
   "cell_type": "code",
   "execution_count": 24,
   "metadata": {},
   "outputs": [
    {
     "name": "stderr",
     "output_type": "stream",
     "text": [
      "  0%|                                                                                          | 0/305 [00:00<?, ?it/s]C:\\Users\\aldec\\Miniconda3\\envs\\tensorflow\\lib\\site-packages\\ipykernel_launcher.py:20: SettingWithCopyWarning: \n",
      "A value is trying to be set on a copy of a slice from a DataFrame.\n",
      "Try using .loc[row_indexer,col_indexer] = value instead\n",
      "\n",
      "See the caveats in the documentation: http://pandas.pydata.org/pandas-docs/stable/indexing.html#indexing-view-versus-copy\n",
      "C:\\Users\\aldec\\Miniconda3\\envs\\tensorflow\\lib\\site-packages\\ipykernel_launcher.py:21: SettingWithCopyWarning: \n",
      "A value is trying to be set on a copy of a slice from a DataFrame.\n",
      "Try using .loc[row_indexer,col_indexer] = value instead\n",
      "\n",
      "See the caveats in the documentation: http://pandas.pydata.org/pandas-docs/stable/indexing.html#indexing-view-versus-copy\n",
      "100%|████████████████████████████████████████████████████████████████████████████████| 305/305 [00:45<00:00,  6.56it/s]\n"
     ]
    },
    {
     "name": "stdout",
     "output_type": "stream",
     "text": [
      "54825\n",
      "54825\n"
     ]
    }
   ],
   "source": [
    "from tqdm import tqdm\n",
    "import string\n",
    "sep_eps = []\n",
    "remove_these = []\n",
    "X = []\n",
    "Y = []\n",
    "def sift(line):\n",
    "    index = line.name\n",
    "    if (line[\"Person\"] == \"COMPANION\" and line[\"shift_Person\"] == \"DOCTOR\"):\n",
    "        x = str(line[\"Text\"]).lower()\n",
    "        x = x.translate(str.maketrans('', '', string.punctuation)).strip()\n",
    "        y = str(line[\"shift_Text\"]).lower()\n",
    "        y = y.translate(str.maketrans('', '', string.punctuation)).strip()\n",
    "        X.append(x)\n",
    "        Y.append(y)\n",
    "    else:\n",
    "        remove_these.append(index)\n",
    "for i in tqdm(range(len(eps))):\n",
    "    ep_df = df[df[\"Ep\"]==eps[i]]\n",
    "    ep_df[\"shift_Person\"] = df['Person'].shift(-1)\n",
    "    ep_df[\"shift_Text\"] = df['Text'].shift(-1)\n",
    "    ep_df.apply(sift, axis=1)\n",
    "    ep_df = ep_df.drop(remove_these)\n",
    "    remove_these = []\n",
    "    sep_eps.append(ep_df)\n",
    "print(len(X))\n",
    "print(len(Y))"
   ]
  },
  {
   "cell_type": "code",
   "execution_count": 25,
   "metadata": {},
   "outputs": [
    {
     "name": "stdout",
     "output_type": "stream",
     "text": [
      "and wheres that\n",
      "youll soon find out its a marvellous place for a holidayand you and i both need a rest i would have taken you to the eye oforion but er the coordinates elude me at the moment peri\n",
      "yes\n",
      "how did you come by a name like that\n",
      "its the diminutive of my proper name perpugilliam\n",
      "indeed  onemorn a peri at the gate of eden stood disconsolate whowrote that\n",
      "i havent the faintest idea\n",
      "of course you dont you dont even know what a peripronounced peeri is do you peri\n",
      "no\n",
      "ill tell you a peri is a good and beautiful fairy in persianmythology the interesting thing is before it became good it wasevil and thats what you are thoroughly evil\n",
      "doctor stop it\n",
      "no no not even a fairy an alien spy sent here to spy on mewell we all know the fate of alien spies\n",
      "right\n",
      "what happened\n",
      "you had another of your fits\n",
      "i dont have fits\n",
      "whatever you call them\n",
      "i told you manic moments of no consequence they become lessdramatic and less and less frequent\n",
      "well this was worse longer it was horrible\n",
      "dont exaggerate\n"
     ]
    }
   ],
   "source": [
    "for i in range(20,30):\n",
    "    print(X[i])\n",
    "    print(Y[i])"
   ]
  },
  {
   "cell_type": "code",
   "execution_count": 27,
   "metadata": {},
   "outputs": [
    {
     "data": {
      "text/html": [
       "<div>\n",
       "<style scoped>\n",
       "    .dataframe tbody tr th:only-of-type {\n",
       "        vertical-align: middle;\n",
       "    }\n",
       "\n",
       "    .dataframe tbody tr th {\n",
       "        vertical-align: top;\n",
       "    }\n",
       "\n",
       "    .dataframe thead th {\n",
       "        text-align: right;\n",
       "    }\n",
       "</style>\n",
       "<table border=\"1\" class=\"dataframe\">\n",
       "  <thead>\n",
       "    <tr style=\"text-align: right;\">\n",
       "      <th></th>\n",
       "      <th>Unnamed: 0</th>\n",
       "      <th>0</th>\n",
       "    </tr>\n",
       "  </thead>\n",
       "  <tbody>\n",
       "    <tr>\n",
       "      <th>0</th>\n",
       "      <td>0</td>\n",
       "      <td>excuse me</td>\n",
       "    </tr>\n",
       "    <tr>\n",
       "      <th>1</th>\n",
       "      <td>1</td>\n",
       "      <td>were looking for a young girl</td>\n",
       "    </tr>\n",
       "    <tr>\n",
       "      <th>2</th>\n",
       "      <td>2</td>\n",
       "      <td>good evening</td>\n",
       "    </tr>\n",
       "    <tr>\n",
       "      <th>3</th>\n",
       "      <td>3</td>\n",
       "      <td>one of our pupils susan foreman came into this...</td>\n",
       "    </tr>\n",
       "    <tr>\n",
       "      <th>4</th>\n",
       "      <td>4</td>\n",
       "      <td>yes we saw her from across the street</td>\n",
       "    </tr>\n",
       "  </tbody>\n",
       "</table>\n",
       "</div>"
      ],
      "text/plain": [
       "   Unnamed: 0                                                  0\n",
       "0           0                                          excuse me\n",
       "1           1                      were looking for a young girl\n",
       "2           2                                       good evening\n",
       "3           3  one of our pupils susan foreman came into this...\n",
       "4           4              yes we saw her from across the street"
      ]
     },
     "execution_count": 27,
     "metadata": {},
     "output_type": "execute_result"
    }
   ],
   "source": [
    "X2 = pd.read_csv(\"DW_DATA//X_1.csv\")\n",
    "Y2 = pd.read_csv(\"DW_DATA//Y_1.csv\")\n",
    "X2.head()"
   ]
  },
  {
   "cell_type": "code",
   "execution_count": 29,
   "metadata": {},
   "outputs": [],
   "source": [
    "import numpy as np\n",
    "X2 = np.array(X2[\"0\"]).tolist()\n",
    "Y2 = np.array(Y2[\"0\"]).tolist()"
   ]
  },
  {
   "cell_type": "code",
   "execution_count": 33,
   "metadata": {},
   "outputs": [],
   "source": [
    "d1 = list(zip(X,Y))\n",
    "d2 = list(zip(X2,Y2))"
   ]
  },
  {
   "cell_type": "code",
   "execution_count": 47,
   "metadata": {},
   "outputs": [
    {
     "name": "stdout",
     "output_type": "stream",
     "text": [
      "54825,46904\n"
     ]
    }
   ],
   "source": [
    "print(\"{},{}\".format(len(X),len(X2)))"
   ]
  },
  {
   "cell_type": "code",
   "execution_count": 48,
   "metadata": {},
   "outputs": [
    {
     "data": {
      "text/plain": [
       "76543"
      ]
     },
     "execution_count": 48,
     "metadata": {},
     "output_type": "execute_result"
    }
   ],
   "source": [
    "ultimate = list(set(d1+d2))\n",
    "len(ultimate)"
   ]
  },
  {
   "cell_type": "code",
   "execution_count": 49,
   "metadata": {},
   "outputs": [],
   "source": [
    "ultimate = np.array(ultimate)"
   ]
  },
  {
   "cell_type": "code",
   "execution_count": 51,
   "metadata": {},
   "outputs": [
    {
     "data": {
      "text/html": [
       "<div>\n",
       "<style scoped>\n",
       "    .dataframe tbody tr th:only-of-type {\n",
       "        vertical-align: middle;\n",
       "    }\n",
       "\n",
       "    .dataframe tbody tr th {\n",
       "        vertical-align: top;\n",
       "    }\n",
       "\n",
       "    .dataframe thead th {\n",
       "        text-align: right;\n",
       "    }\n",
       "</style>\n",
       "<table border=\"1\" class=\"dataframe\">\n",
       "  <thead>\n",
       "    <tr style=\"text-align: right;\">\n",
       "      <th></th>\n",
       "      <th>X</th>\n",
       "      <th>Y</th>\n",
       "    </tr>\n",
       "  </thead>\n",
       "  <tbody>\n",
       "    <tr>\n",
       "      <th>0</th>\n",
       "      <td>im pleased you two are so impressed i find the...</td>\n",
       "      <td>yes i suppose the atmosphere is rather rancid</td>\n",
       "    </tr>\n",
       "    <tr>\n",
       "      <th>1</th>\n",
       "      <td>hes let us go</td>\n",
       "      <td>he needs to move his tardis into the circle of...</td>\n",
       "    </tr>\n",
       "    <tr>\n",
       "      <th>2</th>\n",
       "      <td>without special treatment it would have spread...</td>\n",
       "      <td>ah thats nice</td>\n",
       "    </tr>\n",
       "    <tr>\n",
       "      <th>3</th>\n",
       "      <td>when i came back with these satellite reports ...</td>\n",
       "      <td>nothings been moved</td>\n",
       "    </tr>\n",
       "    <tr>\n",
       "      <th>4</th>\n",
       "      <td>there it is but he could be anywhere</td>\n",
       "      <td>fair exchange is no robbery the masters tempor...</td>\n",
       "    </tr>\n",
       "  </tbody>\n",
       "</table>\n",
       "</div>"
      ],
      "text/plain": [
       "                                                   X  \\\n",
       "0  im pleased you two are so impressed i find the...   \n",
       "1                                      hes let us go   \n",
       "2  without special treatment it would have spread...   \n",
       "3  when i came back with these satellite reports ...   \n",
       "4               there it is but he could be anywhere   \n",
       "\n",
       "                                                   Y  \n",
       "0      yes i suppose the atmosphere is rather rancid  \n",
       "1  he needs to move his tardis into the circle of...  \n",
       "2                                      ah thats nice  \n",
       "3                                nothings been moved  \n",
       "4  fair exchange is no robbery the masters tempor...  "
      ]
     },
     "execution_count": 51,
     "metadata": {},
     "output_type": "execute_result"
    }
   ],
   "source": [
    "test = pd.DataFrame(ultimate)\n",
    "test.columns = [\"X\",\"Y\"]\n",
    "test.head()"
   ]
  },
  {
   "cell_type": "code",
   "execution_count": 54,
   "metadata": {},
   "outputs": [],
   "source": [
    "test.to_csv(\"D://updated//Chatty-V2//DW_DATA//dwdata_1.csv\")"
   ]
  }
 ],
 "metadata": {
  "kernelspec": {
   "display_name": "Python 3",
   "language": "python",
   "name": "python3"
  },
  "language_info": {
   "codemirror_mode": {
    "name": "ipython",
    "version": 3
   },
   "file_extension": ".py",
   "mimetype": "text/x-python",
   "name": "python",
   "nbconvert_exporter": "python",
   "pygments_lexer": "ipython3",
   "version": "3.7.2"
  }
 },
 "nbformat": 4,
 "nbformat_minor": 2
}
