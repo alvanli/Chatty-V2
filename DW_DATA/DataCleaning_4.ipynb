{
 "cells": [
  {
   "cell_type": "code",
   "execution_count": 1,
   "metadata": {},
   "outputs": [
    {
     "name": "stdout",
     "output_type": "stream",
     "text": [
      "76543\n"
     ]
    }
   ],
   "source": [
    "import pandas as pd\n",
    "import numpy as np\n",
    "df = pd.read_csv(\"C://DATA//train//38_chattyv2//Chatty-V2//DW_DATA//dwdata_2.csv\")\n",
    "df.head()\n",
    "df.fillna('', inplace=True)\n",
    "print(len(df))\n",
    "x_1 = df[\"X_1\"].tolist()\n",
    "y_1 = df[\"Y_1\"].tolist()"
   ]
  },
  {
   "cell_type": "code",
   "execution_count": 2,
   "metadata": {},
   "outputs": [],
   "source": [
    "from tqdm.notebook import tqdm"
   ]
  },
  {
   "cell_type": "code",
   "execution_count": 3,
   "metadata": {},
   "outputs": [],
   "source": [
    "def clean(sentence):\n",
    "    s = sentence\n",
    "    s = s.replace('youre', 'you are')\n",
    "    s = s.replace(\"theres\",\"there is\")\n",
    "    s = s.replace(\"whats\",\"what is\")\n",
    "    s = s.replace(\"theyre\",\"they are\")\n",
    "    s = s.replace(\"youve\",\"you have\")\n",
    "    s = s.replace(\"weve\",\"we have\")\n",
    "    s = s.replace(\"isnt\",\"is not\")\n",
    "    s = s.replace(\"youll\",\"you will\")\n",
    "    s = s.replace(\"shes\",\"she is\")\n",
    "    s = s.replace(\"hes\",\"he is\")\n",
    "    s = s.replace(\"havent\",\"have not\")\n",
    "    s = s.replace(\"doesnt\",\"does not\")\n",
    "    s = s.replace(\"youd\",\"you would\")\n",
    "    s = s.replace(\"theyve\",\"they have\")\n",
    "    s = s.replace(\"wouldnt\",\"would not\")\n",
    "    s = s.replace(\"wasnt\",\"was not\")\n",
    "    s = s.replace(\"couldnt\",\"could not\")\n",
    "    s = s.replace(\"arent\",\"are not\")\n",
    "    s = s.replace(\"theyll\",\"they will\")\n",
    "    s = s.replace(\"itll\",\"it will\")\n",
    "    s = s.replace(\"wheres\",\"where is\")\n",
    "    s = s.replace(\"whos\",\"who is\")\n",
    "    s = s.replace(\"shouldnt\",\"should not\")\n",
    "    s = s.replace(\"©\",\"\")\n",
    "    s = s.replace(\"hasnt\",\"has not\")\n",
    "    s = s.replace(\"werent\",\"were not\")\n",
    "    s = s.replace(\"theyd\",\"they would\")\n",
    "    s = s.replace(\"someones\",\"someone\")\n",
    "    s = s.replace(\"somethings\",\"something\")\n",
    "    s = s.replace(\"mustnt\",\"must not\")\n",
    "    s = s.replace(\"heres\",\"here is\")\n",
    "    s = s.replace(\"hows\",\"how is\")\n",
    "    s = s.replace(\"hadnt\",\"had not\")\n",
    "    s = s.replace(\"thatll\",\"that will\")\n",
    "    s = s.replace(\"ltback\",\"back\")\n",
    "    s = s.replace(\"therell\",\"there will\")\n",
    "    s = s.replace(\"ofthe\",\"of the\")\n",
    "    s = s.replace(\"everythings\",\"everything\")\n",
    "    s = s.replace(\"itd\",\"it would\")\n",
    "    s = s.replace(\"inthe\",\"in the\")\n",
    "    s = s.replace(\"tothe\",\"to the\")\n",
    "    s = s.replace(\"aint\",\"am not\")\n",
    "    s = s.replace(\"whatre\",\"what are\")\n",
    "    s = s.replace(\"youknow\",\"you know\")\n",
    "    s = s.replace(\"mustve\",\"must have\")\n",
    "    s = s.replace(\"ithink\",\"i think\")\n",
    "    s = s.replace(\"idont\",\"i do not\")\n",
    "    s = s.replace(\"isnt\",\"is not\")\n",
    "    s = s.replace(\"thetardis\",\"the tardis\")\n",
    "    s = s.replace(\"onthe\",\"on the\")\n",
    "    s = s.replace(\"whod\",\"who would\")\n",
    "    s = s.replace(\"doyou\",\"do you\")\n",
    "    s = s.replace(\"couldve\",\"could have\")\n",
    "    s = s.replace(\"andthen\",\"and then\")\n",
    "    s = s.replace(\"alittle\",\"a little\")\n",
    "    s = s.replace(\"wouldve\",\"would have\")\n",
    "    s = s.replace(\"thedaleks\",\"the daleks\")\n",
    "    s = s.replace(\"iknow\",\"i know\")\n",
    "    s = s.replace(\"everyones\",\"everyone\")\n",
    "    s = s.replace(\"backto\",\"back to\")\n",
    "    s = s.replace(\"allthe\",\"all the\")\n",
    "    s = s.replace(\"youand\",\"you and\")\n",
    "    s = s.replace(\"theuniverse\",\"the universe\")\n",
    "    s = s.replace(\"thetardis\",\"the tardis\")\n",
    "    s = s.replace(\"thesame\",\"the same\")\n",
    "    s = s.replace(\"intothe\",\"into the\")\n",
    "    s = s.replace(\"youwere\",\"you were\")\n",
    "    s = s.replace(\"youdont\",\"you do not\")\n",
    "    s = s.replace(\"willbe\",\"will be\")\n",
    "    s = s.replace(\"wantto\",\"want to\")\n",
    "    s = s.replace(\"iwant\",\"i want\")\n",
    "    s = s.replace(\"haveyou\",\"have you\")\n",
    "    s = s.replace(\"haveto\",\"have to\")\n",
    "    s = s.replace(\"youhave\",\"you have\")\n",
    "    s = s.replace(\"youcant\",\"you can not\")\n",
    "    return s"
   ]
  },
  {
   "cell_type": "code",
   "execution_count": 4,
   "metadata": {},
   "outputs": [
    {
     "data": {
      "application/vnd.jupyter.widget-view+json": {
       "model_id": "f0dd362172fa4007bc4829607f091811",
       "version_major": 2,
       "version_minor": 0
      },
      "text/plain": [
       "HBox(children=(IntProgress(value=0, max=76543), HTML(value='')))"
      ]
     },
     "metadata": {},
     "output_type": "display_data"
    },
    {
     "name": "stdout",
     "output_type": "stream",
     "text": [
      "\n"
     ]
    },
    {
     "data": {
      "application/vnd.jupyter.widget-view+json": {
       "model_id": "55268565cf3a4ac7827153bdf3fb9dd7",
       "version_major": 2,
       "version_minor": 0
      },
      "text/plain": [
       "HBox(children=(IntProgress(value=0, max=76543), HTML(value='')))"
      ]
     },
     "metadata": {},
     "output_type": "display_data"
    },
    {
     "name": "stdout",
     "output_type": "stream",
     "text": [
      "\n"
     ]
    },
    {
     "data": {
      "application/vnd.jupyter.widget-view+json": {
       "model_id": "e2398e28af1a469bbfea1f0a835bd9b8",
       "version_major": 2,
       "version_minor": 0
      },
      "text/plain": [
       "HBox(children=(IntProgress(value=0, max=153086), HTML(value='')))"
      ]
     },
     "metadata": {},
     "output_type": "display_data"
    },
    {
     "name": "stdout",
     "output_type": "stream",
     "text": [
      "\n"
     ]
    }
   ],
   "source": [
    "vocab = []\n",
    "x = []\n",
    "y = []\n",
    "for sentence in tqdm(x_1):\n",
    "    sentence = clean(sentence)\n",
    "    x.append(sentence)\n",
    "for sentence in tqdm(y_1):\n",
    "    sentence = clean(sentence)\n",
    "    y.append(sentence)\n",
    "for sentence in tqdm(x+y):\n",
    "    words = sentence.split(\" \")\n",
    "    for word in words:\n",
    "        vocab.append(word)"
   ]
  },
  {
   "cell_type": "code",
   "execution_count": 5,
   "metadata": {},
   "outputs": [
    {
     "name": "stdout",
     "output_type": "stream",
     "text": [
      "['' 'a' 'aaaaaaaaargh' 'aaaargh' 'aaah' 'aaron' 'aaudiotape' 'ababy'\n",
      " 'ababysitter' 'abad']\n",
      "[ 8054 31676     1     1     1     2     1     1     1     1]\n"
     ]
    }
   ],
   "source": [
    "elements,counts = np.unique(vocab,return_counts=True)\n",
    "print(\"{}\\n{}\".format(elements[:10],counts[:10]))\n",
    "allcount = pd.DataFrame(columns=[\"Words\", \"Counts\"])\n",
    "allcount[\"Words\"] = elements\n",
    "allcount[\"Counts\"] = counts"
   ]
  },
  {
   "cell_type": "code",
   "execution_count": 45,
   "metadata": {},
   "outputs": [
    {
     "data": {
      "text/html": [
       "<div>\n",
       "<style scoped>\n",
       "    .dataframe tbody tr th:only-of-type {\n",
       "        vertical-align: middle;\n",
       "    }\n",
       "\n",
       "    .dataframe tbody tr th {\n",
       "        vertical-align: top;\n",
       "    }\n",
       "\n",
       "    .dataframe thead th {\n",
       "        text-align: right;\n",
       "    }\n",
       "</style>\n",
       "<table border=\"1\" class=\"dataframe\">\n",
       "  <thead>\n",
       "    <tr style=\"text-align: right;\">\n",
       "      <th></th>\n",
       "      <th>Words</th>\n",
       "      <th>Counts</th>\n",
       "    </tr>\n",
       "  </thead>\n",
       "  <tbody>\n",
       "    <tr>\n",
       "      <td>0</td>\n",
       "      <td></td>\n",
       "      <td>8054</td>\n",
       "    </tr>\n",
       "    <tr>\n",
       "      <td>1</td>\n",
       "      <td>a</td>\n",
       "      <td>31676</td>\n",
       "    </tr>\n",
       "    <tr>\n",
       "      <td>2</td>\n",
       "      <td>aaaaaaaaargh</td>\n",
       "      <td>1</td>\n",
       "    </tr>\n",
       "    <tr>\n",
       "      <td>3</td>\n",
       "      <td>aaaargh</td>\n",
       "      <td>1</td>\n",
       "    </tr>\n",
       "    <tr>\n",
       "      <td>4</td>\n",
       "      <td>aaah</td>\n",
       "      <td>1</td>\n",
       "    </tr>\n",
       "  </tbody>\n",
       "</table>\n",
       "</div>"
      ],
      "text/plain": [
       "          Words  Counts\n",
       "0                  8054\n",
       "1             a   31676\n",
       "2  aaaaaaaaargh       1\n",
       "3       aaaargh       1\n",
       "4          aaah       1"
      ]
     },
     "execution_count": 45,
     "metadata": {},
     "output_type": "execute_result"
    }
   ],
   "source": [
    "allcount.head()"
   ]
  },
  {
   "cell_type": "code",
   "execution_count": 6,
   "metadata": {},
   "outputs": [
    {
     "data": {
      "text/plain": [
       "45052"
      ]
     },
     "execution_count": 6,
     "metadata": {},
     "output_type": "execute_result"
    }
   ],
   "source": [
    "len(allcount[allcount[\"Counts\"] < 10])"
   ]
  },
  {
   "cell_type": "code",
   "execution_count": 7,
   "metadata": {},
   "outputs": [
    {
     "data": {
      "text/plain": [
       "['aaaaaaaaargh',\n",
       " 'aaaargh',\n",
       " 'aaah',\n",
       " 'aaron',\n",
       " 'aaudiotape',\n",
       " 'ababy',\n",
       " 'ababysitter',\n",
       " 'abad',\n",
       " 'abadge',\n",
       " 'abanana']"
      ]
     },
     "execution_count": 7,
     "metadata": {},
     "output_type": "execute_result"
    }
   ],
   "source": [
    "lookup = allcount[allcount[\"Counts\"] <= 10][\"Words\"].tolist()\n",
    "lookup[:10]"
   ]
  },
  {
   "cell_type": "code",
   "execution_count": 8,
   "metadata": {},
   "outputs": [
    {
     "data": {
      "application/vnd.jupyter.widget-view+json": {
       "model_id": "a0df5579efc84decab47dff46c6014af",
       "version_major": 2,
       "version_minor": 0
      },
      "text/plain": [
       "HBox(children=(IntProgress(value=0, max=76543), HTML(value='')))"
      ]
     },
     "metadata": {},
     "output_type": "display_data"
    },
    {
     "name": "stdout",
     "output_type": "stream",
     "text": [
      "\n"
     ]
    },
    {
     "data": {
      "application/vnd.jupyter.widget-view+json": {
       "model_id": "440c3c2e09ad451b902a5f4db645b3fc",
       "version_major": 2,
       "version_minor": 0
      },
      "text/plain": [
       "HBox(children=(IntProgress(value=0, max=76543), HTML(value='')))"
      ]
     },
     "metadata": {},
     "output_type": "display_data"
    },
    {
     "name": "stdout",
     "output_type": "stream",
     "text": [
      "\n"
     ]
    }
   ],
   "source": [
    "xx = []\n",
    "yy = []\n",
    "for sentence in tqdm(x):\n",
    "    words = sentence.split(\" \")\n",
    "    reass = []\n",
    "    for word in words:\n",
    "        if word not in lookup:\n",
    "            reass.append(word)\n",
    "    sent = \" \".join(reass)\n",
    "    xx.append(sent)\n",
    "for sentence in tqdm(y):\n",
    "    words = sentence.split(\" \")\n",
    "    reass = []\n",
    "    for word in words:\n",
    "        if word not in lookup:\n",
    "            reass.append(word)\n",
    "    sent = \" \".join(reass)\n",
    "    yy.append(sent)"
   ]
  },
  {
   "cell_type": "code",
   "execution_count": 9,
   "metadata": {},
   "outputs": [
    {
     "name": "stdout",
     "output_type": "stream",
     "text": [
      "76543,76543\n",
      "['im pleased you two are so impressed i find the whole', 'he is let us go', 'without special treatment it would have spread all over your body', 'when i came back with the ise satellite reports tyler and this box was open as it is now', 'there it is but he could be anywhere'],['yes i suppose the atmosphere is rather', 'he needs to move his tardis into the circle of flame when surge comes hell be surrounded by gas amyand i want you to go back to turlough and give him this', 'ah thats nice', 'nothings been moved', 'fair exchange is no robbery the masters temporal stabiliser']\n"
     ]
    }
   ],
   "source": [
    "print(\"{},{}\".format(len(xx),len(yy)))\n",
    "print(\"{},{}\".format(xx[:5],yy[:5]))"
   ]
  },
  {
   "cell_type": "code",
   "execution_count": 10,
   "metadata": {},
   "outputs": [],
   "source": [
    "df[\"xx\"] = xx\n",
    "df[\"yy\"] = yy\n",
    "df.to_csv(\"C://DATA//train//38_chattyv2//Chatty-V2//DW_DATA//dwdata_3.csv\")"
   ]
  },
  {
   "cell_type": "code",
   "execution_count": 15,
   "metadata": {},
   "outputs": [],
   "source": [
    "df.to_csv(\"C://DATA//train//38_chattyv2//Chatty-V2//DW_DATA//dwdata_3.csv\")"
   ]
  },
  {
   "cell_type": "code",
   "execution_count": 14,
   "metadata": {},
   "outputs": [
    {
     "data": {
      "text/html": [
       "<div>\n",
       "<style scoped>\n",
       "    .dataframe tbody tr th:only-of-type {\n",
       "        vertical-align: middle;\n",
       "    }\n",
       "\n",
       "    .dataframe tbody tr th {\n",
       "        vertical-align: top;\n",
       "    }\n",
       "\n",
       "    .dataframe thead th {\n",
       "        text-align: right;\n",
       "    }\n",
       "</style>\n",
       "<table border=\"1\" class=\"dataframe\">\n",
       "  <thead>\n",
       "    <tr style=\"text-align: right;\">\n",
       "      <th></th>\n",
       "      <th>X</th>\n",
       "      <th>Y</th>\n",
       "      <th>X_1</th>\n",
       "      <th>Y_1</th>\n",
       "      <th>xx</th>\n",
       "      <th>yy</th>\n",
       "    </tr>\n",
       "  </thead>\n",
       "  <tbody>\n",
       "    <tr>\n",
       "      <td>0</td>\n",
       "      <td>im pleased you two are so impressed i find the...</td>\n",
       "      <td>yes i suppose the atmosphere is rather rancid</td>\n",
       "      <td>im pleased you two are so impressed i find the...</td>\n",
       "      <td>yes i suppose the atmosphere is rather rancid</td>\n",
       "      <td>im pleased you two are so impressed i find the...</td>\n",
       "      <td>yes i suppose the atmosphere is rather</td>\n",
       "    </tr>\n",
       "    <tr>\n",
       "      <td>1</td>\n",
       "      <td>hes let us go</td>\n",
       "      <td>he needs to move his tardis into the circle of...</td>\n",
       "      <td>hes let us go</td>\n",
       "      <td>he needs to move his tardis into the circle of...</td>\n",
       "      <td>he is let us go</td>\n",
       "      <td>he needs to move his tardis into the circle of...</td>\n",
       "    </tr>\n",
       "    <tr>\n",
       "      <td>2</td>\n",
       "      <td>without special treatment it would have spread...</td>\n",
       "      <td>ah thats nice</td>\n",
       "      <td>without special treatment it would have spread...</td>\n",
       "      <td>ah thats nice</td>\n",
       "      <td>without special treatment it would have spread...</td>\n",
       "      <td>ah thats nice</td>\n",
       "    </tr>\n",
       "    <tr>\n",
       "      <td>3</td>\n",
       "      <td>when i came back with these satellite reports ...</td>\n",
       "      <td>nothings been moved</td>\n",
       "      <td>when i came back with these satellite reports ...</td>\n",
       "      <td>nothings been moved</td>\n",
       "      <td>when i came back with the ise satellite report...</td>\n",
       "      <td>nothings been moved</td>\n",
       "    </tr>\n",
       "    <tr>\n",
       "      <td>4</td>\n",
       "      <td>there it is but he could be anywhere</td>\n",
       "      <td>fair exchange is no robbery the masters tempor...</td>\n",
       "      <td>there it is but he could be anywhere</td>\n",
       "      <td>fair exchange is no robbery the masters tempor...</td>\n",
       "      <td>there it is but he could be anywhere</td>\n",
       "      <td>fair exchange is no robbery the masters tempor...</td>\n",
       "    </tr>\n",
       "  </tbody>\n",
       "</table>\n",
       "</div>"
      ],
      "text/plain": [
       "                                                   X  \\\n",
       "0  im pleased you two are so impressed i find the...   \n",
       "1                                      hes let us go   \n",
       "2  without special treatment it would have spread...   \n",
       "3  when i came back with these satellite reports ...   \n",
       "4               there it is but he could be anywhere   \n",
       "\n",
       "                                                   Y  \\\n",
       "0      yes i suppose the atmosphere is rather rancid   \n",
       "1  he needs to move his tardis into the circle of...   \n",
       "2                                      ah thats nice   \n",
       "3                                nothings been moved   \n",
       "4  fair exchange is no robbery the masters tempor...   \n",
       "\n",
       "                                                 X_1  \\\n",
       "0  im pleased you two are so impressed i find the...   \n",
       "1                                      hes let us go   \n",
       "2  without special treatment it would have spread...   \n",
       "3  when i came back with these satellite reports ...   \n",
       "4               there it is but he could be anywhere   \n",
       "\n",
       "                                                 Y_1  \\\n",
       "0      yes i suppose the atmosphere is rather rancid   \n",
       "1  he needs to move his tardis into the circle of...   \n",
       "2                                      ah thats nice   \n",
       "3                                nothings been moved   \n",
       "4  fair exchange is no robbery the masters tempor...   \n",
       "\n",
       "                                                  xx  \\\n",
       "0  im pleased you two are so impressed i find the...   \n",
       "1                                    he is let us go   \n",
       "2  without special treatment it would have spread...   \n",
       "3  when i came back with the ise satellite report...   \n",
       "4               there it is but he could be anywhere   \n",
       "\n",
       "                                                  yy  \n",
       "0             yes i suppose the atmosphere is rather  \n",
       "1  he needs to move his tardis into the circle of...  \n",
       "2                                      ah thats nice  \n",
       "3                                nothings been moved  \n",
       "4  fair exchange is no robbery the masters tempor...  "
      ]
     },
     "execution_count": 14,
     "metadata": {},
     "output_type": "execute_result"
    }
   ],
   "source": [
    "df = df.drop([\"Unnamed: 0.1.1\",\"Unnamed: 0.1\",\"Unnamed: 0\"],axis=1)\n",
    "df.head()"
   ]
  }
 ],
 "metadata": {
  "kernelspec": {
   "display_name": "Python 3",
   "language": "python",
   "name": "python3"
  },
  "language_info": {
   "codemirror_mode": {
    "name": "ipython",
    "version": 3
   },
   "file_extension": ".py",
   "mimetype": "text/x-python",
   "name": "python",
   "nbconvert_exporter": "python",
   "pygments_lexer": "ipython3",
   "version": "3.7.4"
  }
 },
 "nbformat": 4,
 "nbformat_minor": 2
}
