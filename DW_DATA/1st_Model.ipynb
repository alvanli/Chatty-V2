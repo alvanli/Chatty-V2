{
  "nbformat": 4,
  "nbformat_minor": 0,
  "metadata": {
    "colab": {
      "name": "1st_Model",
      "provenance": []
    },
    "kernelspec": {
      "name": "python3",
      "display_name": "Python 3"
    },
    "accelerator": "GPU"
  },
  "cells": [
    {
      "cell_type": "code",
      "metadata": {
        "id": "OrF-_9eHxNGh",
        "colab_type": "code",
        "outputId": "1dd90421-fa42-4fb4-d808-4b644d8dae8c",
        "colab": {
          "base_uri": "https://localhost:8080/",
          "height": 52
        }
      },
      "source": [
        "%cd ..\n",
        "%cd root\n"
      ],
      "execution_count": 22,
      "outputs": [
        {
          "output_type": "stream",
          "text": [
            "/\n",
            "/root\n"
          ],
          "name": "stdout"
        }
      ]
    },
    {
      "cell_type": "code",
      "metadata": {
        "id": "rJbJM72pxg1O",
        "colab_type": "code",
        "outputId": "3ed3eee0-8e9d-4baa-8721-56b63234bcd4",
        "colab": {
          "base_uri": "https://localhost:8080/",
          "height": 194
        }
      },
      "source": [
        "import pandas as pd\n",
        "df = pd.read_csv(\"dwdata_1.csv\")\n",
        "df.head()"
      ],
      "execution_count": 23,
      "outputs": [
        {
          "output_type": "execute_result",
          "data": {
            "text/html": [
              "<div>\n",
              "<style scoped>\n",
              "    .dataframe tbody tr th:only-of-type {\n",
              "        vertical-align: middle;\n",
              "    }\n",
              "\n",
              "    .dataframe tbody tr th {\n",
              "        vertical-align: top;\n",
              "    }\n",
              "\n",
              "    .dataframe thead th {\n",
              "        text-align: right;\n",
              "    }\n",
              "</style>\n",
              "<table border=\"1\" class=\"dataframe\">\n",
              "  <thead>\n",
              "    <tr style=\"text-align: right;\">\n",
              "      <th></th>\n",
              "      <th>Unnamed: 0</th>\n",
              "      <th>X</th>\n",
              "      <th>Y</th>\n",
              "    </tr>\n",
              "  </thead>\n",
              "  <tbody>\n",
              "    <tr>\n",
              "      <th>0</th>\n",
              "      <td>0</td>\n",
              "      <td>im pleased you two are so impressed i find the...</td>\n",
              "      <td>yes i suppose the atmosphere is rather rancid</td>\n",
              "    </tr>\n",
              "    <tr>\n",
              "      <th>1</th>\n",
              "      <td>1</td>\n",
              "      <td>hes let us go</td>\n",
              "      <td>he needs to move his tardis into the circle of...</td>\n",
              "    </tr>\n",
              "    <tr>\n",
              "      <th>2</th>\n",
              "      <td>2</td>\n",
              "      <td>without special treatment it would have spread...</td>\n",
              "      <td>ah thats nice</td>\n",
              "    </tr>\n",
              "    <tr>\n",
              "      <th>3</th>\n",
              "      <td>3</td>\n",
              "      <td>when i came back with these satellite reports ...</td>\n",
              "      <td>nothings been moved</td>\n",
              "    </tr>\n",
              "    <tr>\n",
              "      <th>4</th>\n",
              "      <td>4</td>\n",
              "      <td>there it is but he could be anywhere</td>\n",
              "      <td>fair exchange is no robbery the masters tempor...</td>\n",
              "    </tr>\n",
              "  </tbody>\n",
              "</table>\n",
              "</div>"
            ],
            "text/plain": [
              "   Unnamed: 0  ...                                                  Y\n",
              "0           0  ...      yes i suppose the atmosphere is rather rancid\n",
              "1           1  ...  he needs to move his tardis into the circle of...\n",
              "2           2  ...                                      ah thats nice\n",
              "3           3  ...                                nothings been moved\n",
              "4           4  ...  fair exchange is no robbery the masters tempor...\n",
              "\n",
              "[5 rows x 3 columns]"
            ]
          },
          "metadata": {
            "tags": []
          },
          "execution_count": 23
        }
      ]
    },
    {
      "cell_type": "markdown",
      "metadata": {
        "id": "NGnNmu5Vx6t6",
        "colab_type": "text"
      },
      "source": [
        "Punctuation has already been removed, all words are lowered. I suppose stemming would not be a nice idea unless we preprocess the data whenever a user enters something. Let's build a simple model then!"
      ]
    },
    {
      "cell_type": "code",
      "metadata": {
        "id": "38My9GYry_WY",
        "colab_type": "code",
        "outputId": "940abd18-708a-4766-dc74-87f3f06e68c9",
        "colab": {
          "base_uri": "https://localhost:8080/",
          "height": 141
        }
      },
      "source": [
        "import numpy as np\n",
        "words_x = [\"\"]\n",
        "words_y = [\"\"]\n",
        "def word_to_list_x(x):\n",
        "  words_x.append(str(x).split(\" \"))\n",
        "def word_to_list_y(x):\n",
        "  words_y.append(str(x).split(\" \"))\n",
        "df.X.apply(word_to_list_x)\n",
        "df.Y.apply(word_to_list_y)\n",
        "words_x1 = [val for sublist in words_x for val in sublist]\n",
        "words_y1 = [val for sublist in words_y for val in sublist]\n",
        "words_x = set(words_x1)\n",
        "words_y = set(words_y1)\n",
        "print(\"X:\")\n",
        "print(\"   # of unique words: {}, Total Words: {}\".format(len(words_x), len(words_x1)))\n",
        "print(\"Y: \")\n",
        "print(\"   # of unique words: {}, Total Words: {}\".format(len(words_y), len(words_y1)))\n",
        "print(\"Combined: \")\n",
        "print(\"   # of unique words: {}, Total Words: {}\".format(len(set(list(words_y)+list(words_x))), len(words_y1+words_x1)))\n",
        "print(\"Total Training Size: {}\".format(len(df)))"
      ],
      "execution_count": 24,
      "outputs": [
        {
          "output_type": "stream",
          "text": [
            "X:\n",
            "   # of unique words: 30793, Total Words: 725045\n",
            "Y: \n",
            "   # of unique words: 37657, Total Words: 939351\n",
            "Combined: \n",
            "   # of unique words: 53382, Total Words: 1664396\n",
            "Total Training Size: 76543\n"
          ],
          "name": "stdout"
        }
      ]
    },
    {
      "cell_type": "code",
      "metadata": {
        "id": "XvKQJeUA1UiK",
        "colab_type": "code",
        "outputId": "2787c648-e58d-42ef-ca80-2ddcb754c8ff",
        "colab": {
          "base_uri": "https://localhost:8080/",
          "height": 305
        }
      },
      "source": [
        "pd.Series(words_y1+words_x1).value_counts()[20:30].plot.bar()"
      ],
      "execution_count": 25,
      "outputs": [
        {
          "output_type": "execute_result",
          "data": {
            "text/plain": [
              "<matplotlib.axes._subplots.AxesSubplot at 0x7f672b1889e8>"
            ]
          },
          "metadata": {
            "tags": []
          },
          "execution_count": 25
        },
        {
          "output_type": "display_data",
          "data": {
            "image/png": "[encoded data removed]",
            "text/plain": [
              "<Figure size 432x288 with 1 Axes>"
            ]
          },
          "metadata": {
            "tags": [],
            "needs_background": "light"
          }
        }
      ]
    },
    {
      "cell_type": "markdown",
      "metadata": {
        "id": "qOY0X-IS4h1L",
        "colab_type": "text"
      },
      "source": [
        "Max words per sentence is 253 as per the last notebook\n"
      ]
    },
    {
      "cell_type": "code",
      "metadata": {
        "id": "GgXzxnPh5Rw_",
        "colab_type": "code",
        "colab": {}
      },
      "source": [
        "X = []\n",
        "Y = []\n",
        "def remove_num_X(x):\n",
        "  x = str(x)\n",
        "  result = ''.join([i for i in x if not i.isdigit()])\n",
        "  X.append(result)\n",
        "def remove_num_Y(x):\n",
        "  x = str(x)\n",
        "  result = ''.join([i for i in x if not i.isdigit()])\n",
        "  Y.append(result)\n",
        "df.X.apply(remove_num_X)\n",
        "df.Y.apply(remove_num_Y)\n",
        "df[\"X_1\"] = X\n",
        "df[\"Y_1\"] = Y"
      ],
      "execution_count": 0,
      "outputs": []
    },
    {
      "cell_type": "code",
      "metadata": {
        "id": "zFYXMy0U7gEC",
        "colab_type": "code",
        "outputId": "2d283c37-4e63-420b-fc14-f49ebaec99e4",
        "colab": {
          "base_uri": "https://localhost:8080/",
          "height": 52
        }
      },
      "source": [
        "word_freq = pd.Series(words_y1+words_x1).value_counts()\n",
        "print(\"Total Number of Unique Words Before: {}\".format(len(word_freq)))\n",
        "ignored = word_freq[word_freq<=4]\n",
        "word_freq = word_freq[word_freq>4]\n",
        "print(\"Total Number of Unique Words After: {}\".format(len(word_freq)))"
      ],
      "execution_count": 36,
      "outputs": [
        {
          "output_type": "stream",
          "text": [
            "Total Number of Unique Words Before: 53382\n",
            "Total Number of Unique Words After: 11699\n"
          ],
          "name": "stdout"
        }
      ]
    },
    {
      "cell_type": "code",
      "metadata": {
        "id": "zwYpPQFn7HMk",
        "colab_type": "code",
        "colab": {}
      },
      "source": [
        "ignored = list(ignored)\n",
        "X_1 = []\n",
        "Y_1 = []\n",
        "def filter_ignored_x(x):\n",
        "  each_word = x.split(\" \")\n",
        "  result = \" \".join([i for i in each_word if i not in ignored])\n",
        "  X_1.append(result)\n",
        "def filter_ignored_y(x):\n",
        "  each_word = x.split(\" \")\n",
        "  result = \" \".join([i for i in each_word if i not in ignored])\n",
        "  Y_1.append(result)\n",
        "df[\"X_1\"].apply(filter_ignored_x)\n",
        "df[\"Y_1\"].apply(filter_ignored_y)\n",
        "df[\"X_1\"] = X_1\n",
        "df[\"Y_1\"] = Y_1"
      ],
      "execution_count": 0,
      "outputs": []
    },
    {
      "cell_type": "code",
      "metadata": {
        "id": "tDnQfjxK6DTV",
        "colab_type": "code",
        "outputId": "c1cc0205-96b5-4dd7-a7d7-234dff236a0e",
        "colab": {
          "base_uri": "https://localhost:8080/",
          "height": 295
        }
      },
      "source": [
        "df.head()"
      ],
      "execution_count": 41,
      "outputs": [
        {
          "output_type": "execute_result",
          "data": {
            "text/html": [
              "<div>\n",
              "<style scoped>\n",
              "    .dataframe tbody tr th:only-of-type {\n",
              "        vertical-align: middle;\n",
              "    }\n",
              "\n",
              "    .dataframe tbody tr th {\n",
              "        vertical-align: top;\n",
              "    }\n",
              "\n",
              "    .dataframe thead th {\n",
              "        text-align: right;\n",
              "    }\n",
              "</style>\n",
              "<table border=\"1\" class=\"dataframe\">\n",
              "  <thead>\n",
              "    <tr style=\"text-align: right;\">\n",
              "      <th></th>\n",
              "      <th>Unnamed: 0</th>\n",
              "      <th>X</th>\n",
              "      <th>Y</th>\n",
              "      <th>X_1</th>\n",
              "      <th>Y_1</th>\n",
              "    </tr>\n",
              "  </thead>\n",
              "  <tbody>\n",
              "    <tr>\n",
              "      <th>0</th>\n",
              "      <td>0</td>\n",
              "      <td>im pleased you two are so impressed i find the...</td>\n",
              "      <td>yes i suppose the atmosphere is rather rancid</td>\n",
              "      <td>im pleased you two are so impressed i find the...</td>\n",
              "      <td>yes i suppose the atmosphere is rather rancid</td>\n",
              "    </tr>\n",
              "    <tr>\n",
              "      <th>1</th>\n",
              "      <td>1</td>\n",
              "      <td>hes let us go</td>\n",
              "      <td>he needs to move his tardis into the circle of...</td>\n",
              "      <td>hes let us go</td>\n",
              "      <td>he needs to move his tardis into the circle of...</td>\n",
              "    </tr>\n",
              "    <tr>\n",
              "      <th>2</th>\n",
              "      <td>2</td>\n",
              "      <td>without special treatment it would have spread...</td>\n",
              "      <td>ah thats nice</td>\n",
              "      <td>without special treatment it would have spread...</td>\n",
              "      <td>ah thats nice</td>\n",
              "    </tr>\n",
              "    <tr>\n",
              "      <th>3</th>\n",
              "      <td>3</td>\n",
              "      <td>when i came back with these satellite reports ...</td>\n",
              "      <td>nothings been moved</td>\n",
              "      <td>when i came back with these satellite reports ...</td>\n",
              "      <td>nothings been moved</td>\n",
              "    </tr>\n",
              "    <tr>\n",
              "      <th>4</th>\n",
              "      <td>4</td>\n",
              "      <td>there it is but he could be anywhere</td>\n",
              "      <td>fair exchange is no robbery the masters tempor...</td>\n",
              "      <td>there it is but he could be anywhere</td>\n",
              "      <td>fair exchange is no robbery the masters tempor...</td>\n",
              "    </tr>\n",
              "  </tbody>\n",
              "</table>\n",
              "</div>"
            ],
            "text/plain": [
              "   Unnamed: 0  ...                                                Y_1\n",
              "0           0  ...      yes i suppose the atmosphere is rather rancid\n",
              "1           1  ...  he needs to move his tardis into the circle of...\n",
              "2           2  ...                                      ah thats nice\n",
              "3           3  ...                                nothings been moved\n",
              "4           4  ...  fair exchange is no robbery the masters tempor...\n",
              "\n",
              "[5 rows x 5 columns]"
            ]
          },
          "metadata": {
            "tags": []
          },
          "execution_count": 41
        }
      ]
    },
    {
      "cell_type": "code",
      "metadata": {
        "id": "FfXv1AqrFmKc",
        "colab_type": "code",
        "colab": {}
      },
      "source": [
        "import pandas as pd\n",
        "df = pd.read_csv(\"\")"
      ],
      "execution_count": 0,
      "outputs": []
    },
    {
      "cell_type": "code",
      "metadata": {
        "id": "i3w8VNTxx5jc",
        "colab_type": "code",
        "colab": {}
      },
      "source": [
        "maxlen = 255\n",
        "from keras.preprocessing.text import Tokenizer\n",
        "from keras.preprocessing.sequence import pad_sequences\n",
        "all_xy = df[\"X_1\"]\n",
        "all_xy = all_xy.append(df[\"Y_1\"])\n",
        "TO = Tokenizer(num_words=20000)\n",
        "TO.fit_on_texts(all_xy)\n",
        "X_train = TO.texts_to_sequences(df[\"X_1\"])\n",
        "Y_train = TO.texts_to_sequences(df[\"Y_1\"])\n",
        "X_train = pad_sequences(X_train, maxlen=maxlen)\n",
        "Y_train = pad_sequences(Y_train, maxlen=maxlen)"
      ],
      "execution_count": 0,
      "outputs": []
    },
    {
      "cell_type": "code",
      "metadata": {
        "id": "ZButX2m06zDu",
        "colab_type": "code",
        "outputId": "31527c46-3ea1-4a55-a213-57b6676d4419",
        "colab": {
          "base_uri": "https://localhost:8080/",
          "height": 52
        }
      },
      "source": [
        "print(X_train.shape)\n",
        "print(Y_train.shape)"
      ],
      "execution_count": 45,
      "outputs": [
        {
          "output_type": "stream",
          "text": [
            "(76543, 255)\n",
            "(76543, 255)\n"
          ],
          "name": "stdout"
        }
      ]
    },
    {
      "cell_type": "code",
      "metadata": {
        "id": "neAQs2mwFV86",
        "colab_type": "code",
        "colab": {}
      },
      "source": [
        "def glove_100d_dictionary(GLOVE_DIR):\n",
        "  embeddings_index = {}\n",
        "  f = open(os.path.join(GLOVE_DIR, 'glove.42B.300d.txt'))\n",
        "  for line in f:\n",
        "      values = line.split()\n",
        "      word = values[0]\n",
        "      coefs = np.asarray(values[1:], dtype='float32')\n",
        "      embeddings_index[word] = coefs\n",
        "  f.close()\n",
        "  return embeddings_index\n",
        "def embedding_matrix_creater(embedding_dimention):\n",
        "  embedding_matrix = np.zeros((len(word_index) + 1, embedding_dimention))\n",
        "  for word, i in word_index.items():\n",
        "      embedding_vector = embeddings_index.get(word)\n",
        "      if embedding_vector is not None:\n",
        "          # words not found in embedding index will be all-zeros.\n",
        "          embedding_matrix[i] = embedding_vector\n",
        "  return embedding_matrix\n",
        "def embedding_layer_creater(VOCAB_SIZE, EMBEDDING_DIM, MAX_LEN, embedding_matrix):\n",
        "  \n",
        "  embedding_layer = Embedding(input_dim = VOCAB_SIZE, \n",
        "                              output_dim = EMBEDDING_DIM,\n",
        "                              input_length = MAX_LEN,\n",
        "                              weights = [embedding_matrix],\n",
        "                              trainable = False)\n",
        "  return embedding_layer\n",
        "\n",
        "embedding_layer = embedding_layer_creater(VOCAB_SIZE, EMBEDDING_DIM, MAX_LEN, embedding_matrix)\n"
      ],
      "execution_count": 0,
      "outputs": []
    },
    {
      "cell_type": "code",
      "metadata": {
        "id": "DejbaJuuDto4",
        "colab_type": "code",
        "colab": {}
      },
      "source": [
        "from tensorflow.keras.models import Model\n",
        "from tensorflow.keras.layers import Embedding, LSTM, Input, Add, Dense, Flatten, Bidirectional, GlobalMaxPool1D, Dropout\n",
        "#https://towardsdatascience.com/how-to-implement-seq2seq-lstm-model-in-keras-shortcutnlp-6f355f3e5639\n",
        "encoder_inputs = Input(shape=(maxlen, ), dtype='int32',)\n",
        "encoder_embedding = embed_layer(encoder_inputs)\n",
        "encoder_LSTM = LSTM(128, return_state=True)\n",
        "encoder_outputs, state_h, state_c = encoder_LSTM(encoder_embedding)\n",
        "\n",
        "decoder_inputs = Input(shape=(maxlen, ), dtype='int32',)\n",
        "decoder_embedding = embed_layer(decoder_inputs)\n",
        "decoder_LSTM = LSTM(128, return_state=True, return_sequences=True)\n",
        "decoder_outputs, _, _ = decoder_LSTM(decoder_embedding, initial_state=[state_h, state_c])\n",
        "\n",
        "outputs = TimeDistributed(Dense(20000, activation='softmax'))(decoder_outputs)\n",
        "model = Model([encoder_inputs, decoder_inputs], outputs)\n",
        "model.summary()\n",
        "model.compile(optimizer='adam',loss='categorical_crossentropy', metrics=['accuracy'])"
      ],
      "execution_count": 0,
      "outputs": []
    }
  ]
}