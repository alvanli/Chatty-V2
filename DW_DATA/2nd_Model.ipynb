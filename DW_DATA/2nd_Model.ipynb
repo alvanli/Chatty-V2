{
  "nbformat": 4,
  "nbformat_minor": 0,
  "metadata": {
    "colab": {
      "name": "2nd_Model",
      "provenance": []
    },
    "kernelspec": {
      "name": "python3",
      "display_name": "Python 3"
    },
    "accelerator": "GPU"
  },
  "cells": [
    {
      "cell_type": "markdown",
      "metadata": {
        "id": "yCO4kZE0ztpv",
        "colab_type": "text"
      },
      "source": [
        "\n",
        "<h2>Target</h2>\n",
        "<ul>\n",
        "<li>Generative (not retrieval)</li>\n",
        "<li>Small-talk (short convos)</li>\n",
        "<li>Open Domain</li>\n",
        "<li>No context</li>\n",
        "<li>Eval [https://arxiv.org/abs/1603.08023]</li>\n",
        "</ul>\n",
        "<h2>Potential Sources of Data</h2>\n",
        "<ul>\n",
        "<li>http://files.pushshift.io/reddit/comments/</li>\n",
        "<li>https://www.cs.cornell.edu/~cristian/Cornell_Movie-Dialogs_Corpus.html</li>\n",
        "<li>https://github.com/Marsan-Ma/twitter_scraper</li>\n",
        "<li>http://dataset.cs.mcgill.ca/ubuntu-corpus-1.0/</li>\n",
        "</ul>\n",
        "<h2>Potential Models</h2>\n",
        "<h3>This Medium Article</h3>\n",
        "<ul>\n",
        "<li>https://medium.com/botsupply/generative-model-chatbots-e422ab08461e</li>\n",
        "<li>Use high LR, then reduce</li>\n",
        "<li>Reverse input sentence</li>\n",
        "<li>50 K vocab</li>\n",
        "</ul>\n",
        "<h3>LSTM Encoder Decoder</h3>\n",
        "<h2></h2>"
      ]
    },
    {
      "cell_type": "code",
      "metadata": {
        "id": "hHc7Oe-WR7VH",
        "colab_type": "code",
        "outputId": "064f914a-c871-4ec3-d83c-fc71372b20e1",
        "colab": {
          "base_uri": "https://localhost:8080/",
          "height": 52
        }
      },
      "source": [
        "%cd ..\n",
        "%cd root\n",
        "import pandas as pd\n",
        "df = pd.read_csv(\"dwdata_2.csv\")\n",
        "df.fillna('', inplace=True)"
      ],
      "execution_count": 5,
      "outputs": [
        {
          "output_type": "stream",
          "text": [
            "/\n",
            "/root\n"
          ],
          "name": "stdout"
        }
      ]
    },
    {
      "cell_type": "code",
      "metadata": {
        "id": "W-cJELvuSQ87",
        "colab_type": "code",
        "outputId": "7c8493d1-e2d3-45a2-d6b8-ab0bd8a8c66d",
        "colab": {
          "base_uri": "https://localhost:8080/",
          "height": 35
        }
      },
      "source": [
        "x_1 = df[\"X_1\"].tolist()\n",
        "y_1 = df[\"Y_1\"].tolist()\n",
        "\n",
        "import tensorflow_datasets as tfds\n",
        "# from tensorflow_datasets.features.text.SubwordTextEncoder import build_from_corpus\n",
        "from tensorflow.keras.preprocessing.sequence import pad_sequences\n",
        "token_x = tfds.features.text.SubwordTextEncoder.build_from_corpus(x_1, target_vocab_size=1e12)\n",
        "token_y = tfds.features.text.SubwordTextEncoder.build_from_corpus(y_1, target_vocab_size=1e12)\n",
        "\n",
        "vocab_size_x = token_x.vocab_size\n",
        "vocab_size_y = token_y.vocab_size + 2 # adding the start and end characters\n",
        "\n",
        "inputs = [token_x.encode(sentence) for sentence in x_1]\n",
        "outputs = [[vocab_size_y - 2] + token_y.encode(sentence) + [vocab_size_y - 1] for sentence in y_1]\n",
        "\n",
        "MAXLEN = 70\n",
        "idx_to_shorten = [count for count, sent in enumerate(inputs) if len(sent) > MAXLEN]\n",
        "for idx in idx_to_shorten:\n",
        "    inputs[idx] = inputs[idx][:MAXLEN]\n",
        "    outputs[idx] = outputs[idx][:MAXLEN]\n",
        "idx_to_shorten = []\n",
        "idx_to_shorten = [count for count, sent in enumerate(outputs) if len(sent) > MAXLEN]\n",
        "for idx in idx_to_shorten:\n",
        "    inputs[idx] = inputs[idx][:MAXLEN]\n",
        "    outputs[idx] = outputs[idx][:MAXLEN]\n",
        "\n",
        "MINLEN = 4\n",
        "idx_to_delete = [count for count, sent in enumerate(inputs) if len(sent) < MINLEN]\n",
        "for idx in reversed(idx_to_delete):\n",
        "    del inputs[idx]\n",
        "    del outputs[idx]\n",
        "idx_to_delete = []\n",
        "idx_to_delete = [count for count, sent in enumerate(outputs) if len(sent) < MINLEN]\n",
        "for idx in reversed(idx_to_delete):\n",
        "    del inputs[idx]\n",
        "    del outputs[idx]\n",
        "\n",
        "inputs = pad_sequences(inputs, value=0, padding=\"post\", maxlen=MAXLEN)\n",
        "outputs = pad_sequences(outputs, value=0, padding=\"post\", maxlen=MAXLEN)\n",
        "print(\"{},{}\".format(inputs.shape,outputs.shape))"
      ],
      "execution_count": 14,
      "outputs": [
        {
          "output_type": "stream",
          "text": [
            "(21771, 70),(21771, 70)\n"
          ],
          "name": "stdout"
        }
      ]
    },
    {
      "cell_type": "code",
      "metadata": {
        "id": "mgTzWkZ5YSNf",
        "colab_type": "code",
        "outputId": "df489cc0-c7c6-43aa-f013-d8adef57c5e2",
        "colab": {
          "base_uri": "https://localhost:8080/",
          "height": 35
        }
      },
      "source": [
        "import numpy as np\n",
        "from scipy.ndimage.interpolation import shift\n",
        "inputs_1 = inputs\n",
        "inputs_2 = outputs\n",
        "outputs_1 = outputs\n",
        "outputs_1 = shift(outputs_1, [0,-1], cval=0)\n",
        "print(\"{},{}\".format(inputs_1.shape,outputs_1.shape))"
      ],
      "execution_count": 17,
      "outputs": [
        {
          "output_type": "stream",
          "text": [
            "(21771, 70),(21771, 70)\n"
          ],
          "name": "stdout"
        }
      ]
    },
    {
      "cell_type": "code",
      "metadata": {
        "id": "7_nyvc1mgeQw",
        "colab_type": "code",
        "outputId": "664b0c9c-95e9-409a-ab3b-d26515c43fed",
        "colab": {
          "base_uri": "https://localhost:8080/",
          "height": 124
        }
      },
      "source": [
        "print(inputs_1[20,:20])\n",
        "print(inputs_2[20,:20])\n",
        "print(outputs_1[20,:20])"
      ],
      "execution_count": 18,
      "outputs": [
        {
          "output_type": "stream",
          "text": [
            "[  22    7   23  672   95 3744   16   41  418    3   35  274   49    0\n",
            "    0    0    0    0    0    0]\n",
            "[27074    22    14   809    28     4 10094   255  1314    31     4   423\n",
            "    67     5  1448   608     3    90     5   365]\n",
            "[   22    14   809    28     4 10094   255  1314    31     4   423    67\n",
            "     5  1448   608     3    90     5   365  2681]\n"
          ],
          "name": "stdout"
        }
      ]
    },
    {
      "cell_type": "code",
      "metadata": {
        "id": "LRDEL7Uxh4bY",
        "colab_type": "code",
        "colab": {}
      },
      "source": [
        "inputs_1 = np.expand_dims(inputs_1,axis=-1)\n",
        "inputs_2 = np.expand_dims(inputs_2,axis=-1)\n",
        "outputs_1 = np.expand_dims(outputs_1,axis=-1)"
      ],
      "execution_count": 0,
      "outputs": []
    },
    {
      "cell_type": "code",
      "metadata": {
        "id": "mzN0BhHIslF8",
        "colab_type": "code",
        "outputId": "cf4d4dfe-ed74-47fb-d4a2-91a08803a1b5",
        "colab": {
          "base_uri": "https://localhost:8080/",
          "height": 35
        }
      },
      "source": [
        "import numpy as np\n",
        "print(token_x.decode(np.squeeze(inputs_1[0],axis=-1)))"
      ],
      "execution_count": 23,
      "outputs": [
        {
          "output_type": "stream",
          "text": [
            "im pleased you two are so impressed i find the whole placehateful\n"
          ],
          "name": "stdout"
        }
      ]
    },
    {
      "cell_type": "code",
      "metadata": {
        "id": "ryL02M2_OT6b",
        "colab_type": "code",
        "colab": {}
      },
      "source": [
        "latent_dim = 256\n",
        "batch_size = 32\n",
        "epochs = 100"
      ],
      "execution_count": 0,
      "outputs": []
    },
    {
      "cell_type": "code",
      "metadata": {
        "id": "WC2oxeFbimAl",
        "colab_type": "code",
        "outputId": "8b2a7041-5cff-44e3-adcf-dacb0ab34381",
        "colab": {
          "base_uri": "https://localhost:8080/",
          "height": 35
        }
      },
      "source": [
        "print(\"{},{}\".format(vocab_size_x,vocab_size_y))"
      ],
      "execution_count": 25,
      "outputs": [
        {
          "output_type": "stream",
          "text": [
            "22801,27076\n"
          ],
          "name": "stdout"
        }
      ]
    },
    {
      "cell_type": "code",
      "metadata": {
        "id": "uW40jyTJIdKK",
        "colab_type": "code",
        "outputId": "1e4351a5-e14d-476d-92db-ed8e1489a024",
        "colab": {
          "base_uri": "https://localhost:8080/",
          "height": 1000
        }
      },
      "source": [
        "#We do the most basic one\n",
        "from tensorflow.keras.models import Model\n",
        "from tensorflow.keras.layers import Input, LSTM, Dense\n",
        "from tensorflow.keras.optimizers import Adam\n",
        "encoder_inputs = Input(shape=(None,1))\n",
        "encoder_outputs, state_h, state_c = LSTM(latent_dim, return_state=True)(encoder_inputs)\n",
        "encoder_states = [state_h, state_c]\n",
        "\n",
        "decoder_inputs = Input(shape=(None,1))\n",
        "decoder_outputs, _, _ = LSTM(latent_dim, return_sequences=True, return_state=True)(decoder_inputs,\n",
        "                                     initial_state=encoder_states)\n",
        "decoder_dense = Dense(1, activation='softmax')\n",
        "decoder_outputs = decoder_dense(decoder_outputs)\n",
        "\n",
        "model = Model([encoder_inputs, decoder_inputs], decoder_outputs)\n",
        "\n",
        "adam = Adam(lr=0.1, decay=1e-6)\n",
        "model.compile(optimizer=adam, loss='categorical_crossentropy', metrics=['accuracy'])\n",
        "hist = model.fit([inputs_1, inputs_2], outputs_1,batch_size=batch_size,epochs=epochs,validation_split=0.2)\n",
        "model.save(\"2nd_m.h5\")"
      ],
      "execution_count": 29,
      "outputs": [
        {
          "output_type": "stream",
          "text": [
            "Epoch 1/100\n",
            "545/545 [==============================] - 10s 18ms/step - loss: 7.9333e-05 - accuracy: 0.0068 - val_loss: 8.0460e-05 - val_accuracy: 0.0071\n",
            "Epoch 2/100\n",
            "545/545 [==============================] - 9s 16ms/step - loss: 7.9330e-05 - accuracy: 0.0068 - val_loss: 8.0460e-05 - val_accuracy: 0.0071\n",
            "Epoch 3/100\n",
            "545/545 [==============================] - 9s 16ms/step - loss: 7.9322e-05 - accuracy: 0.0068 - val_loss: 8.0460e-05 - val_accuracy: 0.0071\n",
            "Epoch 4/100\n",
            "545/545 [==============================] - 9s 16ms/step - loss: 7.9328e-05 - accuracy: 0.0068 - val_loss: 8.0460e-05 - val_accuracy: 0.0071\n",
            "Epoch 5/100\n",
            "545/545 [==============================] - 9s 16ms/step - loss: 7.9351e-05 - accuracy: 0.0068 - val_loss: 8.0460e-05 - val_accuracy: 0.0071\n",
            "Epoch 6/100\n",
            "545/545 [==============================] - 9s 16ms/step - loss: 7.9338e-05 - accuracy: 0.0068 - val_loss: 8.0460e-05 - val_accuracy: 0.0071\n",
            "Epoch 7/100\n",
            "545/545 [==============================] - 9s 16ms/step - loss: 7.9339e-05 - accuracy: 0.0068 - val_loss: 8.0460e-05 - val_accuracy: 0.0071\n",
            "Epoch 8/100\n",
            "545/545 [==============================] - 9s 16ms/step - loss: 7.9370e-05 - accuracy: 0.0068 - val_loss: 8.0460e-05 - val_accuracy: 0.0071\n",
            "Epoch 9/100\n",
            "545/545 [==============================] - 9s 17ms/step - loss: 7.9327e-05 - accuracy: 0.0068 - val_loss: 8.0460e-05 - val_accuracy: 0.0071\n",
            "Epoch 10/100\n",
            "545/545 [==============================] - 9s 16ms/step - loss: 7.9378e-05 - accuracy: 0.0068 - val_loss: 8.0460e-05 - val_accuracy: 0.0071\n",
            "Epoch 11/100\n",
            "545/545 [==============================] - 9s 16ms/step - loss: 7.9338e-05 - accuracy: 0.0068 - val_loss: 8.0460e-05 - val_accuracy: 0.0071\n",
            "Epoch 12/100\n",
            "545/545 [==============================] - 9s 16ms/step - loss: 7.9347e-05 - accuracy: 0.0068 - val_loss: 8.0460e-05 - val_accuracy: 0.0071\n",
            "Epoch 13/100\n",
            "545/545 [==============================] - 9s 16ms/step - loss: 7.9360e-05 - accuracy: 0.0068 - val_loss: 8.0460e-05 - val_accuracy: 0.0071\n",
            "Epoch 14/100\n",
            "545/545 [==============================] - 9s 16ms/step - loss: 7.9344e-05 - accuracy: 0.0068 - val_loss: 8.0460e-05 - val_accuracy: 0.0071\n",
            "Epoch 15/100\n",
            "545/545 [==============================] - 9s 16ms/step - loss: 7.9337e-05 - accuracy: 0.0068 - val_loss: 8.0460e-05 - val_accuracy: 0.0071\n",
            "Epoch 16/100\n",
            "545/545 [==============================] - 9s 16ms/step - loss: 7.9354e-05 - accuracy: 0.0068 - val_loss: 8.0460e-05 - val_accuracy: 0.0071\n",
            "Epoch 17/100\n",
            "545/545 [==============================] - 9s 16ms/step - loss: 7.9353e-05 - accuracy: 0.0068 - val_loss: 8.0460e-05 - val_accuracy: 0.0071\n",
            "Epoch 18/100\n",
            "545/545 [==============================] - 9s 16ms/step - loss: 7.9405e-05 - accuracy: 0.0068 - val_loss: 8.0460e-05 - val_accuracy: 0.0071\n",
            "Epoch 19/100\n",
            "545/545 [==============================] - 9s 16ms/step - loss: 7.9341e-05 - accuracy: 0.0068 - val_loss: 8.0460e-05 - val_accuracy: 0.0071\n",
            "Epoch 20/100\n",
            "545/545 [==============================] - 9s 16ms/step - loss: 7.9356e-05 - accuracy: 0.0068 - val_loss: 8.0460e-05 - val_accuracy: 0.0071\n",
            "Epoch 21/100\n",
            "545/545 [==============================] - 9s 16ms/step - loss: 7.9342e-05 - accuracy: 0.0068 - val_loss: 8.0460e-05 - val_accuracy: 0.0071\n",
            "Epoch 22/100\n",
            "545/545 [==============================] - 9s 16ms/step - loss: 7.9346e-05 - accuracy: 0.0068 - val_loss: 8.0460e-05 - val_accuracy: 0.0071\n",
            "Epoch 23/100\n",
            "545/545 [==============================] - 9s 16ms/step - loss: 7.9333e-05 - accuracy: 0.0068 - val_loss: 8.0460e-05 - val_accuracy: 0.0071\n",
            "Epoch 24/100\n",
            "545/545 [==============================] - 9s 16ms/step - loss: 7.9349e-05 - accuracy: 0.0068 - val_loss: 8.0460e-05 - val_accuracy: 0.0071\n",
            "Epoch 25/100\n",
            "545/545 [==============================] - 9s 16ms/step - loss: 7.9330e-05 - accuracy: 0.0068 - val_loss: 8.0460e-05 - val_accuracy: 0.0071\n",
            "Epoch 26/100\n",
            "545/545 [==============================] - 9s 16ms/step - loss: 7.9325e-05 - accuracy: 0.0068 - val_loss: 8.0460e-05 - val_accuracy: 0.0071\n",
            "Epoch 27/100\n",
            "545/545 [==============================] - 9s 16ms/step - loss: 7.9400e-05 - accuracy: 0.0068 - val_loss: 8.0460e-05 - val_accuracy: 0.0071\n",
            "Epoch 28/100\n",
            "545/545 [==============================] - 9s 16ms/step - loss: 7.9343e-05 - accuracy: 0.0068 - val_loss: 8.0460e-05 - val_accuracy: 0.0071\n",
            "Epoch 29/100\n",
            "545/545 [==============================] - 9s 16ms/step - loss: 7.9321e-05 - accuracy: 0.0068 - val_loss: 8.0460e-05 - val_accuracy: 0.0071\n",
            "Epoch 30/100\n",
            "545/545 [==============================] - 9s 16ms/step - loss: 7.9327e-05 - accuracy: 0.0068 - val_loss: 8.0460e-05 - val_accuracy: 0.0071\n",
            "Epoch 31/100\n",
            "545/545 [==============================] - 9s 16ms/step - loss: 7.9334e-05 - accuracy: 0.0068 - val_loss: 8.0460e-05 - val_accuracy: 0.0071\n",
            "Epoch 32/100\n",
            "545/545 [==============================] - 9s 16ms/step - loss: 7.9332e-05 - accuracy: 0.0068 - val_loss: 8.0460e-05 - val_accuracy: 0.0071\n",
            "Epoch 33/100\n",
            "545/545 [==============================] - 9s 16ms/step - loss: 7.9355e-05 - accuracy: 0.0068 - val_loss: 8.0460e-05 - val_accuracy: 0.0071\n",
            "Epoch 34/100\n",
            "545/545 [==============================] - 9s 16ms/step - loss: 7.9361e-05 - accuracy: 0.0068 - val_loss: 8.0460e-05 - val_accuracy: 0.0071\n",
            "Epoch 35/100\n",
            "545/545 [==============================] - 9s 16ms/step - loss: 7.9376e-05 - accuracy: 0.0068 - val_loss: 8.0460e-05 - val_accuracy: 0.0071\n",
            "Epoch 36/100\n",
            "545/545 [==============================] - 9s 16ms/step - loss: 7.9378e-05 - accuracy: 0.0068 - val_loss: 8.0460e-05 - val_accuracy: 0.0071\n",
            "Epoch 37/100\n",
            "545/545 [==============================] - 9s 16ms/step - loss: 7.9336e-05 - accuracy: 0.0068 - val_loss: 8.0460e-05 - val_accuracy: 0.0071\n",
            "Epoch 38/100\n",
            "545/545 [==============================] - 9s 16ms/step - loss: 7.9342e-05 - accuracy: 0.0068 - val_loss: 8.0460e-05 - val_accuracy: 0.0071\n",
            "Epoch 39/100\n",
            "545/545 [==============================] - 9s 16ms/step - loss: 7.9342e-05 - accuracy: 0.0068 - val_loss: 8.0460e-05 - val_accuracy: 0.0071\n",
            "Epoch 40/100\n",
            "545/545 [==============================] - 9s 16ms/step - loss: 7.9337e-05 - accuracy: 0.0068 - val_loss: 8.0460e-05 - val_accuracy: 0.0071\n",
            "Epoch 41/100\n",
            "545/545 [==============================] - 9s 16ms/step - loss: 7.9309e-05 - accuracy: 0.0068 - val_loss: 8.0460e-05 - val_accuracy: 0.0071\n",
            "Epoch 42/100\n",
            "545/545 [==============================] - 9s 16ms/step - loss: 7.9363e-05 - accuracy: 0.0068 - val_loss: 8.0460e-05 - val_accuracy: 0.0071\n",
            "Epoch 43/100\n",
            "545/545 [==============================] - 9s 17ms/step - loss: 7.9363e-05 - accuracy: 0.0068 - val_loss: 8.0460e-05 - val_accuracy: 0.0071\n",
            "Epoch 44/100\n",
            "545/545 [==============================] - 9s 17ms/step - loss: 7.9351e-05 - accuracy: 0.0068 - val_loss: 8.0460e-05 - val_accuracy: 0.0071\n",
            "Epoch 45/100\n",
            "545/545 [==============================] - 9s 16ms/step - loss: 7.9404e-05 - accuracy: 0.0068 - val_loss: 8.0460e-05 - val_accuracy: 0.0071\n",
            "Epoch 46/100\n",
            "545/545 [==============================] - 9s 16ms/step - loss: 7.9372e-05 - accuracy: 0.0068 - val_loss: 8.0460e-05 - val_accuracy: 0.0071\n",
            "Epoch 47/100\n",
            "545/545 [==============================] - 9s 16ms/step - loss: 7.9361e-05 - accuracy: 0.0068 - val_loss: 8.0460e-05 - val_accuracy: 0.0071\n",
            "Epoch 48/100\n",
            "545/545 [==============================] - 9s 16ms/step - loss: 7.9349e-05 - accuracy: 0.0068 - val_loss: 8.0460e-05 - val_accuracy: 0.0071\n",
            "Epoch 49/100\n",
            "545/545 [==============================] - 9s 16ms/step - loss: 7.9347e-05 - accuracy: 0.0068 - val_loss: 8.0460e-05 - val_accuracy: 0.0071\n",
            "Epoch 50/100\n",
            "545/545 [==============================] - 9s 16ms/step - loss: 7.9340e-05 - accuracy: 0.0068 - val_loss: 8.0460e-05 - val_accuracy: 0.0071\n",
            "Epoch 51/100\n",
            "545/545 [==============================] - 9s 16ms/step - loss: 7.9329e-05 - accuracy: 0.0068 - val_loss: 8.0460e-05 - val_accuracy: 0.0071\n",
            "Epoch 52/100\n",
            "545/545 [==============================] - 9s 16ms/step - loss: 7.9319e-05 - accuracy: 0.0068 - val_loss: 8.0460e-05 - val_accuracy: 0.0071\n",
            "Epoch 53/100\n",
            "545/545 [==============================] - 9s 16ms/step - loss: 7.9337e-05 - accuracy: 0.0068 - val_loss: 8.0460e-05 - val_accuracy: 0.0071\n",
            "Epoch 54/100\n",
            "545/545 [==============================] - 9s 16ms/step - loss: 7.9381e-05 - accuracy: 0.0068 - val_loss: 8.0460e-05 - val_accuracy: 0.0071\n",
            "Epoch 55/100\n",
            "545/545 [==============================] - 9s 16ms/step - loss: 7.9328e-05 - accuracy: 0.0068 - val_loss: 8.0460e-05 - val_accuracy: 0.0071\n",
            "Epoch 56/100\n",
            "545/545 [==============================] - 9s 16ms/step - loss: 7.9344e-05 - accuracy: 0.0068 - val_loss: 8.0460e-05 - val_accuracy: 0.0071\n",
            "Epoch 57/100\n",
            "545/545 [==============================] - 9s 16ms/step - loss: 7.9323e-05 - accuracy: 0.0068 - val_loss: 8.0460e-05 - val_accuracy: 0.0071\n",
            "Epoch 58/100\n",
            "545/545 [==============================] - 9s 16ms/step - loss: 7.9334e-05 - accuracy: 0.0068 - val_loss: 8.0460e-05 - val_accuracy: 0.0071\n",
            "Epoch 59/100\n",
            "545/545 [==============================] - 9s 16ms/step - loss: 7.9348e-05 - accuracy: 0.0068 - val_loss: 8.0460e-05 - val_accuracy: 0.0071\n",
            "Epoch 60/100\n",
            "545/545 [==============================] - 9s 16ms/step - loss: 7.9335e-05 - accuracy: 0.0068 - val_loss: 8.0460e-05 - val_accuracy: 0.0071\n",
            "Epoch 61/100\n",
            "545/545 [==============================] - 9s 16ms/step - loss: 7.9339e-05 - accuracy: 0.0068 - val_loss: 8.0460e-05 - val_accuracy: 0.0071\n",
            "Epoch 62/100\n",
            "545/545 [==============================] - 9s 16ms/step - loss: 7.9339e-05 - accuracy: 0.0068 - val_loss: 8.0460e-05 - val_accuracy: 0.0071\n",
            "Epoch 63/100\n",
            "545/545 [==============================] - 9s 16ms/step - loss: 7.9360e-05 - accuracy: 0.0068 - val_loss: 8.0460e-05 - val_accuracy: 0.0071\n",
            "Epoch 64/100\n",
            "545/545 [==============================] - 9s 16ms/step - loss: 7.9357e-05 - accuracy: 0.0068 - val_loss: 8.0460e-05 - val_accuracy: 0.0071\n",
            "Epoch 65/100\n",
            "545/545 [==============================] - 9s 16ms/step - loss: 7.9334e-05 - accuracy: 0.0068 - val_loss: 8.0460e-05 - val_accuracy: 0.0071\n",
            "Epoch 66/100\n",
            "545/545 [==============================] - 9s 16ms/step - loss: 7.9339e-05 - accuracy: 0.0068 - val_loss: 8.0460e-05 - val_accuracy: 0.0071\n",
            "Epoch 67/100\n",
            "545/545 [==============================] - 9s 16ms/step - loss: 7.9334e-05 - accuracy: 0.0068 - val_loss: 8.0460e-05 - val_accuracy: 0.0071\n",
            "Epoch 68/100\n",
            "545/545 [==============================] - 9s 16ms/step - loss: 7.9348e-05 - accuracy: 0.0068 - val_loss: 8.0460e-05 - val_accuracy: 0.0071\n",
            "Epoch 69/100\n",
            "545/545 [==============================] - 9s 16ms/step - loss: 7.9342e-05 - accuracy: 0.0068 - val_loss: 8.0460e-05 - val_accuracy: 0.0071\n",
            "Epoch 70/100\n",
            "545/545 [==============================] - 9s 16ms/step - loss: 7.9325e-05 - accuracy: 0.0068 - val_loss: 8.0460e-05 - val_accuracy: 0.0071\n",
            "Epoch 71/100\n",
            "545/545 [==============================] - 9s 16ms/step - loss: 7.9316e-05 - accuracy: 0.0068 - val_loss: 8.0460e-05 - val_accuracy: 0.0071\n",
            "Epoch 72/100\n",
            "545/545 [==============================] - 9s 16ms/step - loss: 7.9340e-05 - accuracy: 0.0068 - val_loss: 8.0460e-05 - val_accuracy: 0.0071\n",
            "Epoch 73/100\n",
            "545/545 [==============================] - 9s 16ms/step - loss: 7.9336e-05 - accuracy: 0.0068 - val_loss: 8.0460e-05 - val_accuracy: 0.0071\n",
            "Epoch 74/100\n",
            "545/545 [==============================] - 9s 16ms/step - loss: 7.9344e-05 - accuracy: 0.0068 - val_loss: 8.0460e-05 - val_accuracy: 0.0071\n",
            "Epoch 75/100\n",
            "545/545 [==============================] - 9s 16ms/step - loss: 7.9318e-05 - accuracy: 0.0068 - val_loss: 8.0460e-05 - val_accuracy: 0.0071\n",
            "Epoch 76/100\n",
            "545/545 [==============================] - 9s 16ms/step - loss: 7.9326e-05 - accuracy: 0.0068 - val_loss: 8.0460e-05 - val_accuracy: 0.0071\n",
            "Epoch 77/100\n",
            "545/545 [==============================] - 9s 16ms/step - loss: 7.9338e-05 - accuracy: 0.0068 - val_loss: 8.0460e-05 - val_accuracy: 0.0071\n",
            "Epoch 78/100\n",
            "545/545 [==============================] - 9s 16ms/step - loss: 7.9361e-05 - accuracy: 0.0068 - val_loss: 8.0460e-05 - val_accuracy: 0.0071\n",
            "Epoch 79/100\n",
            "545/545 [==============================] - 9s 17ms/step - loss: 7.9343e-05 - accuracy: 0.0068 - val_loss: 8.0460e-05 - val_accuracy: 0.0071\n",
            "Epoch 80/100\n",
            "545/545 [==============================] - 9s 16ms/step - loss: 7.9385e-05 - accuracy: 0.0068 - val_loss: 8.0460e-05 - val_accuracy: 0.0071\n",
            "Epoch 81/100\n",
            "545/545 [==============================] - 9s 16ms/step - loss: 7.9369e-05 - accuracy: 0.0068 - val_loss: 8.0460e-05 - val_accuracy: 0.0071\n",
            "Epoch 82/100\n",
            "545/545 [==============================] - 9s 16ms/step - loss: 7.9342e-05 - accuracy: 0.0068 - val_loss: 8.0460e-05 - val_accuracy: 0.0071\n",
            "Epoch 83/100\n",
            "545/545 [==============================] - 9s 16ms/step - loss: 7.9350e-05 - accuracy: 0.0068 - val_loss: 8.0460e-05 - val_accuracy: 0.0071\n",
            "Epoch 84/100\n",
            "545/545 [==============================] - 9s 16ms/step - loss: 7.9324e-05 - accuracy: 0.0068 - val_loss: 8.0460e-05 - val_accuracy: 0.0071\n",
            "Epoch 85/100\n",
            "545/545 [==============================] - 9s 16ms/step - loss: 7.9316e-05 - accuracy: 0.0068 - val_loss: 8.0460e-05 - val_accuracy: 0.0071\n",
            "Epoch 86/100\n",
            "545/545 [==============================] - 9s 16ms/step - loss: 7.9339e-05 - accuracy: 0.0068 - val_loss: 8.0460e-05 - val_accuracy: 0.0071\n",
            "Epoch 87/100\n",
            "545/545 [==============================] - 9s 16ms/step - loss: 7.9327e-05 - accuracy: 0.0068 - val_loss: 8.0460e-05 - val_accuracy: 0.0071\n",
            "Epoch 88/100\n",
            "545/545 [==============================] - 9s 16ms/step - loss: 7.9325e-05 - accuracy: 0.0068 - val_loss: 8.0460e-05 - val_accuracy: 0.0071\n",
            "Epoch 89/100\n",
            "545/545 [==============================] - 9s 16ms/step - loss: 7.9318e-05 - accuracy: 0.0068 - val_loss: 8.0460e-05 - val_accuracy: 0.0071\n",
            "Epoch 90/100\n",
            "545/545 [==============================] - 9s 16ms/step - loss: 7.9323e-05 - accuracy: 0.0068 - val_loss: 8.0460e-05 - val_accuracy: 0.0071\n",
            "Epoch 91/100\n",
            "545/545 [==============================] - 9s 16ms/step - loss: 7.9349e-05 - accuracy: 0.0068 - val_loss: 8.0460e-05 - val_accuracy: 0.0071\n",
            "Epoch 92/100\n",
            "545/545 [==============================] - 9s 16ms/step - loss: 7.9372e-05 - accuracy: 0.0068 - val_loss: 8.0460e-05 - val_accuracy: 0.0071\n",
            "Epoch 93/100\n",
            "545/545 [==============================] - 9s 16ms/step - loss: 7.9342e-05 - accuracy: 0.0068 - val_loss: 8.0460e-05 - val_accuracy: 0.0071\n",
            "Epoch 94/100\n",
            "545/545 [==============================] - 9s 16ms/step - loss: 7.9336e-05 - accuracy: 0.0068 - val_loss: 8.0460e-05 - val_accuracy: 0.0071\n",
            "Epoch 95/100\n",
            "545/545 [==============================] - 9s 16ms/step - loss: 7.9333e-05 - accuracy: 0.0068 - val_loss: 8.0460e-05 - val_accuracy: 0.0071\n",
            "Epoch 96/100\n",
            "545/545 [==============================] - 9s 16ms/step - loss: 7.9346e-05 - accuracy: 0.0068 - val_loss: 8.0460e-05 - val_accuracy: 0.0071\n",
            "Epoch 97/100\n",
            "545/545 [==============================] - 9s 16ms/step - loss: 7.9353e-05 - accuracy: 0.0068 - val_loss: 8.0460e-05 - val_accuracy: 0.0071\n",
            "Epoch 98/100\n",
            "545/545 [==============================] - 9s 16ms/step - loss: 7.9353e-05 - accuracy: 0.0068 - val_loss: 8.0460e-05 - val_accuracy: 0.0071\n",
            "Epoch 99/100\n",
            "545/545 [==============================] - 9s 16ms/step - loss: 7.9357e-05 - accuracy: 0.0068 - val_loss: 8.0460e-05 - val_accuracy: 0.0071\n",
            "Epoch 100/100\n",
            "545/545 [==============================] - 9s 16ms/step - loss: 7.9356e-05 - accuracy: 0.0068 - val_loss: 8.0460e-05 - val_accuracy: 0.0071\n"
          ],
          "name": "stdout"
        }
      ]
    },
    {
      "cell_type": "markdown",
      "metadata": {
        "id": "t7jkorZCoSBk",
        "colab_type": "text"
      },
      "source": [
        "The model might have a case of vanishing gradient problem, and it's underfitting (plateauing loss) --> increase cells / increase layers"
      ]
    },
    {
      "cell_type": "code",
      "metadata": {
        "id": "QKdAkEgho-V5",
        "colab_type": "code",
        "outputId": "87d68a14-300c-449b-80e6-85e5720dc5ab",
        "colab": {
          "base_uri": "https://localhost:8080/",
          "height": 294
        }
      },
      "source": [
        "import matplotlib.pyplot as plt\n",
        "plt.plot(hist.history[\"loss\"], color=\"r\")\n",
        "plt.plot(hist.history[\"val_loss\"], color=\"b\")"
      ],
      "execution_count": 30,
      "outputs": [
        {
          "output_type": "execute_result",
          "data": {
            "text/plain": [
              "[<matplotlib.lines.Line2D at 0x7f2c686328d0>]"
            ]
          },
          "metadata": {
            "tags": []
          },
          "execution_count": 30
        },
        {
          "output_type": "display_data",
          "data": {
            "image/png": "[encoded data removed]",
            "text/plain": [
              "<Figure size 432x288 with 1 Axes>"
            ]
          },
          "metadata": {
            "tags": [],
            "needs_background": "light"
          }
        }
      ]
    },
    {
      "cell_type": "code",
      "metadata": {
        "id": "IkPphhKNjyW_",
        "colab_type": "code",
        "colab": {}
      },
      "source": [
        "encoder_model = Model(encoder_inputs, encoder_states)\n",
        "decoder_state_input_h = Input(shape=(latent_dim,))\n",
        "decoder_state_input_c = Input(shape=(latent_dim,))\n",
        "decoder_states_inputs = [decoder_state_input_h, decoder_state_input_c]\n",
        "decoder_outputs, state_h, state_c = LSTM(latent_dim, return_sequences=True, return_state=True)(\n",
        "    decoder_inputs, initial_state=decoder_states_inputs)\n",
        "decoder_states = [state_h, state_c]\n",
        "decoder_outputs = decoder_dense(decoder_outputs)\n",
        "decoder_model = Model([decoder_inputs] + decoder_states_inputs,[decoder_outputs] + decoder_states)"
      ],
      "execution_count": 0,
      "outputs": []
    },
    {
      "cell_type": "code",
      "metadata": {
        "id": "HSlDzQn_oEI6",
        "colab_type": "code",
        "outputId": "b340dfe3-02bf-4402-f8fc-6d27b48af29e",
        "colab": {
          "base_uri": "https://localhost:8080/",
          "height": 90
        }
      },
      "source": [
        "def decode_sequence(input_seq):\n",
        "    input_seq = np.expand_dims(input_seq,axis=-1)\n",
        "    states_value = encoder_model.predict(input_seq)\n",
        "\n",
        "    target_seq = np.zeros((1,1,1))\n",
        "    target_seq[0, 0, 0] = vocab_size_y - 2\n",
        "\n",
        "    # Sampling loop for a batch of sequences\n",
        "    # (to simplify, here we assume a batch of size 1).\n",
        "    stop_condition = False\n",
        "    decoded_sentence = []\n",
        "    while not stop_condition:\n",
        "        output_tokens, h, c = decoder_model.predict([target_seq] + states_value)\n",
        "\n",
        "        sampled_token_index = output_tokens[:,-1,:]\n",
        "        decoded_sentence.append(sampled_token_index[0][0])\n",
        "\n",
        "        if (sampled_token_index == vocab_size_y - 1 or len(decoded_sentence) > MAXLEN):\n",
        "            stop_condition = True\n",
        "\n",
        "        target_seq = np.zeros((1,1,1))\n",
        "        target_seq[0,0,0] = sampled_token_index\n",
        "        states_value = [h, c]\n",
        "    pred = token_y.decode([int(i) for i in decoded_sentence])\n",
        "    return pred\n",
        "index_try = 33\n",
        "input_seq = inputs_1[index_try: index_try + 1]\n",
        "pred = decode_sequence(input_seq)\n",
        "print('-')\n",
        "print('Input sentence:', token_x.decode(np.squeeze(inputs_1[index_try], axis=-1)))\n",
        "print('Decoded sentence:', pred)"
      ],
      "execution_count": 32,
      "outputs": [
        {
          "output_type": "stream",
          "text": [
            "-\n",
            "Input sentence: ill just fetch my galoshes\n",
            "Decoded sentence: the the the the the the the the the the the the the the the the the the the the the the the the the the the the the the the the the the the the the the the the the the the the the the the the the the the the the the the the the the the the the the the the the the the the the the the \n"
          ],
          "name": "stdout"
        }
      ]
    },
    {
      "cell_type": "markdown",
      "metadata": {
        "id": "lBrexeMjFF2k",
        "colab_type": "text"
      },
      "source": [
        "I can't really tell whether the model sucks or the prediction sucks, but I am going to add an embedding layer in between to help //\n",
        "https://github.com/keras-team/keras/blob/master/examples/lstm_seq2seq.py"
      ]
    }
  ]
}