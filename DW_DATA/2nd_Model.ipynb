{
  "nbformat": 4,
  "nbformat_minor": 0,
  "metadata": {
    "colab": {
      "name": "2nd_Model",
      "provenance": []
    },
    "kernelspec": {
      "name": "python3",
      "display_name": "Python 3"
    },
    "accelerator": "GPU"
  },
  "cells": [
    {
      "cell_type": "markdown",
      "metadata": {
        "id": "yCO4kZE0ztpv",
        "colab_type": "text"
      },
      "source": [
        "\n",
        "<h2>Target</h2>\n",
        "<ul>\n",
        "<li>Generative (not retrieval)</li>\n",
        "<li>Small-talk (short convos)</li>\n",
        "<li>Open Domain</li>\n",
        "<li>No context</li>\n",
        "<li>Eval [https://arxiv.org/abs/1603.08023]</li>\n",
        "</ul>\n",
        "<h2>Potential Sources of Data</h2>\n",
        "<ul>\n",
        "<li>http://files.pushshift.io/reddit/comments/</li>\n",
        "<li>https://www.cs.cornell.edu/~cristian/Cornell_Movie-Dialogs_Corpus.html</li>\n",
        "<li>https://github.com/Marsan-Ma/twitter_scraper</li>\n",
        "<li>http://dataset.cs.mcgill.ca/ubuntu-corpus-1.0/</li>\n",
        "</ul>\n",
        "<h2>Potential Models</h2>\n",
        "<h3>This Medium Article</h3>\n",
        "<ul>\n",
        "<li>https://medium.com/botsupply/generative-model-chatbots-e422ab08461e</li>\n",
        "<li>Use high LR, then reduce</li>\n",
        "<li>Reverse input sentence</li>\n",
        "<li>50 K vocab</li>\n",
        "</ul>\n",
        "<h3>LSTM Encoder Decoder</h3>\n",
        "<h2></h2>"
      ]
    },
    {
      "cell_type": "code",
      "metadata": {
        "id": "hHc7Oe-WR7VH",
        "colab_type": "code",
        "outputId": "a5517ffb-ff3c-4296-9794-8b0e43d9e5d3",
        "colab": {
          "base_uri": "https://localhost:8080/",
          "height": 52
        }
      },
      "source": [
        "%cd ..\n",
        "%cd root\n",
        "import pandas as pd\n",
        "df = pd.read_csv(\"dwdata_2.csv\")\n",
        "df.fillna('', inplace=True)"
      ],
      "execution_count": 0,
      "outputs": [
        {
          "output_type": "stream",
          "text": [
            "/\n",
            "/root\n"
          ],
          "name": "stdout"
        }
      ]
    },
    {
      "cell_type": "code",
      "metadata": {
        "id": "W-cJELvuSQ87",
        "colab_type": "code",
        "outputId": "0347a5d9-e376-481b-abfc-6b618889514b",
        "colab": {
          "base_uri": "https://localhost:8080/",
          "height": 35
        }
      },
      "source": [
        "x_1 = df[\"X_1\"].tolist()\n",
        "y_1 = df[\"Y_1\"].tolist()\n",
        "\n",
        "import tensorflow_datasets as tfds\n",
        "# from tensorflow_datasets.features.text.SubwordTextEncoder import build_from_corpus\n",
        "from tensorflow.keras.preprocessing.sequence import pad_sequences\n",
        "token_x = tfds.features.text.SubwordTextEncoder.build_from_corpus(x_1, target_vocab_size=1e12)\n",
        "token_y = tfds.features.text.SubwordTextEncoder.build_from_corpus(y_1, target_vocab_size=1e12)\n",
        "\n",
        "vocab_size_x = token_x.vocab_size\n",
        "vocab_size_y = token_y.vocab_size + 2 # adding the start and end characters\n",
        "\n",
        "inputs = [token_x.encode(sentence) for sentence in x_1]\n",
        "outputs = [[vocab_size_y - 2] + token_y.encode(sentence) + [vocab_size_y - 1] for sentence in y_1]\n",
        "\n",
        "MAXLEN = 70\n",
        "idx_to_shorten = [count for count, sent in enumerate(inputs) if len(sent) > MAXLEN]\n",
        "for idx in idx_to_shorten:\n",
        "    inputs[idx] = inputs[idx][:MAXLEN]\n",
        "    outputs[idx] = outputs[idx][:MAXLEN]\n",
        "idx_to_shorten = []\n",
        "idx_to_shorten = [count for count, sent in enumerate(outputs) if len(sent) > MAXLEN]\n",
        "for idx in idx_to_shorten:\n",
        "    inputs[idx] = inputs[idx][:MAXLEN]\n",
        "    outputs[idx] = outputs[idx][:MAXLEN]\n",
        "\n",
        "MINLEN = 4\n",
        "idx_to_delete = [count for count, sent in enumerate(inputs) if len(sent) < MINLEN]\n",
        "for idx in reversed(idx_to_delete):\n",
        "    del inputs[idx]\n",
        "    del outputs[idx]\n",
        "idx_to_delete = []\n",
        "idx_to_delete = [count for count, sent in enumerate(outputs) if len(sent) < MINLEN]\n",
        "for idx in reversed(idx_to_delete):\n",
        "    del inputs[idx]\n",
        "    del outputs[idx]\n",
        "\n",
        "inputs = pad_sequences(inputs, value=0, padding=\"post\", maxlen=MAXLEN)\n",
        "outputs = pad_sequences(outputs, value=0, padding=\"post\", maxlen=MAXLEN)\n",
        "print(\"{},{}\".format(inputs.shape,outputs.shape))"
      ],
      "execution_count": 0,
      "outputs": [
        {
          "output_type": "stream",
          "text": [
            "(9413, 70),(9413, 70)\n"
          ],
          "name": "stdout"
        }
      ]
    },
    {
      "cell_type": "code",
      "metadata": {
        "id": "mzN0BhHIslF8",
        "colab_type": "code",
        "outputId": "a71ff503-3f86-4464-840c-4f159eca5d38",
        "colab": {
          "base_uri": "https://localhost:8080/",
          "height": 35
        }
      },
      "source": [
        "token_x.decode(np.squeeze(inputs_1[0],axis=-1))"
      ],
      "execution_count": 0,
      "outputs": [
        {
          "output_type": "execute_result",
          "data": {
            "text/plain": [
              "'im pleased you two are so impressed i find the whole placehateful'"
            ]
          },
          "metadata": {
            "tags": []
          },
          "execution_count": 69
        }
      ]
    },
    {
      "cell_type": "code",
      "metadata": {
        "id": "mgTzWkZ5YSNf",
        "colab_type": "code",
        "outputId": "60d93500-2dea-45e5-b630-9a51bd5f366d",
        "colab": {
          "base_uri": "https://localhost:8080/",
          "height": 35
        }
      },
      "source": [
        "import numpy as np\n",
        "from scipy.ndimage.interpolation import shift\n",
        "inputs_1 = inputs\n",
        "inputs_2 = outputs\n",
        "outputs_1 = outputs\n",
        "outputs_1 = shift(outputs_1, [0,-1], cval=0)\n",
        "print(\"{},{}\".format(inputs_1.shape,outputs_1.shape))"
      ],
      "execution_count": 0,
      "outputs": [
        {
          "output_type": "stream",
          "text": [
            "(55455, 70),(55455, 70)\n"
          ],
          "name": "stdout"
        }
      ]
    },
    {
      "cell_type": "code",
      "metadata": {
        "id": "7_nyvc1mgeQw",
        "colab_type": "code",
        "outputId": "c01e52de-1133-43d5-f79e-ce039a475079",
        "colab": {
          "base_uri": "https://localhost:8080/",
          "height": 124
        }
      },
      "source": [
        "print(inputs_1[20,:20])\n",
        "print(inputs_2[20,:20])\n",
        "print(outputs_1[20,:20])"
      ],
      "execution_count": 0,
      "outputs": [
        {
          "output_type": "stream",
          "text": [
            "[  22    7   24  716   92 3330   17   40  381    3   34  273   50    0\n",
            "    0    0    0    0    0    0]\n",
            "[44307    22    14   726    28     4 18915   267  1505    32     4   407\n",
            "    72     5  1346   646     3    89     5   371]\n",
            "[   22    14   726    28     4 18915   267  1505    32     4   407    72\n",
            "     5  1346   646     3    89     5   371  2078]\n"
          ],
          "name": "stdout"
        }
      ]
    },
    {
      "cell_type": "code",
      "metadata": {
        "id": "LRDEL7Uxh4bY",
        "colab_type": "code",
        "outputId": "83252ea5-32ba-4420-eab6-80fde88f5c0e",
        "colab": {
          "base_uri": "https://localhost:8080/",
          "height": 204
        }
      },
      "source": [
        "inputs_1 = np.expand_dims(inputs_1,axis=-1)\n",
        "inputs_2 = np.expand_dims(inputs_2,axis=-1)\n",
        "outputs_1 = np.expand_dims(outputs_1,axis=-1)"
      ],
      "execution_count": 0,
      "outputs": [
        {
          "output_type": "error",
          "ename": "NameError",
          "evalue": "ignored",
          "traceback": [
            "\u001b[0;31m---------------------------------------------------------------------------\u001b[0m",
            "\u001b[0;31mNameError\u001b[0m                                 Traceback (most recent call last)",
            "\u001b[0;32m<ipython-input-1-6856365723f9>\u001b[0m in \u001b[0;36m<module>\u001b[0;34m()\u001b[0m\n\u001b[0;32m----> 1\u001b[0;31m \u001b[0minputs_1\u001b[0m \u001b[0;34m=\u001b[0m \u001b[0mnp\u001b[0m\u001b[0;34m.\u001b[0m\u001b[0mexpand_dims\u001b[0m\u001b[0;34m(\u001b[0m\u001b[0minputs_1\u001b[0m\u001b[0;34m,\u001b[0m\u001b[0maxis\u001b[0m\u001b[0;34m=\u001b[0m\u001b[0;34m-\u001b[0m\u001b[0;36m1\u001b[0m\u001b[0;34m)\u001b[0m\u001b[0;34m\u001b[0m\u001b[0;34m\u001b[0m\u001b[0m\n\u001b[0m\u001b[1;32m      2\u001b[0m \u001b[0minputs_2\u001b[0m \u001b[0;34m=\u001b[0m \u001b[0mnp\u001b[0m\u001b[0;34m.\u001b[0m\u001b[0mexpand_dims\u001b[0m\u001b[0;34m(\u001b[0m\u001b[0minputs_2\u001b[0m\u001b[0;34m,\u001b[0m\u001b[0maxis\u001b[0m\u001b[0;34m=\u001b[0m\u001b[0;34m-\u001b[0m\u001b[0;36m1\u001b[0m\u001b[0;34m)\u001b[0m\u001b[0;34m\u001b[0m\u001b[0;34m\u001b[0m\u001b[0m\n\u001b[1;32m      3\u001b[0m \u001b[0moutputs_1\u001b[0m \u001b[0;34m=\u001b[0m \u001b[0mnp\u001b[0m\u001b[0;34m.\u001b[0m\u001b[0mexpand_dims\u001b[0m\u001b[0;34m(\u001b[0m\u001b[0moutputs_1\u001b[0m\u001b[0;34m,\u001b[0m\u001b[0maxis\u001b[0m\u001b[0;34m=\u001b[0m\u001b[0;34m-\u001b[0m\u001b[0;36m1\u001b[0m\u001b[0;34m)\u001b[0m\u001b[0;34m\u001b[0m\u001b[0;34m\u001b[0m\u001b[0m\n",
            "\u001b[0;31mNameError\u001b[0m: name 'np' is not defined"
          ]
        }
      ]
    },
    {
      "cell_type": "code",
      "metadata": {
        "id": "ryL02M2_OT6b",
        "colab_type": "code",
        "colab": {}
      },
      "source": [
        "latent_dim = 128\n",
        "batch_size = 32\n",
        "epochs = 100"
      ],
      "execution_count": 0,
      "outputs": []
    },
    {
      "cell_type": "code",
      "metadata": {
        "id": "WC2oxeFbimAl",
        "colab_type": "code",
        "outputId": "fb36b6d0-be1d-4af4-fe56-ec01e016fe45",
        "colab": {
          "base_uri": "https://localhost:8080/",
          "height": 35
        }
      },
      "source": [
        "print(\"{},{}\".format(vocab_size_x,vocab_size_y))"
      ],
      "execution_count": 0,
      "outputs": [
        {
          "output_type": "stream",
          "text": [
            "37090,44309\n"
          ],
          "name": "stdout"
        }
      ]
    },
    {
      "cell_type": "code",
      "metadata": {
        "id": "uW40jyTJIdKK",
        "colab_type": "code",
        "outputId": "fbeb0d8e-3cfc-4d4e-8526-d9733bfe5252",
        "colab": {
          "base_uri": "https://localhost:8080/",
          "height": 1000
        }
      },
      "source": [
        "#We do the most basic one\n",
        "from tensorflow.keras.models import Model\n",
        "from tensorflow.keras.layers import Input, LSTM, Dense\n",
        "\n",
        "encoder_inputs = Input(shape=(None,1))\n",
        "encoder_outputs, state_h, state_c = LSTM(latent_dim, return_state=True)(encoder_inputs)\n",
        "encoder_states = [state_h, state_c]\n",
        "\n",
        "decoder_inputs = Input(shape=(None,1))\n",
        "decoder_outputs, _, _ = LSTM(latent_dim, return_sequences=True, return_state=True)(decoder_inputs,\n",
        "                                     initial_state=encoder_states)\n",
        "decoder_dense = Dense(1, activation='softmax')\n",
        "decoder_outputs = decoder_dense(decoder_outputs)\n",
        "\n",
        "model = Model([encoder_inputs, decoder_inputs], decoder_outputs)\n",
        "\n",
        "model.compile(optimizer='rmsprop', loss='categorical_crossentropy')\n",
        "hist = model.fit([inputs_1, inputs_2], outputs_1,batch_size=batch_size,epochs=epochs,validation_split=0.2)\n",
        "model.save(\"2nd_m.h5\")"
      ],
      "execution_count": 0,
      "outputs": [
        {
          "output_type": "stream",
          "text": [
            "Epoch 1/100\n",
            "1387/1387 [==============================] - 17s 12ms/step - loss: 1.1644e-04 - val_loss: 1.1677e-04\n",
            "Epoch 2/100\n",
            "1387/1387 [==============================] - 16s 12ms/step - loss: 1.1645e-04 - val_loss: 1.1677e-04\n",
            "Epoch 3/100\n",
            "1387/1387 [==============================] - 16s 12ms/step - loss: 1.1646e-04 - val_loss: 1.1677e-04\n",
            "Epoch 4/100\n",
            "1387/1387 [==============================] - 16s 12ms/step - loss: 1.1644e-04 - val_loss: 1.1677e-04\n",
            "Epoch 5/100\n",
            "1387/1387 [==============================] - 16s 12ms/step - loss: 1.1645e-04 - val_loss: 1.1677e-04\n",
            "Epoch 6/100\n",
            "1387/1387 [==============================] - 16s 12ms/step - loss: 1.1645e-04 - val_loss: 1.1677e-04\n",
            "Epoch 7/100\n",
            "1387/1387 [==============================] - 16s 12ms/step - loss: 1.1644e-04 - val_loss: 1.1677e-04\n",
            "Epoch 8/100\n",
            "1387/1387 [==============================] - 16s 12ms/step - loss: 1.1645e-04 - val_loss: 1.1677e-04\n",
            "Epoch 9/100\n",
            "1387/1387 [==============================] - 16s 12ms/step - loss: 1.1645e-04 - val_loss: 1.1677e-04\n",
            "Epoch 10/100\n",
            "1387/1387 [==============================] - 16s 12ms/step - loss: 1.1645e-04 - val_loss: 1.1677e-04\n",
            "Epoch 11/100\n",
            "1387/1387 [==============================] - 16s 12ms/step - loss: 1.1646e-04 - val_loss: 1.1677e-04\n",
            "Epoch 12/100\n",
            "1387/1387 [==============================] - 16s 12ms/step - loss: 1.1644e-04 - val_loss: 1.1677e-04\n",
            "Epoch 13/100\n",
            "1387/1387 [==============================] - 16s 12ms/step - loss: 1.1645e-04 - val_loss: 1.1677e-04\n",
            "Epoch 14/100\n",
            "1387/1387 [==============================] - 16s 12ms/step - loss: 1.1644e-04 - val_loss: 1.1677e-04\n",
            "Epoch 15/100\n",
            "1387/1387 [==============================] - 16s 12ms/step - loss: 1.1644e-04 - val_loss: 1.1677e-04\n",
            "Epoch 16/100\n",
            "1387/1387 [==============================] - 16s 12ms/step - loss: 1.1645e-04 - val_loss: 1.1677e-04\n",
            "Epoch 17/100\n",
            "1387/1387 [==============================] - 16s 12ms/step - loss: 1.1645e-04 - val_loss: 1.1677e-04\n",
            "Epoch 18/100\n",
            "1387/1387 [==============================] - 16s 12ms/step - loss: 1.1644e-04 - val_loss: 1.1677e-04\n",
            "Epoch 19/100\n",
            "1387/1387 [==============================] - 16s 12ms/step - loss: 1.1645e-04 - val_loss: 1.1677e-04\n",
            "Epoch 20/100\n",
            "1387/1387 [==============================] - 16s 12ms/step - loss: 1.1646e-04 - val_loss: 1.1677e-04\n",
            "Epoch 21/100\n",
            "1387/1387 [==============================] - 16s 12ms/step - loss: 1.1645e-04 - val_loss: 1.1677e-04\n",
            "Epoch 22/100\n",
            "1387/1387 [==============================] - 16s 12ms/step - loss: 1.1644e-04 - val_loss: 1.1677e-04\n",
            "Epoch 23/100\n",
            "1387/1387 [==============================] - 16s 12ms/step - loss: 1.1646e-04 - val_loss: 1.1677e-04\n",
            "Epoch 24/100\n",
            "1387/1387 [==============================] - 16s 12ms/step - loss: 1.1645e-04 - val_loss: 1.1677e-04\n",
            "Epoch 25/100\n",
            "1387/1387 [==============================] - 16s 12ms/step - loss: 1.1645e-04 - val_loss: 1.1677e-04\n",
            "Epoch 26/100\n",
            "1387/1387 [==============================] - 16s 12ms/step - loss: 1.1646e-04 - val_loss: 1.1677e-04\n",
            "Epoch 27/100\n",
            "1387/1387 [==============================] - 16s 12ms/step - loss: 1.1645e-04 - val_loss: 1.1677e-04\n",
            "Epoch 28/100\n",
            "1387/1387 [==============================] - 16s 12ms/step - loss: 1.1645e-04 - val_loss: 1.1677e-04\n",
            "Epoch 29/100\n",
            "1387/1387 [==============================] - 16s 12ms/step - loss: 1.1645e-04 - val_loss: 1.1677e-04\n",
            "Epoch 30/100\n",
            "1387/1387 [==============================] - 16s 12ms/step - loss: 1.1644e-04 - val_loss: 1.1677e-04\n",
            "Epoch 31/100\n",
            "1387/1387 [==============================] - 16s 12ms/step - loss: 1.1645e-04 - val_loss: 1.1677e-04\n",
            "Epoch 32/100\n",
            "1387/1387 [==============================] - 16s 12ms/step - loss: 1.1644e-04 - val_loss: 1.1677e-04\n",
            "Epoch 33/100\n",
            "1387/1387 [==============================] - 16s 12ms/step - loss: 1.1644e-04 - val_loss: 1.1677e-04\n",
            "Epoch 34/100\n",
            "1387/1387 [==============================] - 16s 12ms/step - loss: 1.1644e-04 - val_loss: 1.1677e-04\n",
            "Epoch 35/100\n",
            "1387/1387 [==============================] - 16s 12ms/step - loss: 1.1646e-04 - val_loss: 1.1677e-04\n",
            "Epoch 36/100\n",
            "1387/1387 [==============================] - 17s 12ms/step - loss: 1.1645e-04 - val_loss: 1.1677e-04\n",
            "Epoch 37/100\n",
            "1387/1387 [==============================] - 16s 12ms/step - loss: 1.1645e-04 - val_loss: 1.1677e-04\n",
            "Epoch 38/100\n",
            "1387/1387 [==============================] - 16s 12ms/step - loss: 1.1645e-04 - val_loss: 1.1677e-04\n",
            "Epoch 39/100\n",
            "1387/1387 [==============================] - 16s 12ms/step - loss: 1.1645e-04 - val_loss: 1.1677e-04\n",
            "Epoch 40/100\n",
            "1387/1387 [==============================] - 16s 12ms/step - loss: 1.1645e-04 - val_loss: 1.1677e-04\n",
            "Epoch 41/100\n",
            "1387/1387 [==============================] - 16s 12ms/step - loss: 1.1644e-04 - val_loss: 1.1677e-04\n",
            "Epoch 42/100\n",
            "1387/1387 [==============================] - 16s 12ms/step - loss: 1.1644e-04 - val_loss: 1.1677e-04\n",
            "Epoch 43/100\n",
            "1387/1387 [==============================] - 16s 12ms/step - loss: 1.1646e-04 - val_loss: 1.1677e-04\n",
            "Epoch 44/100\n",
            "1387/1387 [==============================] - 16s 12ms/step - loss: 1.1645e-04 - val_loss: 1.1677e-04\n",
            "Epoch 45/100\n",
            "1387/1387 [==============================] - 16s 12ms/step - loss: 1.1646e-04 - val_loss: 1.1677e-04\n",
            "Epoch 46/100\n",
            "1387/1387 [==============================] - 16s 12ms/step - loss: 1.1645e-04 - val_loss: 1.1677e-04\n",
            "Epoch 47/100\n",
            "1387/1387 [==============================] - 16s 12ms/step - loss: 1.1645e-04 - val_loss: 1.1677e-04\n",
            "Epoch 48/100\n",
            "1387/1387 [==============================] - 16s 12ms/step - loss: 1.1644e-04 - val_loss: 1.1677e-04\n",
            "Epoch 49/100\n",
            "1387/1387 [==============================] - 16s 12ms/step - loss: 1.1646e-04 - val_loss: 1.1677e-04\n",
            "Epoch 50/100\n",
            "1387/1387 [==============================] - 16s 12ms/step - loss: 1.1646e-04 - val_loss: 1.1677e-04\n",
            "Epoch 51/100\n",
            "1387/1387 [==============================] - 16s 12ms/step - loss: 1.1646e-04 - val_loss: 1.1677e-04\n",
            "Epoch 52/100\n",
            "1387/1387 [==============================] - 16s 12ms/step - loss: 1.1645e-04 - val_loss: 1.1677e-04\n",
            "Epoch 53/100\n",
            "1387/1387 [==============================] - 16s 12ms/step - loss: 1.1645e-04 - val_loss: 1.1677e-04\n",
            "Epoch 54/100\n",
            "1387/1387 [==============================] - 16s 12ms/step - loss: 1.1644e-04 - val_loss: 1.1677e-04\n",
            "Epoch 55/100\n",
            "1387/1387 [==============================] - 16s 12ms/step - loss: 1.1645e-04 - val_loss: 1.1677e-04\n",
            "Epoch 56/100\n",
            "1387/1387 [==============================] - 16s 12ms/step - loss: 1.1645e-04 - val_loss: 1.1677e-04\n",
            "Epoch 57/100\n",
            "1387/1387 [==============================] - 16s 12ms/step - loss: 1.1646e-04 - val_loss: 1.1677e-04\n",
            "Epoch 58/100\n",
            "1387/1387 [==============================] - 16s 12ms/step - loss: 1.1645e-04 - val_loss: 1.1677e-04\n",
            "Epoch 59/100\n",
            "1387/1387 [==============================] - 16s 12ms/step - loss: 1.1645e-04 - val_loss: 1.1677e-04\n",
            "Epoch 60/100\n",
            "1387/1387 [==============================] - 16s 12ms/step - loss: 1.1646e-04 - val_loss: 1.1677e-04\n",
            "Epoch 61/100\n",
            "1387/1387 [==============================] - 16s 12ms/step - loss: 1.1645e-04 - val_loss: 1.1677e-04\n",
            "Epoch 62/100\n",
            "1387/1387 [==============================] - 16s 12ms/step - loss: 1.1645e-04 - val_loss: 1.1677e-04\n",
            "Epoch 63/100\n",
            "1387/1387 [==============================] - 16s 12ms/step - loss: 1.1644e-04 - val_loss: 1.1677e-04\n",
            "Epoch 64/100\n",
            "1387/1387 [==============================] - 16s 12ms/step - loss: 1.1644e-04 - val_loss: 1.1677e-04\n",
            "Epoch 65/100\n",
            "1387/1387 [==============================] - 16s 12ms/step - loss: 1.1644e-04 - val_loss: 1.1677e-04\n",
            "Epoch 66/100\n",
            "1387/1387 [==============================] - 16s 12ms/step - loss: 1.1645e-04 - val_loss: 1.1677e-04\n",
            "Epoch 67/100\n",
            "1387/1387 [==============================] - 16s 12ms/step - loss: 1.1645e-04 - val_loss: 1.1677e-04\n",
            "Epoch 68/100\n",
            "1387/1387 [==============================] - 16s 12ms/step - loss: 1.1645e-04 - val_loss: 1.1677e-04\n",
            "Epoch 69/100\n",
            "1387/1387 [==============================] - 16s 12ms/step - loss: 1.1645e-04 - val_loss: 1.1677e-04\n",
            "Epoch 70/100\n",
            "1387/1387 [==============================] - 16s 12ms/step - loss: 1.1646e-04 - val_loss: 1.1677e-04\n",
            "Epoch 71/100\n",
            "1387/1387 [==============================] - 16s 12ms/step - loss: 1.1644e-04 - val_loss: 1.1677e-04\n",
            "Epoch 72/100\n",
            "1387/1387 [==============================] - 17s 12ms/step - loss: 1.1645e-04 - val_loss: 1.1677e-04\n",
            "Epoch 73/100\n",
            "1387/1387 [==============================] - 16s 12ms/step - loss: 1.1645e-04 - val_loss: 1.1677e-04\n",
            "Epoch 74/100\n",
            "1387/1387 [==============================] - 16s 12ms/step - loss: 1.1645e-04 - val_loss: 1.1677e-04\n",
            "Epoch 75/100\n",
            "1387/1387 [==============================] - 16s 12ms/step - loss: 1.1646e-04 - val_loss: 1.1677e-04\n",
            "Epoch 76/100\n",
            "1387/1387 [==============================] - 16s 12ms/step - loss: 1.1644e-04 - val_loss: 1.1677e-04\n",
            "Epoch 77/100\n",
            "1387/1387 [==============================] - 16s 12ms/step - loss: 1.1646e-04 - val_loss: 1.1677e-04\n",
            "Epoch 78/100\n",
            "1387/1387 [==============================] - 16s 12ms/step - loss: 1.1645e-04 - val_loss: 1.1677e-04\n",
            "Epoch 79/100\n",
            "1387/1387 [==============================] - 16s 12ms/step - loss: 1.1645e-04 - val_loss: 1.1677e-04\n",
            "Epoch 80/100\n",
            "1387/1387 [==============================] - 16s 12ms/step - loss: 1.1647e-04 - val_loss: 1.1677e-04\n",
            "Epoch 81/100\n",
            "1387/1387 [==============================] - 16s 12ms/step - loss: 1.1645e-04 - val_loss: 1.1677e-04\n",
            "Epoch 82/100\n",
            "1387/1387 [==============================] - 16s 12ms/step - loss: 1.1645e-04 - val_loss: 1.1677e-04\n",
            "Epoch 83/100\n",
            "1387/1387 [==============================] - 16s 12ms/step - loss: 1.1644e-04 - val_loss: 1.1677e-04\n",
            "Epoch 84/100\n",
            "1387/1387 [==============================] - 16s 12ms/step - loss: 1.1644e-04 - val_loss: 1.1677e-04\n",
            "Epoch 85/100\n",
            "1387/1387 [==============================] - 16s 12ms/step - loss: 1.1644e-04 - val_loss: 1.1677e-04\n",
            "Epoch 86/100\n",
            "1387/1387 [==============================] - 16s 12ms/step - loss: 1.1645e-04 - val_loss: 1.1677e-04\n",
            "Epoch 87/100\n",
            "1387/1387 [==============================] - 16s 12ms/step - loss: 1.1645e-04 - val_loss: 1.1677e-04\n",
            "Epoch 88/100\n",
            "1387/1387 [==============================] - 16s 12ms/step - loss: 1.1644e-04 - val_loss: 1.1677e-04\n",
            "Epoch 89/100\n",
            "1387/1387 [==============================] - 16s 12ms/step - loss: 1.1646e-04 - val_loss: 1.1677e-04\n",
            "Epoch 90/100\n",
            "1387/1387 [==============================] - 16s 12ms/step - loss: 1.1646e-04 - val_loss: 1.1677e-04\n",
            "Epoch 91/100\n",
            "1387/1387 [==============================] - 16s 12ms/step - loss: 1.1645e-04 - val_loss: 1.1677e-04\n",
            "Epoch 92/100\n",
            "1387/1387 [==============================] - 16s 12ms/step - loss: 1.1644e-04 - val_loss: 1.1677e-04\n",
            "Epoch 93/100\n",
            "1387/1387 [==============================] - 16s 12ms/step - loss: 1.1644e-04 - val_loss: 1.1677e-04\n",
            "Epoch 94/100\n",
            "1387/1387 [==============================] - 16s 12ms/step - loss: 1.1645e-04 - val_loss: 1.1677e-04\n",
            "Epoch 95/100\n",
            "1387/1387 [==============================] - 16s 12ms/step - loss: 1.1645e-04 - val_loss: 1.1677e-04\n",
            "Epoch 96/100\n",
            "1387/1387 [==============================] - 16s 12ms/step - loss: 1.1645e-04 - val_loss: 1.1677e-04\n",
            "Epoch 97/100\n",
            "1387/1387 [==============================] - 16s 12ms/step - loss: 1.1645e-04 - val_loss: 1.1677e-04\n",
            "Epoch 98/100\n",
            "1387/1387 [==============================] - 16s 12ms/step - loss: 1.1644e-04 - val_loss: 1.1677e-04\n",
            "Epoch 99/100\n",
            "1387/1387 [==============================] - 16s 12ms/step - loss: 1.1645e-04 - val_loss: 1.1677e-04\n",
            "Epoch 100/100\n",
            "1387/1387 [==============================] - 16s 12ms/step - loss: 1.1645e-04 - val_loss: 1.1677e-04\n"
          ],
          "name": "stdout"
        }
      ]
    },
    {
      "cell_type": "markdown",
      "metadata": {
        "id": "t7jkorZCoSBk",
        "colab_type": "text"
      },
      "source": [
        "The model might have a case of vanishing gradient problem, and it's underfitting (plateauing loss) --> increase cells / increase layers"
      ]
    },
    {
      "cell_type": "code",
      "metadata": {
        "id": "QKdAkEgho-V5",
        "colab_type": "code",
        "outputId": "c5b3d729-5280-4308-a4f1-7681dab12bd4",
        "colab": {
          "base_uri": "https://localhost:8080/",
          "height": 283
        }
      },
      "source": [
        "import matplotlib.pyplot as plt\n",
        "plt.plot(hist.history[\"loss\"], color=\"r\")\n",
        "plt.plot(hist.history[\"val_loss\"], color=\"b\")"
      ],
      "execution_count": 0,
      "outputs": [
        {
          "output_type": "execute_result",
          "data": {
            "text/plain": [
              "[<matplotlib.lines.Line2D at 0x7f4e125903c8>]"
            ]
          },
          "metadata": {
            "tags": []
          },
          "execution_count": 40
        },
        {
          "output_type": "display_data",
          "data": {
            "image/png": "[encoded data removed]",
            "text/plain": [
              "<Figure size 432x288 with 1 Axes>"
            ]
          },
          "metadata": {
            "tags": [],
            "needs_background": "light"
          }
        }
      ]
    },
    {
      "cell_type": "code",
      "metadata": {
        "id": "IkPphhKNjyW_",
        "colab_type": "code",
        "colab": {}
      },
      "source": [
        "encoder_model = Model(encoder_inputs, encoder_states)\n",
        "decoder_state_input_h = Input(shape=(latent_dim,))\n",
        "decoder_state_input_c = Input(shape=(latent_dim,))\n",
        "decoder_states_inputs = [decoder_state_input_h, decoder_state_input_c]\n",
        "decoder_outputs, state_h, state_c = LSTM(latent_dim, return_sequences=True, return_state=True)(\n",
        "    decoder_inputs, initial_state=decoder_states_inputs)\n",
        "decoder_states = [state_h, state_c]\n",
        "decoder_outputs = decoder_dense(decoder_outputs)\n",
        "decoder_model = Model([decoder_inputs] + decoder_states_inputs,[decoder_outputs] + decoder_states)"
      ],
      "execution_count": 0,
      "outputs": []
    },
    {
      "cell_type": "code",
      "metadata": {
        "id": "HSlDzQn_oEI6",
        "colab_type": "code",
        "outputId": "91b7be27-48c2-4f14-fbf7-30c6857285fe",
        "colab": {
          "base_uri": "https://localhost:8080/",
          "height": 90
        }
      },
      "source": [
        "def decode_sequence(input_seq):\n",
        "    input_seq = np.expand_dims(input_seq,axis=-1)\n",
        "    states_value = encoder_model.predict(input_seq)\n",
        "\n",
        "    target_seq = np.zeros((1,1,1))\n",
        "    target_seq[0, 0, 0] = vocab_size_y - 2\n",
        "\n",
        "    # Sampling loop for a batch of sequences\n",
        "    # (to simplify, here we assume a batch of size 1).\n",
        "    stop_condition = False\n",
        "    decoded_sentence = []\n",
        "    while not stop_condition:\n",
        "        output_tokens, h, c = decoder_model.predict([target_seq] + states_value)\n",
        "\n",
        "        sampled_token_index = output_tokens[:,-1,:]\n",
        "        decoded_sentence.append(sampled_token_index[0][0])\n",
        "\n",
        "        if (sampled_token_index == vocab_size_y - 1 or len(decoded_sentence) > MAXLEN):\n",
        "            stop_condition = True\n",
        "\n",
        "        target_seq = np.zeros((1,1,1))\n",
        "        target_seq[0,0,0] = sampled_token_index\n",
        "        states_value = [h, c]\n",
        "    pred = token_y.decode([int(i) for i in decoded_sentence])\n",
        "    return pred\n",
        "index_try = 33\n",
        "input_seq = inputs_1[index_try: index_try + 1]\n",
        "pred = decode_sequence(input_seq)\n",
        "print('-')\n",
        "print('Input sentence:', token_x.decode(np.squeeze(inputs_1[index_try], axis=-1)))\n",
        "print('Decoded sentence:', pred)"
      ],
      "execution_count": 0,
      "outputs": [
        {
          "output_type": "stream",
          "text": [
            "-\n",
            "Input sentence: ill just fetch my galoshes\n",
            "Decoded sentence: the the the the the the the the the the the the the the the the the the the the the the the the the the the the the the the the the the the the the the the the the the the the the the the the the the the the the the the the the the the the the the the the the the the the the the the \n"
          ],
          "name": "stdout"
        }
      ]
    },
    {
      "cell_type": "code",
      "metadata": {
        "id": "hNXkd2ozIaG-",
        "colab_type": "code",
        "colab": {}
      },
      "source": [
        "\n",
        "#https://towardsdatascience.com/how-to-implement-seq2seq-lstm-model-in-keras-shortcutnp-6f355f3e5639\n",
        "encoder_inputs = Input(shape=(maxlen, ), dtype='int32',)\n",
        "encoder_embedding = embed_layer(encoder_inputs)\n",
        "encoder_LSTM = LSTM(128, return_state=True)\n",
        "encoder_outputs, state_h, state_c = encoder_LSTM(encoder_embedding)\n",
        "\n",
        "decoder_inputs = Input(shape=(maxlen, ), dtype='int32',)\n",
        "decoder_embedding = embed_layer(decoder_inputs)\n",
        "decoder_LSTM = LSTM(128, return_state=True, return_sequences=True)\n",
        "decoder_outputs, _, _ = decoder_LSTM(decoder_embedding, initial_state=[state_h, state_c])\n",
        "\n",
        "outputs = TimeDistributed(Dense(20000, activation='softmax'))(decoder_outputs)\n",
        "model = Model([encoder_inputs, decoder_inputs], outputs)\n",
        "model.summary()\n",
        "model.compile(optimizer='adam',loss='categorical_crossentropy', metrics=['accuracy'])"
      ],
      "execution_count": 0,
      "outputs": []
    }
  ]
}