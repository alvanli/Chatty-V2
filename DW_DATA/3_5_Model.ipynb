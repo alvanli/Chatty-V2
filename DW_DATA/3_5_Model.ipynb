{
  "nbformat": 4,
  "nbformat_minor": 0,
  "metadata": {
    "colab": {
      "name": "3_5_Model",
      "provenance": [],
      "machine_shape": "hm"
    },
    "kernelspec": {
      "name": "python3",
      "display_name": "Python 3"
    },
    "accelerator": "GPU"
  },
  "cells": [
    {
      "cell_type": "markdown",
      "metadata": {
        "id": "FIqge7r5GOxX",
        "colab_type": "text"
      },
      "source": [
        "In this notebook, I will mainly add embeddings. <br>"
      ]
    },
    {
      "cell_type": "code",
      "metadata": {
        "id": "rGqN2bd-GGK0",
        "colab_type": "code",
        "outputId": "de149ec7-6e6a-439a-afbe-60cad6164ba4",
        "colab": {
          "base_uri": "https://localhost:8080/",
          "height": 70
        }
      },
      "source": [
        "%cd ..\n",
        "%cd root\n",
        "import numpy as np\n",
        "import pandas as pd\n",
        "df = pd.read_csv(\"dwdata_3.csv\")\n",
        "df.head()\n",
        "df.fillna('', inplace=True)\n",
        "print(len(df))\n",
        "x_1 = df[\"xx\"].tolist()\n",
        "y_1 = df[\"yy\"].tolist()"
      ],
      "execution_count": 1,
      "outputs": [
        {
          "output_type": "stream",
          "text": [
            "/\n",
            "/root\n",
            "76543\n"
          ],
          "name": "stdout"
        }
      ]
    },
    {
      "cell_type": "code",
      "metadata": {
        "id": "_3X_nPPcBSMY",
        "colab_type": "code",
        "outputId": "f7156e00-3d7d-4a64-ca9a-4a99f0a26b68",
        "colab": {
          "base_uri": "https://localhost:8080/",
          "height": 35
        }
      },
      "source": [
        "word2vec_index = {}\n",
        "f = open(\"glove.6B.100d.txt\",encoding=\"utf8\")\n",
        "for line in f:\n",
        "    words = line.split()\n",
        "    word = words[0]\n",
        "    index = np.asarray(words[1:], dtype=\"float32\")\n",
        "    word2vec_index[word] = index\n",
        "f.close()\n",
        "\n",
        "print(\"The number of word vectors are: \", len(word2vec_index))"
      ],
      "execution_count": 11,
      "outputs": [
        {
          "output_type": "stream",
          "text": [
            "The number of word vectors are:  400000\n"
          ],
          "name": "stdout"
        }
      ]
    },
    {
      "cell_type": "code",
      "metadata": {
        "id": "jJE_MBJCq63o",
        "colab_type": "code",
        "outputId": "ab3f8621-91bb-4334-ebca-5873bbfc57d4",
        "colab": {
          "base_uri": "https://localhost:8080/",
          "height": 52
        }
      },
      "source": [
        "import tensorflow_datasets as tfds\n",
        "from tensorflow.keras.preprocessing.sequence import pad_sequences\n",
        "token = tfds.features.text.SubwordTextEncoder.build_from_corpus(x_1+y_1, target_vocab_size=1e12)\n",
        "\n",
        "vocab_size = token.vocab_size + 2 # adding the start and end characters\n",
        "\n",
        "inputs = [token.encode(sentence) for sentence in x_1]\n",
        "outputs = [[vocab_size - 2] + token.encode(sentence) + [vocab_size - 1] for sentence in y_1]\n",
        "print(\"{},{}\".format(len(inputs),len(outputs)))\n",
        "df[\"sent_len\"] = [len(sent) for sent in inputs]\n",
        "MAXLEN = 50\n",
        "idx_to_shorten = [count for count, sent in enumerate(inputs) if len(sent) > MAXLEN]\n",
        "for idx in idx_to_shorten:\n",
        "    inputs[idx] = inputs[idx][:MAXLEN]\n",
        "    outputs[idx] = outputs[idx][:MAXLEN]\n",
        "idx_to_shorten = []\n",
        "idx_to_shorten = [count for count, sent in enumerate(outputs) if len(sent) > MAXLEN]\n",
        "for idx in idx_to_shorten:\n",
        "    inputs[idx] = inputs[idx][:MAXLEN]\n",
        "    outputs[idx] = outputs[idx][:MAXLEN]\n",
        "# deleted min len because short convos are still good :)\n",
        "inputs = pad_sequences(inputs, value=0, padding=\"post\", maxlen=MAXLEN)\n",
        "outputs = pad_sequences(outputs, value=0, padding=\"post\", maxlen=MAXLEN)\n",
        "print(\"{},{}\".format(inputs.shape,outputs.shape))"
      ],
      "execution_count": 6,
      "outputs": [
        {
          "output_type": "stream",
          "text": [
            "76543,76543\n",
            "(76543, 50),(76543, 50)\n"
          ],
          "name": "stdout"
        }
      ]
    },
    {
      "cell_type": "code",
      "metadata": {
        "id": "fm0hU620H-dE",
        "colab_type": "code",
        "outputId": "0facf905-266d-4696-ef00-17882b2ee147",
        "colab": {
          "base_uri": "https://localhost:8080/",
          "height": 295
        }
      },
      "source": [
        "df.head()"
      ],
      "execution_count": 0,
      "outputs": [
        {
          "output_type": "execute_result",
          "data": {
            "text/html": [
              "<div>\n",
              "<style scoped>\n",
              "    .dataframe tbody tr th:only-of-type {\n",
              "        vertical-align: middle;\n",
              "    }\n",
              "\n",
              "    .dataframe tbody tr th {\n",
              "        vertical-align: top;\n",
              "    }\n",
              "\n",
              "    .dataframe thead th {\n",
              "        text-align: right;\n",
              "    }\n",
              "</style>\n",
              "<table border=\"1\" class=\"dataframe\">\n",
              "  <thead>\n",
              "    <tr style=\"text-align: right;\">\n",
              "      <th></th>\n",
              "      <th>Unnamed: 0</th>\n",
              "      <th>X</th>\n",
              "      <th>Y</th>\n",
              "      <th>X_1</th>\n",
              "      <th>Y_1</th>\n",
              "      <th>xx</th>\n",
              "      <th>yy</th>\n",
              "      <th>sent_len</th>\n",
              "    </tr>\n",
              "  </thead>\n",
              "  <tbody>\n",
              "    <tr>\n",
              "      <th>0</th>\n",
              "      <td>0</td>\n",
              "      <td>im pleased you two are so impressed i find the...</td>\n",
              "      <td>yes i suppose the atmosphere is rather rancid</td>\n",
              "      <td>im pleased you two are so impressed i find the...</td>\n",
              "      <td>yes i suppose the atmosphere is rather rancid</td>\n",
              "      <td>im pleased you two are so impressed i find the...</td>\n",
              "      <td>yes i suppose the atmosphere is rather</td>\n",
              "      <td>11</td>\n",
              "    </tr>\n",
              "    <tr>\n",
              "      <th>1</th>\n",
              "      <td>1</td>\n",
              "      <td>hes let us go</td>\n",
              "      <td>he needs to move his tardis into the circle of...</td>\n",
              "      <td>hes let us go</td>\n",
              "      <td>he needs to move his tardis into the circle of...</td>\n",
              "      <td>he is let us go</td>\n",
              "      <td>he needs to move his tardis into the circle of...</td>\n",
              "      <td>5</td>\n",
              "    </tr>\n",
              "    <tr>\n",
              "      <th>2</th>\n",
              "      <td>2</td>\n",
              "      <td>without special treatment it would have spread...</td>\n",
              "      <td>ah thats nice</td>\n",
              "      <td>without special treatment it would have spread...</td>\n",
              "      <td>ah thats nice</td>\n",
              "      <td>without special treatment it would have spread...</td>\n",
              "      <td>ah thats nice</td>\n",
              "      <td>11</td>\n",
              "    </tr>\n",
              "    <tr>\n",
              "      <th>3</th>\n",
              "      <td>3</td>\n",
              "      <td>when i came back with these satellite reports ...</td>\n",
              "      <td>nothings been moved</td>\n",
              "      <td>when i came back with these satellite reports ...</td>\n",
              "      <td>nothings been moved</td>\n",
              "      <td>when i came back with the ise satellite report...</td>\n",
              "      <td>nothings been moved</td>\n",
              "      <td>19</td>\n",
              "    </tr>\n",
              "    <tr>\n",
              "      <th>4</th>\n",
              "      <td>4</td>\n",
              "      <td>there it is but he could be anywhere</td>\n",
              "      <td>fair exchange is no robbery the masters tempor...</td>\n",
              "      <td>there it is but he could be anywhere</td>\n",
              "      <td>fair exchange is no robbery the masters tempor...</td>\n",
              "      <td>there it is but he could be anywhere</td>\n",
              "      <td>fair exchange is no robbery the masters tempor...</td>\n",
              "      <td>8</td>\n",
              "    </tr>\n",
              "  </tbody>\n",
              "</table>\n",
              "</div>"
            ],
            "text/plain": [
              "   Unnamed: 0  ... sent_len\n",
              "0           0  ...       11\n",
              "1           1  ...        5\n",
              "2           2  ...       11\n",
              "3           3  ...       19\n",
              "4           4  ...        8\n",
              "\n",
              "[5 rows x 8 columns]"
            ]
          },
          "metadata": {
            "tags": []
          },
          "execution_count": 10
        }
      ]
    },
    {
      "cell_type": "code",
      "metadata": {
        "id": "u6e82tsSq8FY",
        "colab_type": "code",
        "colab": {}
      },
      "source": [
        "vocab = set()\n",
        "for sentence in (x_1 + y_1):\n",
        "    words = sentence.split(\" \")\n",
        "    for word in words:\n",
        "        if word not in vocab:\n",
        "            vocab.add(word)"
      ],
      "execution_count": 0,
      "outputs": []
    },
    {
      "cell_type": "code",
      "metadata": {
        "id": "glBunzFnrAVD",
        "colab_type": "code",
        "outputId": "2f08f51e-5242-4dc2-a3f3-f709248a8c56",
        "colab": {
          "base_uri": "https://localhost:8080/",
          "height": 35
        }
      },
      "source": [
        "embedding_matrix = np.zeros((vocab_size, 100))\n",
        "count = 0\n",
        "count_1 = 0\n",
        "not_glove = []\n",
        "for i, word in enumerate(token.subwords):\n",
        "    if (word[-1] == \"_\"):\n",
        "        word = word[:-1]\n",
        "    embedding_vector = word2vec_index.get(word)\n",
        "    if embedding_vector is not None:\n",
        "        # we found the word - add that words vector to the matrix\n",
        "        embedding_matrix[i] = embedding_vector\n",
        "        count_1 += 1\n",
        "    else:\n",
        "        # doesn't exist, assign a random vector\n",
        "        embedding_matrix[i] = np.random.randn(100)\n",
        "        not_glove.append(word)\n",
        "        count += 1\n",
        "print(\"In GLOVE: {}, Not in GLOVE: {}\".format(count_1, count))\n",
        "# HALF OF THE WORDS ARE NOT IN GLOVE WHYYYYYYYYYYY (glove.6B.100d)\n",
        "# The updated version has 92% of the vocab in glove! Yay!"
      ],
      "execution_count": 12,
      "outputs": [
        {
          "output_type": "stream",
          "text": [
            "In GLOVE: 11558, Not in GLOVE: 703\n"
          ],
          "name": "stdout"
        }
      ]
    },
    {
      "cell_type": "code",
      "metadata": {
        "id": "mbQo0e7vrVvE",
        "colab_type": "code",
        "outputId": "60710b12-a30f-4803-a2d5-5cfb70479495",
        "colab": {
          "base_uri": "https://localhost:8080/",
          "height": 35
        }
      },
      "source": [
        "from scipy.ndimage.interpolation import shift\n",
        "inputs_1 = inputs\n",
        "inputs_2 = outputs\n",
        "outputs_1 = outputs\n",
        "outputs_1 = shift(outputs_1, [0,-1], cval=0)\n",
        "print(\"{},{}\".format(inputs_1.shape,outputs_1.shape))"
      ],
      "execution_count": 13,
      "outputs": [
        {
          "output_type": "stream",
          "text": [
            "(76543, 50),(76543, 50)\n"
          ],
          "name": "stdout"
        }
      ]
    },
    {
      "cell_type": "code",
      "metadata": {
        "id": "Jj6dJIVuNu8F",
        "colab_type": "code",
        "outputId": "89b2035c-bed2-43de-be6a-4ea221ab8791",
        "colab": {
          "base_uri": "https://localhost:8080/",
          "height": 35
        }
      },
      "source": [
        "vocab_size"
      ],
      "execution_count": 0,
      "outputs": [
        {
          "output_type": "execute_result",
          "data": {
            "text/plain": [
              "12520"
            ]
          },
          "metadata": {
            "tags": []
          },
          "execution_count": 7
        }
      ]
    },
    {
      "cell_type": "code",
      "metadata": {
        "id": "uVeWwGFgN2Jh",
        "colab_type": "code",
        "outputId": "37831c0c-4474-4a87-c301-85fbe1174aeb",
        "colab": {
          "base_uri": "https://localhost:8080/",
          "height": 35
        }
      },
      "source": [
        "# from tqdm import tqdm\n",
        "# x1 = []\n",
        "# x2 = []\n",
        "# y1 = []\n",
        "# for sentence in tqdm(inputs_1):\n",
        "#   sentence1 = []\n",
        "#   for index in sentence:\n",
        "#     onehot = np.zeros((vocab_size))\n",
        "#     onehot[index] = 1\n",
        "#     sentence1.append(onehot)\n",
        "#   x1.append(sentence1)\n",
        "# for sentence in tqdm(inputs_2):\n",
        "#   sentence1 = []\n",
        "#   for index in sentence:\n",
        "#     onehot = np.zeros((vocab_size))\n",
        "#     onehot[index] = 1\n",
        "#     sentence1.append(onehot)\n",
        "#   x2.append(sentence1)\n",
        "# for sentence in tqdm(outputs_1):\n",
        "#   sentence1 = []\n",
        "#   for index in sentence:\n",
        "#     onehot = np.zeros((vocab_size))\n",
        "#     onehot[index] = 1\n",
        "#     sentence1.append(onehot)\n",
        "#   y1.append(sentence1)"
      ],
      "execution_count": 0,
      "outputs": [
        {
          "output_type": "stream",
          "text": [
            "  6%|▋         | 4929/76543 [00:13<04:18, 276.60it/s]"
          ],
          "name": "stderr"
        }
      ]
    },
    {
      "cell_type": "code",
      "metadata": {
        "id": "6MjpK66GrfpI",
        "colab_type": "code",
        "colab": {}
      },
      "source": [
        "#https://towardsdatascience.com/how-to-implement-seq2seq-lstm-model-in-keras-shortcutnlp-6f355f3e5639\n",
        "from tensorflow.keras.layers import Input, Embedding, LSTM, Dense, Bidirectional, Dropout, TimeDistributed\n",
        "from tensorflow.keras.optimizers import Adam, SGD\n",
        "from tensorflow.keras.models import Model\n",
        "# latent_dim = 256\n",
        "# Shared_Embedding = Embedding(vocab_size,100,weights=[embedding_matrix],input_length=MAXLEN,trainable=True)\n",
        "\n",
        "# encoder_inputs = Input(shape=(MAXLEN), dtype='int32')\n",
        "# encoder_embedding = Shared_Embedding(encoder_inputs)\n",
        "# encoder_outputs, state_h, state_c = LSTM(latent_dim, return_state = True)(encoder_embedding)\n",
        "\n",
        "# decoder_inputs = Input(shape=(MAXLEN), dtype='int32')\n",
        "# decoder_embedding = Shared_Embedding(decoder_inputs)\n",
        "# decoder_outputs, _, _ = LSTM(latent_dim, return_state=True, return_sequences=True)(decoder_embedding, initial_state=[state_h, state_c])\n",
        "\n",
        "# outputs_model = Dense(1, activation='softmax')(decoder_outputs)\n",
        "# model = Model([encoder_inputs, decoder_inputs], outputs_model)\n",
        "\n",
        "# model.compile(loss='categorical_crossentropy', optimizer=Adam(lr=2), metrics=['accuracy'])\n",
        "\n",
        "latent_dim = 256\n",
        "encoder_inputs = Input(shape=(MAXLEN,1))\n",
        "lstm = LSTM(latent_dim, return_state = True)\n",
        "encoder_outputs, state_h, state_c = lstm(encoder_inputs)\n",
        "\n",
        "decoder_inputs = Input(shape=(MAXLEN,1))\n",
        "lstm1 = LSTM(latent_dim, return_state=True, return_sequences=True)\n",
        "decoder_outputs, _, _ = lstm1(decoder_inputs, initial_state=[state_h, state_c])\n",
        "\n",
        "outputs_model = Dense(1, activation='softmax')(decoder_outputs)\n",
        "model = Model([encoder_inputs, decoder_inputs], outputs_model)\n",
        "\n",
        "model.compile(loss='categorical_crossentropy', optimizer=Adam(lr=0.05))"
      ],
      "execution_count": 0,
      "outputs": []
    },
    {
      "cell_type": "code",
      "metadata": {
        "id": "u-tcJb1Zri46",
        "colab_type": "code",
        "colab": {}
      },
      "source": [
        "sub = 10\n",
        "hist = model.fit([inputs_1[:sub], inputs_2[:sub]], outputs_1[:sub],batch_size=32,epochs=50,validation_split=0.2, verbose = 0)\n",
        "model.save(\"3rd_m.h5\")"
      ],
      "execution_count": 0,
      "outputs": []
    },
    {
      "cell_type": "code",
      "metadata": {
        "id": "CupUf71Gsmhd",
        "colab_type": "code",
        "colab": {
          "base_uri": "https://localhost:8080/",
          "height": 283
        },
        "outputId": "12c9a8a2-5f4c-4394-9d66-56b3bcf40971"
      },
      "source": [
        "import matplotlib.pyplot as plt\n",
        "plt.plot(hist.history[\"loss\"],color=\"r\")\n",
        "plt.plot(hist.history[\"val_loss\"],color=\"b\")"
      ],
      "execution_count": 76,
      "outputs": [
        {
          "output_type": "execute_result",
          "data": {
            "text/plain": [
              "[<matplotlib.lines.Line2D at 0x7f0db6ce5e10>]"
            ]
          },
          "metadata": {
            "tags": []
          },
          "execution_count": 76
        },
        {
          "output_type": "display_data",
          "data": {
            "image/png": "[encoded data removed]",
            "text/plain": [
              "<Figure size 432x288 with 1 Axes>"
            ]
          },
          "metadata": {
            "tags": [],
            "needs_background": "light"
          }
        }
      ]
    },
    {
      "cell_type": "code",
      "metadata": {
        "id": "IwBMGVqgtq2f",
        "colab_type": "code",
        "colab": {}
      },
      "source": [
        "# use bidirectional lstm next time?\n",
        "#https://github.com/oswaldoludwig/Adversarial-Learning-for-Generative-Conversational-Agents !!!!GAANNN!!!!\n",
        "# Put attention in as well!"
      ],
      "execution_count": 0,
      "outputs": []
    },
    {
      "cell_type": "code",
      "metadata": {
        "id": "lQKFPRC5olTp",
        "colab_type": "code",
        "colab": {
          "base_uri": "https://localhost:8080/",
          "height": 52
        },
        "outputId": "0f945fe4-eaec-419b-a0ba-c3052a485548"
      },
      "source": [
        "print(inputs_2[1][0])\n",
        "print(inputs_2[2][0])"
      ],
      "execution_count": 27,
      "outputs": [
        {
          "output_type": "stream",
          "text": [
            "12518\n",
            "12518\n"
          ],
          "name": "stdout"
        }
      ]
    },
    {
      "cell_type": "code",
      "metadata": {
        "id": "_hQCUjwytzPg",
        "colab_type": "code",
        "colab": {
          "base_uri": "https://localhost:8080/",
          "height": 106
        },
        "outputId": "b09a935e-c12d-4b7f-d48c-b9d74c12b216"
      },
      "source": [
        "def decode_sequence(input_seq):\n",
        "    # input_seq = np.expand_dims(input_seq,axis=-1)\n",
        "    partial = np.zeros((1,MAXLEN))\n",
        "    partial[0,0] = vocab_size-2\n",
        "    decoded_sentence = []\n",
        "    for _ in range(MAXLEN-1):\n",
        "        pred = model.predict([input_seq, partial])\n",
        "        partial[0,:] = pred[0,:,0]\n",
        "    # pred = token.decode([int(i) for i in decoded_sentence])\n",
        "    return partial[0]\n",
        "index_try = 33\n",
        "input_seq = inputs_1[index_try: index_try + 1]\n",
        "pred = decode_sequence(input_seq)\n",
        "print('-')\n",
        "print('Input sentence:', token.decode(inputs_1[index_try]))\n",
        "print('Decoded sentence:', pred)"
      ],
      "execution_count": 51,
      "outputs": [
        {
          "output_type": "stream",
          "text": [
            "-\n",
            "Input sentence: keep your eyes he cant have got far\n",
            "Decoded sentence: [1. 1. 1. 1. 1. 1. 1. 1. 1. 1. 1. 1. 1. 1. 1. 1. 1. 1. 1. 1. 1. 1. 1. 1.\n",
            " 1. 1. 1. 1. 1. 1. 1. 1. 1. 1. 1. 1. 1. 1. 1. 1. 1. 1. 1. 1. 1. 1. 1. 1.\n",
            " 1. 1.]\n"
          ],
          "name": "stdout"
        }
      ]
    }
  ]
}